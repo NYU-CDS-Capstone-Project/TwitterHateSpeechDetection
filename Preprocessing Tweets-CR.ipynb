{
 "cells": [
  {
   "cell_type": "code",
   "execution_count": 2,
   "metadata": {},
   "outputs": [],
   "source": [
    "import glob\n",
    "import re\n",
    "from nltk.tokenize import word_tokenize\n",
    "from nltk.corpus import stopwords \n",
    "from collections import Counter\n",
    "from itertools import chain\n",
    "import string\n",
    "import matplotlib\n",
    "import matplotlib.pyplot as plt\n",
    "import nltk\n",
    "import pandas as pd\n",
    "from langdetect import detect"
   ]
  },
  {
   "cell_type": "code",
   "execution_count": 3,
   "metadata": {},
   "outputs": [],
   "source": [
    "def remove_stop_words(tweet):\n",
    "    stop_words = set(stopwords.words('english'))\n",
    "    word_tokens = word_tokenize(tweet)\n",
    "    filtered_sentence = [w for w in word_tokens if not w in stop_words]\n",
    "    return filtered_sentence\n",
    "\n",
    "\n",
    "def clean_tweet(tweet):\n",
    "    # Remover trialing whitespace\n",
    "    tweet = tweet.strip()\n",
    "\n",
    "    # Remove @ mention\n",
    "    tweet = re.sub(r'RT @[A-Za-z0-9]+', '', tweet)  # Remove the @ mention\n",
    "    tweet = re.sub(r'@[A-Za-z0-9]+', '', tweet)  # Remove the @ mention\n",
    "    tweet = re.sub(r'&amp+', '', tweet)  # Remove the @ mention\n",
    "\n",
    "    # Remove Hyperlinks\n",
    "    tweet = re.sub(r\"http\\S+\", \"\", tweet).lower()\n",
    "\n",
    "    # Remove Punctuation\n",
    "    tweet = ''.join(c for c in tweet if c not in string.punctuation)\n",
    "    \n",
    "    #Remove Non-ASCll Characters\n",
    "    tweet = ''.join([i if ord(i) < 128 else ' ' for i in tweet])\n",
    "\n",
    "    \n",
    "    \n",
    "    # Remove Common English Words\n",
    "    stop_words = set(stopwords.words('english'))\n",
    "    word_tokens = word_tokenize(tweet)\n",
    "    filtered_tweet = [w for w in word_tokens if not w in stop_words]\n",
    "\n",
    "    return filtered_tweet"
   ]
  },
  {
   "cell_type": "code",
   "execution_count": 4,
   "metadata": {},
   "outputs": [],
   "source": [
    "frame = pd.read_csv(\"/Volumes/Samsung USB/Fall 2018/twitterdata/data/combined_tweets.csv\")\n",
    "\n",
    "tweets=frame[\"Tweet\"].tolist()\n",
    "\n",
    "clean_tweets= []\n",
    "lang_ = []\n",
    "for tweet in tweets:\n",
    "    z= clean_tweet(str(tweet))\n",
    "    clean_tweets.append(z)\n",
    "    "
   ]
  },
  {
   "cell_type": "code",
   "execution_count": null,
   "metadata": {
    "scrolled": false
   },
   "outputs": [],
   "source": [
    "#Word Count Dictionary\n",
    "word_count = Counter(list(chain.from_iterable(clean_tweets)))"
   ]
  },
  {
   "cell_type": "code",
   "execution_count": 5,
   "metadata": {},
   "outputs": [
    {
     "ename": "AttributeError",
     "evalue": "module 'pandas' has no attribute 'to_csv'",
     "output_type": "error",
     "traceback": [
      "\u001b[0;31m---------------------------------------------------------------------------\u001b[0m",
      "\u001b[0;31mAttributeError\u001b[0m                            Traceback (most recent call last)",
      "\u001b[0;32m<ipython-input-5-f2394dce3eb3>\u001b[0m in \u001b[0;36m<module>\u001b[0;34m()\u001b[0m\n\u001b[1;32m      2\u001b[0m \u001b[0;34m\u001b[0m\u001b[0m\n\u001b[1;32m      3\u001b[0m \u001b[0;31m#Save File\u001b[0m\u001b[0;34m\u001b[0m\u001b[0;34m\u001b[0m\u001b[0m\n\u001b[0;32m----> 4\u001b[0;31m \u001b[0mframe\u001b[0m \u001b[0;34m=\u001b[0m \u001b[0mpd\u001b[0m\u001b[0;34m.\u001b[0m\u001b[0mto_csv\u001b[0m\u001b[0;34m(\u001b[0m\u001b[0;34m\"/Volumes/Samsung USB/Fall 2018/twitterdata/data/clean_data.csv\"\u001b[0m\u001b[0;34m)\u001b[0m\u001b[0;34m\u001b[0m\u001b[0m\n\u001b[0m",
      "\u001b[0;31mAttributeError\u001b[0m: module 'pandas' has no attribute 'to_csv'"
     ]
    }
   ],
   "source": [
    "frame['clean_tweet'] = [\" \".join(x) for x in clean_tweets]\n",
    "\n",
    "#Save File\n",
    "frame.to_csv(\"/Volumes/Samsung USB/Fall 2018/twitterdata/data/clean_data.csv\")"
   ]
  },
  {
   "cell_type": "code",
   "execution_count": null,
   "metadata": {},
   "outputs": [],
   "source": []
  }
 ],
 "metadata": {
  "kernelspec": {
   "display_name": "Python 3",
   "language": "python",
   "name": "python3"
  },
  "language_info": {
   "codemirror_mode": {
    "name": "ipython",
    "version": 3
   },
   "file_extension": ".py",
   "mimetype": "text/x-python",
   "name": "python",
   "nbconvert_exporter": "python",
   "pygments_lexer": "ipython3",
   "version": "3.6.3"
  }
 },
 "nbformat": 4,
 "nbformat_minor": 2
}
