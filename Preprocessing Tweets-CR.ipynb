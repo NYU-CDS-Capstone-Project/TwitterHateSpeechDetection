{
 "cells": [
  {
   "cell_type": "code",
   "execution_count": 1,
   "metadata": {
    "collapsed": false
   },
   "outputs": [],
   "source": [
    "import glob\n",
    "import re\n",
    "from nltk.tokenize import word_tokenize\n",
    "from nltk.corpus import stopwords \n",
    "from collections import Counter\n",
    "from itertools import chain\n",
    "import string\n",
    "import matplotlib\n",
    "import matplotlib.pyplot as plt\n",
    "import nltk"
   ]
  },
  {
   "cell_type": "code",
   "execution_count": 2,
   "metadata": {
    "collapsed": true
   },
   "outputs": [],
   "source": [
    "def remove_stop_words(tweet):\n",
    "    stop_words = set(stopwords.words('english'))\n",
    "    word_tokens = word_tokenize(tweet)\n",
    "    filtered_sentence = [w for w in word_tokens if not w in stop_words]\n",
    "    return filtered_sentence\n",
    "\n",
    "\n",
    "def clean_tweet(tweet):\n",
    "    # Remover trialing whitespace\n",
    "    tweet = tweet.strip()\n",
    "\n",
    "    # Remove @ mention\n",
    "    tweet = re.sub(r'RT @[A-Za-z0-9]+', '', tweet)  # Remove the @ mention\n",
    "    tweet = re.sub(r'@[A-Za-z0-9]+', '', tweet)  # Remove the @ mention\n",
    "    tweet = re.sub(r'&amp+', '', tweet)  # Remove the @ mention\n",
    "\n",
    "    # Remove Hyperlinks\n",
    "    tweet = re.sub(r\"http\\S+\", \"\", tweet).lower()\n",
    "\n",
    "    # Remove Punctuation\n",
    "    tweet = ''.join(c for c in tweet if c not in string.punctuation)\n",
    "\n",
    "    # Remove Common English Words\n",
    "    stop_words = set(stopwords.words('english'))\n",
    "    word_tokens = word_tokenize(tweet)\n",
    "    filtered_tweet = [w for w in word_tokens if not w in stop_words]\n",
    "\n",
    "    return filtered_tweet"
   ]
  },
  {
   "cell_type": "code",
   "execution_count": 5,
   "metadata": {
    "collapsed": false
   },
   "outputs": [
    {
     "name": "stdout",
     "output_type": "stream",
     "text": [
      "[nltk_data] Downloading package stopwords to\n",
      "[nltk_data]     /Users/carolineroper/nltk_data...\n",
      "[nltk_data]   Unzipping corpora/stopwords.zip.\n"
     ]
    },
    {
     "data": {
      "text/plain": [
       "True"
      ]
     },
     "execution_count": 5,
     "metadata": {},
     "output_type": "execute_result"
    }
   ],
   "source": [
    "nltk.download('stopwords')"
   ]
  },
  {
   "cell_type": "code",
   "execution_count": 6,
   "metadata": {
    "collapsed": false
   },
   "outputs": [],
   "source": [
    "frame = pd.read_csv(\"combined_tweets.csv\")\n",
    "\n",
    "tweets=frame[\"Tweet\"].tolist()\n",
    "\n",
    "clean_tweets= []\n",
    "for tweet in tweets:\n",
    "    z= clean_tweet(str(tweet))\n",
    "    clean_tweets.append(z)\n",
    "    "
   ]
  },
  {
   "cell_type": "code",
   "execution_count": 40,
   "metadata": {
    "collapsed": false,
    "scrolled": false
   },
   "outputs": [],
   "source": [
    "#Word Count Dictionary\n",
    "word_count = Counter(list(chain.from_iterable(clean_tweets)))"
   ]
  },
  {
   "cell_type": "code",
   "execution_count": 34,
   "metadata": {
    "collapsed": false
   },
   "outputs": [],
   "source": [
    "frame['clean_tweet'] = [\" \".join(x) for x in clean_tweets]"
   ]
  },
  {
   "cell_type": "code",
   "execution_count": 38,
   "metadata": {
    "collapsed": false
   },
   "outputs": [],
   "source": [
    "frame['ID'] = range(0, frame.shape[0])"
   ]
  },
  {
   "cell_type": "code",
   "execution_count": 39,
   "metadata": {
    "collapsed": false
   },
   "outputs": [],
   "source": [
    "frame.to_csv('clean_data.csv')"
   ]
  }
 ],
 "metadata": {
  "kernelspec": {
   "display_name": "Python 3",
   "language": "python",
   "name": "python3"
  },
  "language_info": {
   "codemirror_mode": {
    "name": "ipython",
    "version": 3
   },
   "file_extension": ".py",
   "mimetype": "text/x-python",
   "name": "python",
   "nbconvert_exporter": "python",
   "pygments_lexer": "ipython3",
   "version": "3.6.0"
  }
 },
 "nbformat": 4,
 "nbformat_minor": 2
}
