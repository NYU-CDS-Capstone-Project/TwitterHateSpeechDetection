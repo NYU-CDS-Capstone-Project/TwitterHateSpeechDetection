{
 "cells": [
  {
   "cell_type": "code",
   "execution_count": 1,
   "metadata": {
    "collapsed": true
   },
   "outputs": [],
   "source": [
    "import pandas as pd"
   ]
  },
  {
   "cell_type": "code",
   "execution_count": 2,
   "metadata": {
    "collapsed": false
   },
   "outputs": [
    {
     "name": "stderr",
     "output_type": "stream",
     "text": [
      "/anaconda/lib/python3.6/site-packages/IPython/core/interactiveshell.py:3020: DtypeWarning: Columns (4,6,7) have mixed types. Specify dtype option on import or set low_memory=False.\n",
      "  interactivity=interactivity, compiler=compiler, result=result)\n"
     ]
    }
   ],
   "source": [
    "terms0_3 = pd.read_csv(\"Full Dataset/Terms 0-3 Final LIWC WITH Tweet Text RANDOMIZED.csv\")"
   ]
  },
  {
   "cell_type": "code",
   "execution_count": 3,
   "metadata": {
    "collapsed": false
   },
   "outputs": [
    {
     "data": {
      "text/plain": [
       "array(['left-wing ', 'Underprivileged ', 'non-believers ', 'black people ',\n",
       "       'queer ', 'african american ', 'homosexuals  ', 'impoverished ',\n",
       "       'progressives ', 'immigrants ', 'immigration ', 'drug addicts ',\n",
       "       'undocumented ', 'radicals ', 'hippies ', 'refugees ',\n",
       "       'transgender ', 'unions ', 'trade unions ', 'niggers ',\n",
       "       'refugee crisis ', 'Godless ', 'HIV-positive ', 'LGBT LGBTQ ',\n",
       "       'civil rights activists ', 'greens ', 'community organizers ',\n",
       "       'student activists ', 'tree-huggers ', 'black history month ',\n",
       "       'destitute ', '8920', '#SJW #AntiSJW ', nan, '2218', '7401', '2014',\n",
       "       '8822', '406', '2217', '2012', '825', '36852', '2232', '20565',\n",
       "       '2231', '7620', '383', '2257', '2227', '2219', '2345', '381',\n",
       "       '20617'], dtype=object)"
      ]
     },
     "execution_count": 3,
     "metadata": {},
     "output_type": "execute_result"
    }
   ],
   "source": [
    "terms0_3['term'].unique()"
   ]
  },
  {
   "cell_type": "code",
   "execution_count": 5,
   "metadata": {
    "collapsed": false
   },
   "outputs": [],
   "source": [
    "pd.Series(terms0_3['term'].unique()).to_csv('left_wing_terms.csv')"
   ]
  },
  {
   "cell_type": "code",
   "execution_count": 7,
   "metadata": {
    "collapsed": false
   },
   "outputs": [
    {
     "name": "stderr",
     "output_type": "stream",
     "text": [
      "/anaconda/lib/python3.6/site-packages/IPython/core/interactiveshell.py:3020: DtypeWarning: Columns (4) have mixed types. Specify dtype option on import or set low_memory=False.\n",
      "  interactivity=interactivity, compiler=compiler, result=result)\n"
     ]
    }
   ],
   "source": [
    "terms4 = pd.read_csv(\"Full Dataset/Terms 4 Final LIWC WITH Tweet Text RANDOMIZED.csv\")"
   ]
  },
  {
   "cell_type": "code",
   "execution_count": 8,
   "metadata": {
    "collapsed": false
   },
   "outputs": [
    {
     "data": {
      "text/plain": [
       "array(['millennials ', 'teenagers ', 'latinas ', 'latinos ',\n",
       "       'middle income ', 'middle class ', 'caucasian ', 'chicanas ',\n",
       "       'crackers ', 'youth ', 'asians '], dtype=object)"
      ]
     },
     "execution_count": 8,
     "metadata": {},
     "output_type": "execute_result"
    }
   ],
   "source": [
    "terms4['term'].unique()"
   ]
  },
  {
   "cell_type": "code",
   "execution_count": 9,
   "metadata": {
    "collapsed": true
   },
   "outputs": [],
   "source": [
    "pd.Series(terms4['term'].unique()).to_csv(\"centrist_terms.csv\")"
   ]
  },
  {
   "cell_type": "code",
   "execution_count": 11,
   "metadata": {
    "collapsed": false
   },
   "outputs": [],
   "source": [
    "terms5 = pd.read_csv(\"Full Dataset/Terms 5-7 Final LIWC WITH tweet text RANDOMIZED.csv\")"
   ]
  },
  {
   "cell_type": "code",
   "execution_count": 12,
   "metadata": {
    "collapsed": false
   },
   "outputs": [
    {
     "data": {
      "text/plain": [
       "array(['executive  ', 'navy ', 'fascists ', 'christians ', 'veterans ',\n",
       "       'coast guard ', 'marines ', 'anti-choice ', 'elderly ', 'spoiled ',\n",
       "       'businessmen ', 'trust fund babies ', 'evangelicals ',\n",
       "       'capitalist ', 'pentecostal ', 'fundamentalists ', 'presbyterian ',\n",
       "       'army ', 'pro-life ', 'right-wing ', 'baptists ', 'lutherans ',\n",
       "       'soldiers ', 'rich ', 'armed forces ', 'senior citizens ',\n",
       "       'methodists ', 'rightists ', 'adventists ', 'the 1% '], dtype=object)"
      ]
     },
     "execution_count": 12,
     "metadata": {},
     "output_type": "execute_result"
    }
   ],
   "source": [
    "terms5['term'].unique()"
   ]
  },
  {
   "cell_type": "code",
   "execution_count": 13,
   "metadata": {
    "collapsed": false
   },
   "outputs": [],
   "source": [
    "pd.Series(terms5['term'].unique()).to_csv(\"right_wing_terms.csv\")"
   ]
  },
  {
   "cell_type": "code",
   "execution_count": 18,
   "metadata": {
    "collapsed": false
   },
   "outputs": [
    {
     "data": {
      "text/plain": [
       "733906"
      ]
     },
     "execution_count": 18,
     "metadata": {},
     "output_type": "execute_result"
    }
   ],
   "source": [
    "terms0_3.shape[0] + terms4.shape[0] + terms5.shape[0]"
   ]
  }
 ],
 "metadata": {
  "kernelspec": {
   "display_name": "Python 3",
   "language": "python",
   "name": "python3"
  },
  "language_info": {
   "codemirror_mode": {
    "name": "ipython",
    "version": 3
   },
   "file_extension": ".py",
   "mimetype": "text/x-python",
   "name": "python",
   "nbconvert_exporter": "python",
   "pygments_lexer": "ipython3",
   "version": "3.6.0"
  }
 },
 "nbformat": 4,
 "nbformat_minor": 2
}
