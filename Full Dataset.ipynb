{
 "cells": [
  {
   "cell_type": "code",
   "execution_count": 1,
   "metadata": {
    "collapsed": true
   },
   "outputs": [],
   "source": [
    "import pandas as pd"
   ]
  },
  {
   "cell_type": "code",
   "execution_count": 21,
   "metadata": {
    "collapsed": false
   },
   "outputs": [
    {
     "name": "stderr",
     "output_type": "stream",
     "text": [
      "/anaconda/lib/python3.6/site-packages/IPython/core/interactiveshell.py:2717: DtypeWarning: Columns (4,6,7) have mixed types. Specify dtype option on import or set low_memory=False.\n",
      "  interactivity=interactivity, compiler=compiler, result=result)\n"
     ]
    }
   ],
   "source": [
    "terms0_3 = pd.read_csv(\"Full Dataset/Terms 0-3 Final LIWC WITH Tweet Text RANDOMIZED.csv\")"
   ]
  },
  {
   "cell_type": "code",
   "execution_count": 23,
   "metadata": {
    "collapsed": false
   },
   "outputs": [
    {
     "data": {
      "text/plain": [
       "array(['left-wing ', 'Underprivileged ', 'non-believers ', 'black people ',\n",
       "       'queer ', 'african american ', 'homosexuals  ', 'impoverished ',\n",
       "       'progressives ', 'immigrants ', 'immigration ', 'drug addicts ',\n",
       "       'undocumented ', 'radicals ', 'hippies ', 'refugees ',\n",
       "       'transgender ', 'unions ', 'trade unions ', 'niggers ',\n",
       "       'refugee crisis ', 'Godless ', 'HIV-positive ', 'LGBT LGBTQ ',\n",
       "       'civil rights activists ', 'greens ', 'community organizers ',\n",
       "       'student activists ', 'tree-huggers ', 'black history month ',\n",
       "       'destitute ', '8920', '#SJW #AntiSJW ', nan, '2218', '7401', '2014',\n",
       "       '8822', '406', '2217', '2012', '825', '36852', '2232', '20565',\n",
       "       '2231', '7620', '383', '2257', '2227', '2219', '2345', '381',\n",
       "       '20617'], dtype=object)"
      ]
     },
     "execution_count": 23,
     "metadata": {},
     "output_type": "execute_result"
    }
   ],
   "source": [
    "terms0_3['term'].unique()"
   ]
  },
  {
   "cell_type": "code",
   "execution_count": null,
   "metadata": {
    "collapsed": true
   },
   "outputs": [],
   "source": [
    "#not sure why there are na's and numbers in \"term\" but it's usually just one row for each"
   ]
  },
  {
   "cell_type": "code",
   "execution_count": 37,
   "metadata": {
    "collapsed": false
   },
   "outputs": [
    {
     "data": {
      "text/html": [
       "<div>\n",
       "<style>\n",
       "    .dataframe thead tr:only-child th {\n",
       "        text-align: right;\n",
       "    }\n",
       "\n",
       "    .dataframe thead th {\n",
       "        text-align: left;\n",
       "    }\n",
       "\n",
       "    .dataframe tbody tr th {\n",
       "        vertical-align: top;\n",
       "    }\n",
       "</style>\n",
       "<table border=\"1\" class=\"dataframe\">\n",
       "  <thead>\n",
       "    <tr style=\"text-align: right;\">\n",
       "      <th></th>\n",
       "      <th>tweet_order</th>\n",
       "      <th>Random order</th>\n",
       "      <th>dataset</th>\n",
       "      <th>term</th>\n",
       "      <th>smapp_count</th>\n",
       "      <th>user_id</th>\n",
       "      <th>ideology</th>\n",
       "      <th>tweet_id</th>\n",
       "      <th>tweet</th>\n",
       "      <th>WC</th>\n",
       "      <th>...</th>\n",
       "      <th>anx</th>\n",
       "      <th>anger</th>\n",
       "      <th>sad</th>\n",
       "      <th>cogproc</th>\n",
       "      <th>insight</th>\n",
       "      <th>cause</th>\n",
       "      <th>discrep</th>\n",
       "      <th>tentat</th>\n",
       "      <th>certain</th>\n",
       "      <th>differ</th>\n",
       "    </tr>\n",
       "  </thead>\n",
       "  <tbody>\n",
       "    <tr>\n",
       "      <th>47590</th>\n",
       "      <td>147866</td>\n",
       "      <td>47591</td>\n",
       "      <td>0</td>\n",
       "      <td>NaN</td>\n",
       "      <td>11585</td>\n",
       "      <td>3.139508e+08</td>\n",
       "      <td>-1.09632</td>\n",
       "      <td>711287567954611970</td>\n",
       "      <td>NaN</td>\n",
       "      <td>0</td>\n",
       "      <td>...</td>\n",
       "      <td>0.0</td>\n",
       "      <td>0.0</td>\n",
       "      <td>0.0</td>\n",
       "      <td>0.0</td>\n",
       "      <td>0.0</td>\n",
       "      <td>0.0</td>\n",
       "      <td>0.0</td>\n",
       "      <td>0.0</td>\n",
       "      <td>0.0</td>\n",
       "      <td>0.0</td>\n",
       "    </tr>\n",
       "    <tr>\n",
       "      <th>78136</th>\n",
       "      <td>58390</td>\n",
       "      <td>78137</td>\n",
       "      <td>0</td>\n",
       "      <td>NaN</td>\n",
       "      <td>25012</td>\n",
       "      <td>2.924845e+09</td>\n",
       "      <td>NaN</td>\n",
       "      <td>710061830509448960</td>\n",
       "      <td>NaN</td>\n",
       "      <td>0</td>\n",
       "      <td>...</td>\n",
       "      <td>0.0</td>\n",
       "      <td>0.0</td>\n",
       "      <td>0.0</td>\n",
       "      <td>0.0</td>\n",
       "      <td>0.0</td>\n",
       "      <td>0.0</td>\n",
       "      <td>0.0</td>\n",
       "      <td>0.0</td>\n",
       "      <td>0.0</td>\n",
       "      <td>0.0</td>\n",
       "    </tr>\n",
       "  </tbody>\n",
       "</table>\n",
       "<p>2 rows × 42 columns</p>\n",
       "</div>"
      ],
      "text/plain": [
       "       tweet_order  Random order  dataset term smapp_count       user_id  \\\n",
       "47590       147866         47591        0  NaN       11585  3.139508e+08   \n",
       "78136        58390         78137        0  NaN       25012  2.924845e+09   \n",
       "\n",
       "      ideology            tweet_id tweet  WC   ...    anx  anger  sad  \\\n",
       "47590 -1.09632  711287567954611970   NaN   0   ...    0.0    0.0  0.0   \n",
       "78136      NaN  710061830509448960   NaN   0   ...    0.0    0.0  0.0   \n",
       "\n",
       "       cogproc  insight  cause  discrep  tentat  certain  differ  \n",
       "47590      0.0      0.0    0.0      0.0     0.0      0.0     0.0  \n",
       "78136      0.0      0.0    0.0      0.0     0.0      0.0     0.0  \n",
       "\n",
       "[2 rows x 42 columns]"
      ]
     },
     "execution_count": 37,
     "metadata": {},
     "output_type": "execute_result"
    }
   ],
   "source": [
    "terms0_3.loc[terms0_3['term'].isnull() == True, :]"
   ]
  },
  {
   "cell_type": "code",
   "execution_count": 13,
   "metadata": {
    "collapsed": false
   },
   "outputs": [
    {
     "name": "stderr",
     "output_type": "stream",
     "text": [
      "/anaconda/lib/python3.6/site-packages/IPython/core/interactiveshell.py:2717: DtypeWarning: Columns (4) have mixed types. Specify dtype option on import or set low_memory=False.\n",
      "  interactivity=interactivity, compiler=compiler, result=result)\n"
     ]
    }
   ],
   "source": [
    "terms4 = pd.read_csv(\"Full Dataset/Terms 4 Final LIWC WITH Tweet Text RANDOMIZED.csv\")"
   ]
  },
  {
   "cell_type": "code",
   "execution_count": 15,
   "metadata": {
    "collapsed": false
   },
   "outputs": [
    {
     "data": {
      "text/plain": [
       "array(['millennials ', 'teenagers ', 'latinas ', 'latinos ',\n",
       "       'middle income ', 'middle class ', 'caucasian ', 'chicanas ',\n",
       "       'crackers ', 'youth ', 'asians '], dtype=object)"
      ]
     },
     "execution_count": 15,
     "metadata": {},
     "output_type": "execute_result"
    }
   ],
   "source": [
    "terms4['term'].unique()"
   ]
  },
  {
   "cell_type": "code",
   "execution_count": 16,
   "metadata": {
    "collapsed": false
   },
   "outputs": [
    {
     "name": "stderr",
     "output_type": "stream",
     "text": [
      "/anaconda/lib/python3.6/site-packages/IPython/core/interactiveshell.py:2717: DtypeWarning: Columns (4,6,7) have mixed types. Specify dtype option on import or set low_memory=False.\n",
      "  interactivity=interactivity, compiler=compiler, result=result)\n"
     ]
    }
   ],
   "source": [
    "terms5 = pd.read_csv(\"Full Dataset/Terms 5-7 Final LIWC WITH tweet text RANDOMIZED.csv\")"
   ]
  },
  {
   "cell_type": "code",
   "execution_count": 17,
   "metadata": {
    "collapsed": false
   },
   "outputs": [
    {
     "data": {
      "text/plain": [
       "array(['executive  ', 'navy ', 'fascists ', 'christians ', 'veterans ',\n",
       "       'coast guard ', 'marines ', 'anti-choice ', 'elderly ', 'spoiled ',\n",
       "       'businessmen ', 'trust fund babies ', 'evangelicals ',\n",
       "       'capitalist ', 'pentecostal ', 'fundamentalists ', 'presbyterian ',\n",
       "       'army ', 'pro-life ', 'right-wing ', 'baptists ', 'lutherans ',\n",
       "       'soldiers ', 'rich ', 'armed forces ', 'senior citizens ',\n",
       "       'methodists ', 'rightists ', 'adventists ', 'the 1% '], dtype=object)"
      ]
     },
     "execution_count": 17,
     "metadata": {},
     "output_type": "execute_result"
    }
   ],
   "source": [
    "terms5['term'].unique()"
   ]
  },
  {
   "cell_type": "code",
   "execution_count": 18,
   "metadata": {
    "collapsed": false
   },
   "outputs": [
    {
     "data": {
      "text/plain": [
       "733906"
      ]
     },
     "execution_count": 18,
     "metadata": {},
     "output_type": "execute_result"
    }
   ],
   "source": [
    "terms0_3.shape[0] + terms4.shape[0] + terms5.shape[0]"
   ]
  }
 ],
 "metadata": {
  "kernelspec": {
   "display_name": "Python 3",
   "language": "python",
   "name": "python3"
  },
  "language_info": {
   "codemirror_mode": {
    "name": "ipython",
    "version": 3
   },
   "file_extension": ".py",
   "mimetype": "text/x-python",
   "name": "python",
   "nbconvert_exporter": "python",
   "pygments_lexer": "ipython3",
   "version": "3.6.0"
  }
 },
 "nbformat": 4,
 "nbformat_minor": 2
}
