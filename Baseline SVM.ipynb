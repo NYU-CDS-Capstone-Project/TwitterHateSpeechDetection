{
 "cells": [
  {
   "cell_type": "code",
   "execution_count": 29,
   "metadata": {
    "collapsed": true
   },
   "outputs": [],
   "source": [
    "import pandas as pd\n",
    "from sklearn.feature_extraction.text import TfidfVectorizer\n",
    "from sklearn.linear_model import LogisticRegression\n",
    "from sklearn.svm import LinearSVC\n",
    "from sklearn.model_selection import cross_val_score\n",
    "from sklearn.model_selection import train_test_split\n",
    "import matplotlib.pyplot as plt\n",
    "from sklearn.metrics import confusion_matrix\n",
    "from sklearn.metrics import f1_score\n",
    "from sklearn.model_selection import cross_val_predict\n",
    "from sklearn.metrics import confusion_matrix\n",
    "%matplotlib inline"
   ]
  },
  {
   "cell_type": "code",
   "execution_count": 2,
   "metadata": {
    "collapsed": true
   },
   "outputs": [],
   "source": [
    "clean_data = pd.read_csv(\"clean_data.csv\")"
   ]
  },
  {
   "cell_type": "code",
   "execution_count": 3,
   "metadata": {
    "collapsed": false,
    "scrolled": true
   },
   "outputs": [
    {
     "data": {
      "text/plain": [
       "Index(['Unnamed: 0', 'Unnamed: 0.1', 'CAPS1', 'CAPS2', 'CAPS3', 'CAPS4',\n",
       "       'CAPS5', 'CAPS6', 'CAPS7', 'Obscenity1', 'Obscenity2', 'Obscenity3',\n",
       "       'Obscenity4', 'Obscenity5', 'Obscenity6', 'Obscenity7', 'Threat1',\n",
       "       'Threat2', 'Threat3', 'Threat4', 'Threat5', 'Threat6', 'Threat7',\n",
       "       'Tweet', 'hatespeech1', 'hatespeech2', 'hatespeech3', 'hatespeech4',\n",
       "       'hatespeech5', 'hatespeech6', 'hatespeech7', 'namecalling1',\n",
       "       'namecalling2', 'namecalling3', 'namecalling4', 'namecalling5',\n",
       "       'namecalling6', 'namecalling7', 'negprejudice1', 'negprejudice2',\n",
       "       'negprejudice3', 'negprejudice4', 'negprejudice5', 'negprejudice6',\n",
       "       'negprejudice7', 'noneng1', 'noneng2', 'noneng3', 'noneng4', 'noneng5',\n",
       "       'noneng6', 'noneng7', 'porn1', 'porn2', 'porn3', 'porn4', 'porn5',\n",
       "       'porn6', 'porn7', 'stereotypes1', 'stereotypes2', 'stereotypes3',\n",
       "       'stereotypes4', 'stereotypes5', 'stereotypes6', 'stereotypes7',\n",
       "       'clean_tweet', 'ID'],\n",
       "      dtype='object')"
      ]
     },
     "execution_count": 3,
     "metadata": {},
     "output_type": "execute_result"
    }
   ],
   "source": [
    "clean_data.columns"
   ]
  },
  {
   "cell_type": "code",
   "execution_count": 4,
   "metadata": {
    "collapsed": true
   },
   "outputs": [],
   "source": [
    "train = pd.read_csv(\"train.csv\")"
   ]
  },
  {
   "cell_type": "code",
   "execution_count": 5,
   "metadata": {
    "collapsed": true
   },
   "outputs": [],
   "source": [
    "#there are dupes in the training set?"
   ]
  },
  {
   "cell_type": "code",
   "execution_count": 5,
   "metadata": {
    "collapsed": false
   },
   "outputs": [],
   "source": [
    "train = clean_data.merge(train[['ID']], on = \"ID\", how = 'inner')"
   ]
  },
  {
   "cell_type": "code",
   "execution_count": 6,
   "metadata": {
    "collapsed": false
   },
   "outputs": [
    {
     "data": {
      "text/html": [
       "<div>\n",
       "<style>\n",
       "    .dataframe thead tr:only-child th {\n",
       "        text-align: right;\n",
       "    }\n",
       "\n",
       "    .dataframe thead th {\n",
       "        text-align: left;\n",
       "    }\n",
       "\n",
       "    .dataframe tbody tr th {\n",
       "        vertical-align: top;\n",
       "    }\n",
       "</style>\n",
       "<table border=\"1\" class=\"dataframe\">\n",
       "  <thead>\n",
       "    <tr style=\"text-align: right;\">\n",
       "      <th></th>\n",
       "      <th>Tweet</th>\n",
       "      <th>clean_tweet</th>\n",
       "    </tr>\n",
       "  </thead>\n",
       "  <tbody>\n",
       "    <tr>\n",
       "      <th>1</th>\n",
       "      <td>RT @Wilderness: .@SecretaryJewell is opening t...</td>\n",
       "      <td>opening outdoors underprivileged kids honor la...</td>\n",
       "    </tr>\n",
       "    <tr>\n",
       "      <th>2</th>\n",
       "      <td>RT @PMOIndia: All our people, Hindus, Muslims,...</td>\n",
       "      <td>people hindus muslims sikhs christians jains b...</td>\n",
       "    </tr>\n",
       "    <tr>\n",
       "      <th>3</th>\n",
       "      <td>RT @AVISKINSWEAT: Being non black and having c...</td>\n",
       "      <td>non black close relationships black people mak...</td>\n",
       "    </tr>\n",
       "    <tr>\n",
       "      <th>4</th>\n",
       "      <td>Needs and Concerns of Family Caregivers of Ame...</td>\n",
       "      <td>needs concerns family caregivers american indi...</td>\n",
       "    </tr>\n",
       "    <tr>\n",
       "      <th>5</th>\n",
       "      <td>.I wonder how many African-American students a...</td>\n",
       "      <td>wonder many africanamerican students classes a...</td>\n",
       "    </tr>\n",
       "    <tr>\n",
       "      <th>6</th>\n",
       "      <td>RT @zeynaiman: Laying in my girlfriend's bed w...</td>\n",
       "      <td>laying girlfriends bed watching ted cruz pasto...</td>\n",
       "    </tr>\n",
       "    <tr>\n",
       "      <th>7</th>\n",
       "      <td>RT @homeIwt: Michael Jackson // African-Americ...</td>\n",
       "      <td>michael jackson africanamerican best artist ti...</td>\n",
       "    </tr>\n",
       "    <tr>\n",
       "      <th>8</th>\n",
       "      <td>@EDinCali @WBVT_98FM @CNN @CBC @CJAD800 @stati...</td>\n",
       "      <td>98fm aroud cuba 18 african latin american nati...</td>\n",
       "    </tr>\n",
       "    <tr>\n",
       "      <th>9</th>\n",
       "      <td>All I wanna do is work in impoverished countri...</td>\n",
       "      <td>wan na work impoverished countries fascinate</td>\n",
       "    </tr>\n",
       "    <tr>\n",
       "      <th>10</th>\n",
       "      <td>RT @joanwalsh: The misogyny from @realDonaldTr...</td>\n",
       "      <td>misogyny combined w misogyny leftwing haters t...</td>\n",
       "    </tr>\n",
       "  </tbody>\n",
       "</table>\n",
       "</div>"
      ],
      "text/plain": [
       "                                                Tweet  \\\n",
       "1   RT @Wilderness: .@SecretaryJewell is opening t...   \n",
       "2   RT @PMOIndia: All our people, Hindus, Muslims,...   \n",
       "3   RT @AVISKINSWEAT: Being non black and having c...   \n",
       "4   Needs and Concerns of Family Caregivers of Ame...   \n",
       "5   .I wonder how many African-American students a...   \n",
       "6   RT @zeynaiman: Laying in my girlfriend's bed w...   \n",
       "7   RT @homeIwt: Michael Jackson // African-Americ...   \n",
       "8   @EDinCali @WBVT_98FM @CNN @CBC @CJAD800 @stati...   \n",
       "9   All I wanna do is work in impoverished countri...   \n",
       "10  RT @joanwalsh: The misogyny from @realDonaldTr...   \n",
       "\n",
       "                                          clean_tweet  \n",
       "1   opening outdoors underprivileged kids honor la...  \n",
       "2   people hindus muslims sikhs christians jains b...  \n",
       "3   non black close relationships black people mak...  \n",
       "4   needs concerns family caregivers american indi...  \n",
       "5   wonder many africanamerican students classes a...  \n",
       "6   laying girlfriends bed watching ted cruz pasto...  \n",
       "7   michael jackson africanamerican best artist ti...  \n",
       "8   98fm aroud cuba 18 african latin american nati...  \n",
       "9        wan na work impoverished countries fascinate  \n",
       "10  misogyny combined w misogyny leftwing haters t...  "
      ]
     },
     "execution_count": 6,
     "metadata": {},
     "output_type": "execute_result"
    }
   ],
   "source": [
    "train.loc[1:10,['Tweet', 'clean_tweet']]"
   ]
  },
  {
   "cell_type": "code",
   "execution_count": 7,
   "metadata": {
    "collapsed": true
   },
   "outputs": [],
   "source": [
    "tfidf = TfidfVectorizer(sublinear_tf=True, min_df=5, norm='l2', encoding='latin-1', ngram_range=(1, 3), stop_words='english')"
   ]
  },
  {
   "cell_type": "code",
   "execution_count": 9,
   "metadata": {
    "collapsed": false
   },
   "outputs": [
    {
     "data": {
      "text/plain": [
       "29       https://t.co/MjOdG9SB3e https://t.co/ntSpKgYfTC \n",
       "526     @BryanFrench69 @Lying2yourselfe @charliesecho ...\n",
       "580                              https://t.co/vBJe0lecJh \n",
       "582              RT @homenkovich: http://t.co/FvhAYrzs2m \n",
       "1058    https://t.co/H8TcpYOsVb... https://t.co/gEiolF...\n",
       "1172                             https://t.co/ALJrEx96Nt \n",
       "2552    @Jnoubiii12 @iShabi7a @ShahTalks https://t.co/...\n",
       "3178            RT @DuffMcKagan: https://t.co/bjXmca2AO3 \n",
       "Name: Tweet, dtype: object"
      ]
     },
     "execution_count": 9,
     "metadata": {},
     "output_type": "execute_result"
    }
   ],
   "source": [
    "train.loc[train['clean_tweet'].isnull(), 'Tweet']"
   ]
  },
  {
   "cell_type": "code",
   "execution_count": 9,
   "metadata": {
    "collapsed": false
   },
   "outputs": [],
   "source": [
    "train = train.loc[train['clean_tweet'].isnull() == False, :]"
   ]
  },
  {
   "cell_type": "code",
   "execution_count": 10,
   "metadata": {
    "collapsed": false
   },
   "outputs": [],
   "source": [
    "features = tfidf.fit_transform(train['clean_tweet']).toarray()"
   ]
  },
  {
   "cell_type": "markdown",
   "metadata": {},
   "source": [
    "### Create Labels"
   ]
  },
  {
   "cell_type": "code",
   "execution_count": 11,
   "metadata": {
    "collapsed": true
   },
   "outputs": [],
   "source": [
    "labels = ['CAPS', 'Obscenity', 'Threat', 'hatespeech', 'namecalling', 'negprejudice', 'noneng', 'porn', 'stereotypes']"
   ]
  },
  {
   "cell_type": "code",
   "execution_count": 12,
   "metadata": {
    "collapsed": false
   },
   "outputs": [],
   "source": [
    "for label in labels:\n",
    "    cols = [label + str(x) for x in range(1,8)]\n",
    "    train[label + '_num_yes'] = train[cols].sum(axis = 1)\n",
    "    train[label] = train[label + '_num_yes'] >= 2"
   ]
  },
  {
   "cell_type": "code",
   "execution_count": 13,
   "metadata": {
    "collapsed": false
   },
   "outputs": [
    {
     "data": {
      "text/plain": [
       "CAPS            0.015535\n",
       "Obscenity       0.052368\n",
       "Threat          0.037835\n",
       "hatespeech      0.024806\n",
       "namecalling     0.083939\n",
       "negprejudice    0.167878\n",
       "noneng          0.081934\n",
       "porn            0.007517\n",
       "stereotypes     0.093961\n",
       "dtype: float64"
      ]
     },
     "execution_count": 13,
     "metadata": {},
     "output_type": "execute_result"
    }
   ],
   "source": [
    "train[labels].sum(axis = 0)/train.shape[0]"
   ]
  },
  {
   "cell_type": "markdown",
   "metadata": {},
   "source": [
    "### Compare Performance on Different Labels"
   ]
  },
  {
   "cell_type": "code",
   "execution_count": 30,
   "metadata": {
    "collapsed": false
   },
   "outputs": [
    {
     "name": "stderr",
     "output_type": "stream",
     "text": [
      "/anaconda/lib/python3.6/site-packages/sklearn/metrics/classification.py:1135: UndefinedMetricWarning: F-score is ill-defined and being set to 0.0 due to no predicted samples.\n",
      "  'precision', 'predicted', average, warn_for)\n",
      "/anaconda/lib/python3.6/site-packages/sklearn/metrics/classification.py:1135: UndefinedMetricWarning: F-score is ill-defined and being set to 0.0 due to no predicted samples.\n",
      "  'precision', 'predicted', average, warn_for)\n"
     ]
    }
   ],
   "source": [
    "CV = 5\n",
    "cv_df = pd.DataFrame(index=range(CV * len(labels)))\n",
    "entries = []\n",
    "cms = []\n",
    "for label  in labels:\n",
    "    label_name = label\n",
    "    fscores = cross_val_score(LinearSVC(), features, train[label], scoring='f1', cv=CV)\n",
    "    y_pred = cross_val_predict(LinearSVC(), features, train[label], cv=5)\n",
    "    conf_mat = confusion_matrix(train[label], y_pred)\n",
    "    cms.append(conf_mat)\n",
    "    for fold_idx, fscore in enumerate(fscores):    \n",
    "        entries.append((label, fold_idx, fscore))\n",
    "cv_df = pd.DataFrame(entries, columns=['label_name', 'fold_idx', 'fscore'])"
   ]
  },
  {
   "cell_type": "code",
   "execution_count": 25,
   "metadata": {
    "collapsed": false
   },
   "outputs": [
    {
     "data": {
      "text/plain": [
       "label_name\n",
       "CAPS            0.159341\n",
       "Obscenity       0.625804\n",
       "Threat          0.265596\n",
       "hatespeech      0.672549\n",
       "namecalling     0.345708\n",
       "negprejudice    0.377458\n",
       "noneng          0.651508\n",
       "porn            0.442597\n",
       "stereotypes     0.163216\n",
       "Name: fscore, dtype: float64"
      ]
     },
     "execution_count": 25,
     "metadata": {},
     "output_type": "execute_result"
    }
   ],
   "source": [
    "cv_df.groupby('label_name').fscore.mean()\n",
    "#many are performing terribly, but obscenity, hatespeech, and noneng show promise\n",
    "#stereotypes performing the worst of these"
   ]
  },
  {
   "cell_type": "code",
   "execution_count": null,
   "metadata": {
    "collapsed": true
   },
   "outputs": [],
   "source": [
    "#followed this tutorial for convenience: https://towardsdatascience.com/multi-class-text-classification-with-scikit-learn-12f1e60e0a9f"
   ]
  }
 ],
 "metadata": {
  "kernelspec": {
   "display_name": "Python 3",
   "language": "python",
   "name": "python3"
  },
  "language_info": {
   "codemirror_mode": {
    "name": "ipython",
    "version": 3
   },
   "file_extension": ".py",
   "mimetype": "text/x-python",
   "name": "python",
   "nbconvert_exporter": "python",
   "pygments_lexer": "ipython3",
   "version": "3.6.0"
  }
 },
 "nbformat": 4,
 "nbformat_minor": 2
}
