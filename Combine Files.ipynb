{
 "cells": [
  {
   "cell_type": "code",
   "execution_count": 1,
   "metadata": {
    "collapsed": false
   },
   "outputs": [],
   "source": [
    "import pandas as pd\n",
    "import re\n",
    "from sklearn import model_selection"
   ]
  },
  {
   "cell_type": "code",
   "execution_count": 2,
   "metadata": {
    "collapsed": false
   },
   "outputs": [],
   "source": [
    "b1 = pd.read_csv(\"Coded Tweets (Aggregated)/Tweets Batch 1 (N=1000)_ALLRATERS.csv\")\n",
    "b2 = pd.read_csv(\"Coded Tweets (Aggregated)/Tweets Batch 2 (N=2000)_ALLRATERS.csv\")\n",
    "b3 = pd.read_csv(\"Coded Tweets (Aggregated)/Tweets Batch 3 (N=2000)_ALLRATERS.csv\")"
   ]
  },
  {
   "cell_type": "code",
   "execution_count": 3,
   "metadata": {
    "collapsed": false
   },
   "outputs": [],
   "source": [
    "b = pd.concat([b1, b2, b3], axis = 0)"
   ]
  },
  {
   "cell_type": "code",
   "execution_count": 4,
   "metadata": {
    "collapsed": false
   },
   "outputs": [
    {
     "data": {
      "text/plain": [
       "(5001, 64)"
      ]
     },
     "execution_count": 4,
     "metadata": {},
     "output_type": "execute_result"
    }
   ],
   "source": [
    "b.shape"
   ]
  },
  {
   "cell_type": "code",
   "execution_count": 5,
   "metadata": {
    "collapsed": false
   },
   "outputs": [
    {
     "data": {
      "text/plain": [
       "4282"
      ]
     },
     "execution_count": 5,
     "metadata": {},
     "output_type": "execute_result"
    }
   ],
   "source": [
    "len(b['Tweet'].unique()) #duplicates due to retweeting"
   ]
  },
  {
   "cell_type": "code",
   "execution_count": 6,
   "metadata": {
    "collapsed": false
   },
   "outputs": [
    {
     "data": {
      "text/plain": [
       "{\"RT @AnnCoulter: Trump's right: He can win Michigan. They lost their industry to trade deals &amp; now lose everything else to refugees. https:/… \",\n",
       " 'RT @BernardKeane: On the day the Coalition says it wants to fight an election on trade unions, the head of the ASX is forced to resign over… ',\n",
       " 'RT @BernieSanders: We need policies that bring us together and create a middle class that works for all of us rather than an economy that w… ',\n",
       " \"RT @C_XXIII: Uhh my mans can take me to Jack in the box for 2 for $1 tacos &amp; I still feel spoiled?? money ain't everything, boo. https://t.c… \",\n",
       " 'RT @Chiba_Lotte: 【3月15日オープン戦 M2-0H】 石川投手が7回79球2安打無失点の好投！8回に岡田選手が決勝打！ ▼本日の成績はこちら https://t.co/alb2r7rVgn #chibalotte https://t.co/5Jkht8xbIQ ',\n",
       " 'RT @Chiba_Lotte: 【3月19日オープン戦 M3-3D】 清田選手がホームランを含む3安打2打点の活躍！ ▼本日の成績はこちら https://t.co/LhReylm3a8 #chibalotte https://t.co/4Rd9jHNXml ',\n",
       " \"RT @Chris_1791: All Marines Forced To Go Through Training To Erase 'Unconscious Bias' As Women Enter Combat Roles: Marine lead.. https://t.… \",\n",
       " 'RT @CloydRivers: I’m not anti-immigration. I’m anti-illegal immigration. There’s a difference. Merica. ',\n",
       " \"RT @ColeMcNeely: Bernie's Immigration Plan: Have the magical socialist unicorns defend the border while the current illegal immigrants plan… \",\n",
       " 'RT @DineshDSouza: Bernie spells out what progressives mean by such terms as \"fair share\" and \"social justice\" https://t.co/HmpJed05bH ',\n",
       " 'RT @El_swaGz: *Going for HIV test* *sees neighbor* Neighbor: Good morning Tk Me: Good morning ma N: Wishing you a positive day Me: https://… ',\n",
       " \"RT @Ellevation_: this, from the politician who has been anti-choice &amp; anti-black since birth yet somehow has everyone convinced she's #foru… \",\n",
       " 'RT @EntheosShines: CC:  @SecretService @realDonaldTrump - RED ALERT TRUMP TEAM - LUNATIC PROGRESSIVES CALLING FOR TRUMP ASSASSINATION! http… ',\n",
       " 'RT @EquipoBieber: \"Las gringas se quejan de q les cancelaron los m&amp;g, y las latinas ni siquiera tenemos fechas\" #WeAreHereForYouJustin http… ',\n",
       " 'RT @FortuneMagazine: More than one-third of U.S. innovators are immigrants https://t.co/fx2mY11L2O https://t.co/rYM9kCn9HM ',\n",
       " 'RT @FoundBAE: African American ???? IG: cydbee (natural eye color) https://t.co/Xar65c7fCi ',\n",
       " 'RT @FoundBAE: Korean ????, French ????, Irish ????, and African American ???? @MissJuliaKelly https://t.co/deVDPGN4iC ',\n",
       " 'RT @FoxNews: BREAKING NEWS:  A detachment of U.S. Marines deployed to Iraq. https://t.co/vKK0sWKuk8 ',\n",
       " 'RT @FoxNews: Four illegal immigrants charged in rape, beating; two were previously deported | #FOXNewsUS | https://t.co/AptcRGEtKK ',\n",
       " 'RT @Franklin_Graham: Another of our Marines was killed today in Iraq by Islamists. Pray for the family and those injured. ',\n",
       " 'RT @Hajabeg: 3 weeks. 3 queer women murdered in the media.  Rose - Jane The Virgin Lexa - The 100 Denise - The Walking Dead  STOP BURYING O… ',\n",
       " 'RT @Jessthesav: If Donald Trump becomes president all the immigrants nd their cultures gunna leave nd white people gunna be stuck with thei… ',\n",
       " 'RT @Jezebel: Ellen Degeneres (with Justin Bieber) surprises impoverished Detroit school with $500,000 https://t.co/WcxdCrk4xU ',\n",
       " 'RT @JonFeere: It seems Kasich is most passionate when discussing his support for letting foreigners break our laws. #immigration ',\n",
       " 'RT @MattBellassai: i hate the mr krabs meme so much i hope his lifeless body ends up at a red lobster &amp; hes served to an elderly woman who … ',\n",
       " 'RT @MattWalshBlog: Me: Muslims keep blowing things up.     Liberals: Yeah, but Christians trespassed on a wildlife reserve in Oregon!    God he… ',\n",
       " \"RT @Matty_Hendrick: Horrible that 'Muslims' is trending. A kid in the US could shoot 20 kids in school and they'd blame a PS4 game or rock … \",\n",
       " 'RT @Military_Porn: RT for the 3,700 marines that were just sent to Iraq to destroy ISIS???????? https://t.co/1bYR4Ww5ty ',\n",
       " 'RT @NMAAHC: In 1921, Bessie Coleman became the 1st African American woman to hold a pilot license. BlackGirlMagic #WHM https://t.co/gVhA2Rm… ',\n",
       " 'RT @Nigel_Farage: When we Leave the EU we can have an Australian-style immigration system based on skills rather than EU open borders. http… ',\n",
       " 'RT @PMOIndia: All our people, Hindus, Muslims, Sikhs, Christians, Jains, Buddhists, Parsis, believers, non-believers, are an integral part … ',\n",
       " 'RT @PatriotBrother: I Would Rather Take Care Of 50,000 Homeless Veterans.     How About You?    #VetsLivesMatter https://t.co/IXPIPPore5 ',\n",
       " \"RT @RBReich: Have Democrats and progressives been a bit too quick to celebrate the President's nomination of Merrick Garland... https://t.c… \",\n",
       " 'RT @RichardWeaving: @realDonaldTrump Pre Planed Chicago Left Wing Violence At Trump Rally #MakeAmericaGreatAgain #VoteTrump  ???? ???? ???? https… ',\n",
       " 'RT @SadHappyAmazing: The only known photograph of an African American Union soldier with his family, circa 1863 https://t.co/InsUh5QD4n ',\n",
       " 'RT @SadHappyAmazing: Young girl in a school for black civil rights activists being trained to not react to smoke blown in her face. 1960 ht… ',\n",
       " 'RT @SamGrittner: Millennials are selfish &amp; entitled, said the generation that made a cure for old men lacking boners while the ice caps dis… ',\n",
       " 'RT @Social_couture_: Katt Williams is fighting teenagers out here (pt.2)?? https://t.co/XNHSeQiPts ',\n",
       " 'RT @SputnikInt: Italian coast guards #rescue 910 #migrants in strait of #Sicily https://t.co/7NxRda0jpC https://t.co/JFeVsWr5hH ',\n",
       " 'RT @TRobinsonNewEra: The so called left wing have proven him correct https://t.co/2257DGjUus ',\n",
       " 'RT @TheDirtySports: Yale vs Duke is a historic game. It sets the record for the most trust fund babies to play during a single NCAA Tournam… ',\n",
       " 'RT @TheFakeESPN: \"I was HIV positive we were gonna win that game.\" - Magic Johnson ',\n",
       " 'RT @Thom_Hartmann: Why is there a far right wing radio host moderating  Republican debates, but no genuine progressives moderating Democrat… ',\n",
       " 'RT @TuhRxxk: Nixon: and after we planted the crack in impoverished neighborhoods I made up the \"War on Drugs\". #MemeHistory https://t.co/hU… ',\n",
       " 'RT @WayneDupreeShow: Watch Marines take action when they see American flag disrespected - AWESOME! https://t.co/lAgdKC6MyN #veterans #milit… ',\n",
       " 'RT @YBcabbie: NET IMMIGRATION TO UK 323,000 PA. GROSS IMMIGRATION? WHAT IS THE TRUE FIGURE @David_Cameron @Conservatives #LEAVE https://t.c… ',\n",
       " \"RT @YGInstagram: [ADMINS] Age hasn't spoiled you a bit! Happy Birthday cutie Bommie ????❤ #AlwaysYou박봄 https://t.co/QMh3DuO04W \",\n",
       " \"RT @allkpop: 'Produce 101's 3rd round fan votes become spoiled online https://t.co/xt82a9Oaim https://t.co/S9PXr3Esyx \",\n",
       " 'RT @alyciaxuality: \"The accusation of queer baiting has me very sensitive\"   HE KEEPS PLAYING THE VICTIM https://t.co/mt3gZITRZX ',\n",
       " 'RT @desimartin123: @HonourCovenant @NetworksManager @USMC  THE FEW, THE PROUD.THE MARINES.THE MEN THAT ALL WAYS MAKE AMERICA GREAT \"FOR GOD… ',\n",
       " \"RT @docrocktex26: Folk out here calling themselves progressives but touting a movement that seeks victory in places where POC don't have a … \",\n",
       " 'RT @forgottenFINES: Ellarie. African American. Beauty Blogger (YouTuber) https://t.co/dvmaYNqsOv ',\n",
       " 'RT @forzabesiktas: fascists @PSV https://t.co/d3ud4FhMdi ',\n",
       " 'RT @funcoolmami: ur local chilerican queer #qpocvisibilityday https://t.co/H15LfyJ9Zm ',\n",
       " \"RT @ggreenwald: Can't say it enough: the ability/willingness of progressives to simply ignore all this is breathtaking https://t.co/KedgwLm… \",\n",
       " 'RT @homeIwt: Childish Gambino // African-American. acting like he dead. wont respect me and come back to music. Lyrical genius. https://t.c… ',\n",
       " 'RT @homeIwt: Frank Ocean // African-American. Has a beautiful voice. Wont drop his album. Loves acting like he dead. https://t.co/dB5zezSMQl ',\n",
       " 'RT @homeIwt: Michael Jackson // African-American. Best artist of all time. King of pop. Deserves Justice. https://t.co/aDt6ylY3kC ',\n",
       " 'RT @iMissbeyhave_: #CelebritiesOnlyBlackPeopleKnow The Ultimate African American Villain Squad https://t.co/7bXALEYfLp ',\n",
       " 'RT @imlolabashang: WHAT TEENAGERS HATE:  ✖ Homework  ✖ Fake friends ✖ School ✖ Being ignored ✖ Empty fridge ✖ Being replaced ✖ Slow interne… ',\n",
       " 'RT @jbouie: You know who else had a private army of violent supporters and incited violence against left-wing/Jewish leaders? https://t.co/… ',\n",
       " 'RT @latinas_69: Los culasos y la flexibilidad de @MissEvaLovia  y @MsAbigailMac  #latinas https://t.co/Ajc57lW2yc ',\n",
       " 'RT @latinxbeauty_: Chicanas in the 1970s https://t.co/4MenLSEV9P ',\n",
       " 'RT @lhfang: Would be cool if Bernie used his money and army of supporters to knock off corrupt Dems in primaries, elect reform progressives ',\n",
       " \"RT @loudobbsnews: Bern is a Bully, Left Wing Fascist Revealed: Sanders to Sheriff Arpaio: 'Watch out, Joe' https://t.co/RaByP8pF1c via @usa… \",\n",
       " \"RT @loudobbsnews: Left Wing Activists Trampling Trump Supporters' Rights Arizona Rally. Wholesale Disruption...#MakeAmericaGreatAgain #Trum… \",\n",
       " \"RT @loudobbsnews: Left wing Activists Try to Shut Down Trump's Arizona Rally. No protest, All to Block Free Speech Rights  #MakeAmericaGrea… \",\n",
       " 'RT @marklevinshow: Politico defends Islamic radicals with attacks on conservative foreign policy experts https://t.co/hCbBgZuqGf ',\n",
       " 'RT @mkolken: Sec. Clinton’s “send them back” record on child refugees speaks for itself  https://t.co/ggx0ps3QP0  @DREAMerJ_D @ErikaAndiola… ',\n",
       " \"RT @newtgingrich: If you don'tagree w/the left-wing fascists,then they no longer think you have right to speak https://t.co/rwFUciUSrg http… \",\n",
       " 'RT @nytopinion: .@Edsall: The Democratic debt to black voters is immense, and the party has not paid up. https://t.co/oZ9A8CLdWW https://t.… ',\n",
       " \"RT @padhalikha: Dalit Rohith was forced to commit suicide by SFI, and now a Brahmin Kanhaiya is the leftist youth icon. I'm fine with this … \",\n",
       " 'RT @poIIIux: happy #qpocvisibilityday from ur local queer chicana https://t.co/TTsExIxo32 ',\n",
       " 'RT @realDonaldTrump: Do you believe that Hillary Clinton now wants Obamacare for illegal immigrants? She should spend more time taking care… ',\n",
       " 'RT @rihanna: Too trippy!!! Thanks Navy ???? https://t.co/9w8FeRWij8 ',\n",
       " \"RT @saladinahmed: Racist pseudo-Christians barking at me about how the Qur'an says 'stone adulterers': It doesn't. The Bible does, though. … \",\n",
       " \"RT @scullymills: *every writer who has already filmed an unnecessary queer death after the outrage of lexa's* https://t.co/SYVLn7IUEX \",\n",
       " 'RT @seanhannity: .@newtgingrich: “The sources of confusion and chaos are left-wing fascists who want to impose their way of life on us.” #H… ',\n",
       " 'RT @shakiraaevans: How are you only 15 yet you look like youve already had at least 5 of your evil plans to take over the world spoiled htt… ',\n",
       " 'RT @sheamess: Keith Powers (African-American) https://t.co/yuBhlOeZ2R ',\n",
       " \"RT @standwithraul: Why I'm voting for @BernieSanders in Tuesday #AZPrimary: best #immigration plan &amp; economic vision https://t.co/kR7J7UWEo… \",\n",
       " 'RT @tomhardyon: The 100 summary:  End of the world Teenagers Dead lesbian ',\n",
       " 'RT @trev7153: @frankthorpNBC @KatyTurNBC a protester wearing KKK hood hit by an African American trump supporter. Have fun spinning Katy ',\n",
       " 'RT @umpire43: @WDFx2EU @tekarceben @JohnKasich This is UNREAL Kasich tells African American Senator Turner, \"I don\\'t need your people\" '}"
      ]
     },
     "execution_count": 6,
     "metadata": {},
     "output_type": "execute_result"
    }
   ],
   "source": [
    "set(b1['Tweet']) & set(b2['Tweet'])"
   ]
  },
  {
   "cell_type": "code",
   "execution_count": 7,
   "metadata": {
    "collapsed": false
   },
   "outputs": [
    {
     "data": {
      "text/plain": [
       "(4840, 64)"
      ]
     },
     "execution_count": 7,
     "metadata": {},
     "output_type": "execute_result"
    }
   ],
   "source": [
    "b.drop_duplicates(inplace=False).shape #some of them are complete duplicates"
   ]
  },
  {
   "cell_type": "code",
   "execution_count": 8,
   "metadata": {
    "collapsed": false
   },
   "outputs": [
    {
     "data": {
      "text/plain": [
       "77      RT @homeIwt: Childish Gambino // African-Ameri...\n",
       "151     RT @scrowder: FACT: Hitler was a left-wing soc...\n",
       "165     RT @homeIwt: Michael Jackson // African-Americ...\n",
       "222     RT @AnnCoulter: Trump's right: He can win Mich...\n",
       "373     RT @dovorah001: #UtahForTrump #Utah There is a...\n",
       "449     RT @OttomanArchive: Muslims, Christians and Je...\n",
       "488     RT @Chiba_Lotte: 【3月19日オープン戦 M3-3D】 清田選手がホームラン...\n",
       "490     RT @C_XXIII: Uhh my mans can take me to Jack i...\n",
       "588     RT @xonecole: Meet Akilah Johnson: The 1st Afr...\n",
       "608     RT @TRobinsonNewEra: The so called left wing h...\n",
       "614     RT @ggreenwald: Can't say it enough: the abili...\n",
       "639     RT @Nigel_Farage: When we Leave the EU we can ...\n",
       "668     RT @ColeMcNeely: Bernie's Immigration Plan: Ha...\n",
       "679     RT @historyepics: The only known photograph of...\n",
       "714     RT @BernardKeane: On the day the Coalition say...\n",
       "715     RT @SadHappyAmazing: The only known photograph...\n",
       "730     RT @loudobbsnews: Left wing Activists Try to S...\n",
       "733     RT @DineshDSouza: Bernie spells out what progr...\n",
       "871     RT @C_XXIII: Uhh my mans can take me to Jack i...\n",
       "916     RT @TheDirtySports: Yale vs Duke is a historic...\n",
       "946     RT @Chiba_Lotte: 【3月15日オープン戦 M2-0H】 石川投手が7回79球...\n",
       "174     RT @YousefMunayyer: AIPAC gives Hillary applau...\n",
       "246     RT @PMOIndia: All our people, Hindus, Muslims,...\n",
       "265     RT @PMOIndia: All our people, Hindus, Muslims,...\n",
       "294     RT @FoundBAE: Korean ????, French ????, Irish ...\n",
       "385     RT @RichardWeaving: @realDonaldTrump Pre Plane...\n",
       "397     RT @CloydRivers: I’m not anti-immigration. I’m...\n",
       "404     RT @homeIwt: Michael Jackson // African-Americ...\n",
       "409     RT @sheamess: Keith Powers (African-American) ...\n",
       "464     RT @standwithraul: Why I'm voting for @BernieS...\n",
       "                              ...                        \n",
       "1425    RT @bjevechip2: And it's not even separate. It...\n",
       "1434    RT @BernardKeane: On the day the Coalition say...\n",
       "1438    RT @End_of_Europe: Two million: Germany record...\n",
       "1440    RT @SadHappyAmazing: The only known photograph...\n",
       "1464    RT @CloydRivers: I’m not anti-immigration. I’m...\n",
       "1465    RT @RightBrandOne: @HillaryClinton says Undocu...\n",
       "1467    RT @newtgingrich: If you don'tagree w/the left...\n",
       "1471    RT @homeIwt: Kehlani // African American, Cauc...\n",
       "1475    RT @homeIwt: Kendrick Lamar // African America...\n",
       "1486    RT @WesleyRickard: Judge Judy LOVES Donald J T...\n",
       "1516    RT @SenSanders: We should end the regressive p...\n",
       "1538    RT @SenSanders: We should end the regressive p...\n",
       "1550    RT @BernieSanders: We need policies that bring...\n",
       "1553    RT @gsurya: Previously unseen pics.. How young...\n",
       "1556    RT @SenSanders: We should end the regressive p...\n",
       "1561    RT @BernieSanders: We need policies that bring...\n",
       "1563    RT @SenSanders: We should end the regressive p...\n",
       "1580    RT @SamGrittner: Millennials are selfish &amp;...\n",
       "1582    RT @SenSanders: We should end the regressive p...\n",
       "1591    RT @SamGrittner: Millennials are selfish &amp;...\n",
       "1600    RT @SamGrittner: Millennials are selfish &amp;...\n",
       "1605    RT @BernieSanders: We need policies that bring...\n",
       "1612    RT @BeyondBrokenDep: those teenagers who sit i...\n",
       "1618    RT @BernieSanders: We need policies that bring...\n",
       "1698    RT @FoxNews: BREAKING NEWS:  A detachment of U...\n",
       "1840    RT @crazybaebible: im goofy, spoiled, emotiona...\n",
       "1884    RT @joanwalsh: Love you @hardball_chris, as yo...\n",
       "1903    RT @Chiba_Lotte: 【3月15日オープン戦 M2-0H】 石川投手が7回79球...\n",
       "1913    RT @KardashianHumor: when u tell a spoiled gir...\n",
       "1985    RT @Dory: Boys deserve to be spoiled too https...\n",
       "Name: Tweet, Length: 161, dtype: object"
      ]
     },
     "execution_count": 8,
     "metadata": {},
     "output_type": "execute_result"
    }
   ],
   "source": [
    "b.loc[b.duplicated(), 'Tweet']"
   ]
  },
  {
   "cell_type": "code",
   "execution_count": 9,
   "metadata": {
    "collapsed": false
   },
   "outputs": [],
   "source": [
    "b1 = b1.rename(columns = {'hatespeech7namecalaling1':'hatespeech7', 'nanmecalling2':'namecalling2'})\n",
    "b2 = b2.rename(columns = {'hatespeech7namecalaling1':'hatespeech7', 'nanmecalling2':'namecalling2'})\n",
    "b3 = b3.rename(columns = {'hatespeech7namecalaling1':'hatespeech7', 'nanmecalling2':'namecalling2'})"
   ]
  },
  {
   "cell_type": "code",
   "execution_count": 10,
   "metadata": {
    "collapsed": false
   },
   "outputs": [],
   "source": [
    "r1 = pd.read_csv(\"Coded Tweets (Aggregated)/rater_key_1.csv\")\n",
    "r2 = pd.read_csv(\"Coded Tweets (Aggregated)/rater_key_2.csv\")\n",
    "r3 = pd.read_csv(\"Coded Tweets (Aggregated)/rater_key_3.csv\")"
   ]
  },
  {
   "cell_type": "code",
   "execution_count": 11,
   "metadata": {
    "collapsed": false
   },
   "outputs": [
    {
     "data": {
      "text/plain": [
       "Index(['Tweet', 'Threat1', 'Threat2', 'Threat3', 'Threat4', 'Threat5',\n",
       "       'Threat6', 'Threat7', 'Obscenity1', 'Obscenity2', 'Obscenity3',\n",
       "       'Obscenity4', 'Obscenity5', 'Obscenity6', 'Obscenity7', 'namecalling1',\n",
       "       'namecalling2', 'namecalling3', 'namecalling4', 'namecalling5',\n",
       "       'namecalling6', 'namecalling7', 'hatespeech1', 'hatespeech2',\n",
       "       'hatespeech3', 'hatespeech4', 'hatespeech5', 'hatespeech6',\n",
       "       'hatespeech7', 'CAPS1', 'CAPS2', 'CAPS3', 'CAPS4', 'CAPS5', 'CAPS6',\n",
       "       'CAPS7', 'stereotypes1', 'stereotypes2', 'stereotypes3', 'stereotypes4',\n",
       "       'stereotypes5', 'stereotypes6', 'stereotypes7', 'negprejudice1',\n",
       "       'negprejudice2', 'negprejudice3', 'negprejudice4', 'negprejudice5',\n",
       "       'negprejudice6', 'negprejudice7', 'porn1', 'porn2', 'porn3', 'porn4',\n",
       "       'porn5', 'porn6', 'porn7', 'noneng1', 'noneng2', 'noneng3', 'noneng4',\n",
       "       'noneng5', 'noneng6', 'noneng7'],\n",
       "      dtype='object')"
      ]
     },
     "execution_count": 11,
     "metadata": {},
     "output_type": "execute_result"
    }
   ],
   "source": [
    "b1.columns"
   ]
  },
  {
   "cell_type": "code",
   "execution_count": 12,
   "metadata": {
    "collapsed": false
   },
   "outputs": [],
   "source": [
    "#make rater tables consistent\n",
    "\n",
    "r1['Rater'] = r1['Rater'].str.strip()\n",
    "\n",
    "r2.columns = r1.columns\n",
    "\n",
    "r3.columns = r1.columns"
   ]
  },
  {
   "cell_type": "code",
   "execution_count": 13,
   "metadata": {
    "collapsed": false
   },
   "outputs": [],
   "source": [
    "#merge rater tables\n",
    "\n",
    "r = r1.merge(r2, how = 'left', on = \"Rater\")\n",
    "\n",
    "r = r.merge(r3, how = 'left', on = \"Rater\")\n",
    "\n",
    "r .columns = ['Number_1', 'Rater', \"Number_2\", 'Number_3']\n",
    "\n",
    "r.loc[r['Rater'] == \"Parker\", 'Number_3'] = 7"
   ]
  },
  {
   "cell_type": "code",
   "execution_count": 14,
   "metadata": {
    "collapsed": false
   },
   "outputs": [],
   "source": [
    "#dictionary of correspondences for rater tables\n",
    "\n",
    "dict2_name = r[[\"Number_2\", \"Rater\"]].set_index(\"Number_2\")['Rater'].to_dict()\n",
    "\n",
    "dict3_name = r[[\"Number_3\", \"Rater\"]].set_index(\"Number_3\")['Rater'].to_dict()"
   ]
  },
  {
   "cell_type": "code",
   "execution_count": 15,
   "metadata": {
    "collapsed": false
   },
   "outputs": [],
   "source": [
    "#convert rater numbers to rater names\n",
    "\n",
    "for i in range(1,8):\n",
    "    b2.columns = [re.sub(str(i), dict2_name[i], x) for x in b2.columns.values]\n",
    "\n",
    "for i in range(1,8):\n",
    "    b3.columns = [re.sub(str(i), dict3_name[i], x) for x in b3.columns.values]"
   ]
  },
  {
   "cell_type": "code",
   "execution_count": 16,
   "metadata": {
    "collapsed": false
   },
   "outputs": [],
   "source": [
    "dict_name_1 = r[[\"Rater\", \"Number_1\"]].set_index(\"Rater\")[\"Number_1\"]"
   ]
  },
  {
   "cell_type": "code",
   "execution_count": 17,
   "metadata": {
    "collapsed": false
   },
   "outputs": [],
   "source": [
    "#convert rater names to spreadsheet 1 rater numbers\n",
    "\n",
    "for i in r['Rater'].tolist():\n",
    "    b2.columns = [re.sub(i, str(dict_name_1[i]), x) for x in b2.columns.values]\n",
    "\n",
    "for i in r['Rater'].tolist():\n",
    "    b3.columns = [re.sub(i, str(dict_name_1[i]), x) for x in b3.columns.values]"
   ]
  },
  {
   "cell_type": "code",
   "execution_count": 18,
   "metadata": {
    "collapsed": false
   },
   "outputs": [],
   "source": [
    "data = b1.append(b2)"
   ]
  },
  {
   "cell_type": "code",
   "execution_count": 19,
   "metadata": {
    "collapsed": true
   },
   "outputs": [],
   "source": [
    "data = data.append(b3)"
   ]
  },
  {
   "cell_type": "code",
   "execution_count": 20,
   "metadata": {
    "collapsed": false
   },
   "outputs": [],
   "source": [
    "data['ID'] = range(0,data.shape[0])"
   ]
  },
  {
   "cell_type": "code",
   "execution_count": 32,
   "metadata": {
    "collapsed": false
   },
   "outputs": [
    {
     "data": {
      "text/plain": [
       "Index(['CAPS1', 'CAPS2', 'CAPS3', 'CAPS4', 'CAPS5', 'CAPS6', 'CAPS7',\n",
       "       'Obscenity1', 'Obscenity2', 'Obscenity3', 'Obscenity4', 'Obscenity5',\n",
       "       'Obscenity6', 'Obscenity7', 'Threat1', 'Threat2', 'Threat3', 'Threat4',\n",
       "       'Threat5', 'Threat6', 'Threat7', 'Tweet', 'hatespeech1', 'hatespeech2',\n",
       "       'hatespeech3', 'hatespeech4', 'hatespeech5', 'hatespeech6',\n",
       "       'hatespeech7', 'namecalling1', 'namecalling2', 'namecalling3',\n",
       "       'namecalling4', 'namecalling5', 'namecalling6', 'namecalling7',\n",
       "       'negprejudice1', 'negprejudice2', 'negprejudice3', 'negprejudice4',\n",
       "       'negprejudice5', 'negprejudice6', 'negprejudice7', 'noneng1', 'noneng2',\n",
       "       'noneng3', 'noneng4', 'noneng5', 'noneng6', 'noneng7', 'porn1', 'porn2',\n",
       "       'porn3', 'porn4', 'porn5', 'porn6', 'porn7', 'stereotypes1',\n",
       "       'stereotypes2', 'stereotypes3', 'stereotypes4', 'stereotypes5',\n",
       "       'stereotypes6', 'stereotypes7', 'ID'],\n",
       "      dtype='object')"
      ]
     },
     "execution_count": 32,
     "metadata": {},
     "output_type": "execute_result"
    }
   ],
   "source": [
    "data.columns"
   ]
  },
  {
   "cell_type": "code",
   "execution_count": 33,
   "metadata": {
    "collapsed": false
   },
   "outputs": [],
   "source": [
    "data.to_csv('combined_tweets.csv')"
   ]
  },
  {
   "cell_type": "code",
   "execution_count": 22,
   "metadata": {
    "collapsed": false
   },
   "outputs": [],
   "source": [
    "train, test = model_selection.train_test_split(data, test_size = 0.2, random_state = 123)"
   ]
  },
  {
   "cell_type": "code",
   "execution_count": 23,
   "metadata": {
    "collapsed": false
   },
   "outputs": [
    {
     "data": {
      "text/plain": [
       "CAPS1            1988\n",
       "CAPS2            2779\n",
       "CAPS3            1991\n",
       "CAPS4            1991\n",
       "CAPS5            2021\n",
       "CAPS6            2004\n",
       "CAPS7            2011\n",
       "Obscenity1       1988\n",
       "Obscenity2       2779\n",
       "Obscenity3       1990\n",
       "Obscenity4       1990\n",
       "Obscenity5       2032\n",
       "Obscenity6       2004\n",
       "Obscenity7       2011\n",
       "Threat1          1988\n",
       "Threat2          2779\n",
       "Threat3          1991\n",
       "Threat4          1990\n",
       "Threat5          2034\n",
       "Threat6          2004\n",
       "Threat7          2010\n",
       "Tweet               1\n",
       "hatespeech1      1988\n",
       "hatespeech2      2779\n",
       "hatespeech3      1990\n",
       "hatespeech4      1990\n",
       "hatespeech5      2024\n",
       "hatespeech6      2004\n",
       "hatespeech7      2011\n",
       "namecalling1     1988\n",
       "                 ... \n",
       "namecalling7     2011\n",
       "negprejudice1    1988\n",
       "negprejudice2    2779\n",
       "negprejudice3    1991\n",
       "negprejudice4    1990\n",
       "negprejudice5    2020\n",
       "negprejudice6    2004\n",
       "negprejudice7    2011\n",
       "noneng1          1988\n",
       "noneng2          2779\n",
       "noneng3          1990\n",
       "noneng4          1991\n",
       "noneng5          2020\n",
       "noneng6          2004\n",
       "noneng7          2011\n",
       "porn1            1988\n",
       "porn2            2779\n",
       "porn3            1990\n",
       "porn4            1990\n",
       "porn5            2020\n",
       "porn6            2004\n",
       "porn7            2011\n",
       "stereotypes1     1988\n",
       "stereotypes2     2779\n",
       "stereotypes3     1991\n",
       "stereotypes4     1990\n",
       "stereotypes5     2020\n",
       "stereotypes6     2004\n",
       "stereotypes7     2011\n",
       "ID                  0\n",
       "Length: 65, dtype: int64"
      ]
     },
     "execution_count": 23,
     "metadata": {},
     "output_type": "execute_result"
    }
   ],
   "source": [
    "train.isnull().sum()"
   ]
  },
  {
   "cell_type": "code",
   "execution_count": 24,
   "metadata": {
    "collapsed": false
   },
   "outputs": [],
   "source": [
    "train = train[train['Tweet'].isnull() == False]"
   ]
  },
  {
   "cell_type": "code",
   "execution_count": 25,
   "metadata": {
    "collapsed": true
   },
   "outputs": [],
   "source": [
    "train.to_csv(\"train.csv\")"
   ]
  },
  {
   "cell_type": "code",
   "execution_count": 26,
   "metadata": {
    "collapsed": true
   },
   "outputs": [],
   "source": [
    "test.to_csv(\"test.csv\")"
   ]
  },
  {
   "cell_type": "code",
   "execution_count": 27,
   "metadata": {
    "collapsed": false
   },
   "outputs": [
    {
     "data": {
      "text/html": [
       "<div>\n",
       "<style>\n",
       "    .dataframe thead tr:only-child th {\n",
       "        text-align: right;\n",
       "    }\n",
       "\n",
       "    .dataframe thead th {\n",
       "        text-align: left;\n",
       "    }\n",
       "\n",
       "    .dataframe tbody tr th {\n",
       "        vertical-align: top;\n",
       "    }\n",
       "</style>\n",
       "<table border=\"1\" class=\"dataframe\">\n",
       "  <thead>\n",
       "    <tr style=\"text-align: right;\">\n",
       "      <th></th>\n",
       "      <th>CAPS1</th>\n",
       "      <th>CAPS2</th>\n",
       "      <th>CAPS3</th>\n",
       "      <th>CAPS4</th>\n",
       "      <th>CAPS5</th>\n",
       "      <th>CAPS6</th>\n",
       "      <th>CAPS7</th>\n",
       "      <th>Obscenity1</th>\n",
       "      <th>Obscenity2</th>\n",
       "      <th>Obscenity3</th>\n",
       "      <th>...</th>\n",
       "      <th>porn6</th>\n",
       "      <th>porn7</th>\n",
       "      <th>stereotypes1</th>\n",
       "      <th>stereotypes2</th>\n",
       "      <th>stereotypes3</th>\n",
       "      <th>stereotypes4</th>\n",
       "      <th>stereotypes5</th>\n",
       "      <th>stereotypes6</th>\n",
       "      <th>stereotypes7</th>\n",
       "      <th>ID</th>\n",
       "    </tr>\n",
       "  </thead>\n",
       "  <tbody>\n",
       "    <tr>\n",
       "      <th>count</th>\n",
       "      <td>2012.000000</td>\n",
       "      <td>1221.000000</td>\n",
       "      <td>2009.000000</td>\n",
       "      <td>2009.000000</td>\n",
       "      <td>1979.000000</td>\n",
       "      <td>1996.000000</td>\n",
       "      <td>1989.000000</td>\n",
       "      <td>2012.000000</td>\n",
       "      <td>1221.000000</td>\n",
       "      <td>2010.000000</td>\n",
       "      <td>...</td>\n",
       "      <td>1996.000000</td>\n",
       "      <td>1989.000000</td>\n",
       "      <td>2012.000000</td>\n",
       "      <td>1221.000000</td>\n",
       "      <td>2009.000000</td>\n",
       "      <td>2010.000000</td>\n",
       "      <td>1980.000000</td>\n",
       "      <td>1996.000000</td>\n",
       "      <td>1989.000000</td>\n",
       "      <td>3999.000000</td>\n",
       "    </tr>\n",
       "    <tr>\n",
       "      <th>mean</th>\n",
       "      <td>0.013917</td>\n",
       "      <td>0.013923</td>\n",
       "      <td>0.020906</td>\n",
       "      <td>0.024390</td>\n",
       "      <td>0.013138</td>\n",
       "      <td>0.014529</td>\n",
       "      <td>0.004525</td>\n",
       "      <td>0.044235</td>\n",
       "      <td>0.100737</td>\n",
       "      <td>0.075622</td>\n",
       "      <td>...</td>\n",
       "      <td>0.010020</td>\n",
       "      <td>0.003017</td>\n",
       "      <td>0.172962</td>\n",
       "      <td>0.185094</td>\n",
       "      <td>0.051767</td>\n",
       "      <td>0.060199</td>\n",
       "      <td>0.046970</td>\n",
       "      <td>0.217435</td>\n",
       "      <td>0.055807</td>\n",
       "      <td>2488.707177</td>\n",
       "    </tr>\n",
       "    <tr>\n",
       "      <th>std</th>\n",
       "      <td>0.117174</td>\n",
       "      <td>0.117220</td>\n",
       "      <td>0.143105</td>\n",
       "      <td>0.154296</td>\n",
       "      <td>0.113894</td>\n",
       "      <td>0.119688</td>\n",
       "      <td>0.067132</td>\n",
       "      <td>0.205667</td>\n",
       "      <td>0.301104</td>\n",
       "      <td>0.264458</td>\n",
       "      <td>...</td>\n",
       "      <td>0.099622</td>\n",
       "      <td>0.054854</td>\n",
       "      <td>0.378309</td>\n",
       "      <td>0.388533</td>\n",
       "      <td>0.221612</td>\n",
       "      <td>0.237914</td>\n",
       "      <td>0.211627</td>\n",
       "      <td>0.412604</td>\n",
       "      <td>0.229606</td>\n",
       "      <td>1442.376368</td>\n",
       "    </tr>\n",
       "    <tr>\n",
       "      <th>min</th>\n",
       "      <td>0.000000</td>\n",
       "      <td>0.000000</td>\n",
       "      <td>0.000000</td>\n",
       "      <td>0.000000</td>\n",
       "      <td>0.000000</td>\n",
       "      <td>0.000000</td>\n",
       "      <td>0.000000</td>\n",
       "      <td>0.000000</td>\n",
       "      <td>0.000000</td>\n",
       "      <td>0.000000</td>\n",
       "      <td>...</td>\n",
       "      <td>0.000000</td>\n",
       "      <td>0.000000</td>\n",
       "      <td>0.000000</td>\n",
       "      <td>0.000000</td>\n",
       "      <td>0.000000</td>\n",
       "      <td>0.000000</td>\n",
       "      <td>0.000000</td>\n",
       "      <td>0.000000</td>\n",
       "      <td>0.000000</td>\n",
       "      <td>0.000000</td>\n",
       "    </tr>\n",
       "    <tr>\n",
       "      <th>25%</th>\n",
       "      <td>0.000000</td>\n",
       "      <td>0.000000</td>\n",
       "      <td>0.000000</td>\n",
       "      <td>0.000000</td>\n",
       "      <td>0.000000</td>\n",
       "      <td>0.000000</td>\n",
       "      <td>0.000000</td>\n",
       "      <td>0.000000</td>\n",
       "      <td>0.000000</td>\n",
       "      <td>0.000000</td>\n",
       "      <td>...</td>\n",
       "      <td>0.000000</td>\n",
       "      <td>0.000000</td>\n",
       "      <td>0.000000</td>\n",
       "      <td>0.000000</td>\n",
       "      <td>0.000000</td>\n",
       "      <td>0.000000</td>\n",
       "      <td>0.000000</td>\n",
       "      <td>0.000000</td>\n",
       "      <td>0.000000</td>\n",
       "      <td>1239.500000</td>\n",
       "    </tr>\n",
       "    <tr>\n",
       "      <th>50%</th>\n",
       "      <td>0.000000</td>\n",
       "      <td>0.000000</td>\n",
       "      <td>0.000000</td>\n",
       "      <td>0.000000</td>\n",
       "      <td>0.000000</td>\n",
       "      <td>0.000000</td>\n",
       "      <td>0.000000</td>\n",
       "      <td>0.000000</td>\n",
       "      <td>0.000000</td>\n",
       "      <td>0.000000</td>\n",
       "      <td>...</td>\n",
       "      <td>0.000000</td>\n",
       "      <td>0.000000</td>\n",
       "      <td>0.000000</td>\n",
       "      <td>0.000000</td>\n",
       "      <td>0.000000</td>\n",
       "      <td>0.000000</td>\n",
       "      <td>0.000000</td>\n",
       "      <td>0.000000</td>\n",
       "      <td>0.000000</td>\n",
       "      <td>2486.000000</td>\n",
       "    </tr>\n",
       "    <tr>\n",
       "      <th>75%</th>\n",
       "      <td>0.000000</td>\n",
       "      <td>0.000000</td>\n",
       "      <td>0.000000</td>\n",
       "      <td>0.000000</td>\n",
       "      <td>0.000000</td>\n",
       "      <td>0.000000</td>\n",
       "      <td>0.000000</td>\n",
       "      <td>0.000000</td>\n",
       "      <td>0.000000</td>\n",
       "      <td>0.000000</td>\n",
       "      <td>...</td>\n",
       "      <td>0.000000</td>\n",
       "      <td>0.000000</td>\n",
       "      <td>0.000000</td>\n",
       "      <td>0.000000</td>\n",
       "      <td>0.000000</td>\n",
       "      <td>0.000000</td>\n",
       "      <td>0.000000</td>\n",
       "      <td>0.000000</td>\n",
       "      <td>0.000000</td>\n",
       "      <td>3739.500000</td>\n",
       "    </tr>\n",
       "    <tr>\n",
       "      <th>max</th>\n",
       "      <td>1.000000</td>\n",
       "      <td>1.000000</td>\n",
       "      <td>1.000000</td>\n",
       "      <td>1.000000</td>\n",
       "      <td>1.000000</td>\n",
       "      <td>1.000000</td>\n",
       "      <td>1.000000</td>\n",
       "      <td>1.000000</td>\n",
       "      <td>1.000000</td>\n",
       "      <td>1.000000</td>\n",
       "      <td>...</td>\n",
       "      <td>1.000000</td>\n",
       "      <td>1.000000</td>\n",
       "      <td>1.000000</td>\n",
       "      <td>1.000000</td>\n",
       "      <td>1.000000</td>\n",
       "      <td>1.000000</td>\n",
       "      <td>1.000000</td>\n",
       "      <td>1.000000</td>\n",
       "      <td>1.000000</td>\n",
       "      <td>5000.000000</td>\n",
       "    </tr>\n",
       "  </tbody>\n",
       "</table>\n",
       "<p>8 rows × 64 columns</p>\n",
       "</div>"
      ],
      "text/plain": [
       "             CAPS1        CAPS2        CAPS3        CAPS4        CAPS5  \\\n",
       "count  2012.000000  1221.000000  2009.000000  2009.000000  1979.000000   \n",
       "mean      0.013917     0.013923     0.020906     0.024390     0.013138   \n",
       "std       0.117174     0.117220     0.143105     0.154296     0.113894   \n",
       "min       0.000000     0.000000     0.000000     0.000000     0.000000   \n",
       "25%       0.000000     0.000000     0.000000     0.000000     0.000000   \n",
       "50%       0.000000     0.000000     0.000000     0.000000     0.000000   \n",
       "75%       0.000000     0.000000     0.000000     0.000000     0.000000   \n",
       "max       1.000000     1.000000     1.000000     1.000000     1.000000   \n",
       "\n",
       "             CAPS6        CAPS7   Obscenity1   Obscenity2   Obscenity3  \\\n",
       "count  1996.000000  1989.000000  2012.000000  1221.000000  2010.000000   \n",
       "mean      0.014529     0.004525     0.044235     0.100737     0.075622   \n",
       "std       0.119688     0.067132     0.205667     0.301104     0.264458   \n",
       "min       0.000000     0.000000     0.000000     0.000000     0.000000   \n",
       "25%       0.000000     0.000000     0.000000     0.000000     0.000000   \n",
       "50%       0.000000     0.000000     0.000000     0.000000     0.000000   \n",
       "75%       0.000000     0.000000     0.000000     0.000000     0.000000   \n",
       "max       1.000000     1.000000     1.000000     1.000000     1.000000   \n",
       "\n",
       "          ...             porn6        porn7  stereotypes1  stereotypes2  \\\n",
       "count     ...       1996.000000  1989.000000   2012.000000   1221.000000   \n",
       "mean      ...          0.010020     0.003017      0.172962      0.185094   \n",
       "std       ...          0.099622     0.054854      0.378309      0.388533   \n",
       "min       ...          0.000000     0.000000      0.000000      0.000000   \n",
       "25%       ...          0.000000     0.000000      0.000000      0.000000   \n",
       "50%       ...          0.000000     0.000000      0.000000      0.000000   \n",
       "75%       ...          0.000000     0.000000      0.000000      0.000000   \n",
       "max       ...          1.000000     1.000000      1.000000      1.000000   \n",
       "\n",
       "       stereotypes3  stereotypes4  stereotypes5  stereotypes6  stereotypes7  \\\n",
       "count   2009.000000   2010.000000   1980.000000   1996.000000   1989.000000   \n",
       "mean       0.051767      0.060199      0.046970      0.217435      0.055807   \n",
       "std        0.221612      0.237914      0.211627      0.412604      0.229606   \n",
       "min        0.000000      0.000000      0.000000      0.000000      0.000000   \n",
       "25%        0.000000      0.000000      0.000000      0.000000      0.000000   \n",
       "50%        0.000000      0.000000      0.000000      0.000000      0.000000   \n",
       "75%        0.000000      0.000000      0.000000      0.000000      0.000000   \n",
       "max        1.000000      1.000000      1.000000      1.000000      1.000000   \n",
       "\n",
       "                ID  \n",
       "count  3999.000000  \n",
       "mean   2488.707177  \n",
       "std    1442.376368  \n",
       "min       0.000000  \n",
       "25%    1239.500000  \n",
       "50%    2486.000000  \n",
       "75%    3739.500000  \n",
       "max    5000.000000  \n",
       "\n",
       "[8 rows x 64 columns]"
      ]
     },
     "execution_count": 27,
     "metadata": {},
     "output_type": "execute_result"
    }
   ],
   "source": [
    "train.describe()"
   ]
  }
 ],
 "metadata": {
  "kernelspec": {
   "display_name": "Python 3",
   "language": "python",
   "name": "python3"
  },
  "language_info": {
   "codemirror_mode": {
    "name": "ipython",
    "version": 3
   },
   "file_extension": ".py",
   "mimetype": "text/x-python",
   "name": "python",
   "nbconvert_exporter": "python",
   "pygments_lexer": "ipython3",
   "version": "3.6.0"
  }
 },
 "nbformat": 4,
 "nbformat_minor": 2
}
