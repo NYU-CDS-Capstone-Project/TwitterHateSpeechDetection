{
 "cells": [
  {
   "cell_type": "code",
   "execution_count": 116,
   "metadata": {
    "collapsed": false
   },
   "outputs": [],
   "source": [
    "import pandas as pd\n",
    "import re\n",
    "from sklearn import model_selection"
   ]
  },
  {
   "cell_type": "code",
   "execution_count": 91,
   "metadata": {
    "collapsed": false
   },
   "outputs": [],
   "source": [
    "b1 = pd.read_csv(\"Coded Tweets (Aggregated)/Tweets Batch 1 (N=1000)_ALLRATERS.csv\")\n",
    "b2 = pd.read_csv(\"Coded Tweets (Aggregated)/Tweets Batch 2 (N=2000)_ALLRATERS.csv\")\n",
    "b3 = pd.read_csv(\"Coded Tweets (Aggregated)/Tweets Batch 3 (N=2000)_ALLRATERS.csv\")"
   ]
  },
  {
   "cell_type": "code",
   "execution_count": 92,
   "metadata": {
    "collapsed": false
   },
   "outputs": [],
   "source": [
    "b1 = b1.rename(columns = {'hatespeech7namecalaling1':'hatespeech7', 'nanmecalling2':'namecalling2'})\n",
    "b2 = b2.rename(columns = {'hatespeech7namecalaling1':'hatespeech7', 'nanmecalling2':'namecalling2'})\n",
    "b3 = b3.rename(columns = {'hatespeech7namecalaling1':'hatespeech7', 'nanmecalling2':'namecalling2'})"
   ]
  },
  {
   "cell_type": "code",
   "execution_count": 93,
   "metadata": {
    "collapsed": false
   },
   "outputs": [],
   "source": [
    "r1 = pd.read_csv(\"Coded Tweets (Aggregated)/rater_key_1.csv\")\n",
    "r2 = pd.read_csv(\"Coded Tweets (Aggregated)/rater_key_2.csv\")\n",
    "r3 = pd.read_csv(\"Coded Tweets (Aggregated)/rater_key_3.csv\")"
   ]
  },
  {
   "cell_type": "code",
   "execution_count": 94,
   "metadata": {
    "collapsed": false
   },
   "outputs": [],
   "source": [
    "#make rater tables consistent\n",
    "\n",
    "r1['Rater'] = r1['Rater'].str.strip()\n",
    "\n",
    "r2.columns = r1.columns\n",
    "\n",
    "r3.columns = r1.columns"
   ]
  },
  {
   "cell_type": "code",
   "execution_count": 95,
   "metadata": {
    "collapsed": false
   },
   "outputs": [],
   "source": [
    "#merge rater tables\n",
    "\n",
    "r = r1.merge(r2, how = 'left', on = \"Rater\")\n",
    "\n",
    "r = r.merge(r3, how = 'left', on = \"Rater\")\n",
    "\n",
    "r .columns = ['Number_1', 'Rater', \"Number_2\", 'Number_3']\n",
    "\n",
    "r.loc[r['Rater'] == \"Parker\", 'Number_3'] = 7"
   ]
  },
  {
   "cell_type": "code",
   "execution_count": 96,
   "metadata": {
    "collapsed": false
   },
   "outputs": [],
   "source": [
    "#dictionary of correspondences for rater tables\n",
    "\n",
    "dict2_name = r[[\"Number_2\", \"Rater\"]].set_index(\"Number_2\")['Rater'].to_dict()\n",
    "\n",
    "dict3_name = r[[\"Number_3\", \"Rater\"]].set_index(\"Number_3\")['Rater'].to_dict()"
   ]
  },
  {
   "cell_type": "code",
   "execution_count": 97,
   "metadata": {
    "collapsed": false
   },
   "outputs": [],
   "source": [
    "#convert rater numbers to rater names\n",
    "\n",
    "for i in range(1,8):\n",
    "    b2.columns = [re.sub(str(i), dict2_name[i], x) for x in b2.columns.values]\n",
    "\n",
    "for i in range(1,8):\n",
    "    b3.columns = [re.sub(str(i), dict3_name[i], x) for x in b3.columns.values]"
   ]
  },
  {
   "cell_type": "code",
   "execution_count": 98,
   "metadata": {
    "collapsed": false
   },
   "outputs": [],
   "source": [
    "dict_name_1 = r[[\"Rater\", \"Number_1\"]].set_index(\"Rater\")[\"Number_1\"]"
   ]
  },
  {
   "cell_type": "code",
   "execution_count": 99,
   "metadata": {
    "collapsed": false
   },
   "outputs": [],
   "source": [
    "#convert rater names to spreadsheet 1 rater numbers\n",
    "\n",
    "for i in r['Rater'].tolist():\n",
    "    b2.columns = [re.sub(i, str(dict_name_1[i]), x) for x in b2.columns.values]\n",
    "\n",
    "for i in r['Rater'].tolist():\n",
    "    b3.columns = [re.sub(i, str(dict_name_1[i]), x) for x in b3.columns.values]"
   ]
  },
  {
   "cell_type": "code",
   "execution_count": 118,
   "metadata": {
    "collapsed": false
   },
   "outputs": [],
   "source": [
    "data = b1.append(b2)"
   ]
  },
  {
   "cell_type": "code",
   "execution_count": 119,
   "metadata": {
    "collapsed": true
   },
   "outputs": [],
   "source": [
    "data = data.append(b3)"
   ]
  },
  {
   "cell_type": "code",
   "execution_count": 120,
   "metadata": {
    "collapsed": false
   },
   "outputs": [],
   "source": [
    "data.to_csv('combined_tweets.csv')"
   ]
  },
  {
   "cell_type": "code",
   "execution_count": 122,
   "metadata": {
    "collapsed": false
   },
   "outputs": [],
   "source": [
    "train, test = model_selection.train_test_split(data, test_size = 0.2, random_state = 123)"
   ]
  },
  {
   "cell_type": "code",
   "execution_count": 135,
   "metadata": {
    "collapsed": false
   },
   "outputs": [
    {
     "data": {
      "text/plain": [
       "CAPS1            1988\n",
       "CAPS2            2779\n",
       "CAPS3            1991\n",
       "CAPS4            1991\n",
       "CAPS5            2021\n",
       "CAPS6            2004\n",
       "CAPS7            2011\n",
       "Obscenity1       1988\n",
       "Obscenity2       2779\n",
       "Obscenity3       1990\n",
       "Obscenity4       1990\n",
       "Obscenity5       2032\n",
       "Obscenity6       2004\n",
       "Obscenity7       2011\n",
       "Threat1          1988\n",
       "Threat2          2779\n",
       "Threat3          1991\n",
       "Threat4          1990\n",
       "Threat5          2034\n",
       "Threat6          2004\n",
       "Threat7          2010\n",
       "Tweet               1\n",
       "hatespeech1      1988\n",
       "hatespeech2      2779\n",
       "hatespeech3      1990\n",
       "hatespeech4      1990\n",
       "hatespeech5      2024\n",
       "hatespeech6      2004\n",
       "hatespeech7      2011\n",
       "namecalling1     1988\n",
       "                 ... \n",
       "namecalling6     2004\n",
       "namecalling7     2011\n",
       "negprejudice1    1988\n",
       "negprejudice2    2779\n",
       "negprejudice3    1991\n",
       "negprejudice4    1990\n",
       "negprejudice5    2020\n",
       "negprejudice6    2004\n",
       "negprejudice7    2011\n",
       "noneng1          1988\n",
       "noneng2          2779\n",
       "noneng3          1990\n",
       "noneng4          1991\n",
       "noneng5          2020\n",
       "noneng6          2004\n",
       "noneng7          2011\n",
       "porn1            1988\n",
       "porn2            2779\n",
       "porn3            1990\n",
       "porn4            1990\n",
       "porn5            2020\n",
       "porn6            2004\n",
       "porn7            2011\n",
       "stereotypes1     1988\n",
       "stereotypes2     2779\n",
       "stereotypes3     1991\n",
       "stereotypes4     1990\n",
       "stereotypes5     2020\n",
       "stereotypes6     2004\n",
       "stereotypes7     2011\n",
       "Length: 64, dtype: int64"
      ]
     },
     "execution_count": 135,
     "metadata": {},
     "output_type": "execute_result"
    }
   ],
   "source": [
    "train.isnull().sum()"
   ]
  },
  {
   "cell_type": "code",
   "execution_count": 139,
   "metadata": {
    "collapsed": false
   },
   "outputs": [],
   "source": [
    "train = train[train['Tweet'].isnull() == False]"
   ]
  },
  {
   "cell_type": "code",
   "execution_count": 140,
   "metadata": {
    "collapsed": true
   },
   "outputs": [],
   "source": [
    "train.to_csv(\"train.csv\")"
   ]
  },
  {
   "cell_type": "code",
   "execution_count": 141,
   "metadata": {
    "collapsed": true
   },
   "outputs": [],
   "source": [
    "test.to_csv(\"test.csv\")"
   ]
  },
  {
   "cell_type": "code",
   "execution_count": 130,
   "metadata": {
    "collapsed": false
   },
   "outputs": [
    {
     "data": {
      "text/html": [
       "<div>\n",
       "<style>\n",
       "    .dataframe thead tr:only-child th {\n",
       "        text-align: right;\n",
       "    }\n",
       "\n",
       "    .dataframe thead th {\n",
       "        text-align: left;\n",
       "    }\n",
       "\n",
       "    .dataframe tbody tr th {\n",
       "        vertical-align: top;\n",
       "    }\n",
       "</style>\n",
       "<table border=\"1\" class=\"dataframe\">\n",
       "  <thead>\n",
       "    <tr style=\"text-align: right;\">\n",
       "      <th></th>\n",
       "      <th>CAPS1</th>\n",
       "      <th>CAPS2</th>\n",
       "      <th>CAPS3</th>\n",
       "      <th>CAPS4</th>\n",
       "      <th>CAPS5</th>\n",
       "      <th>CAPS6</th>\n",
       "      <th>CAPS7</th>\n",
       "      <th>Obscenity1</th>\n",
       "      <th>Obscenity2</th>\n",
       "      <th>Obscenity3</th>\n",
       "      <th>...</th>\n",
       "      <th>porn5</th>\n",
       "      <th>porn6</th>\n",
       "      <th>porn7</th>\n",
       "      <th>stereotypes1</th>\n",
       "      <th>stereotypes2</th>\n",
       "      <th>stereotypes3</th>\n",
       "      <th>stereotypes4</th>\n",
       "      <th>stereotypes5</th>\n",
       "      <th>stereotypes6</th>\n",
       "      <th>stereotypes7</th>\n",
       "    </tr>\n",
       "  </thead>\n",
       "  <tbody>\n",
       "    <tr>\n",
       "      <th>count</th>\n",
       "      <td>2012.000000</td>\n",
       "      <td>1221.000000</td>\n",
       "      <td>2009.000000</td>\n",
       "      <td>2009.000000</td>\n",
       "      <td>1979.000000</td>\n",
       "      <td>1996.000000</td>\n",
       "      <td>1989.000000</td>\n",
       "      <td>2012.000000</td>\n",
       "      <td>1221.000000</td>\n",
       "      <td>2010.000000</td>\n",
       "      <td>...</td>\n",
       "      <td>1980.000000</td>\n",
       "      <td>1996.000000</td>\n",
       "      <td>1989.000000</td>\n",
       "      <td>2012.000000</td>\n",
       "      <td>1221.000000</td>\n",
       "      <td>2009.000000</td>\n",
       "      <td>2010.000000</td>\n",
       "      <td>1980.000000</td>\n",
       "      <td>1996.000000</td>\n",
       "      <td>1989.000000</td>\n",
       "    </tr>\n",
       "    <tr>\n",
       "      <th>mean</th>\n",
       "      <td>0.013917</td>\n",
       "      <td>0.013923</td>\n",
       "      <td>0.020906</td>\n",
       "      <td>0.024390</td>\n",
       "      <td>0.013138</td>\n",
       "      <td>0.014529</td>\n",
       "      <td>0.004525</td>\n",
       "      <td>0.044235</td>\n",
       "      <td>0.100737</td>\n",
       "      <td>0.075622</td>\n",
       "      <td>...</td>\n",
       "      <td>0.003535</td>\n",
       "      <td>0.010020</td>\n",
       "      <td>0.003017</td>\n",
       "      <td>0.172962</td>\n",
       "      <td>0.185094</td>\n",
       "      <td>0.051767</td>\n",
       "      <td>0.060199</td>\n",
       "      <td>0.046970</td>\n",
       "      <td>0.217435</td>\n",
       "      <td>0.055807</td>\n",
       "    </tr>\n",
       "    <tr>\n",
       "      <th>std</th>\n",
       "      <td>0.117174</td>\n",
       "      <td>0.117220</td>\n",
       "      <td>0.143105</td>\n",
       "      <td>0.154296</td>\n",
       "      <td>0.113894</td>\n",
       "      <td>0.119688</td>\n",
       "      <td>0.067132</td>\n",
       "      <td>0.205667</td>\n",
       "      <td>0.301104</td>\n",
       "      <td>0.264458</td>\n",
       "      <td>...</td>\n",
       "      <td>0.059369</td>\n",
       "      <td>0.099622</td>\n",
       "      <td>0.054854</td>\n",
       "      <td>0.378309</td>\n",
       "      <td>0.388533</td>\n",
       "      <td>0.221612</td>\n",
       "      <td>0.237914</td>\n",
       "      <td>0.211627</td>\n",
       "      <td>0.412604</td>\n",
       "      <td>0.229606</td>\n",
       "    </tr>\n",
       "    <tr>\n",
       "      <th>min</th>\n",
       "      <td>0.000000</td>\n",
       "      <td>0.000000</td>\n",
       "      <td>0.000000</td>\n",
       "      <td>0.000000</td>\n",
       "      <td>0.000000</td>\n",
       "      <td>0.000000</td>\n",
       "      <td>0.000000</td>\n",
       "      <td>0.000000</td>\n",
       "      <td>0.000000</td>\n",
       "      <td>0.000000</td>\n",
       "      <td>...</td>\n",
       "      <td>0.000000</td>\n",
       "      <td>0.000000</td>\n",
       "      <td>0.000000</td>\n",
       "      <td>0.000000</td>\n",
       "      <td>0.000000</td>\n",
       "      <td>0.000000</td>\n",
       "      <td>0.000000</td>\n",
       "      <td>0.000000</td>\n",
       "      <td>0.000000</td>\n",
       "      <td>0.000000</td>\n",
       "    </tr>\n",
       "    <tr>\n",
       "      <th>25%</th>\n",
       "      <td>0.000000</td>\n",
       "      <td>0.000000</td>\n",
       "      <td>0.000000</td>\n",
       "      <td>0.000000</td>\n",
       "      <td>0.000000</td>\n",
       "      <td>0.000000</td>\n",
       "      <td>0.000000</td>\n",
       "      <td>0.000000</td>\n",
       "      <td>0.000000</td>\n",
       "      <td>0.000000</td>\n",
       "      <td>...</td>\n",
       "      <td>0.000000</td>\n",
       "      <td>0.000000</td>\n",
       "      <td>0.000000</td>\n",
       "      <td>0.000000</td>\n",
       "      <td>0.000000</td>\n",
       "      <td>0.000000</td>\n",
       "      <td>0.000000</td>\n",
       "      <td>0.000000</td>\n",
       "      <td>0.000000</td>\n",
       "      <td>0.000000</td>\n",
       "    </tr>\n",
       "    <tr>\n",
       "      <th>50%</th>\n",
       "      <td>0.000000</td>\n",
       "      <td>0.000000</td>\n",
       "      <td>0.000000</td>\n",
       "      <td>0.000000</td>\n",
       "      <td>0.000000</td>\n",
       "      <td>0.000000</td>\n",
       "      <td>0.000000</td>\n",
       "      <td>0.000000</td>\n",
       "      <td>0.000000</td>\n",
       "      <td>0.000000</td>\n",
       "      <td>...</td>\n",
       "      <td>0.000000</td>\n",
       "      <td>0.000000</td>\n",
       "      <td>0.000000</td>\n",
       "      <td>0.000000</td>\n",
       "      <td>0.000000</td>\n",
       "      <td>0.000000</td>\n",
       "      <td>0.000000</td>\n",
       "      <td>0.000000</td>\n",
       "      <td>0.000000</td>\n",
       "      <td>0.000000</td>\n",
       "    </tr>\n",
       "    <tr>\n",
       "      <th>75%</th>\n",
       "      <td>0.000000</td>\n",
       "      <td>0.000000</td>\n",
       "      <td>0.000000</td>\n",
       "      <td>0.000000</td>\n",
       "      <td>0.000000</td>\n",
       "      <td>0.000000</td>\n",
       "      <td>0.000000</td>\n",
       "      <td>0.000000</td>\n",
       "      <td>0.000000</td>\n",
       "      <td>0.000000</td>\n",
       "      <td>...</td>\n",
       "      <td>0.000000</td>\n",
       "      <td>0.000000</td>\n",
       "      <td>0.000000</td>\n",
       "      <td>0.000000</td>\n",
       "      <td>0.000000</td>\n",
       "      <td>0.000000</td>\n",
       "      <td>0.000000</td>\n",
       "      <td>0.000000</td>\n",
       "      <td>0.000000</td>\n",
       "      <td>0.000000</td>\n",
       "    </tr>\n",
       "    <tr>\n",
       "      <th>max</th>\n",
       "      <td>1.000000</td>\n",
       "      <td>1.000000</td>\n",
       "      <td>1.000000</td>\n",
       "      <td>1.000000</td>\n",
       "      <td>1.000000</td>\n",
       "      <td>1.000000</td>\n",
       "      <td>1.000000</td>\n",
       "      <td>1.000000</td>\n",
       "      <td>1.000000</td>\n",
       "      <td>1.000000</td>\n",
       "      <td>...</td>\n",
       "      <td>1.000000</td>\n",
       "      <td>1.000000</td>\n",
       "      <td>1.000000</td>\n",
       "      <td>1.000000</td>\n",
       "      <td>1.000000</td>\n",
       "      <td>1.000000</td>\n",
       "      <td>1.000000</td>\n",
       "      <td>1.000000</td>\n",
       "      <td>1.000000</td>\n",
       "      <td>1.000000</td>\n",
       "    </tr>\n",
       "  </tbody>\n",
       "</table>\n",
       "<p>8 rows × 63 columns</p>\n",
       "</div>"
      ],
      "text/plain": [
       "             CAPS1        CAPS2        CAPS3        CAPS4        CAPS5  \\\n",
       "count  2012.000000  1221.000000  2009.000000  2009.000000  1979.000000   \n",
       "mean      0.013917     0.013923     0.020906     0.024390     0.013138   \n",
       "std       0.117174     0.117220     0.143105     0.154296     0.113894   \n",
       "min       0.000000     0.000000     0.000000     0.000000     0.000000   \n",
       "25%       0.000000     0.000000     0.000000     0.000000     0.000000   \n",
       "50%       0.000000     0.000000     0.000000     0.000000     0.000000   \n",
       "75%       0.000000     0.000000     0.000000     0.000000     0.000000   \n",
       "max       1.000000     1.000000     1.000000     1.000000     1.000000   \n",
       "\n",
       "             CAPS6        CAPS7   Obscenity1   Obscenity2   Obscenity3  \\\n",
       "count  1996.000000  1989.000000  2012.000000  1221.000000  2010.000000   \n",
       "mean      0.014529     0.004525     0.044235     0.100737     0.075622   \n",
       "std       0.119688     0.067132     0.205667     0.301104     0.264458   \n",
       "min       0.000000     0.000000     0.000000     0.000000     0.000000   \n",
       "25%       0.000000     0.000000     0.000000     0.000000     0.000000   \n",
       "50%       0.000000     0.000000     0.000000     0.000000     0.000000   \n",
       "75%       0.000000     0.000000     0.000000     0.000000     0.000000   \n",
       "max       1.000000     1.000000     1.000000     1.000000     1.000000   \n",
       "\n",
       "           ...             porn5        porn6        porn7  stereotypes1  \\\n",
       "count      ...       1980.000000  1996.000000  1989.000000   2012.000000   \n",
       "mean       ...          0.003535     0.010020     0.003017      0.172962   \n",
       "std        ...          0.059369     0.099622     0.054854      0.378309   \n",
       "min        ...          0.000000     0.000000     0.000000      0.000000   \n",
       "25%        ...          0.000000     0.000000     0.000000      0.000000   \n",
       "50%        ...          0.000000     0.000000     0.000000      0.000000   \n",
       "75%        ...          0.000000     0.000000     0.000000      0.000000   \n",
       "max        ...          1.000000     1.000000     1.000000      1.000000   \n",
       "\n",
       "       stereotypes2  stereotypes3  stereotypes4  stereotypes5  stereotypes6  \\\n",
       "count   1221.000000   2009.000000   2010.000000   1980.000000   1996.000000   \n",
       "mean       0.185094      0.051767      0.060199      0.046970      0.217435   \n",
       "std        0.388533      0.221612      0.237914      0.211627      0.412604   \n",
       "min        0.000000      0.000000      0.000000      0.000000      0.000000   \n",
       "25%        0.000000      0.000000      0.000000      0.000000      0.000000   \n",
       "50%        0.000000      0.000000      0.000000      0.000000      0.000000   \n",
       "75%        0.000000      0.000000      0.000000      0.000000      0.000000   \n",
       "max        1.000000      1.000000      1.000000      1.000000      1.000000   \n",
       "\n",
       "       stereotypes7  \n",
       "count   1989.000000  \n",
       "mean       0.055807  \n",
       "std        0.229606  \n",
       "min        0.000000  \n",
       "25%        0.000000  \n",
       "50%        0.000000  \n",
       "75%        0.000000  \n",
       "max        1.000000  \n",
       "\n",
       "[8 rows x 63 columns]"
      ]
     },
     "execution_count": 130,
     "metadata": {},
     "output_type": "execute_result"
    }
   ],
   "source": [
    "train.describe()"
   ]
  }
 ],
 "metadata": {
  "kernelspec": {
   "display_name": "Python 3",
   "language": "python",
   "name": "python3"
  },
  "language_info": {
   "codemirror_mode": {
    "name": "ipython",
    "version": 3
   },
   "file_extension": ".py",
   "mimetype": "text/x-python",
   "name": "python",
   "nbconvert_exporter": "python",
   "pygments_lexer": "ipython3",
   "version": "3.6.0"
  }
 },
 "nbformat": 4,
 "nbformat_minor": 2
}
