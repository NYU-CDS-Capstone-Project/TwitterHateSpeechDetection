{
 "cells": [
  {
   "cell_type": "markdown",
   "metadata": {},
   "source": [
    "## <b>Import libraries<b>"
   ]
  },
  {
   "cell_type": "code",
   "execution_count": 1,
   "metadata": {
    "collapsed": false
   },
   "outputs": [],
   "source": [
    "import torch\n",
    "import pandas as pd\n",
    "import numpy as np\n",
    "from collections import Counter\n",
    "from torch.autograd import Variable\n",
    "import torch.nn as nn\n",
    "import torch.nn.functional as F\n",
    "import torch.autograd as autograd\n",
    "from sklearn.metrics import f1_score\n",
    "from torch.nn.utils.rnn import pack_padded_sequence, pad_packed_sequence\n",
    "from torch.utils.data import Dataset, DataLoader\n",
    "from torch.nn.utils import clip_grad_norm\n",
    "from torch.autograd import Variable\n",
    "import matplotlib.pyplot as plt\n",
    "from torch.optim.lr_scheduler import MultiStepLR\n",
    "from sklearn.metrics import f1_score\n",
    "from sklearn import model_selection\n",
    "import pickle\n",
    "%matplotlib inline"
   ]
  },
  {
   "cell_type": "code",
   "execution_count": 2,
   "metadata": {
    "collapsed": false
   },
   "outputs": [],
   "source": [
    "#drew inspiration from\n",
    "#https://github.com/dmesquita/understanding_pytorch_nn and\n",
    "#https://github.com/msahamed/yelp_comments_classification_nlp/blob/master/word_embeddings.ipynb\n",
    "#https://github.com/nyu-mll/DS-GA-1011-Fall2017/blob/master/week%20eight/Week%20Eight%20Solutions.ipynb\n",
    "#https://pytorch.org/tutorials/beginner/nlp/sequence_models_tutorial.html\n",
    "#https://github.com/claravania/lstm-pytorch/blob/master/model.py\n",
    "#https://medium.com/@sonicboom8/sentiment-analysis-with-variable-length-sequences-in-pytorch-6241635ae130\n",
    "#https://github.com/hpanwar08/sentence-classification-pytorch/blob/master/Sentiment%20analysis%20pytorch.ipynb"
   ]
  },
  {
   "cell_type": "code",
   "execution_count": 3,
   "metadata": {
    "collapsed": true
   },
   "outputs": [],
   "source": [
    "#https://medium.com/@martinpella/how-to-use-pre-trained-word-embeddings-in-pytorch-71ca59249f76"
   ]
  },
  {
   "cell_type": "code",
   "execution_count": 4,
   "metadata": {
    "collapsed": true
   },
   "outputs": [],
   "source": [
    "#https://modelzoo.co/model/pytorch-nlp\n",
    "#http://anie.me/On-Torchtext/\n",
    "#https://readthedocs.org/projects/pytorchnlp/downloads/pdf/latest/\n",
    "#https://github.com/A-Jacobson/CNN_Sentence_Classification/blob/master/WordVectors.ipynb"
   ]
  },
  {
   "cell_type": "markdown",
   "metadata": {},
   "source": [
    "## <b> Data Processing<b>"
   ]
  },
  {
   "cell_type": "code",
   "execution_count": 5,
   "metadata": {
    "collapsed": false
   },
   "outputs": [],
   "source": [
    "train = pd.read_csv(\"../train_nn.csv\")"
   ]
  },
  {
   "cell_type": "code",
   "execution_count": 6,
   "metadata": {
    "collapsed": true
   },
   "outputs": [],
   "source": [
    "#create labels"
   ]
  },
  {
   "cell_type": "code",
   "execution_count": 7,
   "metadata": {
    "collapsed": false
   },
   "outputs": [],
   "source": [
    "labels = ['CAPS', 'Obscenity', 'Threat', 'hatespeech', 'namecalling', 'negprejudice', 'noneng', 'porn', 'stereotypes']\n",
    "\n",
    "for label in labels:\n",
    "    cols = [label + str(x) for x in range(1,8)]\n",
    "    train[label + '_num_yes'] = train[cols].sum(axis = 1)\n",
    "    train[label] = pd.Series(train[label + '_num_yes'] >= 2).astype(int)"
   ]
  },
  {
   "cell_type": "code",
   "execution_count": 8,
   "metadata": {
    "collapsed": false
   },
   "outputs": [
    {
     "data": {
      "text/plain": [
       "0    5465\n",
       "1     134\n",
       "Name: hatespeech, dtype: int64"
      ]
     },
     "execution_count": 8,
     "metadata": {},
     "output_type": "execute_result"
    }
   ],
   "source": [
    "train['hatespeech'].value_counts()"
   ]
  },
  {
   "cell_type": "code",
   "execution_count": 9,
   "metadata": {
    "collapsed": false
   },
   "outputs": [
    {
     "data": {
      "text/plain": [
       "0.02539492101579684"
      ]
     },
     "execution_count": 9,
     "metadata": {},
     "output_type": "execute_result"
    }
   ],
   "source": [
    "127/(127 + 4874) #previous ratio, before adding new tweets"
   ]
  },
  {
   "cell_type": "code",
   "execution_count": 10,
   "metadata": {
    "collapsed": false
   },
   "outputs": [
    {
     "data": {
      "text/plain": [
       "0.023932845150919806"
      ]
     },
     "execution_count": 10,
     "metadata": {},
     "output_type": "execute_result"
    }
   ],
   "source": [
    "134/(5465 + 134)"
   ]
  },
  {
   "cell_type": "code",
   "execution_count": 11,
   "metadata": {
    "collapsed": false
   },
   "outputs": [
    {
     "data": {
      "text/html": [
       "<div>\n",
       "<style>\n",
       "    .dataframe thead tr:only-child th {\n",
       "        text-align: right;\n",
       "    }\n",
       "\n",
       "    .dataframe thead th {\n",
       "        text-align: left;\n",
       "    }\n",
       "\n",
       "    .dataframe tbody tr th {\n",
       "        vertical-align: top;\n",
       "    }\n",
       "</style>\n",
       "<table border=\"1\" class=\"dataframe\">\n",
       "  <thead>\n",
       "    <tr style=\"text-align: right;\">\n",
       "      <th></th>\n",
       "      <th>hatespeech</th>\n",
       "      <th>clean_tweet</th>\n",
       "    </tr>\n",
       "  </thead>\n",
       "  <tbody>\n",
       "    <tr>\n",
       "      <th>1586</th>\n",
       "      <td>1</td>\n",
       "      <td>hahahaha fat transgender cunt</td>\n",
       "    </tr>\n",
       "  </tbody>\n",
       "</table>\n",
       "</div>"
      ],
      "text/plain": [
       "      hatespeech                    clean_tweet\n",
       "1586           1  hahahaha fat transgender cunt"
      ]
     },
     "execution_count": 11,
     "metadata": {},
     "output_type": "execute_result"
    }
   ],
   "source": [
    "train.loc[train.Tweet.str.contains(\"FAT TRANSGENDER\"), ['hatespeech', 'clean_tweet']]"
   ]
  },
  {
   "cell_type": "code",
   "execution_count": 12,
   "metadata": {
    "collapsed": false
   },
   "outputs": [],
   "source": [
    "train = train.loc[train['clean_tweet'].isnull() == False,]"
   ]
  },
  {
   "cell_type": "code",
   "execution_count": 13,
   "metadata": {
    "collapsed": false
   },
   "outputs": [],
   "source": [
    "train.reset_index(inplace = True, drop = True)"
   ]
  },
  {
   "cell_type": "code",
   "execution_count": 14,
   "metadata": {
    "collapsed": false
   },
   "outputs": [],
   "source": [
    "word2index = {}\n",
    "index2word = {}\n",
    "\n",
    "word2index['PAD'] = 0\n",
    "index2word[0] = 'PAD'\n",
    "\n",
    "word2index['UNK'] = 1\n",
    "index2word[1] = 'UNK'"
   ]
  },
  {
   "cell_type": "code",
   "execution_count": 15,
   "metadata": {
    "collapsed": false
   },
   "outputs": [],
   "source": [
    "vocab = Counter()\n",
    "\n",
    "for text in train.clean_tweet:\n",
    "    for word in text.split(' '):\n",
    "        vocab[word.lower()]+=1\n",
    "\n",
    "total_words = len(vocab)\n",
    "\n",
    "for i,word in enumerate(vocab):\n",
    "    word2index[word.lower()] = i+2\n",
    "    index2word[i+2] = word.lower()"
   ]
  },
  {
   "cell_type": "code",
   "execution_count": 16,
   "metadata": {
    "collapsed": true
   },
   "outputs": [],
   "source": [
    "total_words = total_words + 2"
   ]
  },
  {
   "cell_type": "code",
   "execution_count": 17,
   "metadata": {
    "collapsed": true
   },
   "outputs": [],
   "source": [
    "def load_glove(path):\n",
    "    \"\"\"\n",
    "    creates a dictionary mapping words to vectors from a file in glove format.\n",
    "    \"\"\"\n",
    "    with open(path) as f:\n",
    "        glove = {}\n",
    "        for line in f.readlines():\n",
    "            values = line.split()\n",
    "            word = values[0]\n",
    "            vector = np.array(values[1:], dtype='float32')\n",
    "            glove[word] = vector\n",
    "        return glove"
   ]
  },
  {
   "cell_type": "code",
   "execution_count": 18,
   "metadata": {
    "collapsed": false
   },
   "outputs": [
    {
     "name": "stdout",
     "output_type": "stream",
     "text": [
      "CPU times: user 1min 16s, sys: 22.3 s, total: 1min 38s\n",
      "Wall time: 1min 58s\n"
     ]
    }
   ],
   "source": [
    "glove_path = \"/Users/carolineroper/Desktop/Capstone Project/Neural Network/glove.twitter.27B/glove.twitter.27B.200d.txt\"\n",
    "%time glove = load_glove(glove_path)"
   ]
  },
  {
   "cell_type": "code",
   "execution_count": 19,
   "metadata": {
    "collapsed": false
   },
   "outputs": [
    {
     "data": {
      "text/plain": [
       "2938"
      ]
     },
     "execution_count": 19,
     "metadata": {},
     "output_type": "execute_result"
    }
   ],
   "source": [
    "word2index['hello']"
   ]
  },
  {
   "cell_type": "code",
   "execution_count": 20,
   "metadata": {
    "collapsed": false
   },
   "outputs": [
    {
     "data": {
      "text/plain": [
       "array([  3.46830010e-01,  -1.96119994e-01,  -3.49229991e-01,\n",
       "        -2.81580001e-01,  -7.56269991e-01,  -4.00349982e-02,\n",
       "         5.34219980e-01,   1.53270003e-03,  -2.19630003e-01,\n",
       "        -5.67080021e-01,  -7.51120001e-02,   3.90740007e-01,\n",
       "         1.92010000e-01,   4.80460003e-02,  -1.68009996e-01,\n",
       "        -1.91400006e-01,   1.21619999e-01,  -2.25130007e-01,\n",
       "         2.22759992e-02,  -2.76320010e-01,   1.07210003e-01,\n",
       "        -5.81910014e-02,  -1.76540002e-01,  -2.06199996e-02,\n",
       "        -3.97679992e-02,   1.26190007e-01,   1.89270005e-01,\n",
       "         1.70169994e-01,  -2.34529991e-02,  -4.23489988e-01,\n",
       "        -4.26400006e-02,  -2.81010002e-01,  -3.24609995e-01,\n",
       "         3.08699995e-01,   9.45290029e-02,   1.35590002e-01,\n",
       "        -5.02489984e-01,   3.00720006e-01,   1.58050001e-01,\n",
       "         5.50790012e-01,  -3.70050013e-01,  -2.17209995e-01,\n",
       "        -7.11619973e-01,   4.29749995e-01,  -1.24509996e-02,\n",
       "        -2.42750004e-01,  -6.29020035e-02,   4.37549986e-02,\n",
       "         5.90980016e-02,   2.15529993e-01,   3.40479985e-02,\n",
       "        -1.57350004e-01,  -4.47309986e-02,  -1.27189994e-01,\n",
       "         3.33469987e-01,   2.23859996e-01,   3.97159994e-01,\n",
       "         8.43819976e-02,  -4.70569991e-02,  -1.49430007e-01,\n",
       "         2.01399997e-02,  -5.13449982e-02,  -1.77820008e-02,\n",
       "        -4.85579997e-01,  -4.40770015e-02,   3.86900008e-01,\n",
       "        -3.51390004e-01,   8.89970005e-01,   6.69700027e-01,\n",
       "        -4.40119989e-02,   4.26730007e-01,  -1.96710005e-01,\n",
       "        -5.85529990e-02,   1.02069996e-01,  -3.70260000e-01,\n",
       "         2.96330005e-01,   4.60469991e-01,   3.56990010e-01,\n",
       "        -2.15639994e-01,   5.06760001e-01,   4.05409992e-01,\n",
       "         4.15380001e-01,   5.34810007e-01,   2.20500007e-01,\n",
       "         1.55780002e-01,  -5.70949972e-01,  -5.50019979e-01,\n",
       "         5.38770020e-01,   3.34190011e-01,  -3.31999987e-01,\n",
       "        -2.02110007e-01,  -3.72189999e-01,  -1.10299997e-01,\n",
       "         8.95290017e-01,  -2.10519999e-01,  -1.30119994e-01,\n",
       "        -2.42339998e-01,  -3.03470008e-02,   2.25569993e-01,\n",
       "         2.46030003e-01,  -4.70919997e-01,   6.57190010e-02,\n",
       "        -7.65509978e-02,  -2.37489998e-01,  -2.78149992e-01,\n",
       "         2.20500007e-01,   2.05669999e-01,   5.34839988e-01,\n",
       "        -1.17660001e-01,   8.30340013e-02,  -5.71230017e-02,\n",
       "        -1.76139995e-01,  -4.97150004e-01,   1.28289998e-01,\n",
       "        -1.52419999e-01,  -7.73880005e-01,  -7.81400025e-01,\n",
       "        -4.31719989e-01,   6.76060021e-01,   2.92690009e-01,\n",
       "         1.96710005e-01,   5.05530000e-01,  -1.89209998e-01,\n",
       "        -1.88999996e-01,   7.10150003e-02,  -3.93469989e-01,\n",
       "         7.74319982e-03,  -7.63300002e-01,  -4.18280005e-01,\n",
       "         4.38820004e-01,   8.99469972e-01,  -2.40669996e-01,\n",
       "         1.38630003e-01,   2.53309995e-01,  -1.08690001e-02,\n",
       "        -1.01340003e-01,  -3.43650013e-01,   7.19609976e-01,\n",
       "         1.68559998e-01,   9.60540026e-02,  -1.72350004e-01,\n",
       "        -5.26499987e-01,   1.96500003e-01,  -9.11900029e-02,\n",
       "        -1.76569998e-01,   1.48699999e-01,  -2.31759995e-02,\n",
       "         9.75740016e-01,   7.65380025e-01,  -2.87939996e-01,\n",
       "         3.57760012e-01,   1.43210003e-02,  -3.83780003e+00,\n",
       "        -1.78489998e-01,  -4.89069998e-01,   4.22560014e-02,\n",
       "        -6.94400012e-01,  -3.79290015e-01,  -4.33890000e-02,\n",
       "        -1.56560004e-01,   7.40360022e-01,  -3.70370001e-01,\n",
       "        -3.35020006e-01,  -5.39570004e-02,  -1.74779996e-01,\n",
       "        -6.73770010e-02,   4.20540005e-01,  -5.86589985e-02,\n",
       "        -2.42180005e-01,  -8.40779990e-02,  -3.03719997e-01,\n",
       "         1.35490000e-01,   2.70880014e-01,   4.79490012e-01,\n",
       "         3.33929993e-02,   7.09469974e-01,  -2.88120002e-01,\n",
       "         2.96270013e-01,  -4.10059988e-01,  -2.76690006e-01,\n",
       "        -1.70460001e-01,   3.84479985e-02,  -1.07420003e-02,\n",
       "         3.82499993e-01,   8.68320018e-02,  -1.78350005e-02,\n",
       "        -7.03899980e-01,   1.96139999e-02,   8.27580038e-03,\n",
       "         3.20300013e-01,   3.50510003e-03,   3.31299990e-01,\n",
       "         1.53259993e-01,  -2.20070004e-01,  -4.57010001e-01,\n",
       "        -1.77190006e-02,  -6.19970024e-01,  -5.20730019e-01,\n",
       "         8.22940022e-02,  -5.44780016e-01], dtype=float32)"
      ]
     },
     "execution_count": 20,
     "metadata": {},
     "output_type": "execute_result"
    }
   ],
   "source": [
    "glove['hello']"
   ]
  },
  {
   "cell_type": "code",
   "execution_count": 21,
   "metadata": {
    "collapsed": false
   },
   "outputs": [],
   "source": [
    "matrix_len = len(vocab) + 2\n",
    "weights_matrix = np.zeros((matrix_len, 200))\n",
    "words_found = 0\n",
    "\n",
    "for i, word in index2word.items():\n",
    "    try: \n",
    "        weights_matrix[i] = glove[index2word[i]]\n",
    "        words_found += 1\n",
    "    except KeyError:\n",
    "        weights_matrix[i] = np.random.rand(200)"
   ]
  },
  {
   "cell_type": "code",
   "execution_count": 22,
   "metadata": {
    "collapsed": false
   },
   "outputs": [
    {
     "data": {
      "text/plain": [
       "0.7569622051719238"
      ]
     },
     "execution_count": 22,
     "metadata": {},
     "output_type": "execute_result"
    }
   ],
   "source": [
    "words_found/len(vocab) #76% of words were found"
   ]
  },
  {
   "cell_type": "code",
   "execution_count": 23,
   "metadata": {
    "collapsed": false
   },
   "outputs": [],
   "source": [
    "weights_matrix[0, ] = np.zeros(200) #initialize pad embedding to zero"
   ]
  },
  {
   "cell_type": "code",
   "execution_count": 24,
   "metadata": {
    "collapsed": false
   },
   "outputs": [
    {
     "data": {
      "text/plain": [
       "array([  3.46830010e-01,  -1.96119994e-01,  -3.49229991e-01,\n",
       "        -2.81580001e-01,  -7.56269991e-01,  -4.00349982e-02,\n",
       "         5.34219980e-01,   1.53270003e-03,  -2.19630003e-01,\n",
       "        -5.67080021e-01,  -7.51120001e-02,   3.90740007e-01,\n",
       "         1.92010000e-01,   4.80460003e-02,  -1.68009996e-01,\n",
       "        -1.91400006e-01,   1.21619999e-01,  -2.25130007e-01,\n",
       "         2.22759992e-02,  -2.76320010e-01,   1.07210003e-01,\n",
       "        -5.81910014e-02,  -1.76540002e-01,  -2.06199996e-02,\n",
       "        -3.97679992e-02,   1.26190007e-01,   1.89270005e-01,\n",
       "         1.70169994e-01,  -2.34529991e-02,  -4.23489988e-01,\n",
       "        -4.26400006e-02,  -2.81010002e-01,  -3.24609995e-01,\n",
       "         3.08699995e-01,   9.45290029e-02,   1.35590002e-01,\n",
       "        -5.02489984e-01,   3.00720006e-01,   1.58050001e-01,\n",
       "         5.50790012e-01,  -3.70050013e-01,  -2.17209995e-01,\n",
       "        -7.11619973e-01,   4.29749995e-01,  -1.24509996e-02,\n",
       "        -2.42750004e-01,  -6.29020035e-02,   4.37549986e-02,\n",
       "         5.90980016e-02,   2.15529993e-01,   3.40479985e-02,\n",
       "        -1.57350004e-01,  -4.47309986e-02,  -1.27189994e-01,\n",
       "         3.33469987e-01,   2.23859996e-01,   3.97159994e-01,\n",
       "         8.43819976e-02,  -4.70569991e-02,  -1.49430007e-01,\n",
       "         2.01399997e-02,  -5.13449982e-02,  -1.77820008e-02,\n",
       "        -4.85579997e-01,  -4.40770015e-02,   3.86900008e-01,\n",
       "        -3.51390004e-01,   8.89970005e-01,   6.69700027e-01,\n",
       "        -4.40119989e-02,   4.26730007e-01,  -1.96710005e-01,\n",
       "        -5.85529990e-02,   1.02069996e-01,  -3.70260000e-01,\n",
       "         2.96330005e-01,   4.60469991e-01,   3.56990010e-01,\n",
       "        -2.15639994e-01,   5.06760001e-01,   4.05409992e-01,\n",
       "         4.15380001e-01,   5.34810007e-01,   2.20500007e-01,\n",
       "         1.55780002e-01,  -5.70949972e-01,  -5.50019979e-01,\n",
       "         5.38770020e-01,   3.34190011e-01,  -3.31999987e-01,\n",
       "        -2.02110007e-01,  -3.72189999e-01,  -1.10299997e-01,\n",
       "         8.95290017e-01,  -2.10519999e-01,  -1.30119994e-01,\n",
       "        -2.42339998e-01,  -3.03470008e-02,   2.25569993e-01,\n",
       "         2.46030003e-01,  -4.70919997e-01,   6.57190010e-02,\n",
       "        -7.65509978e-02,  -2.37489998e-01,  -2.78149992e-01,\n",
       "         2.20500007e-01,   2.05669999e-01,   5.34839988e-01,\n",
       "        -1.17660001e-01,   8.30340013e-02,  -5.71230017e-02,\n",
       "        -1.76139995e-01,  -4.97150004e-01,   1.28289998e-01,\n",
       "        -1.52419999e-01,  -7.73880005e-01,  -7.81400025e-01,\n",
       "        -4.31719989e-01,   6.76060021e-01,   2.92690009e-01,\n",
       "         1.96710005e-01,   5.05530000e-01,  -1.89209998e-01,\n",
       "        -1.88999996e-01,   7.10150003e-02,  -3.93469989e-01,\n",
       "         7.74319982e-03,  -7.63300002e-01,  -4.18280005e-01,\n",
       "         4.38820004e-01,   8.99469972e-01,  -2.40669996e-01,\n",
       "         1.38630003e-01,   2.53309995e-01,  -1.08690001e-02,\n",
       "        -1.01340003e-01,  -3.43650013e-01,   7.19609976e-01,\n",
       "         1.68559998e-01,   9.60540026e-02,  -1.72350004e-01,\n",
       "        -5.26499987e-01,   1.96500003e-01,  -9.11900029e-02,\n",
       "        -1.76569998e-01,   1.48699999e-01,  -2.31759995e-02,\n",
       "         9.75740016e-01,   7.65380025e-01,  -2.87939996e-01,\n",
       "         3.57760012e-01,   1.43210003e-02,  -3.83780003e+00,\n",
       "        -1.78489998e-01,  -4.89069998e-01,   4.22560014e-02,\n",
       "        -6.94400012e-01,  -3.79290015e-01,  -4.33890000e-02,\n",
       "        -1.56560004e-01,   7.40360022e-01,  -3.70370001e-01,\n",
       "        -3.35020006e-01,  -5.39570004e-02,  -1.74779996e-01,\n",
       "        -6.73770010e-02,   4.20540005e-01,  -5.86589985e-02,\n",
       "        -2.42180005e-01,  -8.40779990e-02,  -3.03719997e-01,\n",
       "         1.35490000e-01,   2.70880014e-01,   4.79490012e-01,\n",
       "         3.33929993e-02,   7.09469974e-01,  -2.88120002e-01,\n",
       "         2.96270013e-01,  -4.10059988e-01,  -2.76690006e-01,\n",
       "        -1.70460001e-01,   3.84479985e-02,  -1.07420003e-02,\n",
       "         3.82499993e-01,   8.68320018e-02,  -1.78350005e-02,\n",
       "        -7.03899980e-01,   1.96139999e-02,   8.27580038e-03,\n",
       "         3.20300013e-01,   3.50510003e-03,   3.31299990e-01,\n",
       "         1.53259993e-01,  -2.20070004e-01,  -4.57010001e-01,\n",
       "        -1.77190006e-02,  -6.19970024e-01,  -5.20730019e-01,\n",
       "         8.22940022e-02,  -5.44780016e-01])"
      ]
     },
     "execution_count": 24,
     "metadata": {},
     "output_type": "execute_result"
    }
   ],
   "source": [
    "weights_matrix[2938, ] #confirmed that at index \"hello\" we're seeing the glove vector for \"hello\""
   ]
  },
  {
   "cell_type": "code",
   "execution_count": 25,
   "metadata": {
    "collapsed": false,
    "scrolled": true
   },
   "outputs": [
    {
     "data": {
      "text/plain": [
       "14076"
      ]
     },
     "execution_count": 25,
     "metadata": {},
     "output_type": "execute_result"
    }
   ],
   "source": [
    "len(vocab.keys())"
   ]
  },
  {
   "cell_type": "code",
   "execution_count": 26,
   "metadata": {
    "collapsed": false,
    "scrolled": true
   },
   "outputs": [
    {
     "data": {
      "text/plain": [
       "(14078, 200)"
      ]
     },
     "execution_count": 26,
     "metadata": {},
     "output_type": "execute_result"
    }
   ],
   "source": [
    "weights_matrix.shape"
   ]
  },
  {
   "cell_type": "code",
   "execution_count": 27,
   "metadata": {
    "collapsed": false
   },
   "outputs": [],
   "source": [
    "def pad_data(s, length):\n",
    "    padded = np.zeros((length,), dtype = np.int64)\n",
    "    if len(s) > length: \n",
    "        padded = s[:length]\n",
    "    else:\n",
    "        padded[:len(s)] = s\n",
    "    return np.array(padded)"
   ]
  },
  {
   "cell_type": "code",
   "execution_count": 28,
   "metadata": {
    "collapsed": true
   },
   "outputs": [],
   "source": [
    "def get_index(x):\n",
    "    try:\n",
    "        return word2index[x]\n",
    "    except KeyError:\n",
    "        return 1"
   ]
  },
  {
   "cell_type": "code",
   "execution_count": 29,
   "metadata": {
    "collapsed": false
   },
   "outputs": [],
   "source": [
    "train['seq_len'] = [len(x.split(' ')) for x in train['clean_tweet']]\n",
    "\n",
    "train['numeric'] = [[get_index(y) for y in x.split(' ')] for x in train['clean_tweet']]\n",
    "\n",
    "train['padded_tweet'] = [pad_data(x, 25) for x in train.numeric]"
   ]
  },
  {
   "cell_type": "code",
   "execution_count": 30,
   "metadata": {
    "collapsed": false,
    "scrolled": true
   },
   "outputs": [
    {
     "data": {
      "text/plain": [
       "array([6292, 1151,  557, 6293,    0,    0,    0,    0,    0,    0,    0,\n",
       "          0,    0,    0,    0,    0,    0,    0,    0,    0,    0,    0,\n",
       "          0,    0,    0])"
      ]
     },
     "execution_count": 30,
     "metadata": {},
     "output_type": "execute_result"
    }
   ],
   "source": [
    "train.padded_tweet[1581]"
   ]
  },
  {
   "cell_type": "code",
   "execution_count": 31,
   "metadata": {
    "collapsed": false
   },
   "outputs": [
    {
     "data": {
      "text/plain": [
       "<matplotlib.axes._subplots.AxesSubplot at 0x130796f28>"
      ]
     },
     "execution_count": 31,
     "metadata": {},
     "output_type": "execute_result"
    },
    {
     "data": {
      "image/png": "[encoded data removed]",
      "text/plain": [
       "<matplotlib.figure.Figure at 0x130796908>"
      ]
     },
     "metadata": {},
     "output_type": "display_data"
    }
   ],
   "source": [
    "train.seq_len.hist()"
   ]
  },
  {
   "cell_type": "code",
   "execution_count": 32,
   "metadata": {
    "collapsed": true
   },
   "outputs": [],
   "source": [
    "#if we want validation accuracy to better resemble test accuracy, need to create vocab on training only"
   ]
  },
  {
   "cell_type": "code",
   "execution_count": 33,
   "metadata": {
    "collapsed": false
   },
   "outputs": [],
   "source": [
    "train_sub, validation = model_selection.train_test_split(train, test_size = 0.2, random_state = 123)"
   ]
  },
  {
   "cell_type": "code",
   "execution_count": 34,
   "metadata": {
    "collapsed": false
   },
   "outputs": [
    {
     "data": {
      "text/plain": [
       "(4467, 88)"
      ]
     },
     "execution_count": 34,
     "metadata": {},
     "output_type": "execute_result"
    }
   ],
   "source": [
    "train_sub.shape"
   ]
  },
  {
   "cell_type": "code",
   "execution_count": 35,
   "metadata": {
    "collapsed": false
   },
   "outputs": [],
   "source": [
    "# subclass the custom dataset class with torch.utils.data.Dataset\n",
    "# implement __len__ and __getitem__ function\n",
    "class VectorizeData(Dataset):\n",
    "    def __init__(self, df, label, maxlen=20):\n",
    "        self.df = df\n",
    "        self.label = label\n",
    "\n",
    "    def __len__(self):\n",
    "        return self.df.shape[0]\n",
    "    \n",
    "    def __getitem__(self, idx):\n",
    "        X = self.df.padded_tweet[idx]\n",
    "        y = self.df[self.label][idx]\n",
    "        lens = self.df.seq_len[idx]\n",
    "        return X,y,lens"
   ]
  },
  {
   "cell_type": "code",
   "execution_count": 36,
   "metadata": {
    "collapsed": false
   },
   "outputs": [],
   "source": [
    "train_sub.reset_index(inplace = True, drop = True)\n",
    "\n",
    "validation.reset_index(inplace = True, drop = True)"
   ]
  },
  {
   "cell_type": "code",
   "execution_count": 37,
   "metadata": {
    "collapsed": false
   },
   "outputs": [],
   "source": [
    "data = VectorizeData(train_sub, label = 'hatespeech')\n",
    "\n",
    "dl = DataLoader(data, batch_size = 32, shuffle = True)"
   ]
  },
  {
   "cell_type": "code",
   "execution_count": 38,
   "metadata": {
    "collapsed": true
   },
   "outputs": [],
   "source": [
    "def sort_batch(X, y, lengths):\n",
    "    lengths, indx = lengths.sort(dim=0, descending=True)\n",
    "    X = X[indx]\n",
    "    y = y[indx]\n",
    "    return X, y, lengths"
   ]
  },
  {
   "cell_type": "code",
   "execution_count": 39,
   "metadata": {
    "collapsed": false
   },
   "outputs": [],
   "source": [
    "class LSTMClassifier(nn.Module):\n",
    "    def __init__(self, weights, vocab_size, embedding_dim, hidden_dim, output_size, batch_size):\n",
    "        super(LSTMClassifier, self).__init__()\n",
    "        self.weights = weights\n",
    "        self.embedding_dim = embedding_dim\n",
    "        self.hidden_dim = hidden_dim\n",
    "        self.vocab_size = vocab_size\n",
    "        self.embedding = nn.Embedding(vocab_size, embedding_dim)\n",
    "        self.embedding.weight = nn.Parameter(self.weights)\n",
    "        self.lstm = nn.LSTM(embedding_dim, hidden_dim, num_layers=1)\n",
    "        self.hidden2out = nn.Linear(hidden_dim, output_size)\n",
    "        self.softmax = nn.LogSoftmax()\n",
    "        self.dropout_layer = nn.Dropout(p=0.2)\n",
    "        self.batch_size = batch_size\n",
    "    \n",
    "    def init_hidden(self, batch_size):\n",
    "        return(autograd.Variable(torch.randn(1, batch_size, self.hidden_dim)), \\\n",
    "               autograd.Variable(torch.randn(1, batch_size, self.hidden_dim)))\n",
    "\n",
    "    def forward(self, batch, lengths):\n",
    "        self.hidden = self.init_hidden(batch_size)\n",
    "        embeds = self.embedding(batch) \n",
    "        embeds = pack_padded_sequence(embeds, lengths)\n",
    "        outputs, (ht, ct) = self.lstm(embeds, self.hidden)\n",
    "        outputs, lengths = pad_packed_sequence(outputs)\n",
    "        # ht is the last hidden state of the sequences\n",
    "        # ht = (1 x batch_size x hidden_dim)\n",
    "        # ht[-1] = (batch_size x hidden_dim)\n",
    "        output = self.dropout_layer(ht[-1])\n",
    "        output = self.hidden2out(output)\n",
    "        output = self.softmax(output)\n",
    "        return output"
   ]
  },
  {
   "cell_type": "code",
   "execution_count": 40,
   "metadata": {
    "collapsed": true
   },
   "outputs": [],
   "source": [
    "hidden_size = 200 \n",
    "num_classes = 2\n",
    "learning_rate = 0.001\n",
    "batch_size = 32\n",
    "weights = torch.FloatTensor(weights_matrix)"
   ]
  },
  {
   "cell_type": "code",
   "execution_count": 41,
   "metadata": {
    "collapsed": false,
    "scrolled": false
   },
   "outputs": [],
   "source": [
    "def get_validation_loss(validation_data_loader, model):\n",
    "    predictions = []\n",
    "    pred_labels = []\n",
    "    #get training predictions\n",
    "    it = iter(validation_data_loader)\n",
    "    num_batch = len(validation_data_loader) - 1\n",
    "    # Loop over all batches\n",
    "    for i in range(num_batch):\n",
    "        batch_x,batch_y,batch_len = next(it)\n",
    "        batch_x,batch_y,batch_len = sort_batch(batch_x,batch_y,batch_len)\n",
    "        tweets = Variable(batch_x.transpose(0,1))\n",
    "        labels = Variable(batch_y)\n",
    "        lengths = batch_len.numpy()\n",
    "        outputs = model(tweets, lengths)\n",
    "        _, pred = torch.max(outputs.data, 1)\n",
    "        predictions.extend(list(pred.numpy()))\n",
    "        pred_labels.extend(list(labels.data.numpy()))\n",
    "    return (f1_score(predictions, pred_labels))"
   ]
  },
  {
   "cell_type": "code",
   "execution_count": 42,
   "metadata": {
    "collapsed": false
   },
   "outputs": [
    {
     "data": {
      "text/plain": [
       "0    5450\n",
       "1     134\n",
       "Name: hatespeech, dtype: int64"
      ]
     },
     "execution_count": 42,
     "metadata": {},
     "output_type": "execute_result"
    }
   ],
   "source": [
    "train.hatespeech.value_counts()"
   ]
  },
  {
   "cell_type": "code",
   "execution_count": 43,
   "metadata": {
    "collapsed": true
   },
   "outputs": [],
   "source": [
    "net = LSTMClassifier(weights, total_words, hidden_size, hidden_size, num_classes, batch_size)\n",
    "\n",
    "# Loss and Optimizer\n",
    "criterion = nn.NLLLoss(weight = torch.Tensor([1/41,1]))  \n",
    "optimizer = torch.optim.Adam(net.parameters(), lr=learning_rate)\n",
    "\n",
    "#Validation Data\n",
    "val = VectorizeData(validation, label = 'hatespeech')\n",
    "dl2 = DataLoader(val, batch_size = 32, shuffle = False)\n",
    "\n",
    "losses = []\n",
    "val_scores = []"
   ]
  },
  {
   "cell_type": "code",
   "execution_count": 44,
   "metadata": {
    "collapsed": false
   },
   "outputs": [
    {
     "name": "stdout",
     "output_type": "stream",
     "text": [
      "Epoch [1/30], Step [6/174], Loss: 0.6040\n",
      "Epoch [1/30], Step [12/174], Loss: 0.5602\n",
      "Epoch [1/30], Step [18/174], Loss: 0.3809\n",
      "Epoch [1/30], Step [24/174], Loss: 1.3662\n",
      "Epoch [1/30], Step [30/174], Loss: 0.1468\n",
      "Epoch [1/30], Step [36/174], Loss: 1.0133\n",
      "Epoch [1/30], Step [42/174], Loss: 0.8776\n",
      "Epoch [1/30], Step [48/174], Loss: 0.7293\n",
      "Epoch [1/30], Step [54/174], Loss: 0.6186\n",
      "Epoch [1/30], Step [60/174], Loss: 0.7650\n",
      "Epoch [1/30], Step [66/174], Loss: 0.3344\n",
      "Epoch [1/30], Step [72/174], Loss: 0.3956\n",
      "Epoch [1/30], Step [78/174], Loss: 0.3785\n",
      "Epoch [1/30], Step [84/174], Loss: 0.2866\n",
      "Epoch [1/30], Step [90/174], Loss: 0.1174\n",
      "Epoch [1/30], Step [96/174], Loss: 0.0224\n",
      "Epoch [1/30], Step [102/174], Loss: 0.0379\n",
      "Epoch [1/30], Step [108/174], Loss: 0.0615\n",
      "Epoch [1/30], Step [114/174], Loss: 0.0604\n",
      "Epoch [1/30], Step [120/174], Loss: 0.2227\n",
      "Epoch [1/30], Step [126/174], Loss: 0.0597\n",
      "Epoch [1/30], Step [132/174], Loss: 0.1094\n",
      "Epoch [1/30], Step [138/174], Loss: 1.1911\n",
      "Epoch [2/30], Step [6/174], Loss: 0.0382\n",
      "Epoch [2/30], Step [12/174], Loss: 0.0412\n",
      "Epoch [2/30], Step [18/174], Loss: 0.0376\n",
      "Epoch [2/30], Step [24/174], Loss: 0.0529\n",
      "Epoch [2/30], Step [30/174], Loss: 1.7194\n",
      "Epoch [2/30], Step [36/174], Loss: 0.0957\n",
      "Epoch [2/30], Step [42/174], Loss: 0.1331\n",
      "Epoch [2/30], Step [48/174], Loss: 0.3227\n",
      "Epoch [2/30], Step [54/174], Loss: 0.0374\n",
      "Epoch [2/30], Step [60/174], Loss: 1.2325\n",
      "Epoch [2/30], Step [66/174], Loss: 0.0532\n",
      "Epoch [2/30], Step [72/174], Loss: 1.4132\n",
      "Epoch [2/30], Step [78/174], Loss: 1.2462\n",
      "Epoch [2/30], Step [84/174], Loss: 0.1665\n",
      "Epoch [2/30], Step [90/174], Loss: 0.1581\n",
      "Epoch [2/30], Step [96/174], Loss: 1.1009\n",
      "Epoch [2/30], Step [102/174], Loss: 1.0011\n",
      "Epoch [2/30], Step [108/174], Loss: 0.0227\n",
      "Epoch [2/30], Step [114/174], Loss: 1.8667\n",
      "Epoch [2/30], Step [120/174], Loss: 1.3294\n",
      "Epoch [2/30], Step [126/174], Loss: 0.0725\n",
      "Epoch [2/30], Step [132/174], Loss: 0.2198\n",
      "Epoch [2/30], Step [138/174], Loss: 0.0942\n",
      "Epoch [3/30], Step [6/174], Loss: 0.1007\n",
      "Epoch [3/30], Step [12/174], Loss: 0.0809\n",
      "Epoch [3/30], Step [18/174], Loss: 0.0217\n",
      "Epoch [3/30], Step [24/174], Loss: 0.0577\n",
      "Epoch [3/30], Step [30/174], Loss: 0.0871\n",
      "Epoch [3/30], Step [36/174], Loss: 0.0267\n",
      "Epoch [3/30], Step [42/174], Loss: 0.1365\n",
      "Epoch [3/30], Step [48/174], Loss: 0.0262\n",
      "Epoch [3/30], Step [54/174], Loss: 0.3725\n",
      "Epoch [3/30], Step [60/174], Loss: 0.1532\n",
      "Epoch [3/30], Step [66/174], Loss: 0.0805\n",
      "Epoch [3/30], Step [72/174], Loss: 0.0798\n",
      "Epoch [3/30], Step [78/174], Loss: 1.1118\n",
      "Epoch [3/30], Step [84/174], Loss: 0.1396\n",
      "Epoch [3/30], Step [90/174], Loss: 0.0389\n",
      "Epoch [3/30], Step [96/174], Loss: 0.2224\n",
      "Epoch [3/30], Step [102/174], Loss: 0.8273\n",
      "Epoch [3/30], Step [108/174], Loss: 0.0219\n",
      "Epoch [3/30], Step [114/174], Loss: 0.0154\n",
      "Epoch [3/30], Step [120/174], Loss: 0.1847\n",
      "Epoch [3/30], Step [126/174], Loss: 2.1823\n",
      "Epoch [3/30], Step [132/174], Loss: 0.0392\n",
      "Epoch [3/30], Step [138/174], Loss: 0.0267\n",
      "Epoch [4/30], Step [6/174], Loss: 1.5631\n",
      "Epoch [4/30], Step [12/174], Loss: 0.0325\n",
      "Epoch [4/30], Step [18/174], Loss: 0.2472\n",
      "Epoch [4/30], Step [24/174], Loss: 0.0342\n",
      "Epoch [4/30], Step [30/174], Loss: 0.0388\n",
      "Epoch [4/30], Step [36/174], Loss: 1.7238\n",
      "Epoch [4/30], Step [42/174], Loss: 0.0235\n",
      "Epoch [4/30], Step [48/174], Loss: 0.0230\n",
      "Epoch [4/30], Step [54/174], Loss: 0.0111\n",
      "Epoch [4/30], Step [60/174], Loss: 0.0212\n",
      "Epoch [4/30], Step [66/174], Loss: 1.1144\n",
      "Epoch [4/30], Step [72/174], Loss: 0.0230\n",
      "Epoch [4/30], Step [78/174], Loss: 0.0513\n",
      "Epoch [4/30], Step [84/174], Loss: 0.0074\n",
      "Epoch [4/30], Step [90/174], Loss: 0.0343\n",
      "Epoch [4/30], Step [96/174], Loss: 0.0224\n",
      "Epoch [4/30], Step [102/174], Loss: 0.1621\n",
      "Epoch [4/30], Step [108/174], Loss: 0.0242\n",
      "Epoch [4/30], Step [114/174], Loss: 0.1079\n",
      "Epoch [4/30], Step [120/174], Loss: 0.0209\n",
      "Epoch [4/30], Step [126/174], Loss: 0.8502\n",
      "Epoch [4/30], Step [132/174], Loss: 0.0342\n",
      "Epoch [4/30], Step [138/174], Loss: 0.0202\n",
      "Epoch [5/30], Step [6/174], Loss: 0.0108\n",
      "Epoch [5/30], Step [12/174], Loss: 0.3105\n",
      "Epoch [5/30], Step [18/174], Loss: 0.0200\n",
      "Epoch [5/30], Step [24/174], Loss: 0.1918\n",
      "Epoch [5/30], Step [30/174], Loss: 0.1109\n",
      "Epoch [5/30], Step [36/174], Loss: 0.2344\n",
      "Epoch [5/30], Step [42/174], Loss: 0.0092\n",
      "Epoch [5/30], Step [48/174], Loss: 0.0101\n",
      "Epoch [5/30], Step [54/174], Loss: 0.0134\n",
      "Epoch [5/30], Step [60/174], Loss: 0.0222\n",
      "Epoch [5/30], Step [66/174], Loss: 0.1346\n",
      "Epoch [5/30], Step [72/174], Loss: 0.1964\n",
      "Epoch [5/30], Step [78/174], Loss: 0.0056\n",
      "Epoch [5/30], Step [84/174], Loss: 0.0004\n",
      "Epoch [5/30], Step [90/174], Loss: 0.0038\n",
      "Epoch [5/30], Step [96/174], Loss: 0.0125\n",
      "Epoch [5/30], Step [102/174], Loss: 0.0291\n",
      "Epoch [5/30], Step [108/174], Loss: 0.1112\n",
      "Epoch [5/30], Step [114/174], Loss: 0.0573\n",
      "Epoch [5/30], Step [120/174], Loss: 0.0176\n",
      "Epoch [5/30], Step [126/174], Loss: 0.0020\n",
      "Epoch [5/30], Step [132/174], Loss: 0.0037\n",
      "Epoch [5/30], Step [138/174], Loss: 0.0022\n",
      "Epoch [6/30], Step [6/174], Loss: 0.0209\n",
      "Epoch [6/30], Step [12/174], Loss: 0.0141\n",
      "Epoch [6/30], Step [18/174], Loss: 0.0049\n",
      "Epoch [6/30], Step [24/174], Loss: 0.0015\n",
      "Epoch [6/30], Step [30/174], Loss: 0.0296\n",
      "Epoch [6/30], Step [36/174], Loss: 0.0075\n",
      "Epoch [6/30], Step [42/174], Loss: 0.0062\n",
      "Epoch [6/30], Step [48/174], Loss: 0.0084\n",
      "Epoch [6/30], Step [54/174], Loss: 0.0004\n",
      "Epoch [6/30], Step [60/174], Loss: 0.0648\n",
      "Epoch [6/30], Step [66/174], Loss: 0.2182\n",
      "Epoch [6/30], Step [72/174], Loss: 0.0024\n",
      "Epoch [6/30], Step [78/174], Loss: 0.0001\n",
      "Epoch [6/30], Step [84/174], Loss: 0.0699\n",
      "Epoch [6/30], Step [90/174], Loss: 0.0014\n",
      "Epoch [6/30], Step [96/174], Loss: 0.0133\n",
      "Epoch [6/30], Step [102/174], Loss: 0.0081\n",
      "Epoch [6/30], Step [108/174], Loss: 0.0063\n",
      "Epoch [6/30], Step [114/174], Loss: 0.0057\n",
      "Epoch [6/30], Step [120/174], Loss: 0.4122\n",
      "Epoch [6/30], Step [126/174], Loss: 0.0151\n",
      "Epoch [6/30], Step [132/174], Loss: 0.0107\n",
      "Epoch [6/30], Step [138/174], Loss: 0.0890\n",
      "Epoch [7/30], Step [6/174], Loss: 0.0000\n",
      "Epoch [7/30], Step [12/174], Loss: 0.0001\n",
      "Epoch [7/30], Step [18/174], Loss: 0.0015\n",
      "Epoch [7/30], Step [24/174], Loss: 0.0079\n",
      "Epoch [7/30], Step [30/174], Loss: 0.0033\n",
      "Epoch [7/30], Step [36/174], Loss: 0.0007\n",
      "Epoch [7/30], Step [42/174], Loss: 0.0042\n",
      "Epoch [7/30], Step [48/174], Loss: 0.0006\n",
      "Epoch [7/30], Step [54/174], Loss: 0.1749\n",
      "Epoch [7/30], Step [60/174], Loss: 0.0055\n",
      "Epoch [7/30], Step [66/174], Loss: 0.0260\n",
      "Epoch [7/30], Step [72/174], Loss: 0.0199\n",
      "Epoch [7/30], Step [78/174], Loss: 0.0010\n",
      "Epoch [7/30], Step [84/174], Loss: 0.0384\n",
      "Epoch [7/30], Step [90/174], Loss: 0.0007\n",
      "Epoch [7/30], Step [96/174], Loss: 2.5901\n",
      "Epoch [7/30], Step [102/174], Loss: 0.0166\n",
      "Epoch [7/30], Step [108/174], Loss: 0.0005\n",
      "Epoch [7/30], Step [114/174], Loss: 0.0041\n",
      "Epoch [7/30], Step [120/174], Loss: 0.0026\n",
      "Epoch [7/30], Step [126/174], Loss: 0.0971\n",
      "Epoch [7/30], Step [132/174], Loss: 0.0084\n",
      "Epoch [7/30], Step [138/174], Loss: 0.0008\n",
      "Epoch [8/30], Step [6/174], Loss: 0.0008\n",
      "Epoch [8/30], Step [12/174], Loss: 0.0028\n",
      "Epoch [8/30], Step [18/174], Loss: 0.0030\n",
      "Epoch [8/30], Step [24/174], Loss: 0.0003\n",
      "Epoch [8/30], Step [30/174], Loss: 0.0010\n",
      "Epoch [8/30], Step [36/174], Loss: 0.0022\n",
      "Epoch [8/30], Step [42/174], Loss: 0.0043\n",
      "Epoch [8/30], Step [48/174], Loss: 0.0018\n",
      "Epoch [8/30], Step [54/174], Loss: 0.0048\n",
      "Epoch [8/30], Step [60/174], Loss: 0.0016\n",
      "Epoch [8/30], Step [66/174], Loss: 0.0090\n",
      "Epoch [8/30], Step [72/174], Loss: 0.0014\n",
      "Epoch [8/30], Step [78/174], Loss: 0.0022\n",
      "Epoch [8/30], Step [84/174], Loss: 0.0004\n",
      "Epoch [8/30], Step [90/174], Loss: 0.0131\n",
      "Epoch [8/30], Step [96/174], Loss: 0.0005\n",
      "Epoch [8/30], Step [102/174], Loss: 0.0008\n",
      "Epoch [8/30], Step [108/174], Loss: 0.0014\n",
      "Epoch [8/30], Step [114/174], Loss: 0.0005\n",
      "Epoch [8/30], Step [120/174], Loss: 0.0018\n",
      "Epoch [8/30], Step [126/174], Loss: 0.0001\n",
      "Epoch [8/30], Step [132/174], Loss: 0.0171\n",
      "Epoch [8/30], Step [138/174], Loss: 0.0008\n",
      "Epoch [9/30], Step [6/174], Loss: 0.1341\n",
      "Epoch [9/30], Step [12/174], Loss: 0.0050\n",
      "Epoch [9/30], Step [18/174], Loss: 0.0006\n",
      "Epoch [9/30], Step [24/174], Loss: 0.0012\n",
      "Epoch [9/30], Step [30/174], Loss: 0.0027\n",
      "Epoch [9/30], Step [36/174], Loss: 0.0002\n",
      "Epoch [9/30], Step [42/174], Loss: 0.0014\n",
      "Epoch [9/30], Step [48/174], Loss: 0.0083\n",
      "Epoch [9/30], Step [54/174], Loss: 0.0045\n",
      "Epoch [9/30], Step [60/174], Loss: 0.0013\n",
      "Epoch [9/30], Step [66/174], Loss: 0.1118\n",
      "Epoch [9/30], Step [72/174], Loss: 0.0121\n",
      "Epoch [9/30], Step [78/174], Loss: 0.0193\n",
      "Epoch [9/30], Step [84/174], Loss: 0.0047\n",
      "Epoch [9/30], Step [90/174], Loss: 0.0001\n",
      "Epoch [9/30], Step [96/174], Loss: 0.0004\n",
      "Epoch [9/30], Step [102/174], Loss: 0.0000\n",
      "Epoch [9/30], Step [108/174], Loss: 0.1648\n",
      "Epoch [9/30], Step [114/174], Loss: 0.0012\n",
      "Epoch [9/30], Step [120/174], Loss: 0.0018\n",
      "Epoch [9/30], Step [126/174], Loss: 0.0001\n",
      "Epoch [9/30], Step [132/174], Loss: 0.0001\n",
      "Epoch [9/30], Step [138/174], Loss: 0.0002\n",
      "Epoch [10/30], Step [6/174], Loss: 0.0011\n",
      "Epoch [10/30], Step [12/174], Loss: 0.0031\n",
      "Epoch [10/30], Step [18/174], Loss: 0.0012\n",
      "Epoch [10/30], Step [24/174], Loss: 0.0023\n",
      "Epoch [10/30], Step [30/174], Loss: 0.0021\n",
      "Epoch [10/30], Step [36/174], Loss: 0.0045\n",
      "Epoch [10/30], Step [42/174], Loss: 0.0030\n",
      "Epoch [10/30], Step [48/174], Loss: 0.0002\n",
      "Epoch [10/30], Step [54/174], Loss: 0.0014\n",
      "Epoch [10/30], Step [60/174], Loss: 0.0008\n",
      "Epoch [10/30], Step [66/174], Loss: 0.0005\n",
      "Epoch [10/30], Step [72/174], Loss: 0.0011\n",
      "Epoch [10/30], Step [78/174], Loss: 0.0005\n",
      "Epoch [10/30], Step [84/174], Loss: 0.0003\n",
      "Epoch [10/30], Step [90/174], Loss: 0.0007\n",
      "Epoch [10/30], Step [96/174], Loss: 0.0001\n",
      "Epoch [10/30], Step [102/174], Loss: 0.0003\n",
      "Epoch [10/30], Step [108/174], Loss: 0.0910\n",
      "Epoch [10/30], Step [114/174], Loss: 0.0023\n",
      "Epoch [10/30], Step [120/174], Loss: 0.0030\n",
      "Epoch [10/30], Step [126/174], Loss: 0.0002\n",
      "Epoch [10/30], Step [132/174], Loss: 0.0063\n",
      "Epoch [10/30], Step [138/174], Loss: 0.0008\n",
      "Epoch [11/30], Step [6/174], Loss: 0.0011\n",
      "Epoch [11/30], Step [12/174], Loss: 0.0014\n",
      "Epoch [11/30], Step [18/174], Loss: 0.0011\n",
      "Epoch [11/30], Step [24/174], Loss: 0.0226\n",
      "Epoch [11/30], Step [30/174], Loss: 0.0002\n",
      "Epoch [11/30], Step [36/174], Loss: 0.0002\n",
      "Epoch [11/30], Step [42/174], Loss: 0.0001\n",
      "Epoch [11/30], Step [48/174], Loss: 0.0097\n",
      "Epoch [11/30], Step [54/174], Loss: 0.0003\n",
      "Epoch [11/30], Step [60/174], Loss: 0.0005\n",
      "Epoch [11/30], Step [66/174], Loss: 0.0002\n",
      "Epoch [11/30], Step [72/174], Loss: 0.0002\n",
      "Epoch [11/30], Step [78/174], Loss: 0.0002\n",
      "Epoch [11/30], Step [84/174], Loss: 0.0001\n",
      "Epoch [11/30], Step [90/174], Loss: 0.0001\n",
      "Epoch [11/30], Step [96/174], Loss: 0.0497\n",
      "Epoch [11/30], Step [102/174], Loss: 0.1311\n",
      "Epoch [11/30], Step [108/174], Loss: 0.0002\n",
      "Epoch [11/30], Step [114/174], Loss: 0.0001\n",
      "Epoch [11/30], Step [120/174], Loss: 0.0001\n",
      "Epoch [11/30], Step [126/174], Loss: 0.0008\n",
      "Epoch [11/30], Step [132/174], Loss: 0.3300\n",
      "Epoch [11/30], Step [138/174], Loss: 0.0079\n",
      "Epoch [12/30], Step [6/174], Loss: 0.0001\n",
      "Epoch [12/30], Step [12/174], Loss: 0.0004\n",
      "Epoch [12/30], Step [18/174], Loss: 0.0003\n",
      "Epoch [12/30], Step [24/174], Loss: 0.0003\n",
      "Epoch [12/30], Step [30/174], Loss: 0.0118\n",
      "Epoch [12/30], Step [36/174], Loss: 0.0750\n",
      "Epoch [12/30], Step [42/174], Loss: 0.0007\n",
      "Epoch [12/30], Step [48/174], Loss: 0.0002\n",
      "Epoch [12/30], Step [54/174], Loss: 0.0001\n",
      "Epoch [12/30], Step [60/174], Loss: 0.0002\n",
      "Epoch [12/30], Step [66/174], Loss: 0.0002\n",
      "Epoch [12/30], Step [72/174], Loss: 0.0001\n",
      "Epoch [12/30], Step [78/174], Loss: 0.0015\n",
      "Epoch [12/30], Step [84/174], Loss: 0.0038\n",
      "Epoch [12/30], Step [90/174], Loss: 0.0004\n",
      "Epoch [12/30], Step [96/174], Loss: 0.0004\n",
      "Epoch [12/30], Step [102/174], Loss: 0.0011\n",
      "Epoch [12/30], Step [108/174], Loss: 0.0029\n",
      "Epoch [12/30], Step [114/174], Loss: 0.0036\n",
      "Epoch [12/30], Step [120/174], Loss: 0.0006\n",
      "Epoch [12/30], Step [126/174], Loss: 0.0001\n",
      "Epoch [12/30], Step [132/174], Loss: 0.0006\n",
      "Epoch [12/30], Step [138/174], Loss: 0.0005\n",
      "Epoch [13/30], Step [6/174], Loss: 0.0001\n",
      "Epoch [13/30], Step [12/174], Loss: 0.0009\n",
      "Epoch [13/30], Step [18/174], Loss: 0.0035\n",
      "Epoch [13/30], Step [24/174], Loss: 0.0004\n",
      "Epoch [13/30], Step [30/174], Loss: 0.0005\n",
      "Epoch [13/30], Step [36/174], Loss: 0.0003\n",
      "Epoch [13/30], Step [42/174], Loss: 0.0007\n",
      "Epoch [13/30], Step [48/174], Loss: 0.0005\n",
      "Epoch [13/30], Step [54/174], Loss: 0.0003\n",
      "Epoch [13/30], Step [60/174], Loss: 0.0018\n",
      "Epoch [13/30], Step [66/174], Loss: 0.0001\n",
      "Epoch [13/30], Step [72/174], Loss: 0.0002\n",
      "Epoch [13/30], Step [78/174], Loss: 0.0009\n",
      "Epoch [13/30], Step [84/174], Loss: 0.0001\n",
      "Epoch [13/30], Step [90/174], Loss: 0.0065\n",
      "Epoch [13/30], Step [96/174], Loss: 0.0005\n",
      "Epoch [13/30], Step [102/174], Loss: 0.0004\n",
      "Epoch [13/30], Step [108/174], Loss: 0.0184\n",
      "Epoch [13/30], Step [114/174], Loss: 0.0011\n",
      "Epoch [13/30], Step [120/174], Loss: 0.0007\n",
      "Epoch [13/30], Step [126/174], Loss: 0.0002\n",
      "Epoch [13/30], Step [132/174], Loss: 0.0000\n",
      "Epoch [13/30], Step [138/174], Loss: 0.0001\n",
      "Epoch [14/30], Step [6/174], Loss: 0.0011\n",
      "Epoch [14/30], Step [12/174], Loss: 0.0001\n",
      "Epoch [14/30], Step [18/174], Loss: 0.0010\n",
      "Epoch [14/30], Step [24/174], Loss: 0.0015\n",
      "Epoch [14/30], Step [30/174], Loss: 0.0003\n",
      "Epoch [14/30], Step [36/174], Loss: 0.0001\n",
      "Epoch [14/30], Step [42/174], Loss: 0.0001\n",
      "Epoch [14/30], Step [48/174], Loss: 0.0733\n",
      "Epoch [14/30], Step [54/174], Loss: 0.0006\n",
      "Epoch [14/30], Step [60/174], Loss: 0.0003\n",
      "Epoch [14/30], Step [66/174], Loss: 0.0000\n",
      "Epoch [14/30], Step [72/174], Loss: 0.0015\n",
      "Epoch [14/30], Step [78/174], Loss: 0.0001\n",
      "Epoch [14/30], Step [84/174], Loss: 0.0007\n",
      "Epoch [14/30], Step [90/174], Loss: 0.0002\n",
      "Epoch [14/30], Step [96/174], Loss: 0.0001\n",
      "Epoch [14/30], Step [102/174], Loss: 0.0005\n",
      "Epoch [14/30], Step [108/174], Loss: 0.0033\n",
      "Epoch [14/30], Step [114/174], Loss: 0.0006\n",
      "Epoch [14/30], Step [120/174], Loss: 0.0021\n",
      "Epoch [14/30], Step [126/174], Loss: 0.2260\n",
      "Epoch [14/30], Step [132/174], Loss: 0.0003\n",
      "Epoch [14/30], Step [138/174], Loss: 0.0088\n",
      "Epoch [15/30], Step [6/174], Loss: 0.0378\n",
      "Epoch [15/30], Step [12/174], Loss: 0.0009\n",
      "Epoch [15/30], Step [18/174], Loss: 0.0003\n",
      "Epoch [15/30], Step [24/174], Loss: 0.0004\n",
      "Epoch [15/30], Step [30/174], Loss: 0.0001\n",
      "Epoch [15/30], Step [36/174], Loss: 0.0002\n",
      "Epoch [15/30], Step [42/174], Loss: 0.0001\n",
      "Epoch [15/30], Step [48/174], Loss: 0.0009\n",
      "Epoch [15/30], Step [54/174], Loss: 0.0016\n",
      "Epoch [15/30], Step [60/174], Loss: 0.0003\n",
      "Epoch [15/30], Step [66/174], Loss: 0.0000\n",
      "Epoch [15/30], Step [72/174], Loss: 0.0004\n",
      "Epoch [15/30], Step [78/174], Loss: 0.0009\n",
      "Epoch [15/30], Step [84/174], Loss: 0.0012\n",
      "Epoch [15/30], Step [90/174], Loss: 0.0002\n",
      "Epoch [15/30], Step [96/174], Loss: 0.0003\n",
      "Epoch [15/30], Step [102/174], Loss: 0.0010\n",
      "Epoch [15/30], Step [108/174], Loss: 0.0770\n",
      "Epoch [15/30], Step [114/174], Loss: 0.0002\n",
      "Epoch [15/30], Step [120/174], Loss: 0.0002\n",
      "Epoch [15/30], Step [126/174], Loss: 0.0001\n",
      "Epoch [15/30], Step [132/174], Loss: 0.0002\n",
      "Epoch [15/30], Step [138/174], Loss: 0.0008\n",
      "Epoch [16/30], Step [6/174], Loss: 0.0003\n",
      "Epoch [16/30], Step [12/174], Loss: 0.0002\n",
      "Epoch [16/30], Step [18/174], Loss: 0.0007\n",
      "Epoch [16/30], Step [24/174], Loss: 0.0017\n",
      "Epoch [16/30], Step [30/174], Loss: 0.0001\n",
      "Epoch [16/30], Step [36/174], Loss: 0.1211\n",
      "Epoch [16/30], Step [42/174], Loss: 0.0000\n",
      "Epoch [16/30], Step [48/174], Loss: 0.0001\n",
      "Epoch [16/30], Step [54/174], Loss: 0.0404\n",
      "Epoch [16/30], Step [60/174], Loss: 0.0053\n",
      "Epoch [16/30], Step [66/174], Loss: 0.0001\n",
      "Epoch [16/30], Step [72/174], Loss: 0.0003\n",
      "Epoch [16/30], Step [78/174], Loss: 0.0000\n",
      "Epoch [16/30], Step [84/174], Loss: 0.0034\n",
      "Epoch [16/30], Step [90/174], Loss: 0.0000\n",
      "Epoch [16/30], Step [96/174], Loss: 0.0000\n",
      "Epoch [16/30], Step [102/174], Loss: 0.0001\n",
      "Epoch [16/30], Step [108/174], Loss: 0.0105\n",
      "Epoch [16/30], Step [114/174], Loss: 0.0001\n",
      "Epoch [16/30], Step [120/174], Loss: 0.0096\n",
      "Epoch [16/30], Step [126/174], Loss: 0.0001\n",
      "Epoch [16/30], Step [132/174], Loss: 0.0007\n",
      "Epoch [16/30], Step [138/174], Loss: 0.0037\n",
      "Epoch [17/30], Step [6/174], Loss: 0.0000\n",
      "Epoch [17/30], Step [12/174], Loss: 0.0024\n",
      "Epoch [17/30], Step [18/174], Loss: 0.0018\n",
      "Epoch [17/30], Step [24/174], Loss: 0.0944\n",
      "Epoch [17/30], Step [30/174], Loss: 0.0000\n",
      "Epoch [17/30], Step [36/174], Loss: 0.0004\n",
      "Epoch [17/30], Step [42/174], Loss: 0.0019\n",
      "Epoch [17/30], Step [48/174], Loss: 0.0000\n",
      "Epoch [17/30], Step [54/174], Loss: 0.0000\n",
      "Epoch [17/30], Step [60/174], Loss: 0.0000\n",
      "Epoch [17/30], Step [66/174], Loss: 0.0026\n",
      "Epoch [17/30], Step [72/174], Loss: 0.0002\n",
      "Epoch [17/30], Step [78/174], Loss: 0.0002\n",
      "Epoch [17/30], Step [84/174], Loss: 0.0001\n",
      "Epoch [17/30], Step [90/174], Loss: 0.1117\n",
      "Epoch [17/30], Step [96/174], Loss: 0.0010\n",
      "Epoch [17/30], Step [102/174], Loss: 0.0000\n",
      "Epoch [17/30], Step [108/174], Loss: 0.0002\n",
      "Epoch [17/30], Step [114/174], Loss: 0.0001\n",
      "Epoch [17/30], Step [120/174], Loss: 0.0002\n",
      "Epoch [17/30], Step [126/174], Loss: 0.0000\n",
      "Epoch [17/30], Step [132/174], Loss: 0.0006\n",
      "Epoch [17/30], Step [138/174], Loss: 0.0000\n",
      "Epoch [18/30], Step [6/174], Loss: 0.0000\n",
      "Epoch [18/30], Step [12/174], Loss: 0.0004\n",
      "Epoch [18/30], Step [18/174], Loss: 0.0003\n",
      "Epoch [18/30], Step [24/174], Loss: 0.0010\n",
      "Epoch [18/30], Step [30/174], Loss: 0.0000\n",
      "Epoch [18/30], Step [36/174], Loss: 0.1675\n",
      "Epoch [18/30], Step [42/174], Loss: 0.0003\n",
      "Epoch [18/30], Step [48/174], Loss: 0.0000\n",
      "Epoch [18/30], Step [54/174], Loss: 0.0001\n",
      "Epoch [18/30], Step [60/174], Loss: 0.0004\n",
      "Epoch [18/30], Step [66/174], Loss: 0.0058\n",
      "Epoch [18/30], Step [72/174], Loss: 0.0002\n",
      "Epoch [18/30], Step [78/174], Loss: 0.0000\n",
      "Epoch [18/30], Step [84/174], Loss: 0.0002\n",
      "Epoch [18/30], Step [90/174], Loss: 0.0000\n",
      "Epoch [18/30], Step [96/174], Loss: 0.0000\n",
      "Epoch [18/30], Step [102/174], Loss: 0.0000\n",
      "Epoch [18/30], Step [108/174], Loss: 0.0001\n",
      "Epoch [18/30], Step [114/174], Loss: 0.0001\n",
      "Epoch [18/30], Step [120/174], Loss: 0.0001\n",
      "Epoch [18/30], Step [126/174], Loss: 0.0001\n",
      "Epoch [18/30], Step [132/174], Loss: 0.0000\n",
      "Epoch [18/30], Step [138/174], Loss: 0.0000\n",
      "Epoch [19/30], Step [6/174], Loss: 0.0004\n",
      "Epoch [19/30], Step [12/174], Loss: 0.0007\n",
      "Epoch [19/30], Step [18/174], Loss: 0.0065\n",
      "Epoch [19/30], Step [24/174], Loss: 0.0008\n",
      "Epoch [19/30], Step [30/174], Loss: 0.0012\n",
      "Epoch [19/30], Step [36/174], Loss: 0.0002\n",
      "Epoch [19/30], Step [42/174], Loss: 0.0004\n",
      "Epoch [19/30], Step [48/174], Loss: 0.0001\n",
      "Epoch [19/30], Step [54/174], Loss: 0.0002\n",
      "Epoch [19/30], Step [60/174], Loss: 0.0129\n",
      "Epoch [19/30], Step [66/174], Loss: 0.0228\n",
      "Epoch [19/30], Step [72/174], Loss: 0.0677\n",
      "Epoch [19/30], Step [78/174], Loss: 0.0001\n",
      "Epoch [19/30], Step [84/174], Loss: 0.0001\n",
      "Epoch [19/30], Step [90/174], Loss: 0.0010\n",
      "Epoch [19/30], Step [96/174], Loss: 0.0009\n",
      "Epoch [19/30], Step [102/174], Loss: 0.1190\n",
      "Epoch [19/30], Step [108/174], Loss: 0.0001\n",
      "Epoch [19/30], Step [114/174], Loss: 0.0001\n",
      "Epoch [19/30], Step [120/174], Loss: 0.0477\n",
      "Epoch [19/30], Step [126/174], Loss: 0.0001\n",
      "Epoch [19/30], Step [132/174], Loss: 0.0002\n",
      "Epoch [19/30], Step [138/174], Loss: 0.0003\n",
      "Epoch [20/30], Step [6/174], Loss: 0.0001\n",
      "Epoch [20/30], Step [12/174], Loss: 0.0002\n",
      "Epoch [20/30], Step [18/174], Loss: 0.0413\n",
      "Epoch [20/30], Step [24/174], Loss: 0.0000\n",
      "Epoch [20/30], Step [30/174], Loss: 0.0000\n",
      "Epoch [20/30], Step [36/174], Loss: 0.0001\n",
      "Epoch [20/30], Step [42/174], Loss: 0.0047\n",
      "Epoch [20/30], Step [48/174], Loss: 0.0008\n",
      "Epoch [20/30], Step [54/174], Loss: 0.0001\n",
      "Epoch [20/30], Step [60/174], Loss: 0.0188\n",
      "Epoch [20/30], Step [66/174], Loss: 0.0002\n",
      "Epoch [20/30], Step [72/174], Loss: 0.0002\n",
      "Epoch [20/30], Step [78/174], Loss: 0.0000\n",
      "Epoch [20/30], Step [84/174], Loss: 0.0006\n",
      "Epoch [20/30], Step [90/174], Loss: 0.0000\n",
      "Epoch [20/30], Step [96/174], Loss: 0.0003\n",
      "Epoch [20/30], Step [102/174], Loss: 0.0007\n",
      "Epoch [20/30], Step [108/174], Loss: 0.0001\n",
      "Epoch [20/30], Step [114/174], Loss: 0.0023\n",
      "Epoch [20/30], Step [120/174], Loss: 0.0000\n",
      "Epoch [20/30], Step [126/174], Loss: 0.0000\n",
      "Epoch [20/30], Step [132/174], Loss: 0.0009\n",
      "Epoch [20/30], Step [138/174], Loss: 0.0002\n",
      "Epoch [21/30], Step [6/174], Loss: 0.0007\n",
      "Epoch [21/30], Step [12/174], Loss: 0.0006\n",
      "Epoch [21/30], Step [18/174], Loss: 0.0000\n",
      "Epoch [21/30], Step [24/174], Loss: 0.0000\n",
      "Epoch [21/30], Step [30/174], Loss: 0.0007\n",
      "Epoch [21/30], Step [36/174], Loss: 0.0000\n",
      "Epoch [21/30], Step [42/174], Loss: 0.0000\n",
      "Epoch [21/30], Step [48/174], Loss: 0.0001\n",
      "Epoch [21/30], Step [54/174], Loss: 0.0001\n",
      "Epoch [21/30], Step [60/174], Loss: 0.0002\n",
      "Epoch [21/30], Step [66/174], Loss: 0.0002\n",
      "Epoch [21/30], Step [72/174], Loss: 0.0018\n",
      "Epoch [21/30], Step [78/174], Loss: 0.0001\n",
      "Epoch [21/30], Step [84/174], Loss: 0.0001\n",
      "Epoch [21/30], Step [90/174], Loss: 0.0000\n",
      "Epoch [21/30], Step [96/174], Loss: 0.0000\n",
      "Epoch [21/30], Step [102/174], Loss: 0.1092\n",
      "Epoch [21/30], Step [108/174], Loss: 0.0007\n",
      "Epoch [21/30], Step [114/174], Loss: 0.0002\n",
      "Epoch [21/30], Step [120/174], Loss: 0.0498\n",
      "Epoch [21/30], Step [126/174], Loss: 0.0000\n",
      "Epoch [21/30], Step [132/174], Loss: 0.0000\n",
      "Epoch [21/30], Step [138/174], Loss: 0.0001\n",
      "Epoch [22/30], Step [6/174], Loss: 0.0000\n",
      "Epoch [22/30], Step [12/174], Loss: 0.0002\n",
      "Epoch [22/30], Step [18/174], Loss: 0.0001\n",
      "Epoch [22/30], Step [24/174], Loss: 0.0001\n",
      "Epoch [22/30], Step [30/174], Loss: 0.0000\n",
      "Epoch [22/30], Step [36/174], Loss: 0.0000\n",
      "Epoch [22/30], Step [42/174], Loss: 0.0001\n",
      "Epoch [22/30], Step [48/174], Loss: 0.0025\n",
      "Epoch [22/30], Step [54/174], Loss: 0.0001\n",
      "Epoch [22/30], Step [60/174], Loss: 0.0001\n",
      "Epoch [22/30], Step [66/174], Loss: 0.0098\n",
      "Epoch [22/30], Step [72/174], Loss: 0.0001\n",
      "Epoch [22/30], Step [78/174], Loss: 0.0000\n",
      "Epoch [22/30], Step [84/174], Loss: 0.0000\n",
      "Epoch [22/30], Step [90/174], Loss: 0.0000\n",
      "Epoch [22/30], Step [96/174], Loss: 0.0001\n",
      "Epoch [22/30], Step [102/174], Loss: 0.0000\n",
      "Epoch [22/30], Step [108/174], Loss: 0.0000\n",
      "Epoch [22/30], Step [114/174], Loss: 0.0000\n",
      "Epoch [22/30], Step [120/174], Loss: 0.0001\n",
      "Epoch [22/30], Step [126/174], Loss: 0.0386\n",
      "Epoch [22/30], Step [132/174], Loss: 0.0006\n",
      "Epoch [22/30], Step [138/174], Loss: 0.0001\n",
      "Epoch [23/30], Step [6/174], Loss: 0.0001\n",
      "Epoch [23/30], Step [12/174], Loss: 0.0000\n",
      "Epoch [23/30], Step [18/174], Loss: 0.0006\n",
      "Epoch [23/30], Step [24/174], Loss: 0.0005\n",
      "Epoch [23/30], Step [30/174], Loss: 0.0001\n",
      "Epoch [23/30], Step [36/174], Loss: 0.0037\n",
      "Epoch [23/30], Step [42/174], Loss: 0.0000\n",
      "Epoch [23/30], Step [48/174], Loss: 0.0366\n",
      "Epoch [23/30], Step [54/174], Loss: 0.0000\n",
      "Epoch [23/30], Step [60/174], Loss: 0.0000\n",
      "Epoch [23/30], Step [66/174], Loss: 0.0000\n",
      "Epoch [23/30], Step [72/174], Loss: 0.0000\n",
      "Epoch [23/30], Step [78/174], Loss: 0.0004\n",
      "Epoch [23/30], Step [84/174], Loss: 0.0002\n",
      "Epoch [23/30], Step [90/174], Loss: 0.0000\n",
      "Epoch [23/30], Step [96/174], Loss: 0.0000\n",
      "Epoch [23/30], Step [102/174], Loss: 0.0000\n",
      "Epoch [23/30], Step [108/174], Loss: 0.0001\n",
      "Epoch [23/30], Step [114/174], Loss: 0.0000\n",
      "Epoch [23/30], Step [120/174], Loss: 0.0000\n",
      "Epoch [23/30], Step [126/174], Loss: 0.0000\n",
      "Epoch [23/30], Step [132/174], Loss: 0.0000\n",
      "Epoch [23/30], Step [138/174], Loss: 0.0000\n",
      "Epoch [24/30], Step [6/174], Loss: 0.0001\n",
      "Epoch [24/30], Step [12/174], Loss: 0.0001\n",
      "Epoch [24/30], Step [18/174], Loss: 0.0000\n",
      "Epoch [24/30], Step [24/174], Loss: 0.0001\n",
      "Epoch [24/30], Step [30/174], Loss: 0.0001\n",
      "Epoch [24/30], Step [36/174], Loss: 0.0002\n",
      "Epoch [24/30], Step [42/174], Loss: 0.1501\n",
      "Epoch [24/30], Step [48/174], Loss: 0.0002\n",
      "Epoch [24/30], Step [54/174], Loss: 0.0000\n",
      "Epoch [24/30], Step [60/174], Loss: 0.0005\n",
      "Epoch [24/30], Step [66/174], Loss: 0.0001\n",
      "Epoch [24/30], Step [72/174], Loss: 0.0010\n",
      "Epoch [24/30], Step [78/174], Loss: 0.0003\n",
      "Epoch [24/30], Step [84/174], Loss: 0.0011\n",
      "Epoch [24/30], Step [90/174], Loss: 0.0000\n",
      "Epoch [24/30], Step [96/174], Loss: 0.0002\n",
      "Epoch [24/30], Step [102/174], Loss: 0.0000\n",
      "Epoch [24/30], Step [108/174], Loss: 0.0000\n",
      "Epoch [24/30], Step [114/174], Loss: 0.0000\n",
      "Epoch [24/30], Step [120/174], Loss: 0.0001\n",
      "Epoch [24/30], Step [126/174], Loss: 0.0001\n",
      "Epoch [24/30], Step [132/174], Loss: 0.0004\n",
      "Epoch [24/30], Step [138/174], Loss: 0.0000\n",
      "Epoch [25/30], Step [6/174], Loss: 0.0007\n",
      "Epoch [25/30], Step [12/174], Loss: 0.0001\n",
      "Epoch [25/30], Step [18/174], Loss: 0.0000\n",
      "Epoch [25/30], Step [24/174], Loss: 0.0001\n",
      "Epoch [25/30], Step [30/174], Loss: 0.0000\n",
      "Epoch [25/30], Step [36/174], Loss: 0.0002\n",
      "Epoch [25/30], Step [42/174], Loss: 0.0002\n",
      "Epoch [25/30], Step [48/174], Loss: 0.0000\n",
      "Epoch [25/30], Step [54/174], Loss: 0.0000\n",
      "Epoch [25/30], Step [60/174], Loss: 0.0740\n",
      "Epoch [25/30], Step [66/174], Loss: 0.0003\n",
      "Epoch [25/30], Step [72/174], Loss: 0.0000\n",
      "Epoch [25/30], Step [78/174], Loss: 0.0001\n",
      "Epoch [25/30], Step [84/174], Loss: 0.0002\n",
      "Epoch [25/30], Step [90/174], Loss: 0.0001\n",
      "Epoch [25/30], Step [96/174], Loss: 0.0000\n",
      "Epoch [25/30], Step [102/174], Loss: 0.0085\n",
      "Epoch [25/30], Step [108/174], Loss: 0.0000\n",
      "Epoch [25/30], Step [114/174], Loss: 0.0000\n",
      "Epoch [25/30], Step [120/174], Loss: 0.0270\n",
      "Epoch [25/30], Step [126/174], Loss: 0.0000\n",
      "Epoch [25/30], Step [132/174], Loss: 0.0001\n",
      "Epoch [25/30], Step [138/174], Loss: 0.0001\n",
      "Epoch [26/30], Step [6/174], Loss: 0.0030\n",
      "Epoch [26/30], Step [12/174], Loss: 0.0000\n",
      "Epoch [26/30], Step [18/174], Loss: 0.0004\n",
      "Epoch [26/30], Step [24/174], Loss: 0.0001\n",
      "Epoch [26/30], Step [30/174], Loss: 0.0000\n",
      "Epoch [26/30], Step [36/174], Loss: 0.0000\n",
      "Epoch [26/30], Step [42/174], Loss: 0.0000\n",
      "Epoch [26/30], Step [48/174], Loss: 0.0001\n",
      "Epoch [26/30], Step [54/174], Loss: 0.0000\n",
      "Epoch [26/30], Step [60/174], Loss: 0.0001\n",
      "Epoch [26/30], Step [66/174], Loss: 0.0000\n",
      "Epoch [26/30], Step [72/174], Loss: 0.0000\n",
      "Epoch [26/30], Step [78/174], Loss: 0.0009\n",
      "Epoch [26/30], Step [84/174], Loss: 0.0023\n",
      "Epoch [26/30], Step [90/174], Loss: 0.0000\n",
      "Epoch [26/30], Step [96/174], Loss: 0.0000\n",
      "Epoch [26/30], Step [102/174], Loss: 0.0741\n",
      "Epoch [26/30], Step [108/174], Loss: 0.0000\n",
      "Epoch [26/30], Step [114/174], Loss: 0.0011\n",
      "Epoch [26/30], Step [120/174], Loss: 0.0000\n",
      "Epoch [26/30], Step [126/174], Loss: 0.0000\n",
      "Epoch [26/30], Step [132/174], Loss: 0.0000\n",
      "Epoch [26/30], Step [138/174], Loss: 0.0001\n",
      "Epoch [27/30], Step [6/174], Loss: 0.0000\n",
      "Epoch [27/30], Step [12/174], Loss: 0.0000\n",
      "Epoch [27/30], Step [18/174], Loss: 0.0000\n",
      "Epoch [27/30], Step [24/174], Loss: 0.0001\n",
      "Epoch [27/30], Step [30/174], Loss: 0.0203\n",
      "Epoch [27/30], Step [36/174], Loss: 0.0000\n",
      "Epoch [27/30], Step [42/174], Loss: 0.0000\n",
      "Epoch [27/30], Step [48/174], Loss: 0.0000\n",
      "Epoch [27/30], Step [54/174], Loss: 0.1328\n",
      "Epoch [27/30], Step [60/174], Loss: 0.0000\n",
      "Epoch [27/30], Step [66/174], Loss: 0.0000\n",
      "Epoch [27/30], Step [72/174], Loss: 0.0002\n",
      "Epoch [27/30], Step [78/174], Loss: 0.0000\n",
      "Epoch [27/30], Step [84/174], Loss: 0.0000\n",
      "Epoch [27/30], Step [90/174], Loss: 0.0318\n",
      "Epoch [27/30], Step [96/174], Loss: 0.0001\n",
      "Epoch [27/30], Step [102/174], Loss: 0.0000\n",
      "Epoch [27/30], Step [108/174], Loss: 0.0012\n",
      "Epoch [27/30], Step [114/174], Loss: 0.0000\n",
      "Epoch [27/30], Step [120/174], Loss: 0.0000\n",
      "Epoch [27/30], Step [126/174], Loss: 0.0000\n",
      "Epoch [27/30], Step [132/174], Loss: 0.0001\n",
      "Epoch [27/30], Step [138/174], Loss: 0.0378\n",
      "Epoch [28/30], Step [6/174], Loss: 0.0000\n",
      "Epoch [28/30], Step [12/174], Loss: 0.0002\n",
      "Epoch [28/30], Step [18/174], Loss: 0.0000\n",
      "Epoch [28/30], Step [24/174], Loss: 0.0000\n",
      "Epoch [28/30], Step [30/174], Loss: 0.0442\n",
      "Epoch [28/30], Step [36/174], Loss: 0.0014\n",
      "Epoch [28/30], Step [42/174], Loss: 0.0000\n",
      "Epoch [28/30], Step [48/174], Loss: 0.0000\n",
      "Epoch [28/30], Step [54/174], Loss: 0.0000\n",
      "Epoch [28/30], Step [60/174], Loss: 0.0788\n",
      "Epoch [28/30], Step [66/174], Loss: 0.0000\n",
      "Epoch [28/30], Step [72/174], Loss: 0.0001\n",
      "Epoch [28/30], Step [78/174], Loss: 0.0000\n",
      "Epoch [28/30], Step [84/174], Loss: 0.0001\n",
      "Epoch [28/30], Step [90/174], Loss: 0.0000\n",
      "Epoch [28/30], Step [96/174], Loss: 0.0001\n",
      "Epoch [28/30], Step [102/174], Loss: 0.0001\n",
      "Epoch [28/30], Step [108/174], Loss: 0.0004\n",
      "Epoch [28/30], Step [114/174], Loss: 0.0000\n",
      "Epoch [28/30], Step [120/174], Loss: 0.0000\n",
      "Epoch [28/30], Step [126/174], Loss: 0.0000\n",
      "Epoch [28/30], Step [132/174], Loss: 0.0001\n",
      "Epoch [28/30], Step [138/174], Loss: 0.0000\n",
      "Epoch [29/30], Step [6/174], Loss: 0.0002\n",
      "Epoch [29/30], Step [12/174], Loss: 0.0000\n",
      "Epoch [29/30], Step [18/174], Loss: 0.0012\n",
      "Epoch [29/30], Step [24/174], Loss: 0.0000\n",
      "Epoch [29/30], Step [30/174], Loss: 0.0000\n",
      "Epoch [29/30], Step [36/174], Loss: 0.0006\n",
      "Epoch [29/30], Step [42/174], Loss: 0.0001\n",
      "Epoch [29/30], Step [48/174], Loss: 0.0001\n",
      "Epoch [29/30], Step [54/174], Loss: 0.0000\n",
      "Epoch [29/30], Step [60/174], Loss: 0.0002\n",
      "Epoch [29/30], Step [66/174], Loss: 0.0000\n",
      "Epoch [29/30], Step [72/174], Loss: 0.0002\n",
      "Epoch [29/30], Step [78/174], Loss: 0.0000\n",
      "Epoch [29/30], Step [84/174], Loss: 0.0000\n",
      "Epoch [29/30], Step [90/174], Loss: 0.0000\n",
      "Epoch [29/30], Step [96/174], Loss: 0.0001\n",
      "Epoch [29/30], Step [102/174], Loss: 0.0000\n",
      "Epoch [29/30], Step [108/174], Loss: 0.0000\n",
      "Epoch [29/30], Step [114/174], Loss: 0.0000\n",
      "Epoch [29/30], Step [120/174], Loss: 0.0000\n",
      "Epoch [29/30], Step [126/174], Loss: 0.0000\n",
      "Epoch [29/30], Step [132/174], Loss: 0.0002\n",
      "Epoch [29/30], Step [138/174], Loss: 0.0000\n",
      "Epoch [30/30], Step [6/174], Loss: 0.0006\n",
      "Epoch [30/30], Step [12/174], Loss: 0.0005\n",
      "Epoch [30/30], Step [18/174], Loss: 0.0000\n",
      "Epoch [30/30], Step [24/174], Loss: 0.0000\n",
      "Epoch [30/30], Step [30/174], Loss: 0.0001\n",
      "Epoch [30/30], Step [36/174], Loss: 0.0000\n",
      "Epoch [30/30], Step [42/174], Loss: 0.0001\n",
      "Epoch [30/30], Step [48/174], Loss: 0.0000\n",
      "Epoch [30/30], Step [54/174], Loss: 0.0000\n",
      "Epoch [30/30], Step [60/174], Loss: 0.0000\n",
      "Epoch [30/30], Step [66/174], Loss: 0.0000\n",
      "Epoch [30/30], Step [72/174], Loss: 0.0907\n",
      "Epoch [30/30], Step [78/174], Loss: 0.0001\n",
      "Epoch [30/30], Step [84/174], Loss: 0.0855\n",
      "Epoch [30/30], Step [90/174], Loss: 0.0001\n",
      "Epoch [30/30], Step [96/174], Loss: 0.0008\n",
      "Epoch [30/30], Step [102/174], Loss: 0.0004\n",
      "Epoch [30/30], Step [108/174], Loss: 0.0002\n",
      "Epoch [30/30], Step [114/174], Loss: 0.0001\n",
      "Epoch [30/30], Step [120/174], Loss: 0.0000\n",
      "Epoch [30/30], Step [126/174], Loss: 0.0025\n",
      "Epoch [30/30], Step [132/174], Loss: 0.0000\n",
      "Epoch [30/30], Step [138/174], Loss: 0.0000\n"
     ]
    }
   ],
   "source": [
    "num_epochs = 30\n",
    "\n",
    "num_batch = len(dl) - 1\n",
    "# Train the Model\n",
    "for epoch in range(num_epochs):\n",
    "    it = iter(dl)\n",
    "    # Loop over all batches\n",
    "    for i in range(num_batch):\n",
    "        batch_x,batch_y,batch_len = next(it)\n",
    "        batch_x,batch_y,batch_len = sort_batch(batch_x,batch_y,batch_len)\n",
    "        tweets = Variable(batch_x.transpose(0,1))\n",
    "        labels = Variable(batch_y)\n",
    "        lengths = batch_len.numpy()\n",
    "        # Forward + Backward + Optimize\n",
    "        optimizer.zero_grad()  # zero the gradient buffer\n",
    "        outputs = net(tweets, lengths)\n",
    "        loss = criterion(outputs, labels)\n",
    "        losses.append(loss.data[0])\n",
    "        loss.backward()\n",
    "        clip_grad_norm(net.parameters(), max_norm = 1)\n",
    "        for p in net.parameters():\n",
    "            p.data.add_(-learning_rate, p.grad.data)\n",
    "        optimizer.step()\n",
    "\n",
    "        if (i+1) % 6 == 0:\n",
    "            print ('Epoch [%d/%d], Step [%d/%d], Loss: %.4f'\n",
    "                   %(epoch+1, num_epochs, i+1, len(train.clean_tweet)//batch_size, loss.data[0]))\n",
    "        if (i+1) % 12 == 0:\n",
    "            val_scores.append(get_validation_loss(dl2, net))\n",
    "            if val_scores[-1] == max(val_scores):\n",
    "                best_net = net"
   ]
  },
  {
   "cell_type": "code",
   "execution_count": 53,
   "metadata": {
    "collapsed": false,
    "scrolled": true
   },
   "outputs": [
    {
     "data": {
      "text/plain": [
       "[<matplotlib.lines.Line2D at 0x11f3c3518>]"
      ]
     },
     "execution_count": 53,
     "metadata": {},
     "output_type": "execute_result"
    },
    {
     "data": {
      "image/png": "[encoded data removed]",
      "text/plain": [
       "<matplotlib.figure.Figure at 0x1376dc320>"
      ]
     },
     "metadata": {},
     "output_type": "display_data"
    }
   ],
   "source": [
    "plt.plot(losses) #trained at lr of 0.001 for 30 epochs"
   ]
  },
  {
   "cell_type": "code",
   "execution_count": 54,
   "metadata": {
    "collapsed": false
   },
   "outputs": [
    {
     "data": {
      "text/plain": [
       "[<matplotlib.lines.Line2D at 0x11e9eb6d8>]"
      ]
     },
     "execution_count": 54,
     "metadata": {},
     "output_type": "execute_result"
    },
    {
     "data": {
      "image/png": "[encoded data removed]",
      "text/plain": [
       "<matplotlib.figure.Figure at 0x11e9845c0>"
      ]
     },
     "metadata": {},
     "output_type": "display_data"
    }
   ],
   "source": [
    "plt.plot(val_scores)"
   ]
  },
  {
   "cell_type": "code",
   "execution_count": 47,
   "metadata": {
    "collapsed": false
   },
   "outputs": [
    {
     "data": {
      "text/plain": [
       "0.70175438596491224"
      ]
     },
     "execution_count": 47,
     "metadata": {},
     "output_type": "execute_result"
    }
   ],
   "source": [
    "max(val_scores)"
   ]
  },
  {
   "cell_type": "code",
   "execution_count": 48,
   "metadata": {
    "collapsed": false
   },
   "outputs": [],
   "source": [
    "predictions = []\n",
    "pred_labels = []\n",
    "#get training predictions\n",
    "it = iter(dl2)\n",
    "num_batch = len(dl2) - 1\n",
    "# Loop over all batches\n",
    "for i in range(num_batch):\n",
    "    batch_x,batch_y,batch_len = next(it)\n",
    "    batch_x,batch_y,batch_len = sort_batch(batch_x,batch_y,batch_len)\n",
    "    tweets = Variable(batch_x.transpose(0,1))\n",
    "    labels = Variable(batch_y)\n",
    "    lengths = batch_len.numpy()\n",
    "    outputs = best_net(tweets, lengths)\n",
    "    _, pred = torch.max(outputs.data, 1)\n",
    "    predictions.extend(list(pred.numpy()))\n",
    "    pred_labels.extend(list(labels.data.numpy()))"
   ]
  },
  {
   "cell_type": "code",
   "execution_count": 49,
   "metadata": {
    "collapsed": false
   },
   "outputs": [
    {
     "data": {
      "text/plain": [
       "0    1062\n",
       "1      26\n",
       "dtype: int64"
      ]
     },
     "execution_count": 49,
     "metadata": {},
     "output_type": "execute_result"
    }
   ],
   "source": [
    "pd.Series(predictions).value_counts()"
   ]
  },
  {
   "cell_type": "code",
   "execution_count": 50,
   "metadata": {
    "collapsed": false
   },
   "outputs": [],
   "source": [
    "from sklearn import metrics"
   ]
  },
  {
   "cell_type": "code",
   "execution_count": 51,
   "metadata": {
    "collapsed": false
   },
   "outputs": [
    {
     "data": {
      "text/plain": [
       "array([[1046,   12],\n",
       "       [  16,   14]])"
      ]
     },
     "execution_count": 51,
     "metadata": {},
     "output_type": "execute_result"
    }
   ],
   "source": [
    "metrics.confusion_matrix(pred_labels, predictions)"
   ]
  },
  {
   "cell_type": "code",
   "execution_count": 57,
   "metadata": {
    "collapsed": false
   },
   "outputs": [],
   "source": [
    "filename = 'best_rnn.sav'\n",
    "pickle.dump(best_net, open(filename, \"wb\"))"
   ]
  }
 ],
 "metadata": {
  "kernelspec": {
   "display_name": "Python 3",
   "language": "python",
   "name": "python3"
  },
  "language_info": {
   "codemirror_mode": {
    "name": "ipython",
    "version": 3
   },
   "file_extension": ".py",
   "mimetype": "text/x-python",
   "name": "python",
   "nbconvert_exporter": "python",
   "pygments_lexer": "ipython3",
   "version": "3.6.0"
  }
 },
 "nbformat": 4,
 "nbformat_minor": 2
}
