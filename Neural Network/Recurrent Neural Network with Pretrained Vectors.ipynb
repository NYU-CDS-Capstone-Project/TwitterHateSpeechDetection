{
 "cells": [
  {
   "cell_type": "markdown",
   "metadata": {},
   "source": [
    "## <b>Import libraries<b>"
   ]
  },
  {
   "cell_type": "code",
   "execution_count": 282,
   "metadata": {
    "collapsed": false
   },
   "outputs": [],
   "source": [
    "import torch\n",
    "import pandas as pd\n",
    "import numpy as np\n",
    "from collections import Counter\n",
    "from torch.autograd import Variable\n",
    "import torch.nn as nn\n",
    "import torch.nn.functional as F\n",
    "import torch.autograd as autograd\n",
    "from sklearn.metrics import f1_score\n",
    "from torch.nn.utils.rnn import pack_padded_sequence, pad_packed_sequence\n",
    "from torch.utils.data import Dataset, DataLoader\n",
    "from torch.nn.utils.rnn import pack_padded_sequence, pad_packed_sequence\n",
    "from torch.autograd import Variable\n",
    "import matplotlib.pyplot as plt\n",
    "from torch.optim.lr_scheduler import MultiStepLR\n",
    "from sklearn.metrics import f1_score\n",
    "from sklearn import model_selection\n",
    "%matplotlib inline"
   ]
  },
  {
   "cell_type": "code",
   "execution_count": 2,
   "metadata": {
    "collapsed": false
   },
   "outputs": [],
   "source": [
    "#drew inspiration from\n",
    "#https://github.com/dmesquita/understanding_pytorch_nn and\n",
    "#https://github.com/msahamed/yelp_comments_classification_nlp/blob/master/word_embeddings.ipynb\n",
    "#https://github.com/nyu-mll/DS-GA-1011-Fall2017/blob/master/week%20eight/Week%20Eight%20Solutions.ipynb\n",
    "#https://pytorch.org/tutorials/beginner/nlp/sequence_models_tutorial.html\n",
    "#https://github.com/claravania/lstm-pytorch/blob/master/model.py\n",
    "#https://medium.com/@sonicboom8/sentiment-analysis-with-variable-length-sequences-in-pytorch-6241635ae130\n",
    "#https://github.com/hpanwar08/sentence-classification-pytorch/blob/master/Sentiment%20analysis%20pytorch.ipynb"
   ]
  },
  {
   "cell_type": "code",
   "execution_count": null,
   "metadata": {
    "collapsed": true
   },
   "outputs": [],
   "source": [
    "#https://medium.com/@martinpella/how-to-use-pre-trained-word-embeddings-in-pytorch-71ca59249f76\n",
    "#https://github.com/Blosc/bcolz\n",
    "\n",
    "#used pip install -U blosc"
   ]
  },
  {
   "cell_type": "code",
   "execution_count": null,
   "metadata": {
    "collapsed": true
   },
   "outputs": [],
   "source": [
    "#https://modelzoo.co/model/pytorch-nlp\n",
    "#http://anie.me/On-Torchtext/\n",
    "#https://readthedocs.org/projects/pytorchnlp/downloads/pdf/latest/\n",
    "\n",
    "#https://github.com/A-Jacobson/CNN_Sentence_Classification/blob/master/WordVectors.ipynb\n",
    "#https://pytorch.org/docs/master/nn.html#torch.nn.Embedding.from_pretrained"
   ]
  },
  {
   "cell_type": "code",
   "execution_count": 12,
   "metadata": {
    "collapsed": true
   },
   "outputs": [],
   "source": [
    "from torchnlp.word_to_vector import GloVe #glove is much smaller than fastext, so downloads faster"
   ]
  },
  {
   "cell_type": "raw",
   "metadata": {},
   "source": [
    "vectors = GloVe()"
   ]
  },
  {
   "cell_type": "code",
   "execution_count": 15,
   "metadata": {
    "collapsed": false
   },
   "outputs": [
    {
     "data": {
      "text/plain": [
       "\n",
       " 0.2523\n",
       " 0.1018\n",
       "-0.6748\n",
       " 0.2112\n",
       " 0.4349\n",
       " 0.1654\n",
       " 0.4826\n",
       "-0.8122\n",
       " 0.0413\n",
       " 0.7850\n",
       "-0.0779\n",
       "-0.6632\n",
       " 0.1464\n",
       "-0.2929\n",
       "-0.2549\n",
       " 0.0193\n",
       "-0.2026\n",
       " 0.9823\n",
       " 0.0283\n",
       "-0.0813\n",
       "-0.1214\n",
       " 0.1313\n",
       "-0.1765\n",
       " 0.1356\n",
       "-0.1636\n",
       "-0.2257\n",
       " 0.0550\n",
       "-0.2031\n",
       " 0.2072\n",
       " 0.0958\n",
       " 0.2248\n",
       " 0.2154\n",
       "-0.3298\n",
       "-0.1224\n",
       "-0.4003\n",
       "-0.0794\n",
       "-0.1996\n",
       "-0.0151\n",
       "-0.0791\n",
       "-0.1813\n",
       " 0.2068\n",
       "-0.3620\n",
       "-0.3074\n",
       "-0.2442\n",
       "-0.2311\n",
       " 0.0980\n",
       " 0.1463\n",
       "-0.0627\n",
       " 0.4293\n",
       "-0.0780\n",
       "-0.1963\n",
       " 0.6509\n",
       "-0.2281\n",
       "-0.3031\n",
       "-0.1248\n",
       "-0.1757\n",
       "-0.1465\n",
       " 0.1536\n",
       "-0.2952\n",
       " 0.1510\n",
       "-0.5173\n",
       "-0.0336\n",
       "-0.2311\n",
       "-0.7833\n",
       " 0.0180\n",
       "-0.1572\n",
       " 0.0229\n",
       " 0.4964\n",
       " 0.0292\n",
       " 0.0567\n",
       " 0.1462\n",
       "-0.1919\n",
       " 0.1624\n",
       " 0.2390\n",
       " 0.3643\n",
       " 0.4526\n",
       " 0.2456\n",
       " 0.2380\n",
       " 0.3140\n",
       " 0.3487\n",
       "-0.0358\n",
       " 0.5611\n",
       "-0.2535\n",
       " 0.0520\n",
       "-0.1062\n",
       "-0.3096\n",
       " 1.0585\n",
       "-0.4202\n",
       " 0.1822\n",
       "-0.1126\n",
       " 0.4058\n",
       " 0.1178\n",
       "-0.1971\n",
       "-0.0753\n",
       " 0.0807\n",
       "-0.0278\n",
       "-0.1562\n",
       "-0.4468\n",
       "-0.1516\n",
       " 0.1692\n",
       " 0.0983\n",
       "-0.0319\n",
       " 0.0871\n",
       " 0.2608\n",
       " 0.0027\n",
       " 0.1319\n",
       " 0.3444\n",
       "-0.3789\n",
       "-0.4114\n",
       " 0.0816\n",
       "-0.1167\n",
       "-0.4371\n",
       " 0.0111\n",
       " 0.0994\n",
       " 0.2661\n",
       " 0.4002\n",
       " 0.1890\n",
       "-0.1844\n",
       "-0.3036\n",
       "-0.2725\n",
       " 0.2247\n",
       "-0.4061\n",
       " 0.1562\n",
       "-0.1604\n",
       " 0.4715\n",
       " 0.0080\n",
       " 0.5686\n",
       " 0.2193\n",
       "-0.1118\n",
       " 0.7993\n",
       " 0.1071\n",
       "-0.5015\n",
       " 0.0636\n",
       " 0.0695\n",
       " 0.1529\n",
       "-0.2747\n",
       "-0.2099\n",
       " 0.2074\n",
       "-0.1068\n",
       " 0.4065\n",
       "-2.6438\n",
       "-0.3114\n",
       "-0.3216\n",
       "-0.2646\n",
       "-0.3562\n",
       " 0.0700\n",
       "-0.1884\n",
       " 0.4877\n",
       "-0.2617\n",
       "-0.0208\n",
       " 0.1782\n",
       " 0.1576\n",
       "-0.1375\n",
       " 0.0565\n",
       " 0.3077\n",
       "-0.0661\n",
       " 0.4748\n",
       "-0.2734\n",
       " 0.0973\n",
       "-0.2083\n",
       " 0.0039\n",
       " 0.3460\n",
       "-0.0870\n",
       "-0.5492\n",
       "-0.1876\n",
       "-0.1717\n",
       " 0.0603\n",
       "-0.1352\n",
       " 0.1042\n",
       " 0.3016\n",
       " 0.0580\n",
       " 0.2187\n",
       "-0.0736\n",
       "-0.2042\n",
       "-0.2528\n",
       "-0.1047\n",
       "-0.3216\n",
       " 0.1252\n",
       "-0.3128\n",
       " 0.0097\n",
       "-0.2678\n",
       "-0.6112\n",
       "-0.1109\n",
       "-0.1365\n",
       " 0.0351\n",
       "-0.4939\n",
       " 0.0849\n",
       "-0.1549\n",
       "-0.0635\n",
       "-0.2394\n",
       " 0.2827\n",
       " 0.1085\n",
       "-0.3365\n",
       "-0.6076\n",
       " 0.3858\n",
       "-0.0095\n",
       " 0.1750\n",
       "-0.5272\n",
       " 0.6221\n",
       " 0.1954\n",
       "-0.4898\n",
       " 0.0366\n",
       "-0.1280\n",
       "-0.0168\n",
       " 0.2565\n",
       "-0.3170\n",
       " 0.4826\n",
       "-0.1418\n",
       " 0.1105\n",
       "-0.3098\n",
       "-0.6314\n",
       "-0.3727\n",
       " 0.2318\n",
       "-0.1427\n",
       "-0.0234\n",
       " 0.0223\n",
       "-0.0447\n",
       "-0.1640\n",
       "-0.2585\n",
       " 0.1629\n",
       " 0.0248\n",
       " 0.2335\n",
       " 0.2793\n",
       " 0.3900\n",
       "-0.0590\n",
       " 0.1135\n",
       " 0.1567\n",
       " 0.1858\n",
       "-0.1981\n",
       "-0.4812\n",
       "-0.0351\n",
       " 0.0785\n",
       "-0.4983\n",
       " 0.1085\n",
       "-0.2013\n",
       " 0.0529\n",
       "-0.1158\n",
       "-0.1601\n",
       " 0.1677\n",
       " 0.4236\n",
       "-0.2311\n",
       " 0.0825\n",
       " 0.2430\n",
       "-0.1679\n",
       " 0.0080\n",
       " 0.0859\n",
       " 0.3803\n",
       " 0.0730\n",
       " 0.1633\n",
       " 0.2470\n",
       "-0.1109\n",
       " 0.1512\n",
       "-0.2207\n",
       "-0.0619\n",
       "-0.0371\n",
       "-0.0879\n",
       "-0.2318\n",
       " 0.1504\n",
       "-0.1909\n",
       "-0.1911\n",
       "-0.1189\n",
       " 0.0949\n",
       "-0.0043\n",
       " 0.1536\n",
       "-0.4120\n",
       "-0.3073\n",
       " 0.1838\n",
       " 0.4021\n",
       "-0.0035\n",
       "-0.1092\n",
       "-0.6952\n",
       " 0.1016\n",
       "-0.0793\n",
       " 0.4033\n",
       " 0.2228\n",
       "-0.1937\n",
       "-0.1331\n",
       " 0.0732\n",
       " 0.0998\n",
       " 0.1169\n",
       "-0.2164\n",
       "-0.1108\n",
       " 0.1034\n",
       " 0.0973\n",
       " 0.1120\n",
       "-0.3894\n",
       "-0.0089\n",
       " 0.2881\n",
       "-0.1079\n",
       " 0.0288\n",
       " 0.3255\n",
       " 0.2605\n",
       "-0.0389\n",
       " 0.0752\n",
       " 0.4603\n",
       "-0.0629\n",
       " 0.2166\n",
       " 0.1787\n",
       "-0.5192\n",
       " 0.3359\n",
       "[torch.FloatTensor of size 300]"
      ]
     },
     "execution_count": 15,
     "metadata": {},
     "output_type": "execute_result"
    }
   ],
   "source": [
    "vectors['hello']"
   ]
  },
  {
   "cell_type": "markdown",
   "metadata": {},
   "source": [
    "## <b> Data Processing<b>"
   ]
  },
  {
   "cell_type": "code",
   "execution_count": 283,
   "metadata": {
    "collapsed": false
   },
   "outputs": [],
   "source": [
    "train = pd.read_csv(\"../train_nn.csv\")"
   ]
  },
  {
   "cell_type": "code",
   "execution_count": 4,
   "metadata": {
    "collapsed": true
   },
   "outputs": [],
   "source": [
    "#create labels"
   ]
  },
  {
   "cell_type": "code",
   "execution_count": 284,
   "metadata": {
    "collapsed": false
   },
   "outputs": [],
   "source": [
    "labels = ['CAPS', 'Obscenity', 'Threat', 'hatespeech', 'namecalling', 'negprejudice', 'noneng', 'porn', 'stereotypes']\n",
    "\n",
    "for label in labels:\n",
    "    cols = [label + str(x) for x in range(1,8)]\n",
    "    train[label + '_num_yes'] = train[cols].sum(axis = 1)\n",
    "    train[label] = pd.Series(train[label + '_num_yes'] >= 2).astype(int)"
   ]
  },
  {
   "cell_type": "code",
   "execution_count": 285,
   "metadata": {
    "collapsed": false
   },
   "outputs": [],
   "source": [
    "train = train.loc[train['clean_tweet'].isnull() == False,]"
   ]
  },
  {
   "cell_type": "code",
   "execution_count": 286,
   "metadata": {
    "collapsed": false
   },
   "outputs": [],
   "source": [
    "train.reset_index(inplace = True, drop = True)"
   ]
  },
  {
   "cell_type": "code",
   "execution_count": 287,
   "metadata": {
    "collapsed": false
   },
   "outputs": [],
   "source": [
    "vocab = Counter()\n",
    "\n",
    "for text in train.clean_tweet:\n",
    "    for word in text.split(' '):\n",
    "        vocab[word.lower()]+=1\n",
    "\n",
    "total_words = len(vocab)\n",
    "\n",
    "def get_word_2_index(vocab):\n",
    "    word2index = {}\n",
    "    index2word = {}\n",
    "    for i,word in enumerate(vocab):\n",
    "        word2index[word.lower()] = i+1\n",
    "        index2word[i+1] = word.lower()\n",
    "\n",
    "    return word2index, index2word\n",
    "\n",
    "word2index, index2word = get_word_2_index(vocab)"
   ]
  },
  {
   "cell_type": "code",
   "execution_count": 288,
   "metadata": {
    "collapsed": false
   },
   "outputs": [],
   "source": [
    "#should add 'UNK' here\n",
    "\n",
    "word2index['PAD'] = 0\n",
    "index2word[0] = 'PAD'\n",
    "\n",
    "total_words = total_words + 1"
   ]
  },
  {
   "cell_type": "code",
   "execution_count": 289,
   "metadata": {
    "collapsed": true
   },
   "outputs": [],
   "source": [
    "def load_glove_embeddings(path, word2idx):\n",
    "    with open(path) as f:\n",
    "        embeddings = np.zeros((len(word2idx), embedding_dim))\n",
    "        for line in f.readlines():\n",
    "            values = line.split()\n",
    "            word = values[0]\n",
    "            index = word2idx.get(word)\n",
    "            if index:\n",
    "                vector = np.array(values[1:], dtype='float32')\n",
    "                embeddings[index] = vector\n",
    "        return torch.from_numpy(embeddings).float()"
   ]
  },
  {
   "cell_type": "code",
   "execution_count": 290,
   "metadata": {
    "collapsed": false
   },
   "outputs": [
    {
     "data": {
      "text/plain": [
       "2467"
      ]
     },
     "execution_count": 290,
     "metadata": {},
     "output_type": "execute_result"
    }
   ],
   "source": [
    "word2index['hello']"
   ]
  },
  {
   "cell_type": "code",
   "execution_count": 291,
   "metadata": {
    "collapsed": false
   },
   "outputs": [],
   "source": [
    "matrix_len = len(vocab) + 1\n",
    "weights_matrix = np.zeros((matrix_len, 300))\n",
    "words_found = 0\n",
    "\n",
    "for i, word in index2word.items():\n",
    "    try: \n",
    "        weights_matrix[i] = vectors[index2word[i]].numpy()\n",
    "        words_found += 1\n",
    "    except KeyError:\n",
    "        key_errors +=1\n",
    "        weights_matrix[i] = np.zeroes( size=(300, ))"
   ]
  },
  {
   "cell_type": "code",
   "execution_count": 292,
   "metadata": {
    "collapsed": false
   },
   "outputs": [
    {
     "data": {
      "text/plain": [
       "array([ 0.25233001,  0.10176   , -0.67484999,  0.21117   ,  0.43492001,\n",
       "        0.16542   ,  0.48260999, -0.81221998,  0.041321  ,  0.78501999,\n",
       "       -0.077857  , -0.66324002,  0.1464    , -0.29289001, -0.25488001,\n",
       "        0.019293  , -0.20265   ,  0.98232001,  0.028312  , -0.081276  ,\n",
       "       -0.1214    ,  0.13125999, -0.17648   ,  0.13556001, -0.16361   ,\n",
       "       -0.22574   ,  0.055006  , -0.20308   ,  0.20717999,  0.095785  ,\n",
       "        0.22481   ,  0.21537   , -0.32982001, -0.12241   , -0.40031001,\n",
       "       -0.079381  , -0.19958   , -0.015083  , -0.079139  , -0.18132   ,\n",
       "        0.20681   , -0.36195999, -0.30744001, -0.24422   , -0.23113   ,\n",
       "        0.09798   ,  0.1463    , -0.062738  ,  0.42934   , -0.078038  ,\n",
       "       -0.19627   ,  0.65092999, -0.22807001, -0.30307999, -0.12483   ,\n",
       "       -0.17568   , -0.14651   ,  0.15361001, -0.29517999,  0.15098999,\n",
       "       -0.51726002, -0.033564  , -0.23108999, -0.78329998,  0.018029  ,\n",
       "       -0.15719   ,  0.02293   ,  0.49639001,  0.029225  ,  0.05669   ,\n",
       "        0.14616001, -0.19194999,  0.16244   ,  0.23898   ,  0.36431   ,\n",
       "        0.45263001,  0.2456    ,  0.23803   ,  0.31399   ,  0.34869999,\n",
       "       -0.035791  ,  0.56107998, -0.25345001,  0.051964  , -0.10618   ,\n",
       "       -0.30961999,  1.05850005, -0.42025   ,  0.18216   , -0.11256   ,\n",
       "        0.40575999,  0.11784   , -0.19705001, -0.075292  ,  0.080723  ,\n",
       "       -0.02782   , -0.15617   , -0.44681001, -0.15165   ,  0.1692    ,\n",
       "        0.098255  , -0.031894  ,  0.087143  ,  0.26082   ,  0.002706  ,\n",
       "        0.1319    ,  0.34439   , -0.37893999, -0.41139999,  0.081571  ,\n",
       "       -0.11674   , -0.43711001,  0.011144  ,  0.099353  ,  0.26611999,\n",
       "        0.40024999,  0.18895   , -0.18437999, -0.30355   , -0.27250001,\n",
       "        0.22468001, -0.40614   ,  0.15617999, -0.16043   ,  0.47147   ,\n",
       "        0.0080203 ,  0.56857997,  0.21934   , -0.11181   ,  0.79925001,\n",
       "        0.10714   , -0.50146002,  0.063593  ,  0.069465  ,  0.15291999,\n",
       "       -0.27469999, -0.20988999,  0.20737   , -0.10681   ,  0.40651   ,\n",
       "       -2.64380002, -0.31139001, -0.32157001, -0.26458001, -0.35624999,\n",
       "        0.070013  , -0.18838   ,  0.48773   , -0.26166999, -0.020805  ,\n",
       "        0.17818999,  0.15758   , -0.13752   ,  0.056464  ,  0.30766001,\n",
       "       -0.066136  ,  0.47479999, -0.27335   ,  0.09732   , -0.20832001,\n",
       "        0.0039332 ,  0.34599999, -0.08702   , -0.54923999, -0.18759   ,\n",
       "       -0.17174   ,  0.060324  , -0.13521001,  0.10419   ,  0.30164999,\n",
       "        0.05798   ,  0.21872   , -0.073594  , -0.20423   , -0.25279   ,\n",
       "       -0.10471   , -0.32163   ,  0.12525   , -0.31281   ,  0.0097207 ,\n",
       "       -0.26776999, -0.61120999, -0.11089   , -0.13652   ,  0.035135  ,\n",
       "       -0.4939    ,  0.084857  , -0.15493999, -0.063509  , -0.23935001,\n",
       "        0.28272   ,  0.10849   , -0.33649999, -0.60764003,  0.38576001,\n",
       "       -0.0095438 ,  0.17499   , -0.52723002,  0.62211001,  0.19543999,\n",
       "       -0.48977   ,  0.036582  , -0.12800001, -0.016827  ,  0.25646999,\n",
       "       -0.31698   ,  0.48256999, -0.14184   ,  0.11046   , -0.3098    ,\n",
       "       -0.63141   , -0.37268001,  0.23183   , -0.14268   , -0.02341   ,\n",
       "        0.022255  , -0.044662  , -0.16404   , -0.25848001,  0.1629    ,\n",
       "        0.024751  ,  0.23348001,  0.27932999,  0.38997999, -0.058968  ,\n",
       "        0.11355   ,  0.15673   ,  0.18583   , -0.19814   , -0.48122999,\n",
       "       -0.035084  ,  0.078458  , -0.49833   ,  0.10855   , -0.20133001,\n",
       "        0.05292   , -0.11583   , -0.16009   ,  0.16768   ,  0.42361999,\n",
       "       -0.23106   ,  0.082465  ,  0.24296001, -0.16786   ,  0.0080409 ,\n",
       "        0.085947  ,  0.38033   ,  0.072981  ,  0.16329999,  0.24704   ,\n",
       "       -0.11094   ,  0.15115   , -0.22068   , -0.061944  , -0.037091  ,\n",
       "       -0.087923  , -0.23181   ,  0.15035   , -0.19092999, -0.19113   ,\n",
       "       -0.11894   ,  0.094908  , -0.0043347 ,  0.15362   , -0.41201001,\n",
       "       -0.3073    ,  0.18375   ,  0.40206   , -0.0034793 , -0.10917   ,\n",
       "       -0.69521999,  0.10161   , -0.079256  ,  0.40329   ,  0.22284999,\n",
       "       -0.19374   , -0.13315   ,  0.073231  ,  0.099832  ,  0.11685   ,\n",
       "       -0.21642999, -0.1108    ,  0.10341   ,  0.097286  ,  0.11196   ,\n",
       "       -0.38940001, -0.0089363 ,  0.28808999, -0.10792   ,  0.028811  ,\n",
       "        0.32545   ,  0.26052001, -0.038941  ,  0.075204  ,  0.46031001,\n",
       "       -0.06293   ,  0.21661   ,  0.17869   , -0.51916999,  0.33590999])"
      ]
     },
     "execution_count": 292,
     "metadata": {},
     "output_type": "execute_result"
    }
   ],
   "source": [
    "weights_matrix[2467, ] #confirmed that at index \"hello\" we're seeing the glove vector for \"hello\""
   ]
  },
  {
   "cell_type": "code",
   "execution_count": 293,
   "metadata": {
    "collapsed": false,
    "scrolled": true
   },
   "outputs": [
    {
     "data": {
      "text/plain": [
       "11456"
      ]
     },
     "execution_count": 293,
     "metadata": {},
     "output_type": "execute_result"
    }
   ],
   "source": [
    "len(vocab.keys())"
   ]
  },
  {
   "cell_type": "code",
   "execution_count": 294,
   "metadata": {
    "collapsed": false,
    "scrolled": true
   },
   "outputs": [
    {
     "data": {
      "text/plain": [
       "(11457, 300)"
      ]
     },
     "execution_count": 294,
     "metadata": {},
     "output_type": "execute_result"
    }
   ],
   "source": [
    "weights_matrix.shape"
   ]
  },
  {
   "cell_type": "code",
   "execution_count": 295,
   "metadata": {
    "collapsed": false
   },
   "outputs": [],
   "source": [
    "weights = torch.FloatTensor(weights_matrix)"
   ]
  },
  {
   "cell_type": "code",
   "execution_count": 296,
   "metadata": {
    "collapsed": false
   },
   "outputs": [
    {
     "data": {
      "text/plain": [
       "2634"
      ]
     },
     "execution_count": 296,
     "metadata": {},
     "output_type": "execute_result"
    }
   ],
   "source": [
    "sum(weights.sum(dim = 1) == 0) #2,634 words initialized to zero vectors without stemming"
   ]
  },
  {
   "cell_type": "code",
   "execution_count": 297,
   "metadata": {
    "collapsed": false
   },
   "outputs": [],
   "source": [
    "def pad_data(s, length):\n",
    "    padded = np.zeros((length,), dtype = np.int64)\n",
    "    if len(s) > length: \n",
    "        padded = s[:length]\n",
    "    else:\n",
    "        padded[:len(s)] = s\n",
    "    return np.array(padded)"
   ]
  },
  {
   "cell_type": "code",
   "execution_count": 300,
   "metadata": {
    "collapsed": false
   },
   "outputs": [
    {
     "data": {
      "text/plain": [
       "\"join us 3/26 at our women 's history month instameet ! learn of a nurse who tended ailing soldiers here in 1862 .\""
      ]
     },
     "execution_count": 300,
     "metadata": {},
     "output_type": "execute_result"
    }
   ],
   "source": [
    "train['clean_tweet'][3]"
   ]
  },
  {
   "cell_type": "code",
   "execution_count": 301,
   "metadata": {
    "collapsed": false
   },
   "outputs": [],
   "source": [
    "train['seq_len'] = [len(x.split(' ')) for x in train['clean_tweet']]\n",
    "\n",
    "train['numeric'] = [[word2index[y] for y in x.split(' ')] for x in train['clean_tweet']]\n",
    "\n",
    "train['padded_tweet'] = [pad_data(x, 15) for x in train.numeric]"
   ]
  },
  {
   "cell_type": "code",
   "execution_count": 12,
   "metadata": {
    "collapsed": true
   },
   "outputs": [],
   "source": [
    "#if we want validation accuracy to better resemble test accuracy, need to create vocab on training only"
   ]
  },
  {
   "cell_type": "code",
   "execution_count": 302,
   "metadata": {
    "collapsed": false
   },
   "outputs": [],
   "source": [
    "train_sub, validation = model_selection.train_test_split(train, test_size = 0.2, random_state = 123)"
   ]
  },
  {
   "cell_type": "code",
   "execution_count": 303,
   "metadata": {
    "collapsed": false
   },
   "outputs": [],
   "source": [
    "# subclass the custom dataset class with torch.utils.data.Dataset\n",
    "# implement __len__ and __getitem__ function\n",
    "class VectorizeData(Dataset):\n",
    "    def __init__(self, df, label, maxlen=20):\n",
    "        self.df = df\n",
    "        self.label = label\n",
    "\n",
    "    def __len__(self):\n",
    "        return self.df.shape[0]\n",
    "    \n",
    "    def __getitem__(self, idx):\n",
    "        X = self.df.padded_tweet[idx]\n",
    "        y = self.df[self.label][idx]\n",
    "        lens = self.df.seq_len[idx]\n",
    "        return X,y,lens"
   ]
  },
  {
   "cell_type": "code",
   "execution_count": 304,
   "metadata": {
    "collapsed": false
   },
   "outputs": [],
   "source": [
    "train_sub.reset_index(inplace = True, drop = True)"
   ]
  },
  {
   "cell_type": "code",
   "execution_count": 305,
   "metadata": {
    "collapsed": true
   },
   "outputs": [],
   "source": [
    "validation.reset_index(inplace = True, drop = True)"
   ]
  },
  {
   "cell_type": "code",
   "execution_count": 306,
   "metadata": {
    "collapsed": false
   },
   "outputs": [],
   "source": [
    "data = VectorizeData(train_sub, label = 'hatespeech')\n",
    "\n",
    "dl = DataLoader(data, batch_size = 32, shuffle = True)"
   ]
  },
  {
   "cell_type": "code",
   "execution_count": 307,
   "metadata": {
    "collapsed": false
   },
   "outputs": [],
   "source": [
    "class LSTMClassifier(nn.Module):\n",
    "    def __init__(self, weights, vocab_size, embedding_dim, hidden_dim, output_size, batch_size):\n",
    "        super(LSTMClassifier, self).__init__()\n",
    "        self.weights = weights\n",
    "        self.embedding_dim = embedding_dim\n",
    "        self.hidden_dim = hidden_dim\n",
    "        self.vocab_size = vocab_size\n",
    "        self.embedding = nn.Embedding(vocab_size, embedding_dim)\n",
    "        self.lstm = nn.LSTM(embedding_dim, hidden_dim, num_layers=1)\n",
    "        self.hidden2out = nn.Linear(hidden_dim, output_size)\n",
    "        self.softmax = nn.LogSoftmax()\n",
    "        self.dropout_layer = nn.Dropout(p=0.2)\n",
    "        self.batch_size = batch_size\n",
    "        #self.hidden = self.init_hidden(batch_size)\n",
    "\n",
    "    def init_hidden(self, batch_size):\n",
    "        return(autograd.Variable(torch.randn(1, batch_size, self.hidden_dim)), \\\n",
    "               autograd.Variable(torch.randn(1, batch_size, self.hidden_dim)))\n",
    "\n",
    "    def forward(self, batch):\n",
    "        #print (batch.size()) #seq length x batch_size\n",
    "        #should reinitalize hidden states before each batch?\n",
    "        self.hidden = self.init_hidden(batch_size)\n",
    "        embeds = self.embedding(batch)\n",
    "        embeds.weight = nn.Parameter(self.weights)\n",
    "        #print (embeds.size()) #10 x 32 x 300 (hidden size)\n",
    "        #packed_input = pack_padded_sequence(embeds, lengths)\n",
    "        outputs, (ht, ct) = self.lstm(embeds, self.hidden)\n",
    "        # ht is the last hidden state of the sequences\n",
    "        # ht = (1 x batch_size x hidden_dim)\n",
    "        # ht[-1] = (batch_size x hidden_dim)\n",
    "        output = self.dropout_layer(ht[-1])\n",
    "        output = self.hidden2out(output)\n",
    "        output = self.softmax(output)\n",
    "        return output"
   ]
  },
  {
   "cell_type": "code",
   "execution_count": 308,
   "metadata": {
    "collapsed": true
   },
   "outputs": [],
   "source": [
    "hidden_size = 300 \n",
    "num_classes = 2\n",
    "learning_rate = 0.01\n",
    "num_epochs = 10\n",
    "batch_size = 32"
   ]
  },
  {
   "cell_type": "code",
   "execution_count": 309,
   "metadata": {
    "collapsed": false,
    "scrolled": false
   },
   "outputs": [],
   "source": [
    "def get_validation_score(validation_data_loader, model):\n",
    "    predictions = []\n",
    "    pred_labels = []\n",
    "    #get training predictions\n",
    "    it = iter(validation_data_loader)\n",
    "    num_batch = len(validation_data_loader) - 1\n",
    "    # Loop over all batches\n",
    "    for i in range(num_batch):\n",
    "        batch_x,batch_y,batch_len = next(it)\n",
    "        tweets = Variable(batch_x.transpose(0,1))\n",
    "        labels = Variable(batch_y)\n",
    "        lengths = Variable(batch_len)\n",
    "        outputs = model(tweets)\n",
    "        _, pred = torch.max(outputs.data, 1)\n",
    "        predictions.extend(list(pred.numpy()))\n",
    "        pred_labels.extend(list(labels.data.numpy()))\n",
    "    return (f1_score(pred_labels, predictions))"
   ]
  },
  {
   "cell_type": "code",
   "execution_count": 310,
   "metadata": {
    "collapsed": false
   },
   "outputs": [
    {
     "name": "stdout",
     "output_type": "stream",
     "text": [
      "Epoch [1/10], Step [4/124], Loss: 0.3924\n",
      "Epoch [1/10], Step [8/124], Loss: 0.2781\n",
      "Epoch [1/10], Step [12/124], Loss: 4.2271\n"
     ]
    },
    {
     "name": "stderr",
     "output_type": "stream",
     "text": [
      "/anaconda/lib/python3.6/site-packages/sklearn/metrics/classification.py:1135: UndefinedMetricWarning: F-score is ill-defined and being set to 0.0 due to no predicted samples.\n",
      "  'precision', 'predicted', average, warn_for)\n"
     ]
    },
    {
     "name": "stdout",
     "output_type": "stream",
     "text": [
      "Epoch [1/10], Step [16/124], Loss: 0.1032\n",
      "Epoch [1/10], Step [20/124], Loss: 0.7116\n",
      "Epoch [1/10], Step [24/124], Loss: 0.5620\n",
      "Epoch [1/10], Step [28/124], Loss: 0.9807\n",
      "Epoch [1/10], Step [32/124], Loss: 1.6084\n",
      "Epoch [1/10], Step [36/124], Loss: 0.5721\n",
      "Epoch [1/10], Step [40/124], Loss: 1.3964\n",
      "Epoch [1/10], Step [44/124], Loss: 0.7713\n",
      "Epoch [1/10], Step [48/124], Loss: 0.3200\n",
      "Epoch [1/10], Step [52/124], Loss: 0.9319\n",
      "Epoch [1/10], Step [56/124], Loss: 0.4690\n",
      "Epoch [1/10], Step [60/124], Loss: 0.4430\n",
      "Epoch [1/10], Step [64/124], Loss: 0.1121\n",
      "Epoch [1/10], Step [68/124], Loss: 0.0435\n",
      "Epoch [1/10], Step [72/124], Loss: 0.1033\n",
      "Epoch [1/10], Step [76/124], Loss: 1.0319\n",
      "Epoch [1/10], Step [80/124], Loss: 1.5956\n",
      "Epoch [1/10], Step [84/124], Loss: 0.4985\n",
      "Epoch [1/10], Step [88/124], Loss: 1.3005\n",
      "Epoch [1/10], Step [92/124], Loss: 0.7264\n",
      "Epoch [1/10], Step [96/124], Loss: 0.7793\n",
      "Epoch [2/10], Step [4/124], Loss: 0.4321\n",
      "Epoch [2/10], Step [8/124], Loss: 0.1457\n",
      "Epoch [2/10], Step [12/124], Loss: 0.0459\n",
      "Epoch [2/10], Step [16/124], Loss: 0.0263\n",
      "Epoch [2/10], Step [20/124], Loss: 0.0437\n",
      "Epoch [2/10], Step [24/124], Loss: 0.5753\n",
      "Epoch [2/10], Step [28/124], Loss: 0.1858\n",
      "Epoch [2/10], Step [32/124], Loss: 0.1960\n",
      "Epoch [2/10], Step [36/124], Loss: 0.4006\n",
      "Epoch [2/10], Step [40/124], Loss: 0.2755\n",
      "Epoch [2/10], Step [44/124], Loss: 0.2677\n",
      "Epoch [2/10], Step [48/124], Loss: 0.1208\n",
      "Epoch [2/10], Step [52/124], Loss: 0.4141\n",
      "Epoch [2/10], Step [56/124], Loss: 0.3647\n",
      "Epoch [2/10], Step [60/124], Loss: 0.1564\n",
      "Epoch [2/10], Step [64/124], Loss: 0.9478\n",
      "Epoch [2/10], Step [68/124], Loss: 0.2029\n",
      "Epoch [2/10], Step [72/124], Loss: 0.1441\n",
      "Epoch [2/10], Step [76/124], Loss: 0.7754\n",
      "Epoch [2/10], Step [80/124], Loss: 0.1815\n",
      "Epoch [2/10], Step [84/124], Loss: 1.1289\n",
      "Epoch [2/10], Step [88/124], Loss: 0.3219\n",
      "Epoch [2/10], Step [92/124], Loss: 0.3499\n",
      "Epoch [2/10], Step [96/124], Loss: 0.0974\n",
      "Epoch [3/10], Step [4/124], Loss: 0.0122\n",
      "Epoch [3/10], Step [8/124], Loss: 0.0423\n",
      "Epoch [3/10], Step [12/124], Loss: 0.0426\n",
      "Epoch [3/10], Step [16/124], Loss: 0.1053\n",
      "Epoch [3/10], Step [20/124], Loss: 0.0384\n",
      "Epoch [3/10], Step [24/124], Loss: 0.0460\n",
      "Epoch [3/10], Step [28/124], Loss: 0.0205\n",
      "Epoch [3/10], Step [32/124], Loss: 0.4073\n",
      "Epoch [3/10], Step [36/124], Loss: 0.1741\n",
      "Epoch [3/10], Step [40/124], Loss: 0.3799\n",
      "Epoch [3/10], Step [44/124], Loss: 0.0514\n",
      "Epoch [3/10], Step [48/124], Loss: 0.0798\n",
      "Epoch [3/10], Step [52/124], Loss: 0.1086\n",
      "Epoch [3/10], Step [56/124], Loss: 0.0492\n",
      "Epoch [3/10], Step [60/124], Loss: 0.0460\n",
      "Epoch [3/10], Step [64/124], Loss: 0.0216\n",
      "Epoch [3/10], Step [68/124], Loss: 0.0137\n",
      "Epoch [3/10], Step [72/124], Loss: 0.0050\n",
      "Epoch [3/10], Step [76/124], Loss: 0.1893\n",
      "Epoch [3/10], Step [80/124], Loss: 0.0072\n",
      "Epoch [3/10], Step [84/124], Loss: 0.0165\n",
      "Epoch [3/10], Step [88/124], Loss: 0.0427\n",
      "Epoch [3/10], Step [92/124], Loss: 0.9694\n",
      "Epoch [3/10], Step [96/124], Loss: 0.0433\n",
      "Epoch [4/10], Step [4/124], Loss: 0.0603\n",
      "Epoch [4/10], Step [8/124], Loss: 0.0484\n",
      "Epoch [4/10], Step [12/124], Loss: 0.0250\n",
      "Epoch [4/10], Step [16/124], Loss: 0.0220\n",
      "Epoch [4/10], Step [20/124], Loss: 0.0452\n",
      "Epoch [4/10], Step [24/124], Loss: 0.0207\n",
      "Epoch [4/10], Step [28/124], Loss: 0.0109\n",
      "Epoch [4/10], Step [32/124], Loss: 0.0077\n",
      "Epoch [4/10], Step [36/124], Loss: 0.0044\n",
      "Epoch [4/10], Step [40/124], Loss: 0.0107\n",
      "Epoch [4/10], Step [44/124], Loss: 0.0733\n",
      "Epoch [4/10], Step [48/124], Loss: 0.0292\n",
      "Epoch [4/10], Step [52/124], Loss: 0.1335\n",
      "Epoch [4/10], Step [56/124], Loss: 0.0169\n",
      "Epoch [4/10], Step [60/124], Loss: 0.0137\n",
      "Epoch [4/10], Step [64/124], Loss: 0.0404\n",
      "Epoch [4/10], Step [68/124], Loss: 0.0119\n",
      "Epoch [4/10], Step [72/124], Loss: 0.1416\n",
      "Epoch [4/10], Step [76/124], Loss: 0.0039\n",
      "Epoch [4/10], Step [80/124], Loss: 0.0064\n",
      "Epoch [4/10], Step [84/124], Loss: 0.0857\n",
      "Epoch [4/10], Step [88/124], Loss: 0.1242\n",
      "Epoch [4/10], Step [92/124], Loss: 0.0539\n",
      "Epoch [4/10], Step [96/124], Loss: 0.0047\n",
      "Epoch [5/10], Step [4/124], Loss: 0.0178\n",
      "Epoch [5/10], Step [8/124], Loss: 0.0070\n",
      "Epoch [5/10], Step [12/124], Loss: 0.0054\n",
      "Epoch [5/10], Step [16/124], Loss: 0.0283\n",
      "Epoch [5/10], Step [20/124], Loss: 0.0571\n",
      "Epoch [5/10], Step [24/124], Loss: 0.0004\n",
      "Epoch [5/10], Step [28/124], Loss: 0.0030\n",
      "Epoch [5/10], Step [32/124], Loss: 0.0053\n",
      "Epoch [5/10], Step [36/124], Loss: 0.0010\n",
      "Epoch [5/10], Step [40/124], Loss: 0.0200\n",
      "Epoch [5/10], Step [44/124], Loss: 0.0041\n",
      "Epoch [5/10], Step [48/124], Loss: 0.0022\n",
      "Epoch [5/10], Step [52/124], Loss: 0.1692\n",
      "Epoch [5/10], Step [56/124], Loss: 0.2337\n",
      "Epoch [5/10], Step [60/124], Loss: 0.0087\n",
      "Epoch [5/10], Step [64/124], Loss: 0.0019\n",
      "Epoch [5/10], Step [68/124], Loss: 0.0062\n",
      "Epoch [5/10], Step [72/124], Loss: 0.0026\n",
      "Epoch [5/10], Step [76/124], Loss: 0.0044\n",
      "Epoch [5/10], Step [80/124], Loss: 0.0038\n",
      "Epoch [5/10], Step [84/124], Loss: 0.0665\n",
      "Epoch [5/10], Step [88/124], Loss: 0.0004\n",
      "Epoch [5/10], Step [92/124], Loss: 0.0007\n",
      "Epoch [5/10], Step [96/124], Loss: 0.0007\n",
      "Epoch [6/10], Step [4/124], Loss: 0.2154\n",
      "Epoch [6/10], Step [8/124], Loss: 0.0009\n",
      "Epoch [6/10], Step [12/124], Loss: 0.0011\n",
      "Epoch [6/10], Step [16/124], Loss: 0.0532\n",
      "Epoch [6/10], Step [20/124], Loss: 0.0005\n",
      "Epoch [6/10], Step [24/124], Loss: 0.0005\n",
      "Epoch [6/10], Step [28/124], Loss: 0.0006\n",
      "Epoch [6/10], Step [32/124], Loss: 0.0012\n",
      "Epoch [6/10], Step [36/124], Loss: 0.0144\n",
      "Epoch [6/10], Step [40/124], Loss: 0.0015\n",
      "Epoch [6/10], Step [44/124], Loss: 0.0001\n",
      "Epoch [6/10], Step [48/124], Loss: 0.0017\n",
      "Epoch [6/10], Step [52/124], Loss: 0.0002\n",
      "Epoch [6/10], Step [56/124], Loss: 0.0049\n",
      "Epoch [6/10], Step [60/124], Loss: 0.0076\n",
      "Epoch [6/10], Step [64/124], Loss: 0.0149\n",
      "Epoch [6/10], Step [68/124], Loss: 0.0069\n",
      "Epoch [6/10], Step [72/124], Loss: 0.0005\n",
      "Epoch [6/10], Step [76/124], Loss: 0.0005\n",
      "Epoch [6/10], Step [80/124], Loss: 0.0016\n",
      "Epoch [6/10], Step [84/124], Loss: 0.0006\n",
      "Epoch [6/10], Step [88/124], Loss: 0.0001\n",
      "Epoch [6/10], Step [92/124], Loss: 0.0007\n",
      "Epoch [6/10], Step [96/124], Loss: 0.1260\n",
      "Epoch [7/10], Step [4/124], Loss: 0.0003\n",
      "Epoch [7/10], Step [8/124], Loss: 0.0267\n",
      "Epoch [7/10], Step [12/124], Loss: 0.0004\n",
      "Epoch [7/10], Step [16/124], Loss: 0.0021\n",
      "Epoch [7/10], Step [20/124], Loss: 0.0025\n",
      "Epoch [7/10], Step [24/124], Loss: 0.3071\n",
      "Epoch [7/10], Step [28/124], Loss: 0.0003\n",
      "Epoch [7/10], Step [32/124], Loss: 0.0027\n",
      "Epoch [7/10], Step [36/124], Loss: 0.0011\n",
      "Epoch [7/10], Step [40/124], Loss: 0.0003\n",
      "Epoch [7/10], Step [44/124], Loss: 0.0008\n",
      "Epoch [7/10], Step [48/124], Loss: 0.0232\n",
      "Epoch [7/10], Step [52/124], Loss: 0.0012\n",
      "Epoch [7/10], Step [56/124], Loss: 0.0061\n",
      "Epoch [7/10], Step [60/124], Loss: 0.0004\n",
      "Epoch [7/10], Step [64/124], Loss: 0.0002\n",
      "Epoch [7/10], Step [68/124], Loss: 0.1160\n",
      "Epoch [7/10], Step [72/124], Loss: 0.0026\n",
      "Epoch [7/10], Step [76/124], Loss: 0.0004\n",
      "Epoch [7/10], Step [80/124], Loss: 0.0015\n",
      "Epoch [7/10], Step [84/124], Loss: 0.0041\n",
      "Epoch [7/10], Step [88/124], Loss: 0.0037\n",
      "Epoch [7/10], Step [92/124], Loss: 0.0013\n",
      "Epoch [7/10], Step [96/124], Loss: 0.0048\n",
      "Epoch [8/10], Step [4/124], Loss: 0.0016\n",
      "Epoch [8/10], Step [8/124], Loss: 0.0002\n",
      "Epoch [8/10], Step [12/124], Loss: 0.0005\n",
      "Epoch [8/10], Step [16/124], Loss: 0.0210\n",
      "Epoch [8/10], Step [20/124], Loss: 0.0003\n",
      "Epoch [8/10], Step [24/124], Loss: 0.0004\n",
      "Epoch [8/10], Step [28/124], Loss: 0.0003\n",
      "Epoch [8/10], Step [32/124], Loss: 0.0006\n",
      "Epoch [8/10], Step [36/124], Loss: 0.0002\n",
      "Epoch [8/10], Step [40/124], Loss: 0.0003\n",
      "Epoch [8/10], Step [44/124], Loss: 0.0013\n",
      "Epoch [8/10], Step [48/124], Loss: 0.2319\n",
      "Epoch [8/10], Step [52/124], Loss: 0.0005\n",
      "Epoch [8/10], Step [56/124], Loss: 0.0711\n",
      "Epoch [8/10], Step [60/124], Loss: 0.0496\n",
      "Epoch [8/10], Step [64/124], Loss: 0.0006\n",
      "Epoch [8/10], Step [68/124], Loss: 0.0019\n",
      "Epoch [8/10], Step [72/124], Loss: 0.0022\n",
      "Epoch [8/10], Step [76/124], Loss: 0.0007\n",
      "Epoch [8/10], Step [80/124], Loss: 0.0004\n",
      "Epoch [8/10], Step [84/124], Loss: 0.0008\n",
      "Epoch [8/10], Step [88/124], Loss: 0.0019\n",
      "Epoch [8/10], Step [92/124], Loss: 0.0017\n",
      "Epoch [8/10], Step [96/124], Loss: 0.0041\n",
      "Epoch [9/10], Step [4/124], Loss: 0.0005\n",
      "Epoch [9/10], Step [8/124], Loss: 0.1903\n",
      "Epoch [9/10], Step [12/124], Loss: 0.0002\n",
      "Epoch [9/10], Step [16/124], Loss: 0.0003\n",
      "Epoch [9/10], Step [20/124], Loss: 0.0002\n",
      "Epoch [9/10], Step [24/124], Loss: 0.0060\n",
      "Epoch [9/10], Step [28/124], Loss: 0.0322\n",
      "Epoch [9/10], Step [32/124], Loss: 0.0011\n",
      "Epoch [9/10], Step [36/124], Loss: 0.0003\n",
      "Epoch [9/10], Step [40/124], Loss: 0.0030\n",
      "Epoch [9/10], Step [44/124], Loss: 0.0001\n",
      "Epoch [9/10], Step [48/124], Loss: 0.0003\n",
      "Epoch [9/10], Step [52/124], Loss: 0.0004\n",
      "Epoch [9/10], Step [56/124], Loss: 0.0003\n",
      "Epoch [9/10], Step [60/124], Loss: 0.0012\n",
      "Epoch [9/10], Step [64/124], Loss: 0.0249\n",
      "Epoch [9/10], Step [68/124], Loss: 0.0003\n",
      "Epoch [9/10], Step [72/124], Loss: 0.0015\n",
      "Epoch [9/10], Step [76/124], Loss: 0.3749\n",
      "Epoch [9/10], Step [80/124], Loss: 0.0001\n",
      "Epoch [9/10], Step [84/124], Loss: 0.0001\n",
      "Epoch [9/10], Step [88/124], Loss: 0.0001\n",
      "Epoch [9/10], Step [92/124], Loss: 0.0003\n",
      "Epoch [9/10], Step [96/124], Loss: 0.0002\n",
      "Epoch [10/10], Step [4/124], Loss: 0.0001\n",
      "Epoch [10/10], Step [8/124], Loss: 0.0001\n",
      "Epoch [10/10], Step [12/124], Loss: 0.0004\n",
      "Epoch [10/10], Step [16/124], Loss: 0.0002\n",
      "Epoch [10/10], Step [20/124], Loss: 0.0005\n",
      "Epoch [10/10], Step [24/124], Loss: 0.0025\n",
      "Epoch [10/10], Step [28/124], Loss: 0.0003\n",
      "Epoch [10/10], Step [32/124], Loss: 0.0010\n",
      "Epoch [10/10], Step [36/124], Loss: 0.0010\n",
      "Epoch [10/10], Step [40/124], Loss: 0.0458\n",
      "Epoch [10/10], Step [44/124], Loss: 0.0010\n",
      "Epoch [10/10], Step [48/124], Loss: 0.0000\n",
      "Epoch [10/10], Step [52/124], Loss: 0.0014\n",
      "Epoch [10/10], Step [56/124], Loss: 0.0405\n",
      "Epoch [10/10], Step [60/124], Loss: 0.0000\n",
      "Epoch [10/10], Step [64/124], Loss: 0.0379\n",
      "Epoch [10/10], Step [68/124], Loss: 0.0000\n",
      "Epoch [10/10], Step [72/124], Loss: 0.0003\n",
      "Epoch [10/10], Step [76/124], Loss: 0.0004\n",
      "Epoch [10/10], Step [80/124], Loss: 0.0002\n",
      "Epoch [10/10], Step [84/124], Loss: 0.1612\n",
      "Epoch [10/10], Step [88/124], Loss: 0.2407\n",
      "Epoch [10/10], Step [92/124], Loss: 0.0006\n",
      "Epoch [10/10], Step [96/124], Loss: 0.0004\n"
     ]
    }
   ],
   "source": [
    "#add 1 because of pad token\n",
    "net = LSTMClassifier(weights, total_words, hidden_size, hidden_size, num_classes, batch_size)\n",
    "\n",
    "# Loss and Optimizer\n",
    "criterion = nn.NLLLoss(weight = torch.Tensor([1/39,1]))  \n",
    "optimizer = torch.optim.Adam(net.parameters(), lr=learning_rate)\n",
    "\n",
    "#Validation Data\n",
    "val = VectorizeData(validation, label = 'hatespeech')\n",
    "dl2 = DataLoader(val, batch_size = 32, shuffle = False)\n",
    "\n",
    "losses = []\n",
    "val_scores = []\n",
    "\n",
    "num_batch = len(dl) - 1\n",
    "# Train the Model\n",
    "for epoch in range(num_epochs):\n",
    "    it = iter(dl)\n",
    "    # Loop over all batches\n",
    "    for i in range(num_batch):\n",
    "        batch_x,batch_y,batch_len = next(it)\n",
    "        tweets = Variable(batch_x.transpose(0,1))\n",
    "        labels = Variable(batch_y)\n",
    "        lengths = Variable(batch_len)\n",
    "        # Forward + Backward + Optimize\n",
    "        optimizer.zero_grad()  # zero the gradient buffer\n",
    "        outputs = net(tweets)\n",
    "        loss = criterion(outputs, labels)\n",
    "        losses.append(loss.data[0])\n",
    "        loss.backward()\n",
    "        optimizer.step()\n",
    "\n",
    "        if (i+1) % 4 == 0:\n",
    "            print ('Epoch [%d/%d], Step [%d/%d], Loss: %.4f'\n",
    "                   %(epoch+1, num_epochs, i+1, len(train.clean_tweet)//batch_size, loss.data[0]))\n",
    "            val_scores.append(get_validation_loss(dl2, net))"
   ]
  },
  {
   "cell_type": "code",
   "execution_count": 311,
   "metadata": {
    "collapsed": false
   },
   "outputs": [
    {
     "data": {
      "text/plain": [
       "[<matplotlib.lines.Line2D at 0x1264c3358>]"
      ]
     },
     "execution_count": 311,
     "metadata": {},
     "output_type": "execute_result"
    },
    {
     "data": {
      "image/png": "[encoded data removed]",
      "text/plain": [
       "<matplotlib.figure.Figure at 0x12519ccf8>"
      ]
     },
     "metadata": {},
     "output_type": "display_data"
    }
   ],
   "source": [
    "plt.plot(losses)"
   ]
  },
  {
   "cell_type": "code",
   "execution_count": 312,
   "metadata": {
    "collapsed": false
   },
   "outputs": [
    {
     "data": {
      "text/plain": [
       "[<matplotlib.lines.Line2D at 0x12859f7b8>]"
      ]
     },
     "execution_count": 312,
     "metadata": {},
     "output_type": "execute_result"
    },
    {
     "data": {
      "image/png": "[encoded data removed]",
      "text/plain": [
       "<matplotlib.figure.Figure at 0x12667a358>"
      ]
     },
     "metadata": {},
     "output_type": "display_data"
    }
   ],
   "source": [
    "plt.plot(val_scores)"
   ]
  }
 ],
 "metadata": {
  "kernelspec": {
   "display_name": "Python 3",
   "language": "python",
   "name": "python3"
  },
  "language_info": {
   "codemirror_mode": {
    "name": "ipython",
    "version": 3
   },
   "file_extension": ".py",
   "mimetype": "text/x-python",
   "name": "python",
   "nbconvert_exporter": "python",
   "pygments_lexer": "ipython3",
   "version": "3.6.0"
  }
 },
 "nbformat": 4,
 "nbformat_minor": 2
}
