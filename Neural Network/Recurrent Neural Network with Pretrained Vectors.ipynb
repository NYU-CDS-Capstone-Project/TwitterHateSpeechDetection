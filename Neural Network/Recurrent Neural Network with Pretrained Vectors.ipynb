{
 "cells": [
  {
   "cell_type": "markdown",
   "metadata": {},
   "source": [
    "## <b>Import libraries<b>"
   ]
  },
  {
   "cell_type": "code",
   "execution_count": 3,
   "metadata": {
    "collapsed": false
   },
   "outputs": [
    {
     "ename": "ModuleNotFoundError",
     "evalue": "No module named 'bcolz'",
     "output_type": "error",
     "traceback": [
      "\u001b[0;31m---------------------------------------------------------------------------\u001b[0m",
      "\u001b[0;31mModuleNotFoundError\u001b[0m                       Traceback (most recent call last)",
      "\u001b[0;32m<ipython-input-3-4e658de867cb>\u001b[0m in \u001b[0;36m<module>\u001b[0;34m()\u001b[0m\n\u001b[1;32m     17\u001b[0m \u001b[0;32mfrom\u001b[0m \u001b[0msklearn\u001b[0m \u001b[0;32mimport\u001b[0m \u001b[0mmodel_selection\u001b[0m\u001b[0;34m\u001b[0m\u001b[0m\n\u001b[1;32m     18\u001b[0m \u001b[0mget_ipython\u001b[0m\u001b[0;34m(\u001b[0m\u001b[0;34m)\u001b[0m\u001b[0;34m.\u001b[0m\u001b[0mmagic\u001b[0m\u001b[0;34m(\u001b[0m\u001b[0;34m'matplotlib inline'\u001b[0m\u001b[0;34m)\u001b[0m\u001b[0;34m\u001b[0m\u001b[0m\n\u001b[0;32m---> 19\u001b[0;31m \u001b[0;32mimport\u001b[0m \u001b[0mbcolz\u001b[0m\u001b[0;34m\u001b[0m\u001b[0m\n\u001b[0m",
      "\u001b[0;31mModuleNotFoundError\u001b[0m: No module named 'bcolz'"
     ]
    }
   ],
   "source": [
    "import torch\n",
    "import pandas as pd\n",
    "import numpy as np\n",
    "from collections import Counter\n",
    "from torch.autograd import Variable\n",
    "import torch.nn as nn\n",
    "import torch.nn.functional as F\n",
    "import torch.autograd as autograd\n",
    "from sklearn.metrics import f1_score\n",
    "from torch.nn.utils.rnn import pack_padded_sequence, pad_packed_sequence\n",
    "from torch.utils.data import Dataset, DataLoader\n",
    "from torch.nn.utils.rnn import pack_padded_sequence, pad_packed_sequence\n",
    "from torch.autograd import Variable\n",
    "import matplotlib.pyplot as plt\n",
    "from torch.optim.lr_scheduler import MultiStepLR\n",
    "from sklearn.metrics import f1_score\n",
    "from sklearn import model_selection\n",
    "%matplotlib inline"
   ]
  },
  {
   "cell_type": "code",
   "execution_count": 2,
   "metadata": {
    "collapsed": false
   },
   "outputs": [],
   "source": [
    "#drew inspiration from\n",
    "#https://github.com/dmesquita/understanding_pytorch_nn and\n",
    "#https://github.com/msahamed/yelp_comments_classification_nlp/blob/master/word_embeddings.ipynb\n",
    "#https://github.com/nyu-mll/DS-GA-1011-Fall2017/blob/master/week%20eight/Week%20Eight%20Solutions.ipynb\n",
    "#https://pytorch.org/tutorials/beginner/nlp/sequence_models_tutorial.html\n",
    "#https://github.com/claravania/lstm-pytorch/blob/master/model.py\n",
    "#https://medium.com/@sonicboom8/sentiment-analysis-with-variable-length-sequences-in-pytorch-6241635ae130\n",
    "#https://github.com/hpanwar08/sentence-classification-pytorch/blob/master/Sentiment%20analysis%20pytorch.ipynb"
   ]
  },
  {
   "cell_type": "code",
   "execution_count": null,
   "metadata": {
    "collapsed": true
   },
   "outputs": [],
   "source": [
    "#https://medium.com/@martinpella/how-to-use-pre-trained-word-embeddings-in-pytorch-71ca59249f76\n",
    "#https://github.com/Blosc/bcolz\n",
    "\n",
    "#used pip install -U blosc"
   ]
  },
  {
   "cell_type": "code",
   "execution_count": null,
   "metadata": {
    "collapsed": true
   },
   "outputs": [],
   "source": [
    "#https://modelzoo.co/model/pytorch-nlp\n",
    "#http://anie.me/On-Torchtext/\n",
    "#https://readthedocs.org/projects/pytorchnlp/downloads/pdf/latest/\n",
    "\n",
    "#https://github.com/A-Jacobson/CNN_Sentence_Classification/blob/master/WordVectors.ipynb\n",
    "\n",
    "#https://pytorch.org/docs/master/nn.html#torch.nn.Embedding.from_pretrained"
   ]
  },
  {
   "cell_type": "code",
   "execution_count": 12,
   "metadata": {
    "collapsed": true
   },
   "outputs": [],
   "source": [
    "from torchnlp.word_to_vector import GloVe #glove is much smaller than fastext, so downloads faster"
   ]
  },
  {
   "cell_type": "raw",
   "metadata": {},
   "source": [
    "vectors = GloVe()"
   ]
  },
  {
   "cell_type": "code",
   "execution_count": 15,
   "metadata": {
    "collapsed": false
   },
   "outputs": [
    {
     "data": {
      "text/plain": [
       "\n",
       " 0.2523\n",
       " 0.1018\n",
       "-0.6748\n",
       " 0.2112\n",
       " 0.4349\n",
       " 0.1654\n",
       " 0.4826\n",
       "-0.8122\n",
       " 0.0413\n",
       " 0.7850\n",
       "-0.0779\n",
       "-0.6632\n",
       " 0.1464\n",
       "-0.2929\n",
       "-0.2549\n",
       " 0.0193\n",
       "-0.2026\n",
       " 0.9823\n",
       " 0.0283\n",
       "-0.0813\n",
       "-0.1214\n",
       " 0.1313\n",
       "-0.1765\n",
       " 0.1356\n",
       "-0.1636\n",
       "-0.2257\n",
       " 0.0550\n",
       "-0.2031\n",
       " 0.2072\n",
       " 0.0958\n",
       " 0.2248\n",
       " 0.2154\n",
       "-0.3298\n",
       "-0.1224\n",
       "-0.4003\n",
       "-0.0794\n",
       "-0.1996\n",
       "-0.0151\n",
       "-0.0791\n",
       "-0.1813\n",
       " 0.2068\n",
       "-0.3620\n",
       "-0.3074\n",
       "-0.2442\n",
       "-0.2311\n",
       " 0.0980\n",
       " 0.1463\n",
       "-0.0627\n",
       " 0.4293\n",
       "-0.0780\n",
       "-0.1963\n",
       " 0.6509\n",
       "-0.2281\n",
       "-0.3031\n",
       "-0.1248\n",
       "-0.1757\n",
       "-0.1465\n",
       " 0.1536\n",
       "-0.2952\n",
       " 0.1510\n",
       "-0.5173\n",
       "-0.0336\n",
       "-0.2311\n",
       "-0.7833\n",
       " 0.0180\n",
       "-0.1572\n",
       " 0.0229\n",
       " 0.4964\n",
       " 0.0292\n",
       " 0.0567\n",
       " 0.1462\n",
       "-0.1919\n",
       " 0.1624\n",
       " 0.2390\n",
       " 0.3643\n",
       " 0.4526\n",
       " 0.2456\n",
       " 0.2380\n",
       " 0.3140\n",
       " 0.3487\n",
       "-0.0358\n",
       " 0.5611\n",
       "-0.2535\n",
       " 0.0520\n",
       "-0.1062\n",
       "-0.3096\n",
       " 1.0585\n",
       "-0.4202\n",
       " 0.1822\n",
       "-0.1126\n",
       " 0.4058\n",
       " 0.1178\n",
       "-0.1971\n",
       "-0.0753\n",
       " 0.0807\n",
       "-0.0278\n",
       "-0.1562\n",
       "-0.4468\n",
       "-0.1516\n",
       " 0.1692\n",
       " 0.0983\n",
       "-0.0319\n",
       " 0.0871\n",
       " 0.2608\n",
       " 0.0027\n",
       " 0.1319\n",
       " 0.3444\n",
       "-0.3789\n",
       "-0.4114\n",
       " 0.0816\n",
       "-0.1167\n",
       "-0.4371\n",
       " 0.0111\n",
       " 0.0994\n",
       " 0.2661\n",
       " 0.4002\n",
       " 0.1890\n",
       "-0.1844\n",
       "-0.3036\n",
       "-0.2725\n",
       " 0.2247\n",
       "-0.4061\n",
       " 0.1562\n",
       "-0.1604\n",
       " 0.4715\n",
       " 0.0080\n",
       " 0.5686\n",
       " 0.2193\n",
       "-0.1118\n",
       " 0.7993\n",
       " 0.1071\n",
       "-0.5015\n",
       " 0.0636\n",
       " 0.0695\n",
       " 0.1529\n",
       "-0.2747\n",
       "-0.2099\n",
       " 0.2074\n",
       "-0.1068\n",
       " 0.4065\n",
       "-2.6438\n",
       "-0.3114\n",
       "-0.3216\n",
       "-0.2646\n",
       "-0.3562\n",
       " 0.0700\n",
       "-0.1884\n",
       " 0.4877\n",
       "-0.2617\n",
       "-0.0208\n",
       " 0.1782\n",
       " 0.1576\n",
       "-0.1375\n",
       " 0.0565\n",
       " 0.3077\n",
       "-0.0661\n",
       " 0.4748\n",
       "-0.2734\n",
       " 0.0973\n",
       "-0.2083\n",
       " 0.0039\n",
       " 0.3460\n",
       "-0.0870\n",
       "-0.5492\n",
       "-0.1876\n",
       "-0.1717\n",
       " 0.0603\n",
       "-0.1352\n",
       " 0.1042\n",
       " 0.3016\n",
       " 0.0580\n",
       " 0.2187\n",
       "-0.0736\n",
       "-0.2042\n",
       "-0.2528\n",
       "-0.1047\n",
       "-0.3216\n",
       " 0.1252\n",
       "-0.3128\n",
       " 0.0097\n",
       "-0.2678\n",
       "-0.6112\n",
       "-0.1109\n",
       "-0.1365\n",
       " 0.0351\n",
       "-0.4939\n",
       " 0.0849\n",
       "-0.1549\n",
       "-0.0635\n",
       "-0.2394\n",
       " 0.2827\n",
       " 0.1085\n",
       "-0.3365\n",
       "-0.6076\n",
       " 0.3858\n",
       "-0.0095\n",
       " 0.1750\n",
       "-0.5272\n",
       " 0.6221\n",
       " 0.1954\n",
       "-0.4898\n",
       " 0.0366\n",
       "-0.1280\n",
       "-0.0168\n",
       " 0.2565\n",
       "-0.3170\n",
       " 0.4826\n",
       "-0.1418\n",
       " 0.1105\n",
       "-0.3098\n",
       "-0.6314\n",
       "-0.3727\n",
       " 0.2318\n",
       "-0.1427\n",
       "-0.0234\n",
       " 0.0223\n",
       "-0.0447\n",
       "-0.1640\n",
       "-0.2585\n",
       " 0.1629\n",
       " 0.0248\n",
       " 0.2335\n",
       " 0.2793\n",
       " 0.3900\n",
       "-0.0590\n",
       " 0.1135\n",
       " 0.1567\n",
       " 0.1858\n",
       "-0.1981\n",
       "-0.4812\n",
       "-0.0351\n",
       " 0.0785\n",
       "-0.4983\n",
       " 0.1085\n",
       "-0.2013\n",
       " 0.0529\n",
       "-0.1158\n",
       "-0.1601\n",
       " 0.1677\n",
       " 0.4236\n",
       "-0.2311\n",
       " 0.0825\n",
       " 0.2430\n",
       "-0.1679\n",
       " 0.0080\n",
       " 0.0859\n",
       " 0.3803\n",
       " 0.0730\n",
       " 0.1633\n",
       " 0.2470\n",
       "-0.1109\n",
       " 0.1512\n",
       "-0.2207\n",
       "-0.0619\n",
       "-0.0371\n",
       "-0.0879\n",
       "-0.2318\n",
       " 0.1504\n",
       "-0.1909\n",
       "-0.1911\n",
       "-0.1189\n",
       " 0.0949\n",
       "-0.0043\n",
       " 0.1536\n",
       "-0.4120\n",
       "-0.3073\n",
       " 0.1838\n",
       " 0.4021\n",
       "-0.0035\n",
       "-0.1092\n",
       "-0.6952\n",
       " 0.1016\n",
       "-0.0793\n",
       " 0.4033\n",
       " 0.2228\n",
       "-0.1937\n",
       "-0.1331\n",
       " 0.0732\n",
       " 0.0998\n",
       " 0.1169\n",
       "-0.2164\n",
       "-0.1108\n",
       " 0.1034\n",
       " 0.0973\n",
       " 0.1120\n",
       "-0.3894\n",
       "-0.0089\n",
       " 0.2881\n",
       "-0.1079\n",
       " 0.0288\n",
       " 0.3255\n",
       " 0.2605\n",
       "-0.0389\n",
       " 0.0752\n",
       " 0.4603\n",
       "-0.0629\n",
       " 0.2166\n",
       " 0.1787\n",
       "-0.5192\n",
       " 0.3359\n",
       "[torch.FloatTensor of size 300]"
      ]
     },
     "execution_count": 15,
     "metadata": {},
     "output_type": "execute_result"
    }
   ],
   "source": [
    "vectors['hello'] #it works! embedding length is 300"
   ]
  },
  {
   "cell_type": "markdown",
   "metadata": {},
   "source": [
    "## <b> Data Processing<b>"
   ]
  },
  {
   "cell_type": "code",
   "execution_count": 19,
   "metadata": {
    "collapsed": false
   },
   "outputs": [],
   "source": [
    "train = pd.read_csv(\"../train_nn.csv\")"
   ]
  },
  {
   "cell_type": "code",
   "execution_count": 4,
   "metadata": {
    "collapsed": true
   },
   "outputs": [],
   "source": [
    "#create labels"
   ]
  },
  {
   "cell_type": "code",
   "execution_count": 20,
   "metadata": {
    "collapsed": false
   },
   "outputs": [],
   "source": [
    "labels = ['CAPS', 'Obscenity', 'Threat', 'hatespeech', 'namecalling', 'negprejudice', 'noneng', 'porn', 'stereotypes']\n",
    "\n",
    "for label in labels:\n",
    "    cols = [label + str(x) for x in range(1,8)]\n",
    "    train[label + '_num_yes'] = train[cols].sum(axis = 1)\n",
    "    train[label] = pd.Series(train[label + '_num_yes'] >= 2).astype(int)"
   ]
  },
  {
   "cell_type": "code",
   "execution_count": 21,
   "metadata": {
    "collapsed": false
   },
   "outputs": [],
   "source": [
    "train = train.loc[train['clean_tweet'].isnull() == False,]"
   ]
  },
  {
   "cell_type": "code",
   "execution_count": 22,
   "metadata": {
    "collapsed": false
   },
   "outputs": [],
   "source": [
    "train.reset_index(inplace = True, drop = True)"
   ]
  },
  {
   "cell_type": "code",
   "execution_count": 8,
   "metadata": {
    "collapsed": false
   },
   "outputs": [],
   "source": [
    "vocab = Counter()\n",
    "\n",
    "for text in train.clean_tweet:\n",
    "    for word in text.split(' '):\n",
    "        vocab[word.lower()]+=1\n",
    "\n",
    "total_words = len(vocab)\n",
    "\n",
    "def get_word_2_index(vocab):\n",
    "    word2index = {}\n",
    "    index2word = {}\n",
    "    for i,word in enumerate(vocab):\n",
    "        word2index[word.lower()] = i+1\n",
    "        index2word[i+1] = word.lower()\n",
    "\n",
    "    return word2index, index2word\n",
    "\n",
    "word2index, index2word = get_word_2_index(vocab)"
   ]
  },
  {
   "cell_type": "code",
   "execution_count": null,
   "metadata": {
    "collapsed": true
   },
   "outputs": [],
   "source": [
    "matrix_len = len(target_vocab)\n",
    "weights_matrix = np.zeros((matrix_len, 50))\n",
    "words_found = 0\n",
    "\n",
    "for i, word in enumerate(target_vocab):\n",
    "    try: \n",
    "        weights_matrix[i] = glove[word]\n",
    "        words_found += 1\n",
    "    except KeyError:\n",
    "        weights_matrix[i] = np.random.normal(scale=0.6, size=(emb_dim, ))"
   ]
  },
  {
   "cell_type": "code",
   "execution_count": 9,
   "metadata": {
    "collapsed": false
   },
   "outputs": [],
   "source": [
    "word2index['PAD'] = 0\n",
    "index2word[0] = 'PAD'\n",
    "\n",
    "total_words = total_words + 1"
   ]
  },
  {
   "cell_type": "code",
   "execution_count": 10,
   "metadata": {
    "collapsed": false
   },
   "outputs": [],
   "source": [
    "def pad_data(s, length):\n",
    "    padded = np.zeros((length,), dtype = np.int64)\n",
    "    if len(s) > length: \n",
    "        padded = s[:length]\n",
    "    else:\n",
    "        padded[:len(s)] = s\n",
    "    return np.array(padded)"
   ]
  },
  {
   "cell_type": "code",
   "execution_count": 11,
   "metadata": {
    "collapsed": false
   },
   "outputs": [],
   "source": [
    "train['seq_len'] = [len(x.split(' ')) for x in train['clean_tweet']]\n",
    "\n",
    "train['numeric'] = [[word2index[y] for y in x.split(' ')] for x in train['clean_tweet']]\n",
    "\n",
    "train['padded_tweet'] = [pad_data(x, 10) for x in train.numeric]"
   ]
  },
  {
   "cell_type": "code",
   "execution_count": 12,
   "metadata": {
    "collapsed": true
   },
   "outputs": [],
   "source": [
    "#if we want validation accuracy to better resemble test accuracy, need to create vocab on training only"
   ]
  },
  {
   "cell_type": "code",
   "execution_count": 13,
   "metadata": {
    "collapsed": false
   },
   "outputs": [],
   "source": [
    "train_sub, validation = model_selection.train_test_split(train, test_size = 0.2, random_state = 123)"
   ]
  },
  {
   "cell_type": "code",
   "execution_count": 14,
   "metadata": {
    "collapsed": false
   },
   "outputs": [],
   "source": [
    "# subclass the custom dataset class with torch.utils.data.Dataset\n",
    "# implement __len__ and __getitem__ function\n",
    "class VectorizeData(Dataset):\n",
    "    def __init__(self, df, label, maxlen=20):\n",
    "        self.df = df\n",
    "        self.label = label\n",
    "\n",
    "    def __len__(self):\n",
    "        return self.df.shape[0]\n",
    "    \n",
    "    def __getitem__(self, idx):\n",
    "        X = self.df.padded_tweet[idx]\n",
    "        y = self.df[self.label][idx]\n",
    "        lens = self.df.seq_len[idx]\n",
    "        return X,y,lens"
   ]
  },
  {
   "cell_type": "code",
   "execution_count": 15,
   "metadata": {
    "collapsed": true
   },
   "outputs": [],
   "source": [
    "train_sub.reset_index(inplace = True, drop = True)"
   ]
  },
  {
   "cell_type": "code",
   "execution_count": 16,
   "metadata": {
    "collapsed": true
   },
   "outputs": [],
   "source": [
    "validation.reset_index(inplace = True, drop = True)"
   ]
  },
  {
   "cell_type": "code",
   "execution_count": 17,
   "metadata": {
    "collapsed": false
   },
   "outputs": [],
   "source": [
    "data = VectorizeData(train_sub, label = 'hatespeech')\n",
    "\n",
    "dl = DataLoader(data, batch_size = 32, shuffle = True)"
   ]
  },
  {
   "cell_type": "code",
   "execution_count": 18,
   "metadata": {
    "collapsed": false
   },
   "outputs": [],
   "source": [
    "class LSTMClassifier(nn.Module):\n",
    "    def __init__(self, vocab_size, embedding_dim, hidden_dim, output_size, batch_size):\n",
    "        super(LSTMClassifier, self).__init__()\n",
    "        self.embedding_dim = embedding_dim\n",
    "        self.hidden_dim = hidden_dim\n",
    "        self.vocab_size = vocab_size\n",
    "        self.embedding = nn.Embedding(vocab_size, embedding_dim)\n",
    "        self.lstm = nn.LSTM(embedding_dim, hidden_dim, num_layers=1)\n",
    "        self.hidden2out = nn.Linear(hidden_dim, output_size)\n",
    "        self.softmax = nn.LogSoftmax()\n",
    "        self.dropout_layer = nn.Dropout(p=0.2)\n",
    "        self.batch_size = batch_size\n",
    "        #self.hidden = self.init_hidden(batch_size)\n",
    "\n",
    "    def init_hidden(self, batch_size):\n",
    "        return(autograd.Variable(torch.randn(1, batch_size, self.hidden_dim)), \\\n",
    "               autograd.Variable(torch.randn(1, batch_size, self.hidden_dim)))\n",
    "\n",
    "    def forward(self, batch): #removed lengths\n",
    "        #should reinitalize hidden states before each batch?\n",
    "        self.hidden = self.init_hidden(batch_size)\n",
    "        embeds = self.embedding(batch)\n",
    "        #packed_input = pack_padded_sequence(embeds, lengths)\n",
    "        outputs, (ht, ct) = self.lstm(embeds, self.hidden)\n",
    "        # ht is the last hidden state of the sequences\n",
    "        # ht = (1 x batch_size x hidden_dim)\n",
    "        # ht[-1] = (batch_size x hidden_dim)\n",
    "        output = self.dropout_layer(ht[-1])\n",
    "        output = self.hidden2out(output)\n",
    "        output = self.softmax(output)\n",
    "        return output"
   ]
  },
  {
   "cell_type": "code",
   "execution_count": 19,
   "metadata": {
    "collapsed": true
   },
   "outputs": [],
   "source": [
    "hidden_size = 100 \n",
    "num_classes = 2\n",
    "learning_rate = 0.01\n",
    "num_epochs = 5\n",
    "batch_size = 32\n",
    "#momentum = 0.9"
   ]
  },
  {
   "cell_type": "code",
   "execution_count": 20,
   "metadata": {
    "collapsed": false,
    "scrolled": true
   },
   "outputs": [
    {
     "data": {
      "text/plain": [
       "100"
      ]
     },
     "execution_count": 20,
     "metadata": {},
     "output_type": "execute_result"
    }
   ],
   "source": [
    "len(dl)"
   ]
  },
  {
   "cell_type": "code",
   "execution_count": 21,
   "metadata": {
    "collapsed": false,
    "scrolled": true
   },
   "outputs": [
    {
     "data": {
      "text/plain": [
       "11059"
      ]
     },
     "execution_count": 21,
     "metadata": {},
     "output_type": "execute_result"
    }
   ],
   "source": [
    "total_words"
   ]
  },
  {
   "cell_type": "code",
   "execution_count": 22,
   "metadata": {
    "collapsed": false
   },
   "outputs": [
    {
     "data": {
      "text/plain": [
       "39.313131313131315"
      ]
     },
     "execution_count": 22,
     "metadata": {},
     "output_type": "execute_result"
    }
   ],
   "source": [
    "3892/99"
   ]
  },
  {
   "cell_type": "code",
   "execution_count": 23,
   "metadata": {
    "collapsed": false
   },
   "outputs": [
    {
     "name": "stdout",
     "output_type": "stream",
     "text": [
      "Epoch [1/5], Step [4/124], Loss: 0.4466\n",
      "Epoch [1/5], Step [8/124], Loss: 1.1213\n",
      "Epoch [1/5], Step [12/124], Loss: 0.6024\n",
      "Epoch [1/5], Step [16/124], Loss: 0.2748\n",
      "Epoch [1/5], Step [20/124], Loss: 0.2060\n",
      "Epoch [1/5], Step [24/124], Loss: 2.5953\n",
      "Epoch [1/5], Step [28/124], Loss: 0.1384\n",
      "Epoch [1/5], Step [32/124], Loss: 0.1976\n",
      "Epoch [1/5], Step [36/124], Loss: 0.2812\n",
      "Epoch [1/5], Step [40/124], Loss: 0.7596\n",
      "Epoch [1/5], Step [44/124], Loss: 0.4808\n",
      "Epoch [1/5], Step [48/124], Loss: 0.6191\n",
      "Epoch [1/5], Step [52/124], Loss: 0.3943\n",
      "Epoch [1/5], Step [56/124], Loss: 0.4925\n",
      "Epoch [1/5], Step [60/124], Loss: 0.4077\n",
      "Epoch [1/5], Step [64/124], Loss: 0.3699\n",
      "Epoch [1/5], Step [68/124], Loss: 0.5234\n",
      "Epoch [1/5], Step [72/124], Loss: 0.8046\n",
      "Epoch [1/5], Step [76/124], Loss: 0.2968\n",
      "Epoch [1/5], Step [80/124], Loss: 0.9429\n",
      "Epoch [1/5], Step [84/124], Loss: 0.5835\n",
      "Epoch [1/5], Step [88/124], Loss: 0.6065\n",
      "Epoch [1/5], Step [92/124], Loss: 0.7848\n",
      "Epoch [1/5], Step [96/124], Loss: 0.9492\n",
      "Epoch [2/5], Step [4/124], Loss: 0.3558\n",
      "Epoch [2/5], Step [8/124], Loss: 0.1940\n",
      "Epoch [2/5], Step [12/124], Loss: 0.1153\n",
      "Epoch [2/5], Step [16/124], Loss: 0.0919\n",
      "Epoch [2/5], Step [20/124], Loss: 0.0967\n",
      "Epoch [2/5], Step [24/124], Loss: 0.1345\n",
      "Epoch [2/5], Step [28/124], Loss: 0.2197\n",
      "Epoch [2/5], Step [32/124], Loss: 0.1631\n",
      "Epoch [2/5], Step [36/124], Loss: 0.2953\n",
      "Epoch [2/5], Step [40/124], Loss: 0.2888\n",
      "Epoch [2/5], Step [44/124], Loss: 0.2050\n",
      "Epoch [2/5], Step [48/124], Loss: 0.0785\n",
      "Epoch [2/5], Step [52/124], Loss: 0.0629\n",
      "Epoch [2/5], Step [56/124], Loss: 0.1421\n",
      "Epoch [2/5], Step [60/124], Loss: 0.1270\n",
      "Epoch [2/5], Step [64/124], Loss: 0.1353\n",
      "Epoch [2/5], Step [68/124], Loss: 1.1554\n",
      "Epoch [2/5], Step [72/124], Loss: 1.2708\n",
      "Epoch [2/5], Step [76/124], Loss: 0.1078\n",
      "Epoch [2/5], Step [80/124], Loss: 0.1406\n",
      "Epoch [2/5], Step [84/124], Loss: 0.3013\n",
      "Epoch [2/5], Step [88/124], Loss: 0.2101\n",
      "Epoch [2/5], Step [92/124], Loss: 0.2120\n",
      "Epoch [2/5], Step [96/124], Loss: 0.2638\n",
      "Epoch [3/5], Step [4/124], Loss: 0.0266\n",
      "Epoch [3/5], Step [8/124], Loss: 0.0416\n",
      "Epoch [3/5], Step [12/124], Loss: 0.0823\n",
      "Epoch [3/5], Step [16/124], Loss: 0.0523\n",
      "Epoch [3/5], Step [20/124], Loss: 0.0139\n",
      "Epoch [3/5], Step [24/124], Loss: 0.1634\n",
      "Epoch [3/5], Step [28/124], Loss: 0.0245\n",
      "Epoch [3/5], Step [32/124], Loss: 0.5784\n",
      "Epoch [3/5], Step [36/124], Loss: 0.0385\n",
      "Epoch [3/5], Step [40/124], Loss: 0.0738\n",
      "Epoch [3/5], Step [44/124], Loss: 0.1332\n",
      "Epoch [3/5], Step [48/124], Loss: 0.0313\n",
      "Epoch [3/5], Step [52/124], Loss: 0.7754\n",
      "Epoch [3/5], Step [56/124], Loss: 0.0356\n",
      "Epoch [3/5], Step [60/124], Loss: 1.3322\n",
      "Epoch [3/5], Step [64/124], Loss: 0.0229\n",
      "Epoch [3/5], Step [68/124], Loss: 0.0656\n",
      "Epoch [3/5], Step [72/124], Loss: 0.0596\n",
      "Epoch [3/5], Step [76/124], Loss: 0.2645\n",
      "Epoch [3/5], Step [80/124], Loss: 0.1022\n",
      "Epoch [3/5], Step [84/124], Loss: 0.0245\n",
      "Epoch [3/5], Step [88/124], Loss: 0.0268\n",
      "Epoch [3/5], Step [92/124], Loss: 0.0346\n",
      "Epoch [3/5], Step [96/124], Loss: 0.1041\n",
      "Epoch [4/5], Step [4/124], Loss: 0.0116\n",
      "Epoch [4/5], Step [8/124], Loss: 0.0172\n",
      "Epoch [4/5], Step [12/124], Loss: 0.0186\n",
      "Epoch [4/5], Step [16/124], Loss: 0.0296\n",
      "Epoch [4/5], Step [20/124], Loss: 0.2280\n",
      "Epoch [4/5], Step [24/124], Loss: 0.0245\n",
      "Epoch [4/5], Step [28/124], Loss: 0.0102\n",
      "Epoch [4/5], Step [32/124], Loss: 0.0076\n",
      "Epoch [4/5], Step [36/124], Loss: 0.3469\n",
      "Epoch [4/5], Step [40/124], Loss: 0.0134\n",
      "Epoch [4/5], Step [44/124], Loss: 0.2585\n",
      "Epoch [4/5], Step [48/124], Loss: 0.0225\n",
      "Epoch [4/5], Step [52/124], Loss: 0.0261\n",
      "Epoch [4/5], Step [56/124], Loss: 0.0122\n",
      "Epoch [4/5], Step [60/124], Loss: 0.0086\n",
      "Epoch [4/5], Step [64/124], Loss: 0.0142\n",
      "Epoch [4/5], Step [68/124], Loss: 0.0190\n",
      "Epoch [4/5], Step [72/124], Loss: 0.0066\n",
      "Epoch [4/5], Step [76/124], Loss: 0.0248\n",
      "Epoch [4/5], Step [80/124], Loss: 0.4336\n",
      "Epoch [4/5], Step [84/124], Loss: 0.0195\n",
      "Epoch [4/5], Step [88/124], Loss: 0.3139\n",
      "Epoch [4/5], Step [92/124], Loss: 0.0446\n",
      "Epoch [4/5], Step [96/124], Loss: 0.0172\n",
      "Epoch [5/5], Step [4/124], Loss: 0.0088\n",
      "Epoch [5/5], Step [8/124], Loss: 0.0063\n",
      "Epoch [5/5], Step [12/124], Loss: 0.0172\n",
      "Epoch [5/5], Step [16/124], Loss: 0.0150\n",
      "Epoch [5/5], Step [20/124], Loss: 0.0064\n",
      "Epoch [5/5], Step [24/124], Loss: 0.0387\n",
      "Epoch [5/5], Step [28/124], Loss: 0.0093\n",
      "Epoch [5/5], Step [32/124], Loss: 0.0191\n",
      "Epoch [5/5], Step [36/124], Loss: 0.0015\n",
      "Epoch [5/5], Step [40/124], Loss: 0.0020\n",
      "Epoch [5/5], Step [44/124], Loss: 0.0088\n",
      "Epoch [5/5], Step [48/124], Loss: 0.0074\n",
      "Epoch [5/5], Step [52/124], Loss: 0.0026\n",
      "Epoch [5/5], Step [56/124], Loss: 0.0056\n",
      "Epoch [5/5], Step [60/124], Loss: 0.0030\n",
      "Epoch [5/5], Step [64/124], Loss: 0.0086\n",
      "Epoch [5/5], Step [68/124], Loss: 0.0092\n",
      "Epoch [5/5], Step [72/124], Loss: 0.5416\n",
      "Epoch [5/5], Step [76/124], Loss: 0.0031\n",
      "Epoch [5/5], Step [80/124], Loss: 0.0217\n",
      "Epoch [5/5], Step [84/124], Loss: 0.1385\n",
      "Epoch [5/5], Step [88/124], Loss: 0.0016\n",
      "Epoch [5/5], Step [92/124], Loss: 0.0769\n",
      "Epoch [5/5], Step [96/124], Loss: 0.0013\n"
     ]
    }
   ],
   "source": [
    "#add 1 because of pad token\n",
    "net = LSTMClassifier(total_words, hidden_size, hidden_size, num_classes, batch_size)\n",
    "\n",
    "# Loss and Optimizer\n",
    "criterion = nn.NLLLoss(weight = torch.Tensor([1/39,1]))  \n",
    "optimizer = torch.optim.Adam(net.parameters(), lr=learning_rate)#, momentum = momentum, weight_decay = 0.0001)\n",
    "#scheduler = MultiStepLR(optimizer, milestones=[31,62,93,124], gamma = 0.1)\n",
    "\n",
    "losses = []\n",
    "\n",
    "num_batch = len(dl) - 1\n",
    "# Train the Model\n",
    "for epoch in range(num_epochs):\n",
    "    it = iter(dl)\n",
    "    # Loop over all batches\n",
    "    for i in range(num_batch):\n",
    "        batch_x,batch_y,batch_len = next(it)\n",
    "        tweets = Variable(batch_x.transpose(0,1))\n",
    "        labels = Variable(batch_y)\n",
    "        lengths = Variable(batch_len)\n",
    "        # Forward + Backward + Optimize\n",
    "        optimizer.zero_grad()  # zero the gradient buffer\n",
    "        outputs = net(tweets)\n",
    "        loss = criterion(outputs, labels)\n",
    "        losses.append(loss.data[0])\n",
    "        loss.backward()\n",
    "        optimizer.step()\n",
    "\n",
    "        if (i+1) % 4 == 0:\n",
    "            print ('Epoch [%d/%d], Step [%d/%d], Loss: %.4f'\n",
    "                   %(epoch+1, num_epochs, i+1, len(train.clean_tweet)//batch_size, loss.data[0]))\n",
    "            \n",
    "    #scheduler.step()"
   ]
  },
  {
   "cell_type": "code",
   "execution_count": 24,
   "metadata": {
    "collapsed": false
   },
   "outputs": [
    {
     "data": {
      "text/plain": [
       "[<matplotlib.lines.Line2D at 0x11707ddd8>]"
      ]
     },
     "execution_count": 24,
     "metadata": {},
     "output_type": "execute_result"
    },
    {
     "data": {
      "image/png": "[encoded data removed]",
      "text/plain": [
       "<matplotlib.figure.Figure at 0x111346e48>"
      ]
     },
     "metadata": {},
     "output_type": "display_data"
    }
   ],
   "source": [
    "plt.plot(losses)"
   ]
  },
  {
   "cell_type": "code",
   "execution_count": 25,
   "metadata": {
    "collapsed": true
   },
   "outputs": [],
   "source": [
    "data = VectorizeData(validation, label = 'hatespeech')\n",
    "\n",
    "dl2 = DataLoader(data, batch_size = 32, shuffle = False)"
   ]
  },
  {
   "cell_type": "code",
   "execution_count": 26,
   "metadata": {
    "collapsed": false,
    "scrolled": false
   },
   "outputs": [],
   "source": [
    "predictions = []\n",
    "pred_labels = []\n",
    "#get training predictions\n",
    "it = iter(dl2)\n",
    "num_batch = len(dl2) - 1\n",
    "# Loop over all batches\n",
    "for i in range(num_batch):\n",
    "    batch_x,batch_y,batch_len = next(it)\n",
    "    tweets = Variable(batch_x.transpose(0,1))\n",
    "    labels = Variable(batch_y)\n",
    "    lengths = Variable(batch_len)\n",
    "    # Forward + Backward + Optimize\n",
    "    outputs = net(tweets)\n",
    "    _, pred = torch.max(outputs.data, 1)\n",
    "    predictions.extend(list(pred.numpy()))\n",
    "    pred_labels.extend(list(labels.data.numpy()))"
   ]
  },
  {
   "cell_type": "code",
   "execution_count": 27,
   "metadata": {
    "collapsed": false
   },
   "outputs": [
    {
     "data": {
      "text/plain": [
       "0    728\n",
       "1     40\n",
       "dtype: int64"
      ]
     },
     "execution_count": 27,
     "metadata": {},
     "output_type": "execute_result"
    }
   ],
   "source": [
    "pd.Series(predictions).value_counts()"
   ]
  },
  {
   "cell_type": "code",
   "execution_count": 28,
   "metadata": {
    "collapsed": false
   },
   "outputs": [
    {
     "data": {
      "text/plain": [
       "0.46875"
      ]
     },
     "execution_count": 28,
     "metadata": {},
     "output_type": "execute_result"
    }
   ],
   "source": [
    "f1_score(pred_labels, predictions)\n",
    "#overfits to training data almost perfectly with 10 epochs, but validation accuracy is low"
   ]
  }
 ],
 "metadata": {
  "kernelspec": {
   "display_name": "Python 3",
   "language": "python",
   "name": "python3"
  },
  "language_info": {
   "codemirror_mode": {
    "name": "ipython",
    "version": 3
   },
   "file_extension": ".py",
   "mimetype": "text/x-python",
   "name": "python",
   "nbconvert_exporter": "python",
   "pygments_lexer": "ipython3",
   "version": "3.6.0"
  }
 },
 "nbformat": 4,
 "nbformat_minor": 2
}
