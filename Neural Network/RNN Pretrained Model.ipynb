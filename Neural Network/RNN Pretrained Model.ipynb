{
 "cells": [
  {
   "cell_type": "markdown",
   "metadata": {},
   "source": [
    "## <b>Import libraries<b>"
   ]
  },
  {
   "cell_type": "code",
   "execution_count": 1,
   "metadata": {
    "collapsed": false
   },
   "outputs": [],
   "source": [
    "import torch\n",
    "import pandas as pd\n",
    "import numpy as np\n",
    "from collections import Counter\n",
    "from torch.autograd import Variable\n",
    "import torch.nn as nn\n",
    "import torch.nn.functional as F\n",
    "import torch.autograd as autograd\n",
    "from sklearn.metrics import f1_score\n",
    "from torch.nn.utils.rnn import pack_padded_sequence, pad_packed_sequence\n",
    "from torch.utils.data import Dataset, DataLoader\n",
    "from torch.autograd import Variable\n",
    "import matplotlib.pyplot as plt\n",
    "from torch.optim.lr_scheduler import MultiStepLR\n",
    "from sklearn.metrics import f1_score\n",
    "from sklearn import model_selection\n",
    "import pickle\n",
    "%matplotlib inline"
   ]
  },
  {
   "cell_type": "markdown",
   "metadata": {},
   "source": [
    "## <b> Data Processing<b>"
   ]
  },
  {
   "cell_type": "code",
   "execution_count": 2,
   "metadata": {
    "collapsed": false
   },
   "outputs": [],
   "source": [
    "train = pd.read_csv(\"../train_nn.csv\")"
   ]
  },
  {
   "cell_type": "code",
   "execution_count": 6,
   "metadata": {
    "collapsed": true
   },
   "outputs": [],
   "source": [
    "#create labels"
   ]
  },
  {
   "cell_type": "code",
   "execution_count": 6,
   "metadata": {
    "collapsed": false
   },
   "outputs": [],
   "source": [
    "labels = ['CAPS', 'Obscenity', 'Threat', 'hatespeech', 'namecalling', 'negprejudice', 'noneng', 'porn', 'stereotypes']\n",
    "\n",
    "for label in labels:\n",
    "    cols = [label + str(x) for x in range(1,8)]\n",
    "    train[label + '_num_yes'] = train[cols].sum(axis = 1)\n",
    "    train[label] = pd.Series(train[label + '_num_yes'] >= 2).astype(int)"
   ]
  },
  {
   "cell_type": "code",
   "execution_count": 7,
   "metadata": {
    "collapsed": false
   },
   "outputs": [],
   "source": [
    "train = train.loc[train['clean_tweet'].isnull() == False,]"
   ]
  },
  {
   "cell_type": "code",
   "execution_count": 8,
   "metadata": {
    "collapsed": false
   },
   "outputs": [],
   "source": [
    "train.reset_index(inplace = True, drop = True)"
   ]
  },
  {
   "cell_type": "code",
   "execution_count": 11,
   "metadata": {
    "collapsed": false
   },
   "outputs": [],
   "source": [
    "word2index = pickle.load(open('word2index.pkl', 'rb'))"
   ]
  },
  {
   "cell_type": "code",
   "execution_count": 12,
   "metadata": {
    "collapsed": false
   },
   "outputs": [
    {
     "data": {
      "text/plain": [
       "1797"
      ]
     },
     "execution_count": 12,
     "metadata": {},
     "output_type": "execute_result"
    }
   ],
   "source": [
    "word2index['hello']"
   ]
  },
  {
   "cell_type": "code",
   "execution_count": 13,
   "metadata": {
    "collapsed": true
   },
   "outputs": [],
   "source": [
    "index2word = pickle.load(open('index2word.pkl', 'rb'))"
   ]
  },
  {
   "cell_type": "code",
   "execution_count": 14,
   "metadata": {
    "collapsed": false
   },
   "outputs": [],
   "source": [
    "def pad_data(s, length):\n",
    "    padded = np.zeros((length,), dtype = np.int64)\n",
    "    if len(s) > length: \n",
    "        padded = s[:length]\n",
    "    else:\n",
    "        padded[:len(s)] = s\n",
    "    return np.array(padded)"
   ]
  },
  {
   "cell_type": "code",
   "execution_count": 15,
   "metadata": {
    "collapsed": false
   },
   "outputs": [],
   "source": [
    "train['seq_len'] = [len(x.split(' ')) for x in train['clean_tweet']]\n",
    "\n",
    "train['numeric'] = [[word2index[y] for y in x.split(' ')] for x in train['clean_tweet']]\n",
    "\n",
    "train['padded_tweet'] = [pad_data(x, 25) for x in train.numeric]"
   ]
  },
  {
   "cell_type": "code",
   "execution_count": 16,
   "metadata": {
    "collapsed": false
   },
   "outputs": [
    {
     "data": {
      "text/plain": [
       "<matplotlib.axes._subplots.AxesSubplot at 0x114da8ba8>"
      ]
     },
     "execution_count": 16,
     "metadata": {},
     "output_type": "execute_result"
    },
    {
     "data": {
      "image/png": "[encoded data removed]",
      "text/plain": [
       "<matplotlib.figure.Figure at 0x114da8668>"
      ]
     },
     "metadata": {},
     "output_type": "display_data"
    }
   ],
   "source": [
    "train.seq_len.hist()"
   ]
  },
  {
   "cell_type": "code",
   "execution_count": 17,
   "metadata": {
    "collapsed": false
   },
   "outputs": [],
   "source": [
    "train_sub, validation = model_selection.train_test_split(train, test_size = 0.2, random_state = 123)"
   ]
  },
  {
   "cell_type": "code",
   "execution_count": 18,
   "metadata": {
    "collapsed": false
   },
   "outputs": [],
   "source": [
    "class VectorizeData(Dataset):\n",
    "    def __init__(self, df, label, maxlen=20):\n",
    "        self.df = df\n",
    "        self.label = label\n",
    "\n",
    "    def __len__(self):\n",
    "        return self.df.shape[0]\n",
    "    \n",
    "    def __getitem__(self, idx):\n",
    "        X = self.df.padded_tweet[idx]\n",
    "        y = self.df[self.label][idx]\n",
    "        lens = self.df.seq_len[idx]\n",
    "        return X,y,lens"
   ]
  },
  {
   "cell_type": "code",
   "execution_count": 19,
   "metadata": {
    "collapsed": false
   },
   "outputs": [],
   "source": [
    "train_sub.reset_index(inplace = True, drop = True)\n",
    "\n",
    "validation.reset_index(inplace = True, drop = True)"
   ]
  },
  {
   "cell_type": "code",
   "execution_count": 20,
   "metadata": {
    "collapsed": false
   },
   "outputs": [],
   "source": [
    "data = VectorizeData(train_sub, label = 'hatespeech')\n",
    "\n",
    "dl = DataLoader(data, batch_size = 32, shuffle = True)"
   ]
  },
  {
   "cell_type": "code",
   "execution_count": 21,
   "metadata": {
    "collapsed": false
   },
   "outputs": [],
   "source": [
    "class LSTMClassifier(nn.Module):\n",
    "    def __init__(self, weights, vocab_size, embedding_dim, hidden_dim, output_size, batch_size):\n",
    "        super(LSTMClassifier, self).__init__()\n",
    "        self.weights = weights\n",
    "        self.embedding_dim = embedding_dim\n",
    "        self.hidden_dim = hidden_dim\n",
    "        self.vocab_size = vocab_size\n",
    "        self.embedding = nn.Embedding(vocab_size, embedding_dim)\n",
    "        self.embedding.weight = nn.Parameter(self.weights)\n",
    "        self.lstm = nn.LSTM(embedding_dim, hidden_dim, num_layers=1)\n",
    "        self.hidden2out = nn.Linear(hidden_dim, output_size)\n",
    "        self.softmax = nn.LogSoftmax()\n",
    "        self.dropout_layer = nn.Dropout(p=0.2)\n",
    "        self.batch_size = batch_size\n",
    "    \n",
    "    def init_hidden(self, batch_size):\n",
    "        return(autograd.Variable(torch.randn(1, batch_size, self.hidden_dim)), \\\n",
    "               autograd.Variable(torch.randn(1, batch_size, self.hidden_dim)))\n",
    "\n",
    "    def forward(self, batch):\n",
    "        self.hidden = self.init_hidden(batch_size)\n",
    "        embeds = self.embedding(batch) \n",
    "        #packed_input = pack_padded_sequence(embeds, lengths)\n",
    "        outputs, (ht, ct) = self.lstm(embeds, self.hidden)\n",
    "        # ht is the last hidden state of the sequences\n",
    "        # ht = (1 x batch_size x hidden_dim)\n",
    "        # ht[-1] = (batch_size x hidden_dim)\n",
    "        output = self.dropout_layer(ht[-1])\n",
    "        output = self.hidden2out(output)\n",
    "        output = self.softmax(output)\n",
    "        return output"
   ]
  },
  {
   "cell_type": "code",
   "execution_count": 23,
   "metadata": {
    "collapsed": false
   },
   "outputs": [],
   "source": [
    "hidden_size = 200 \n",
    "num_classes = 2\n",
    "learning_rate = 0.001\n",
    "num_epochs = 20\n",
    "batch_size = 32"
   ]
  },
  {
   "cell_type": "code",
   "execution_count": 28,
   "metadata": {
    "collapsed": false,
    "scrolled": false
   },
   "outputs": [],
   "source": [
    "def get_validation_loss(validation_data_loader, model):\n",
    "    predictions = []\n",
    "    pred_labels = []\n",
    "    #get training predictions\n",
    "    it = iter(validation_data_loader)\n",
    "    num_batch = len(validation_data_loader) - 1\n",
    "    # Loop over all batches\n",
    "    for i in range(num_batch):\n",
    "        batch_x,batch_y,batch_len = next(it)\n",
    "        tweets = Variable(batch_x.transpose(0,1))\n",
    "        labels = Variable(batch_y)\n",
    "        lengths = Variable(batch_len)\n",
    "        outputs = model(tweets)\n",
    "        _, pred = torch.max(outputs.data, 1)\n",
    "        predictions.extend(list(pred.numpy()))\n",
    "        pred_labels.extend(list(labels.data.numpy()))\n",
    "    return (f1_score(predictions, pred_labels))"
   ]
  },
  {
   "cell_type": "code",
   "execution_count": 37,
   "metadata": {
    "collapsed": false
   },
   "outputs": [],
   "source": [
    "#net = LSTMClassifier(weights, total_words, hidden_size, hidden_size, num_classes, batch_size)\n",
    "net = pickle.load(open('model_for_transfer_learning.sav', 'rb'))"
   ]
  },
  {
   "cell_type": "code",
   "execution_count": 38,
   "metadata": {
    "collapsed": false
   },
   "outputs": [],
   "source": [
    "# Loss and Optimizer\n",
    "criterion = nn.NLLLoss(weight = torch.Tensor([1/39,1]))  \n",
    "optimizer = torch.optim.Adam(net.parameters(), lr=learning_rate)\n",
    "\n",
    "#Validation Data\n",
    "val = VectorizeData(validation, label = 'hatespeech')\n",
    "dl2 = DataLoader(val, batch_size = 32, shuffle = False)\n",
    "\n",
    "losses = []\n",
    "val_scores = []"
   ]
  },
  {
   "cell_type": "code",
   "execution_count": 39,
   "metadata": {
    "collapsed": false
   },
   "outputs": [
    {
     "name": "stdout",
     "output_type": "stream",
     "text": [
      "Epoch [1/20], Step [4/124], Loss: 0.2715\n",
      "Epoch [1/20], Step [8/124], Loss: 0.3476\n",
      "Epoch [1/20], Step [12/124], Loss: 1.1946\n",
      "Epoch [1/20], Step [16/124], Loss: 0.1855\n",
      "Epoch [1/20], Step [20/124], Loss: 0.7305\n",
      "Epoch [1/20], Step [24/124], Loss: 1.9721\n",
      "Epoch [1/20], Step [28/124], Loss: 0.3038\n",
      "Epoch [1/20], Step [32/124], Loss: 0.5662\n",
      "Epoch [1/20], Step [36/124], Loss: 0.4746\n",
      "Epoch [1/20], Step [40/124], Loss: 0.3257\n",
      "Epoch [1/20], Step [44/124], Loss: 3.1472\n",
      "Epoch [1/20], Step [48/124], Loss: 0.2172\n",
      "Epoch [1/20], Step [52/124], Loss: 0.5465\n",
      "Epoch [1/20], Step [56/124], Loss: 0.3385\n",
      "Epoch [1/20], Step [60/124], Loss: 0.3376\n",
      "Epoch [1/20], Step [64/124], Loss: 0.1202\n",
      "Epoch [1/20], Step [68/124], Loss: 0.4477\n",
      "Epoch [1/20], Step [72/124], Loss: 0.3389\n",
      "Epoch [1/20], Step [76/124], Loss: 0.2466\n",
      "Epoch [1/20], Step [80/124], Loss: 0.2431\n",
      "Epoch [1/20], Step [84/124], Loss: 0.3425\n",
      "Epoch [1/20], Step [88/124], Loss: 0.3683\n",
      "Epoch [1/20], Step [92/124], Loss: 0.2811\n",
      "Epoch [1/20], Step [96/124], Loss: 0.2622\n",
      "Epoch [2/20], Step [4/124], Loss: 0.2685\n",
      "Epoch [2/20], Step [8/124], Loss: 0.1445\n",
      "Epoch [2/20], Step [12/124], Loss: 1.2944\n",
      "Epoch [2/20], Step [16/124], Loss: 0.1224\n",
      "Epoch [2/20], Step [20/124], Loss: 0.1668\n",
      "Epoch [2/20], Step [24/124], Loss: 0.1865\n",
      "Epoch [2/20], Step [28/124], Loss: 0.8568\n",
      "Epoch [2/20], Step [32/124], Loss: 0.2056\n",
      "Epoch [2/20], Step [36/124], Loss: 0.0994\n",
      "Epoch [2/20], Step [40/124], Loss: 0.2193\n",
      "Epoch [2/20], Step [44/124], Loss: 2.5949\n",
      "Epoch [2/20], Step [48/124], Loss: 1.7052\n",
      "Epoch [2/20], Step [52/124], Loss: 0.1906\n",
      "Epoch [2/20], Step [56/124], Loss: 0.0900\n",
      "Epoch [2/20], Step [60/124], Loss: 0.2597\n",
      "Epoch [2/20], Step [64/124], Loss: 1.1582\n",
      "Epoch [2/20], Step [68/124], Loss: 0.1258\n",
      "Epoch [2/20], Step [72/124], Loss: 0.1503\n",
      "Epoch [2/20], Step [76/124], Loss: 1.2673\n",
      "Epoch [2/20], Step [80/124], Loss: 1.6926\n",
      "Epoch [2/20], Step [84/124], Loss: 0.1842\n",
      "Epoch [2/20], Step [88/124], Loss: 0.1018\n",
      "Epoch [2/20], Step [92/124], Loss: 0.4412\n",
      "Epoch [2/20], Step [96/124], Loss: 0.2661\n",
      "Epoch [3/20], Step [4/124], Loss: 0.1910\n",
      "Epoch [3/20], Step [8/124], Loss: 0.1328\n",
      "Epoch [3/20], Step [12/124], Loss: 0.2184\n",
      "Epoch [3/20], Step [16/124], Loss: 0.1552\n",
      "Epoch [3/20], Step [20/124], Loss: 1.4068\n",
      "Epoch [3/20], Step [24/124], Loss: 0.1664\n",
      "Epoch [3/20], Step [28/124], Loss: 1.4373\n",
      "Epoch [3/20], Step [32/124], Loss: 0.1572\n",
      "Epoch [3/20], Step [36/124], Loss: 0.0766\n",
      "Epoch [3/20], Step [40/124], Loss: 0.2039\n",
      "Epoch [3/20], Step [44/124], Loss: 0.6008\n",
      "Epoch [3/20], Step [48/124], Loss: 0.1932\n",
      "Epoch [3/20], Step [52/124], Loss: 0.1427\n",
      "Epoch [3/20], Step [56/124], Loss: 0.0929\n",
      "Epoch [3/20], Step [60/124], Loss: 0.1118\n",
      "Epoch [3/20], Step [64/124], Loss: 0.3125\n",
      "Epoch [3/20], Step [68/124], Loss: 0.2766\n",
      "Epoch [3/20], Step [72/124], Loss: 0.0922\n",
      "Epoch [3/20], Step [76/124], Loss: 1.5914\n",
      "Epoch [3/20], Step [80/124], Loss: 0.1498\n",
      "Epoch [3/20], Step [84/124], Loss: 0.0759\n",
      "Epoch [3/20], Step [88/124], Loss: 1.2580\n",
      "Epoch [3/20], Step [92/124], Loss: 0.2367\n",
      "Epoch [3/20], Step [96/124], Loss: 0.1829\n",
      "Epoch [4/20], Step [4/124], Loss: 0.4896\n",
      "Epoch [4/20], Step [8/124], Loss: 0.1258\n",
      "Epoch [4/20], Step [12/124], Loss: 0.5818\n",
      "Epoch [4/20], Step [16/124], Loss: 0.1240\n",
      "Epoch [4/20], Step [20/124], Loss: 0.0710\n",
      "Epoch [4/20], Step [24/124], Loss: 0.1109\n",
      "Epoch [4/20], Step [28/124], Loss: 0.1200\n",
      "Epoch [4/20], Step [32/124], Loss: 0.1120\n",
      "Epoch [4/20], Step [36/124], Loss: 0.1293\n",
      "Epoch [4/20], Step [40/124], Loss: 0.0631\n",
      "Epoch [4/20], Step [44/124], Loss: 0.7533\n",
      "Epoch [4/20], Step [48/124], Loss: 0.1164\n",
      "Epoch [4/20], Step [52/124], Loss: 0.0801\n",
      "Epoch [4/20], Step [56/124], Loss: 0.1758\n",
      "Epoch [4/20], Step [60/124], Loss: 0.1243\n",
      "Epoch [4/20], Step [64/124], Loss: 0.3043\n",
      "Epoch [4/20], Step [68/124], Loss: 2.0797\n",
      "Epoch [4/20], Step [72/124], Loss: 0.1496\n",
      "Epoch [4/20], Step [76/124], Loss: 0.1047\n",
      "Epoch [4/20], Step [80/124], Loss: 0.6771\n",
      "Epoch [4/20], Step [84/124], Loss: 0.0865\n",
      "Epoch [4/20], Step [88/124], Loss: 0.1473\n",
      "Epoch [4/20], Step [92/124], Loss: 0.1201\n",
      "Epoch [4/20], Step [96/124], Loss: 0.1802\n",
      "Epoch [5/20], Step [4/124], Loss: 0.1005\n",
      "Epoch [5/20], Step [8/124], Loss: 0.1237\n",
      "Epoch [5/20], Step [12/124], Loss: 0.0928\n",
      "Epoch [5/20], Step [16/124], Loss: 0.0700\n",
      "Epoch [5/20], Step [20/124], Loss: 0.3204\n",
      "Epoch [5/20], Step [24/124], Loss: 0.1065\n",
      "Epoch [5/20], Step [28/124], Loss: 0.0641\n",
      "Epoch [5/20], Step [32/124], Loss: 0.0783\n",
      "Epoch [5/20], Step [36/124], Loss: 0.0746\n",
      "Epoch [5/20], Step [40/124], Loss: 0.3070\n",
      "Epoch [5/20], Step [44/124], Loss: 0.1207\n",
      "Epoch [5/20], Step [48/124], Loss: 0.0620\n",
      "Epoch [5/20], Step [52/124], Loss: 0.1195\n",
      "Epoch [5/20], Step [56/124], Loss: 0.3709\n",
      "Epoch [5/20], Step [60/124], Loss: 0.0536\n",
      "Epoch [5/20], Step [64/124], Loss: 0.1117\n",
      "Epoch [5/20], Step [68/124], Loss: 0.1002\n",
      "Epoch [5/20], Step [72/124], Loss: 0.4811\n",
      "Epoch [5/20], Step [76/124], Loss: 0.4173\n",
      "Epoch [5/20], Step [80/124], Loss: 0.4130\n",
      "Epoch [5/20], Step [84/124], Loss: 0.0671\n",
      "Epoch [5/20], Step [88/124], Loss: 0.0672\n",
      "Epoch [5/20], Step [92/124], Loss: 0.0487\n",
      "Epoch [5/20], Step [96/124], Loss: 0.1240\n",
      "Epoch [6/20], Step [4/124], Loss: 0.0960\n",
      "Epoch [6/20], Step [8/124], Loss: 0.0710\n",
      "Epoch [6/20], Step [12/124], Loss: 0.3020\n",
      "Epoch [6/20], Step [16/124], Loss: 0.1225\n",
      "Epoch [6/20], Step [20/124], Loss: 0.0597\n",
      "Epoch [6/20], Step [24/124], Loss: 0.0987\n",
      "Epoch [6/20], Step [28/124], Loss: 0.1014\n",
      "Epoch [6/20], Step [32/124], Loss: 0.0716\n",
      "Epoch [6/20], Step [36/124], Loss: 0.0670\n",
      "Epoch [6/20], Step [40/124], Loss: 0.0222\n",
      "Epoch [6/20], Step [44/124], Loss: 0.0618\n",
      "Epoch [6/20], Step [48/124], Loss: 0.0846\n",
      "Epoch [6/20], Step [52/124], Loss: 0.4294\n",
      "Epoch [6/20], Step [56/124], Loss: 0.0927\n",
      "Epoch [6/20], Step [60/124], Loss: 0.0912\n",
      "Epoch [6/20], Step [64/124], Loss: 0.2966\n",
      "Epoch [6/20], Step [68/124], Loss: 0.2909\n",
      "Epoch [6/20], Step [72/124], Loss: 0.0396\n",
      "Epoch [6/20], Step [76/124], Loss: 0.3018\n",
      "Epoch [6/20], Step [80/124], Loss: 0.5727\n",
      "Epoch [6/20], Step [84/124], Loss: 0.1595\n",
      "Epoch [6/20], Step [88/124], Loss: 0.0450\n",
      "Epoch [6/20], Step [92/124], Loss: 0.1612\n",
      "Epoch [6/20], Step [96/124], Loss: 0.0604\n",
      "Epoch [7/20], Step [4/124], Loss: 0.1586\n",
      "Epoch [7/20], Step [8/124], Loss: 0.1363\n",
      "Epoch [7/20], Step [12/124], Loss: 0.0373\n",
      "Epoch [7/20], Step [16/124], Loss: 0.1280\n",
      "Epoch [7/20], Step [20/124], Loss: 0.1011\n",
      "Epoch [7/20], Step [24/124], Loss: 0.1097\n",
      "Epoch [7/20], Step [28/124], Loss: 0.2893\n",
      "Epoch [7/20], Step [32/124], Loss: 0.1567\n",
      "Epoch [7/20], Step [36/124], Loss: 0.0398\n",
      "Epoch [7/20], Step [40/124], Loss: 0.0494\n",
      "Epoch [7/20], Step [44/124], Loss: 0.0796\n",
      "Epoch [7/20], Step [48/124], Loss: 0.0238\n",
      "Epoch [7/20], Step [52/124], Loss: 0.0295\n",
      "Epoch [7/20], Step [56/124], Loss: 0.1051\n",
      "Epoch [7/20], Step [60/124], Loss: 0.0437\n",
      "Epoch [7/20], Step [64/124], Loss: 0.0390\n",
      "Epoch [7/20], Step [68/124], Loss: 0.0902\n",
      "Epoch [7/20], Step [72/124], Loss: 0.0551\n",
      "Epoch [7/20], Step [76/124], Loss: 0.0297\n",
      "Epoch [7/20], Step [80/124], Loss: 0.0406\n",
      "Epoch [7/20], Step [84/124], Loss: 0.2556\n",
      "Epoch [7/20], Step [88/124], Loss: 0.0561\n",
      "Epoch [7/20], Step [92/124], Loss: 0.3035\n",
      "Epoch [7/20], Step [96/124], Loss: 0.2736\n",
      "Epoch [8/20], Step [4/124], Loss: 0.0837\n",
      "Epoch [8/20], Step [8/124], Loss: 0.0174\n",
      "Epoch [8/20], Step [12/124], Loss: 0.0807\n",
      "Epoch [8/20], Step [16/124], Loss: 0.2420\n",
      "Epoch [8/20], Step [20/124], Loss: 0.3673\n",
      "Epoch [8/20], Step [24/124], Loss: 0.0728\n",
      "Epoch [8/20], Step [28/124], Loss: 0.0591\n",
      "Epoch [8/20], Step [32/124], Loss: 0.0571\n",
      "Epoch [8/20], Step [36/124], Loss: 0.0705\n",
      "Epoch [8/20], Step [40/124], Loss: 0.1035\n",
      "Epoch [8/20], Step [44/124], Loss: 0.0242\n",
      "Epoch [8/20], Step [48/124], Loss: 0.0388\n",
      "Epoch [8/20], Step [52/124], Loss: 0.0890\n",
      "Epoch [8/20], Step [56/124], Loss: 0.5732\n",
      "Epoch [8/20], Step [60/124], Loss: 0.0457\n",
      "Epoch [8/20], Step [64/124], Loss: 0.0167\n",
      "Epoch [8/20], Step [68/124], Loss: 0.0919\n",
      "Epoch [8/20], Step [72/124], Loss: 0.3199\n",
      "Epoch [8/20], Step [76/124], Loss: 0.0206\n",
      "Epoch [8/20], Step [80/124], Loss: 0.4062\n",
      "Epoch [8/20], Step [84/124], Loss: 0.1014\n",
      "Epoch [8/20], Step [88/124], Loss: 0.0532\n",
      "Epoch [8/20], Step [92/124], Loss: 0.0444\n",
      "Epoch [8/20], Step [96/124], Loss: 0.0730\n",
      "Epoch [9/20], Step [4/124], Loss: 0.1166\n",
      "Epoch [9/20], Step [8/124], Loss: 0.0379\n",
      "Epoch [9/20], Step [12/124], Loss: 0.5083\n",
      "Epoch [9/20], Step [16/124], Loss: 0.0341\n",
      "Epoch [9/20], Step [20/124], Loss: 0.0422\n",
      "Epoch [9/20], Step [24/124], Loss: 0.1599\n",
      "Epoch [9/20], Step [28/124], Loss: 0.0345\n",
      "Epoch [9/20], Step [32/124], Loss: 1.5225\n",
      "Epoch [9/20], Step [36/124], Loss: 0.0616\n",
      "Epoch [9/20], Step [40/124], Loss: 0.0239\n",
      "Epoch [9/20], Step [44/124], Loss: 0.0805\n",
      "Epoch [9/20], Step [48/124], Loss: 0.0251\n",
      "Epoch [9/20], Step [52/124], Loss: 0.0650\n",
      "Epoch [9/20], Step [56/124], Loss: 0.1120\n",
      "Epoch [9/20], Step [60/124], Loss: 0.0222\n",
      "Epoch [9/20], Step [64/124], Loss: 0.0342\n",
      "Epoch [9/20], Step [68/124], Loss: 0.0375\n",
      "Epoch [9/20], Step [72/124], Loss: 0.0237\n",
      "Epoch [9/20], Step [76/124], Loss: 0.0613\n",
      "Epoch [9/20], Step [80/124], Loss: 0.1058\n",
      "Epoch [9/20], Step [84/124], Loss: 0.0238\n",
      "Epoch [9/20], Step [88/124], Loss: 0.0245\n",
      "Epoch [9/20], Step [92/124], Loss: 0.0410\n",
      "Epoch [9/20], Step [96/124], Loss: 0.0759\n",
      "Epoch [10/20], Step [4/124], Loss: 0.1283\n",
      "Epoch [10/20], Step [8/124], Loss: 0.0194\n",
      "Epoch [10/20], Step [12/124], Loss: 0.0292\n",
      "Epoch [10/20], Step [16/124], Loss: 0.1518\n",
      "Epoch [10/20], Step [20/124], Loss: 0.0425\n",
      "Epoch [10/20], Step [24/124], Loss: 0.0575\n",
      "Epoch [10/20], Step [28/124], Loss: 0.0303\n",
      "Epoch [10/20], Step [32/124], Loss: 0.0400\n",
      "Epoch [10/20], Step [36/124], Loss: 0.0391\n",
      "Epoch [10/20], Step [40/124], Loss: 0.0323\n",
      "Epoch [10/20], Step [44/124], Loss: 0.1860\n",
      "Epoch [10/20], Step [48/124], Loss: 0.0250\n",
      "Epoch [10/20], Step [52/124], Loss: 0.3134\n",
      "Epoch [10/20], Step [56/124], Loss: 0.0328\n",
      "Epoch [10/20], Step [60/124], Loss: 0.0224\n",
      "Epoch [10/20], Step [64/124], Loss: 0.0344\n",
      "Epoch [10/20], Step [68/124], Loss: 0.0583\n",
      "Epoch [10/20], Step [72/124], Loss: 0.0406\n",
      "Epoch [10/20], Step [76/124], Loss: 0.0232\n",
      "Epoch [10/20], Step [80/124], Loss: 0.0083\n",
      "Epoch [10/20], Step [84/124], Loss: 0.1026\n",
      "Epoch [10/20], Step [88/124], Loss: 0.0848\n",
      "Epoch [10/20], Step [92/124], Loss: 0.0739\n",
      "Epoch [10/20], Step [96/124], Loss: 0.0607\n",
      "Epoch [11/20], Step [4/124], Loss: 0.0138\n",
      "Epoch [11/20], Step [8/124], Loss: 0.0209\n",
      "Epoch [11/20], Step [12/124], Loss: 0.0468\n",
      "Epoch [11/20], Step [16/124], Loss: 0.0126\n",
      "Epoch [11/20], Step [20/124], Loss: 0.0090\n",
      "Epoch [11/20], Step [24/124], Loss: 0.0066\n",
      "Epoch [11/20], Step [28/124], Loss: 0.0313\n",
      "Epoch [11/20], Step [32/124], Loss: 0.0487\n",
      "Epoch [11/20], Step [36/124], Loss: 0.0241\n",
      "Epoch [11/20], Step [40/124], Loss: 0.1454\n",
      "Epoch [11/20], Step [44/124], Loss: 0.0108\n",
      "Epoch [11/20], Step [48/124], Loss: 0.0532\n",
      "Epoch [11/20], Step [52/124], Loss: 0.0393\n",
      "Epoch [11/20], Step [56/124], Loss: 0.0610\n",
      "Epoch [11/20], Step [60/124], Loss: 0.0987\n",
      "Epoch [11/20], Step [64/124], Loss: 0.1646\n",
      "Epoch [11/20], Step [68/124], Loss: 0.0169\n",
      "Epoch [11/20], Step [72/124], Loss: 0.0239\n",
      "Epoch [11/20], Step [76/124], Loss: 0.0129\n",
      "Epoch [11/20], Step [80/124], Loss: 0.0185\n",
      "Epoch [11/20], Step [84/124], Loss: 0.0282\n",
      "Epoch [11/20], Step [88/124], Loss: 0.1840\n",
      "Epoch [11/20], Step [92/124], Loss: 0.0868\n",
      "Epoch [11/20], Step [96/124], Loss: 0.0520\n",
      "Epoch [12/20], Step [4/124], Loss: 0.0189\n",
      "Epoch [12/20], Step [8/124], Loss: 0.0912\n",
      "Epoch [12/20], Step [12/124], Loss: 0.0515\n",
      "Epoch [12/20], Step [16/124], Loss: 0.0077\n",
      "Epoch [12/20], Step [20/124], Loss: 0.0392\n",
      "Epoch [12/20], Step [24/124], Loss: 0.0178\n",
      "Epoch [12/20], Step [28/124], Loss: 0.0827\n",
      "Epoch [12/20], Step [32/124], Loss: 0.0542\n",
      "Epoch [12/20], Step [36/124], Loss: 0.0493\n",
      "Epoch [12/20], Step [40/124], Loss: 0.0163\n",
      "Epoch [12/20], Step [44/124], Loss: 0.0514\n",
      "Epoch [12/20], Step [48/124], Loss: 0.0178\n",
      "Epoch [12/20], Step [52/124], Loss: 0.0698\n",
      "Epoch [12/20], Step [56/124], Loss: 0.0125\n",
      "Epoch [12/20], Step [60/124], Loss: 0.0949\n",
      "Epoch [12/20], Step [64/124], Loss: 0.7313\n",
      "Epoch [12/20], Step [68/124], Loss: 0.0475\n",
      "Epoch [12/20], Step [72/124], Loss: 0.0199\n",
      "Epoch [12/20], Step [76/124], Loss: 0.0149\n",
      "Epoch [12/20], Step [80/124], Loss: 0.0185\n",
      "Epoch [12/20], Step [84/124], Loss: 0.0409\n",
      "Epoch [12/20], Step [88/124], Loss: 0.0536\n",
      "Epoch [12/20], Step [92/124], Loss: 0.1059\n",
      "Epoch [12/20], Step [96/124], Loss: 0.1143\n",
      "Epoch [13/20], Step [4/124], Loss: 0.0091\n",
      "Epoch [13/20], Step [8/124], Loss: 0.0683\n",
      "Epoch [13/20], Step [12/124], Loss: 0.0551\n",
      "Epoch [13/20], Step [16/124], Loss: 0.0607\n",
      "Epoch [13/20], Step [20/124], Loss: 0.0235\n",
      "Epoch [13/20], Step [24/124], Loss: 0.0095\n",
      "Epoch [13/20], Step [28/124], Loss: 0.1519\n",
      "Epoch [13/20], Step [32/124], Loss: 0.0198\n",
      "Epoch [13/20], Step [36/124], Loss: 0.0223\n",
      "Epoch [13/20], Step [40/124], Loss: 0.0249\n",
      "Epoch [13/20], Step [44/124], Loss: 0.0082\n",
      "Epoch [13/20], Step [48/124], Loss: 0.0063\n",
      "Epoch [13/20], Step [52/124], Loss: 0.0053\n",
      "Epoch [13/20], Step [56/124], Loss: 0.0714\n",
      "Epoch [13/20], Step [60/124], Loss: 0.0375\n",
      "Epoch [13/20], Step [64/124], Loss: 0.6609\n",
      "Epoch [13/20], Step [68/124], Loss: 0.1183\n",
      "Epoch [13/20], Step [72/124], Loss: 0.0107\n",
      "Epoch [13/20], Step [76/124], Loss: 0.0070\n",
      "Epoch [13/20], Step [80/124], Loss: 0.0131\n",
      "Epoch [13/20], Step [84/124], Loss: 0.0329\n",
      "Epoch [13/20], Step [88/124], Loss: 0.1837\n",
      "Epoch [13/20], Step [92/124], Loss: 0.0166\n",
      "Epoch [13/20], Step [96/124], Loss: 0.0631\n",
      "Epoch [14/20], Step [4/124], Loss: 0.0535\n",
      "Epoch [14/20], Step [8/124], Loss: 0.0473\n",
      "Epoch [14/20], Step [12/124], Loss: 0.0295\n",
      "Epoch [14/20], Step [16/124], Loss: 0.0256\n",
      "Epoch [14/20], Step [20/124], Loss: 0.0378\n",
      "Epoch [14/20], Step [24/124], Loss: 0.0029\n",
      "Epoch [14/20], Step [28/124], Loss: 0.0147\n",
      "Epoch [14/20], Step [32/124], Loss: 0.1257\n",
      "Epoch [14/20], Step [36/124], Loss: 0.0561\n",
      "Epoch [14/20], Step [40/124], Loss: 0.0068\n",
      "Epoch [14/20], Step [44/124], Loss: 1.0920\n",
      "Epoch [14/20], Step [48/124], Loss: 0.0103\n",
      "Epoch [14/20], Step [52/124], Loss: 0.0346\n",
      "Epoch [14/20], Step [56/124], Loss: 0.0117\n",
      "Epoch [14/20], Step [60/124], Loss: 0.0498\n",
      "Epoch [14/20], Step [64/124], Loss: 0.0044\n",
      "Epoch [14/20], Step [68/124], Loss: 0.0174\n",
      "Epoch [14/20], Step [72/124], Loss: 0.1578\n",
      "Epoch [14/20], Step [76/124], Loss: 0.0447\n",
      "Epoch [14/20], Step [80/124], Loss: 0.0086\n",
      "Epoch [14/20], Step [84/124], Loss: 0.0061\n",
      "Epoch [14/20], Step [88/124], Loss: 0.0136\n",
      "Epoch [14/20], Step [92/124], Loss: 0.0537\n",
      "Epoch [14/20], Step [96/124], Loss: 0.0127\n",
      "Epoch [15/20], Step [4/124], Loss: 0.0504\n",
      "Epoch [15/20], Step [8/124], Loss: 0.0314\n",
      "Epoch [15/20], Step [12/124], Loss: 0.0142\n",
      "Epoch [15/20], Step [16/124], Loss: 0.0126\n",
      "Epoch [15/20], Step [20/124], Loss: 0.0273\n",
      "Epoch [15/20], Step [24/124], Loss: 0.4249\n",
      "Epoch [15/20], Step [28/124], Loss: 0.1053\n",
      "Epoch [15/20], Step [32/124], Loss: 0.0081\n",
      "Epoch [15/20], Step [36/124], Loss: 0.0925\n",
      "Epoch [15/20], Step [40/124], Loss: 0.0084\n",
      "Epoch [15/20], Step [44/124], Loss: 0.0023\n",
      "Epoch [15/20], Step [48/124], Loss: 0.0109\n",
      "Epoch [15/20], Step [52/124], Loss: 0.0153\n",
      "Epoch [15/20], Step [56/124], Loss: 0.0661\n",
      "Epoch [15/20], Step [60/124], Loss: 0.1862\n",
      "Epoch [15/20], Step [64/124], Loss: 0.0301\n",
      "Epoch [15/20], Step [68/124], Loss: 0.0076\n",
      "Epoch [15/20], Step [72/124], Loss: 0.0282\n",
      "Epoch [15/20], Step [76/124], Loss: 0.0537\n",
      "Epoch [15/20], Step [80/124], Loss: 0.0078\n",
      "Epoch [15/20], Step [84/124], Loss: 0.0319\n",
      "Epoch [15/20], Step [88/124], Loss: 0.0521\n",
      "Epoch [15/20], Step [92/124], Loss: 0.0047\n",
      "Epoch [15/20], Step [96/124], Loss: 0.0022\n",
      "Epoch [16/20], Step [4/124], Loss: 0.0202\n",
      "Epoch [16/20], Step [8/124], Loss: 0.0313\n",
      "Epoch [16/20], Step [12/124], Loss: 0.1936\n",
      "Epoch [16/20], Step [16/124], Loss: 0.0038\n",
      "Epoch [16/20], Step [20/124], Loss: 0.0030\n",
      "Epoch [16/20], Step [24/124], Loss: 0.0168\n",
      "Epoch [16/20], Step [28/124], Loss: 0.0061\n",
      "Epoch [16/20], Step [32/124], Loss: 0.0629\n",
      "Epoch [16/20], Step [36/124], Loss: 0.0066\n",
      "Epoch [16/20], Step [40/124], Loss: 0.3875\n",
      "Epoch [16/20], Step [44/124], Loss: 0.0198\n",
      "Epoch [16/20], Step [48/124], Loss: 0.0174\n",
      "Epoch [16/20], Step [52/124], Loss: 0.0132\n",
      "Epoch [16/20], Step [56/124], Loss: 0.1178\n",
      "Epoch [16/20], Step [60/124], Loss: 0.0272\n",
      "Epoch [16/20], Step [64/124], Loss: 0.0192\n",
      "Epoch [16/20], Step [68/124], Loss: 0.1713\n",
      "Epoch [16/20], Step [72/124], Loss: 0.0118\n",
      "Epoch [16/20], Step [76/124], Loss: 0.0121\n",
      "Epoch [16/20], Step [80/124], Loss: 0.0495\n",
      "Epoch [16/20], Step [84/124], Loss: 0.0011\n",
      "Epoch [16/20], Step [88/124], Loss: 0.0614\n",
      "Epoch [16/20], Step [92/124], Loss: 0.0024\n",
      "Epoch [16/20], Step [96/124], Loss: 0.1029\n",
      "Epoch [17/20], Step [4/124], Loss: 0.0055\n",
      "Epoch [17/20], Step [8/124], Loss: 0.0210\n",
      "Epoch [17/20], Step [12/124], Loss: 0.1174\n",
      "Epoch [17/20], Step [16/124], Loss: 0.1327\n",
      "Epoch [17/20], Step [20/124], Loss: 0.0070\n",
      "Epoch [17/20], Step [24/124], Loss: 0.0369\n",
      "Epoch [17/20], Step [28/124], Loss: 0.0155\n",
      "Epoch [17/20], Step [32/124], Loss: 0.0027\n",
      "Epoch [17/20], Step [36/124], Loss: 0.0102\n",
      "Epoch [17/20], Step [40/124], Loss: 0.0204\n",
      "Epoch [17/20], Step [44/124], Loss: 0.0115\n",
      "Epoch [17/20], Step [48/124], Loss: 0.0448\n",
      "Epoch [17/20], Step [52/124], Loss: 0.0343\n",
      "Epoch [17/20], Step [56/124], Loss: 0.0098\n",
      "Epoch [17/20], Step [60/124], Loss: 0.0474\n",
      "Epoch [17/20], Step [64/124], Loss: 0.0019\n",
      "Epoch [17/20], Step [68/124], Loss: 0.2067\n",
      "Epoch [17/20], Step [72/124], Loss: 0.0784\n",
      "Epoch [17/20], Step [76/124], Loss: 0.0150\n",
      "Epoch [17/20], Step [80/124], Loss: 0.0171\n",
      "Epoch [17/20], Step [84/124], Loss: 0.0557\n",
      "Epoch [17/20], Step [88/124], Loss: 0.0086\n",
      "Epoch [17/20], Step [92/124], Loss: 0.0172\n",
      "Epoch [17/20], Step [96/124], Loss: 0.0112\n",
      "Epoch [18/20], Step [4/124], Loss: 0.0058\n",
      "Epoch [18/20], Step [8/124], Loss: 0.0095\n",
      "Epoch [18/20], Step [12/124], Loss: 0.0049\n",
      "Epoch [18/20], Step [16/124], Loss: 0.0058\n",
      "Epoch [18/20], Step [20/124], Loss: 0.0074\n",
      "Epoch [18/20], Step [24/124], Loss: 0.0075\n",
      "Epoch [18/20], Step [28/124], Loss: 0.0165\n",
      "Epoch [18/20], Step [32/124], Loss: 0.0030\n",
      "Epoch [18/20], Step [36/124], Loss: 0.0472\n",
      "Epoch [18/20], Step [40/124], Loss: 0.0125\n",
      "Epoch [18/20], Step [44/124], Loss: 0.0139\n",
      "Epoch [18/20], Step [48/124], Loss: 0.0132\n",
      "Epoch [18/20], Step [52/124], Loss: 0.0116\n",
      "Epoch [18/20], Step [56/124], Loss: 0.0644\n",
      "Epoch [18/20], Step [60/124], Loss: 0.0502\n",
      "Epoch [18/20], Step [64/124], Loss: 0.0012\n",
      "Epoch [18/20], Step [68/124], Loss: 0.0212\n",
      "Epoch [18/20], Step [72/124], Loss: 0.0153\n",
      "Epoch [18/20], Step [76/124], Loss: 0.2231\n",
      "Epoch [18/20], Step [80/124], Loss: 0.0128\n",
      "Epoch [18/20], Step [84/124], Loss: 0.0322\n",
      "Epoch [18/20], Step [88/124], Loss: 0.0136\n",
      "Epoch [18/20], Step [92/124], Loss: 0.0106\n",
      "Epoch [18/20], Step [96/124], Loss: 0.0056\n",
      "Epoch [19/20], Step [4/124], Loss: 0.0221\n",
      "Epoch [19/20], Step [8/124], Loss: 0.0238\n",
      "Epoch [19/20], Step [12/124], Loss: 0.0064\n",
      "Epoch [19/20], Step [16/124], Loss: 0.0093\n",
      "Epoch [19/20], Step [20/124], Loss: 0.0109\n",
      "Epoch [19/20], Step [24/124], Loss: 0.0183\n",
      "Epoch [19/20], Step [28/124], Loss: 0.0279\n",
      "Epoch [19/20], Step [32/124], Loss: 0.1074\n",
      "Epoch [19/20], Step [36/124], Loss: 0.0415\n",
      "Epoch [19/20], Step [40/124], Loss: 0.0583\n",
      "Epoch [19/20], Step [44/124], Loss: 0.0085\n",
      "Epoch [19/20], Step [48/124], Loss: 0.0040\n",
      "Epoch [19/20], Step [52/124], Loss: 0.0065\n",
      "Epoch [19/20], Step [56/124], Loss: 0.0145\n",
      "Epoch [19/20], Step [60/124], Loss: 0.0026\n",
      "Epoch [19/20], Step [64/124], Loss: 0.0039\n",
      "Epoch [19/20], Step [68/124], Loss: 0.0116\n",
      "Epoch [19/20], Step [72/124], Loss: 0.0529\n",
      "Epoch [19/20], Step [76/124], Loss: 0.0063\n",
      "Epoch [19/20], Step [80/124], Loss: 0.0037\n",
      "Epoch [19/20], Step [84/124], Loss: 0.0149\n",
      "Epoch [19/20], Step [88/124], Loss: 0.0019\n",
      "Epoch [19/20], Step [92/124], Loss: 0.0030\n",
      "Epoch [19/20], Step [96/124], Loss: 0.0295\n",
      "Epoch [20/20], Step [4/124], Loss: 0.1441\n",
      "Epoch [20/20], Step [8/124], Loss: 0.0035\n",
      "Epoch [20/20], Step [12/124], Loss: 0.0075\n",
      "Epoch [20/20], Step [16/124], Loss: 0.0063\n",
      "Epoch [20/20], Step [20/124], Loss: 0.0315\n",
      "Epoch [20/20], Step [24/124], Loss: 0.0062\n",
      "Epoch [20/20], Step [28/124], Loss: 0.0019\n",
      "Epoch [20/20], Step [32/124], Loss: 0.0353\n",
      "Epoch [20/20], Step [36/124], Loss: 0.0505\n",
      "Epoch [20/20], Step [40/124], Loss: 0.1584\n",
      "Epoch [20/20], Step [44/124], Loss: 0.0056\n",
      "Epoch [20/20], Step [48/124], Loss: 0.0544\n",
      "Epoch [20/20], Step [52/124], Loss: 0.0010\n",
      "Epoch [20/20], Step [56/124], Loss: 0.0029\n",
      "Epoch [20/20], Step [60/124], Loss: 0.0097\n",
      "Epoch [20/20], Step [64/124], Loss: 0.0017\n",
      "Epoch [20/20], Step [68/124], Loss: 0.1753\n",
      "Epoch [20/20], Step [72/124], Loss: 0.0036\n",
      "Epoch [20/20], Step [76/124], Loss: 0.0047\n",
      "Epoch [20/20], Step [80/124], Loss: 0.0029\n",
      "Epoch [20/20], Step [84/124], Loss: 0.1326\n",
      "Epoch [20/20], Step [88/124], Loss: 0.0009\n",
      "Epoch [20/20], Step [92/124], Loss: 0.0149\n",
      "Epoch [20/20], Step [96/124], Loss: 0.0062\n"
     ]
    }
   ],
   "source": [
    "num_epochs = 20\n",
    "\n",
    "num_batch = len(dl) - 1\n",
    "# Train the Model\n",
    "for epoch in range(num_epochs):\n",
    "    it = iter(dl)\n",
    "    # Loop over all batches\n",
    "    for i in range(num_batch):\n",
    "        batch_x,batch_y,batch_len = next(it)\n",
    "        tweets = Variable(batch_x.transpose(0,1))\n",
    "        labels = Variable(batch_y)\n",
    "        lengths = Variable(batch_len)\n",
    "        # Forward + Backward + Optimize\n",
    "        optimizer.zero_grad()  # zero the gradient buffer\n",
    "        outputs = net(tweets)\n",
    "        loss = criterion(outputs, labels)\n",
    "        losses.append(loss.data[0])\n",
    "        loss.backward()\n",
    "        optimizer.step()\n",
    "\n",
    "        if (i+1) % 4 == 0:\n",
    "            print ('Epoch [%d/%d], Step [%d/%d], Loss: %.4f'\n",
    "                   %(epoch+1, num_epochs, i+1, len(train.clean_tweet)//batch_size, loss.data[0]))\n",
    "    val_scores.append(get_validation_loss(dl2, net))\n",
    "    if epoch > 5:\n",
    "        if val_scores[-1] == max(val_scores):\n",
    "            best_net = net"
   ]
  },
  {
   "cell_type": "code",
   "execution_count": 40,
   "metadata": {
    "collapsed": false,
    "scrolled": true
   },
   "outputs": [
    {
     "data": {
      "text/plain": [
       "[<matplotlib.lines.Line2D at 0x123e63748>]"
      ]
     },
     "execution_count": 40,
     "metadata": {},
     "output_type": "execute_result"
    },
    {
     "data": {
      "image/png": "[encoded data removed]",
      "text/plain": [
       "<matplotlib.figure.Figure at 0x113beab00>"
      ]
     },
     "metadata": {},
     "output_type": "display_data"
    }
   ],
   "source": [
    "plt.plot(losses) #trained at lr of 0.001 for 10 epochs"
   ]
  },
  {
   "cell_type": "code",
   "execution_count": 41,
   "metadata": {
    "collapsed": false
   },
   "outputs": [
    {
     "data": {
      "text/plain": [
       "[<matplotlib.lines.Line2D at 0x11421fd30>]"
      ]
     },
     "execution_count": 41,
     "metadata": {},
     "output_type": "execute_result"
    },
    {
     "data": {
      "image/png": "[encoded data removed]",
      "text/plain": [
       "<matplotlib.figure.Figure at 0x1153cc630>"
      ]
     },
     "metadata": {},
     "output_type": "display_data"
    }
   ],
   "source": [
    "plt.plot(val_scores)"
   ]
  },
  {
   "cell_type": "code",
   "execution_count": 42,
   "metadata": {
    "collapsed": false
   },
   "outputs": [
    {
     "data": {
      "text/plain": [
       "0.49056603773584906"
      ]
     },
     "execution_count": 42,
     "metadata": {},
     "output_type": "execute_result"
    }
   ],
   "source": [
    "max(val_scores)"
   ]
  }
 ],
 "metadata": {
  "kernelspec": {
   "display_name": "Python 3",
   "language": "python",
   "name": "python3"
  },
  "language_info": {
   "codemirror_mode": {
    "name": "ipython",
    "version": 3
   },
   "file_extension": ".py",
   "mimetype": "text/x-python",
   "name": "python",
   "nbconvert_exporter": "python",
   "pygments_lexer": "ipython3",
   "version": "3.6.0"
  }
 },
 "nbformat": 4,
 "nbformat_minor": 2
}
