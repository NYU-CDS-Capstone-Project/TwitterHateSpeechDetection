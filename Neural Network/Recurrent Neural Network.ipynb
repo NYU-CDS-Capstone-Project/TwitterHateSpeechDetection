{
 "cells": [
  {
   "cell_type": "markdown",
   "metadata": {},
   "source": [
    "## <b>Import libraries<b>"
   ]
  },
  {
   "cell_type": "code",
   "execution_count": 1,
   "metadata": {
    "collapsed": true
   },
   "outputs": [],
   "source": [
    "import torch\n",
    "import pandas as pd\n",
    "import numpy as np\n",
    "from collections import Counter\n",
    "from torch.autograd import Variable\n",
    "import torch.nn as nn\n",
    "import torch.nn.functional as F\n",
    "import torch.autograd as autograd\n",
    "from sklearn.metrics import f1_score\n",
    "from torch.nn.utils.rnn import pack_padded_sequence, pad_packed_sequence\n",
    "from torch.utils.data import Dataset, DataLoader\n",
    "from torch.nn.utils.rnn import pack_padded_sequence, pad_packed_sequence\n",
    "from torch.autograd import Variable\n",
    "import matplotlib.pyplot as plt\n",
    "from torch.optim.lr_scheduler import MultiStepLR\n",
    "from sklearn.metrics import f1_score\n",
    "from sklearn import model_selection\n",
    "%matplotlib inline"
   ]
  },
  {
   "cell_type": "code",
   "execution_count": 2,
   "metadata": {
    "collapsed": false
   },
   "outputs": [],
   "source": [
    "#drew inspiration from\n",
    "#https://github.com/dmesquita/understanding_pytorch_nn and\n",
    "#https://github.com/msahamed/yelp_comments_classification_nlp/blob/master/word_embeddings.ipynb\n",
    "#https://github.com/nyu-mll/DS-GA-1011-Fall2017/blob/master/week%20eight/Week%20Eight%20Solutions.ipynb\n",
    "#https://pytorch.org/tutorials/beginner/nlp/sequence_models_tutorial.html\n",
    "#https://github.com/claravania/lstm-pytorch/blob/master/model.py\n",
    "#https://medium.com/@sonicboom8/sentiment-analysis-with-variable-length-sequences-in-pytorch-6241635ae130\n",
    "#https://github.com/hpanwar08/sentence-classification-pytorch/blob/master/Sentiment%20analysis%20pytorch.ipynb"
   ]
  },
  {
   "cell_type": "markdown",
   "metadata": {},
   "source": [
    "## <b> Data Processing<b>"
   ]
  },
  {
   "cell_type": "code",
   "execution_count": 3,
   "metadata": {
    "collapsed": false
   },
   "outputs": [],
   "source": [
    "train = pd.read_csv(\"../train.csv\")"
   ]
  },
  {
   "cell_type": "code",
   "execution_count": 4,
   "metadata": {
    "collapsed": true
   },
   "outputs": [],
   "source": [
    "#create labels"
   ]
  },
  {
   "cell_type": "code",
   "execution_count": 5,
   "metadata": {
    "collapsed": false
   },
   "outputs": [],
   "source": [
    "labels = ['CAPS', 'Obscenity', 'Threat', 'hatespeech', 'namecalling', 'negprejudice', 'noneng', 'porn', 'stereotypes']\n",
    "\n",
    "for label in labels:\n",
    "    cols = [label + str(x) for x in range(1,8)]\n",
    "    train[label + '_num_yes'] = train[cols].sum(axis = 1)\n",
    "    train[label] = pd.Series(train[label + '_num_yes'] >= 2).astype(int)"
   ]
  },
  {
   "cell_type": "code",
   "execution_count": 6,
   "metadata": {
    "collapsed": false
   },
   "outputs": [],
   "source": [
    "train = train.loc[train['clean_tweet'].isnull() == False,]"
   ]
  },
  {
   "cell_type": "code",
   "execution_count": 7,
   "metadata": {
    "collapsed": false
   },
   "outputs": [],
   "source": [
    "train.reset_index(inplace = True, drop = True)"
   ]
  },
  {
   "cell_type": "code",
   "execution_count": 8,
   "metadata": {
    "collapsed": false
   },
   "outputs": [],
   "source": [
    "vocab = Counter()\n",
    "\n",
    "for text in train.clean_tweet:\n",
    "    for word in text.split(' '):\n",
    "        vocab[word.lower()]+=1\n",
    "\n",
    "total_words = len(vocab)\n",
    "\n",
    "def get_word_2_index(vocab):\n",
    "    word2index = {}\n",
    "    index2word = {}\n",
    "    for i,word in enumerate(vocab):\n",
    "        word2index[word.lower()] = i+1\n",
    "        index2word[i+1] = word.lower()\n",
    "\n",
    "    return word2index, index2word\n",
    "\n",
    "word2index, index2word = get_word_2_index(vocab)"
   ]
  },
  {
   "cell_type": "code",
   "execution_count": 9,
   "metadata": {
    "collapsed": false
   },
   "outputs": [],
   "source": [
    "word2index['PAD'] = 0\n",
    "index2word[0] = 'PAD'\n",
    "\n",
    "total_words = total_words + 1"
   ]
  },
  {
   "cell_type": "code",
   "execution_count": 10,
   "metadata": {
    "collapsed": false
   },
   "outputs": [],
   "source": [
    "def pad_data(s, length):\n",
    "    padded = np.zeros((length,), dtype = np.int64)\n",
    "    if len(s) > length: \n",
    "        padded = s[:length]\n",
    "    else:\n",
    "        padded[:len(s)] = s\n",
    "    return np.array(padded)"
   ]
  },
  {
   "cell_type": "code",
   "execution_count": 11,
   "metadata": {
    "collapsed": false
   },
   "outputs": [],
   "source": [
    "train['seq_len'] = [len(x.split(' ')) for x in train['clean_tweet']]\n",
    "\n",
    "train['numeric'] = [[word2index[y] for y in x.split(' ')] for x in train['clean_tweet']]\n",
    "\n",
    "train['padded_tweet'] = [pad_data(x, 10) for x in train.numeric]"
   ]
  },
  {
   "cell_type": "code",
   "execution_count": null,
   "metadata": {
    "collapsed": true
   },
   "outputs": [],
   "source": [
    "#if we want validation accuracy to better resemble test accuracy, need to create vocab on training only"
   ]
  },
  {
   "cell_type": "code",
   "execution_count": 12,
   "metadata": {
    "collapsed": false
   },
   "outputs": [],
   "source": [
    "train_sub, validation = model_selection.train_test_split(train, test_size = 0.2, random_state = 123)"
   ]
  },
  {
   "cell_type": "code",
   "execution_count": 13,
   "metadata": {
    "collapsed": false
   },
   "outputs": [],
   "source": [
    "# subclass the custom dataset class with torch.utils.data.Dataset\n",
    "# implement __len__ and __getitem__ function\n",
    "class VectorizeData(Dataset):\n",
    "    def __init__(self, df, label, maxlen=20):\n",
    "        self.df = df\n",
    "        self.label = label\n",
    "\n",
    "    def __len__(self):\n",
    "        return self.df.shape[0]\n",
    "    \n",
    "    def __getitem__(self, idx):\n",
    "        X = self.df.padded_tweet[idx]\n",
    "        y = self.df[self.label][idx]\n",
    "        lens = self.df.seq_len[idx]\n",
    "        return X,y,lens"
   ]
  },
  {
   "cell_type": "code",
   "execution_count": 39,
   "metadata": {
    "collapsed": true
   },
   "outputs": [],
   "source": [
    "train_sub.reset_index(inplace = True, drop = True)"
   ]
  },
  {
   "cell_type": "code",
   "execution_count": 55,
   "metadata": {
    "collapsed": true
   },
   "outputs": [],
   "source": [
    "validation.reset_index(inplace = True, drop = True)"
   ]
  },
  {
   "cell_type": "code",
   "execution_count": 41,
   "metadata": {
    "collapsed": false
   },
   "outputs": [],
   "source": [
    "data = VectorizeData(train_sub, label = 'hatespeech')\n",
    "\n",
    "dl = DataLoader(data, batch_size = 32, shuffle = True)"
   ]
  },
  {
   "cell_type": "code",
   "execution_count": 44,
   "metadata": {
    "collapsed": false
   },
   "outputs": [],
   "source": [
    "class LSTMClassifier(nn.Module):\n",
    "    def __init__(self, vocab_size, embedding_dim, hidden_dim, output_size, batch_size):\n",
    "        super(LSTMClassifier, self).__init__()\n",
    "        self.embedding_dim = embedding_dim\n",
    "        self.hidden_dim = hidden_dim\n",
    "        self.vocab_size = vocab_size\n",
    "        self.embedding = nn.Embedding(vocab_size, embedding_dim)\n",
    "        self.lstm = nn.LSTM(embedding_dim, hidden_dim, num_layers=1)\n",
    "        self.hidden2out = nn.Linear(hidden_dim, output_size)\n",
    "        self.softmax = nn.LogSoftmax()\n",
    "        self.dropout_layer = nn.Dropout(p=0.2)\n",
    "        self.batch_size = batch_size\n",
    "        #self.hidden = self.init_hidden(batch_size)\n",
    "\n",
    "    def init_hidden(self, batch_size):\n",
    "        return(autograd.Variable(torch.randn(1, batch_size, self.hidden_dim)), \\\n",
    "               autograd.Variable(torch.randn(1, batch_size, self.hidden_dim)))\n",
    "\n",
    "    def forward(self, batch): #removed lengths\n",
    "        #should reinitalize hidden states before each batch?\n",
    "        self.hidden = self.init_hidden(batch_size)\n",
    "        embeds = self.embedding(batch)\n",
    "        #packed_input = pack_padded_sequence(embeds, lengths)\n",
    "        outputs, (ht, ct) = self.lstm(embeds, self.hidden)\n",
    "        # ht is the last hidden state of the sequences\n",
    "        # ht = (1 x batch_size x hidden_dim)\n",
    "        # ht[-1] = (batch_size x hidden_dim)\n",
    "        output = self.dropout_layer(ht[-1])\n",
    "        output = self.hidden2out(output)\n",
    "        output = self.softmax(output)\n",
    "        return output"
   ]
  },
  {
   "cell_type": "code",
   "execution_count": 86,
   "metadata": {
    "collapsed": true
   },
   "outputs": [],
   "source": [
    "hidden_size = 100 \n",
    "num_classes = 2\n",
    "learning_rate = 0.01\n",
    "num_epochs = 5\n",
    "batch_size = 32\n",
    "#momentum = 0.9"
   ]
  },
  {
   "cell_type": "code",
   "execution_count": 46,
   "metadata": {
    "collapsed": false
   },
   "outputs": [
    {
     "data": {
      "text/plain": [
       "100"
      ]
     },
     "execution_count": 46,
     "metadata": {},
     "output_type": "execute_result"
    }
   ],
   "source": [
    "len(dl)"
   ]
  },
  {
   "cell_type": "code",
   "execution_count": 47,
   "metadata": {
    "collapsed": false,
    "scrolled": true
   },
   "outputs": [
    {
     "data": {
      "text/plain": [
       "11059"
      ]
     },
     "execution_count": 47,
     "metadata": {},
     "output_type": "execute_result"
    }
   ],
   "source": [
    "total_words"
   ]
  },
  {
   "cell_type": "code",
   "execution_count": 48,
   "metadata": {
    "collapsed": false
   },
   "outputs": [
    {
     "data": {
      "text/plain": [
       "39.313131313131315"
      ]
     },
     "execution_count": 48,
     "metadata": {},
     "output_type": "execute_result"
    }
   ],
   "source": [
    "3892/99"
   ]
  },
  {
   "cell_type": "code",
   "execution_count": 87,
   "metadata": {
    "collapsed": false
   },
   "outputs": [
    {
     "name": "stdout",
     "output_type": "stream",
     "text": [
      "Epoch [1/5], Step [4/124], Loss: 1.7614\n",
      "Epoch [1/5], Step [8/124], Loss: 1.3704\n",
      "Epoch [1/5], Step [12/124], Loss: 0.4660\n",
      "Epoch [1/5], Step [16/124], Loss: 0.6943\n",
      "Epoch [1/5], Step [20/124], Loss: 0.9303\n",
      "Epoch [1/5], Step [24/124], Loss: 0.5175\n",
      "Epoch [1/5], Step [28/124], Loss: 0.3895\n",
      "Epoch [1/5], Step [32/124], Loss: 0.4187\n",
      "Epoch [1/5], Step [36/124], Loss: 0.1964\n",
      "Epoch [1/5], Step [40/124], Loss: 0.1433\n",
      "Epoch [1/5], Step [44/124], Loss: 0.1082\n",
      "Epoch [1/5], Step [48/124], Loss: 0.7923\n",
      "Epoch [1/5], Step [52/124], Loss: 0.6039\n",
      "Epoch [1/5], Step [56/124], Loss: 0.5231\n",
      "Epoch [1/5], Step [60/124], Loss: 0.4567\n",
      "Epoch [1/5], Step [64/124], Loss: 0.6987\n",
      "Epoch [1/5], Step [68/124], Loss: 0.1952\n",
      "Epoch [1/5], Step [72/124], Loss: 0.1467\n",
      "Epoch [1/5], Step [76/124], Loss: 0.2159\n",
      "Epoch [1/5], Step [80/124], Loss: 1.2461\n",
      "Epoch [1/5], Step [84/124], Loss: 0.3998\n",
      "Epoch [1/5], Step [88/124], Loss: 0.2117\n",
      "Epoch [1/5], Step [92/124], Loss: 0.3645\n",
      "Epoch [1/5], Step [96/124], Loss: 0.2019\n",
      "Epoch [2/5], Step [4/124], Loss: 0.2070\n",
      "Epoch [2/5], Step [8/124], Loss: 0.3360\n",
      "Epoch [2/5], Step [12/124], Loss: 0.2515\n",
      "Epoch [2/5], Step [16/124], Loss: 0.2383\n",
      "Epoch [2/5], Step [20/124], Loss: 0.3764\n",
      "Epoch [2/5], Step [24/124], Loss: 0.1929\n",
      "Epoch [2/5], Step [28/124], Loss: 0.1176\n",
      "Epoch [2/5], Step [32/124], Loss: 0.1684\n",
      "Epoch [2/5], Step [36/124], Loss: 0.1170\n",
      "Epoch [2/5], Step [40/124], Loss: 0.5033\n",
      "Epoch [2/5], Step [44/124], Loss: 0.1994\n",
      "Epoch [2/5], Step [48/124], Loss: 0.0763\n",
      "Epoch [2/5], Step [52/124], Loss: 0.0748\n",
      "Epoch [2/5], Step [56/124], Loss: 0.3467\n",
      "Epoch [2/5], Step [60/124], Loss: 0.2707\n",
      "Epoch [2/5], Step [64/124], Loss: 0.6909\n",
      "Epoch [2/5], Step [68/124], Loss: 0.1576\n",
      "Epoch [2/5], Step [72/124], Loss: 0.2767\n",
      "Epoch [2/5], Step [76/124], Loss: 0.1887\n",
      "Epoch [2/5], Step [80/124], Loss: 0.3842\n",
      "Epoch [2/5], Step [84/124], Loss: 0.0658\n",
      "Epoch [2/5], Step [88/124], Loss: 0.2213\n",
      "Epoch [2/5], Step [92/124], Loss: 0.0398\n",
      "Epoch [2/5], Step [96/124], Loss: 0.0410\n",
      "Epoch [3/5], Step [4/124], Loss: 0.0295\n",
      "Epoch [3/5], Step [8/124], Loss: 0.0262\n",
      "Epoch [3/5], Step [12/124], Loss: 0.6271\n",
      "Epoch [3/5], Step [16/124], Loss: 0.6052\n",
      "Epoch [3/5], Step [20/124], Loss: 0.0519\n",
      "Epoch [3/5], Step [24/124], Loss: 0.0167\n",
      "Epoch [3/5], Step [28/124], Loss: 0.0285\n",
      "Epoch [3/5], Step [32/124], Loss: 0.0147\n",
      "Epoch [3/5], Step [36/124], Loss: 0.0238\n",
      "Epoch [3/5], Step [40/124], Loss: 0.0984\n",
      "Epoch [3/5], Step [44/124], Loss: 0.1340\n",
      "Epoch [3/5], Step [48/124], Loss: 0.4873\n",
      "Epoch [3/5], Step [52/124], Loss: 0.0202\n",
      "Epoch [3/5], Step [56/124], Loss: 0.0241\n",
      "Epoch [3/5], Step [60/124], Loss: 0.0926\n",
      "Epoch [3/5], Step [64/124], Loss: 0.0113\n",
      "Epoch [3/5], Step [68/124], Loss: 0.0247\n",
      "Epoch [3/5], Step [72/124], Loss: 0.1318\n",
      "Epoch [3/5], Step [76/124], Loss: 0.0102\n",
      "Epoch [3/5], Step [80/124], Loss: 0.3680\n",
      "Epoch [3/5], Step [84/124], Loss: 0.0248\n",
      "Epoch [3/5], Step [88/124], Loss: 0.0275\n",
      "Epoch [3/5], Step [92/124], Loss: 0.0191\n",
      "Epoch [3/5], Step [96/124], Loss: 0.0246\n",
      "Epoch [4/5], Step [4/124], Loss: 0.0197\n",
      "Epoch [4/5], Step [8/124], Loss: 0.0653\n",
      "Epoch [4/5], Step [12/124], Loss: 0.0138\n",
      "Epoch [4/5], Step [16/124], Loss: 0.0097\n",
      "Epoch [4/5], Step [20/124], Loss: 0.0137\n",
      "Epoch [4/5], Step [24/124], Loss: 0.0109\n",
      "Epoch [4/5], Step [28/124], Loss: 0.0235\n",
      "Epoch [4/5], Step [32/124], Loss: 0.0046\n",
      "Epoch [4/5], Step [36/124], Loss: 0.0247\n",
      "Epoch [4/5], Step [40/124], Loss: 0.0019\n",
      "Epoch [4/5], Step [44/124], Loss: 0.0051\n",
      "Epoch [4/5], Step [48/124], Loss: 0.0058\n",
      "Epoch [4/5], Step [52/124], Loss: 0.0014\n",
      "Epoch [4/5], Step [56/124], Loss: 0.3150\n",
      "Epoch [4/5], Step [60/124], Loss: 0.0213\n",
      "Epoch [4/5], Step [64/124], Loss: 0.0991\n",
      "Epoch [4/5], Step [68/124], Loss: 0.0022\n",
      "Epoch [4/5], Step [72/124], Loss: 0.0566\n",
      "Epoch [4/5], Step [76/124], Loss: 0.0395\n",
      "Epoch [4/5], Step [80/124], Loss: 0.0024\n",
      "Epoch [4/5], Step [84/124], Loss: 0.1197\n",
      "Epoch [4/5], Step [88/124], Loss: 0.0014\n",
      "Epoch [4/5], Step [92/124], Loss: 0.0027\n",
      "Epoch [4/5], Step [96/124], Loss: 0.0038\n",
      "Epoch [5/5], Step [4/124], Loss: 0.0011\n",
      "Epoch [5/5], Step [8/124], Loss: 0.1317\n",
      "Epoch [5/5], Step [12/124], Loss: 0.0043\n",
      "Epoch [5/5], Step [16/124], Loss: 0.0118\n",
      "Epoch [5/5], Step [20/124], Loss: 0.0078\n",
      "Epoch [5/5], Step [24/124], Loss: 0.0037\n",
      "Epoch [5/5], Step [28/124], Loss: 0.1244\n",
      "Epoch [5/5], Step [32/124], Loss: 0.0014\n",
      "Epoch [5/5], Step [36/124], Loss: 0.1730\n",
      "Epoch [5/5], Step [40/124], Loss: 0.0022\n",
      "Epoch [5/5], Step [44/124], Loss: 0.0163\n",
      "Epoch [5/5], Step [48/124], Loss: 0.0062\n",
      "Epoch [5/5], Step [52/124], Loss: 0.0090\n",
      "Epoch [5/5], Step [56/124], Loss: 0.0022\n",
      "Epoch [5/5], Step [60/124], Loss: 0.0017\n",
      "Epoch [5/5], Step [64/124], Loss: 0.0045\n",
      "Epoch [5/5], Step [68/124], Loss: 0.0051\n",
      "Epoch [5/5], Step [72/124], Loss: 0.0137\n",
      "Epoch [5/5], Step [76/124], Loss: 0.0447\n",
      "Epoch [5/5], Step [80/124], Loss: 0.0393\n",
      "Epoch [5/5], Step [84/124], Loss: 0.0163\n",
      "Epoch [5/5], Step [88/124], Loss: 0.0016\n",
      "Epoch [5/5], Step [92/124], Loss: 0.0015\n",
      "Epoch [5/5], Step [96/124], Loss: 0.0029\n"
     ]
    }
   ],
   "source": [
    "#add 1 because of pad token\n",
    "net = LSTMClassifier(total_words, hidden_size, hidden_size, num_classes, batch_size)\n",
    "\n",
    "# Loss and Optimizer\n",
    "criterion = nn.NLLLoss(weight = torch.Tensor([1/39,1]))  \n",
    "optimizer = torch.optim.Adam(net.parameters(), lr=learning_rate)#, momentum = momentum, weight_decay = 0.0001)\n",
    "#scheduler = MultiStepLR(optimizer, milestones=[31,62,93,124], gamma = 0.1)\n",
    "\n",
    "losses = []\n",
    "\n",
    "num_batch = len(dl) - 1\n",
    "# Train the Model\n",
    "for epoch in range(num_epochs):\n",
    "    it = iter(dl)\n",
    "    # Loop over all batches\n",
    "    for i in range(num_batch):\n",
    "        batch_x,batch_y,batch_len = next(it)\n",
    "        tweets = Variable(batch_x.transpose(0,1))\n",
    "        labels = Variable(batch_y)\n",
    "        lengths = Variable(batch_len)\n",
    "        # Forward + Backward + Optimize\n",
    "        optimizer.zero_grad()  # zero the gradient buffer\n",
    "        outputs = net(tweets)\n",
    "        loss = criterion(outputs, labels)\n",
    "        losses.append(loss.data[0])\n",
    "        loss.backward()\n",
    "        optimizer.step()\n",
    "\n",
    "        if (i+1) % 4 == 0:\n",
    "            print ('Epoch [%d/%d], Step [%d/%d], Loss: %.4f'\n",
    "                   %(epoch+1, num_epochs, i+1, len(train.clean_tweet)//batch_size, loss.data[0]))\n",
    "            \n",
    "    #scheduler.step()"
   ]
  },
  {
   "cell_type": "code",
   "execution_count": 88,
   "metadata": {
    "collapsed": false
   },
   "outputs": [
    {
     "data": {
      "text/plain": [
       "[<matplotlib.lines.Line2D at 0x111cf8a90>]"
      ]
     },
     "execution_count": 88,
     "metadata": {},
     "output_type": "execute_result"
    },
    {
     "data": {
      "image/png": "[encoded data removed]",
      "text/plain": [
       "<matplotlib.figure.Figure at 0x118770dd8>"
      ]
     },
     "metadata": {},
     "output_type": "display_data"
    }
   ],
   "source": [
    "plt.plot(losses)"
   ]
  },
  {
   "cell_type": "code",
   "execution_count": 89,
   "metadata": {
    "collapsed": true
   },
   "outputs": [],
   "source": [
    "data = VectorizeData(validation, label = 'hatespeech')\n",
    "\n",
    "dl2 = DataLoader(data, batch_size = 32, shuffle = False)"
   ]
  },
  {
   "cell_type": "code",
   "execution_count": 90,
   "metadata": {
    "collapsed": false,
    "scrolled": false
   },
   "outputs": [],
   "source": [
    "predictions = []\n",
    "pred_labels = []\n",
    "#get training predictions\n",
    "it = iter(dl2)\n",
    "num_batch = len(dl2) - 1\n",
    "# Loop over all batches\n",
    "for i in range(num_batch):\n",
    "    batch_x,batch_y,batch_len = next(it)\n",
    "    tweets = Variable(batch_x.transpose(0,1))\n",
    "    labels = Variable(batch_y)\n",
    "    lengths = Variable(batch_len)\n",
    "    # Forward + Backward + Optimize\n",
    "    outputs = net(tweets)\n",
    "    _, pred = torch.max(outputs.data, 1)\n",
    "    predictions.extend(list(pred.numpy()))\n",
    "    pred_labels.extend(list(labels.data.numpy()))"
   ]
  },
  {
   "cell_type": "code",
   "execution_count": 91,
   "metadata": {
    "collapsed": false
   },
   "outputs": [
    {
     "data": {
      "text/plain": [
       "0    734\n",
       "1     34\n",
       "dtype: int64"
      ]
     },
     "execution_count": 91,
     "metadata": {},
     "output_type": "execute_result"
    }
   ],
   "source": [
    "pd.Series(predictions).value_counts()"
   ]
  },
  {
   "cell_type": "code",
   "execution_count": 92,
   "metadata": {
    "collapsed": false
   },
   "outputs": [
    {
     "data": {
      "text/plain": [
       "0.51724137931034486"
      ]
     },
     "execution_count": 92,
     "metadata": {},
     "output_type": "execute_result"
    }
   ],
   "source": [
    "f1_score(pred_labels, predictions)\n",
    "#overfits to training data almost perfectly with 10 epochs, but validation accuracy is low"
   ]
  }
 ],
 "metadata": {
  "kernelspec": {
   "display_name": "Python 3",
   "language": "python",
   "name": "python3"
  },
  "language_info": {
   "codemirror_mode": {
    "name": "ipython",
    "version": 3
   },
   "file_extension": ".py",
   "mimetype": "text/x-python",
   "name": "python",
   "nbconvert_exporter": "python",
   "pygments_lexer": "ipython3",
   "version": "3.6.0"
  }
 },
 "nbformat": 4,
 "nbformat_minor": 2
}
