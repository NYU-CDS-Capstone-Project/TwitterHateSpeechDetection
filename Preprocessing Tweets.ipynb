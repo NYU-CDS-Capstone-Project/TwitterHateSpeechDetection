{
 "cells": [
  {
   "cell_type": "code",
   "execution_count": 1,
   "metadata": {},
   "outputs": [],
   "source": [
    "import glob\n",
    "import pandas as pd\n",
    "import re\n",
    "from nltk.tokenize import word_tokenize\n",
    "from nltk.corpus import stopwords \n",
    "import string\n",
    "\n"
   ]
  },
  {
   "cell_type": "code",
   "execution_count": 2,
   "metadata": {},
   "outputs": [],
   "source": [
    "def remove_stop_words(tweet): \n",
    "    stop_words = set(stopwords.words('english'))\n",
    "    word_tokens = word_tokenize(tweet) \n",
    "    filtered_sentence = [w for w in word_tokens if not w in stop_words] \n",
    "    return filtered_sentence\n",
    "    \n",
    "def clean_tweet(tweet):\n",
    "    #Remover trialing whitespace\n",
    "    tweet=tweet.strip()   \n",
    "    \n",
    "    #Remove @ mention\n",
    "    tweet=re.sub(r'@[A-Za-z0-9]+','', tweet) #Remove the @ mention \n",
    "    \n",
    "    #Remove Hyerlinkis\n",
    "    tweet = re.sub(r\"http\\S+\", \"\", tweet).lower()\n",
    "    \n",
    "    # Remove Punctuation\n",
    "    tweet= ''.join(c for c in tweet if c not in string.punctuation)\n",
    "    \n",
    "    #Remove Common English Words\n",
    "    stop_words = set(stopwords.words('english'))\n",
    "    word_tokens = word_tokenize(tweet) \n",
    "    filtered_tweet = [w for w in word_tokens if not w in stop_words]\n",
    "    \n",
    "    \n",
    "    return filtered_tweet"
   ]
  },
  {
   "cell_type": "code",
   "execution_count": 3,
   "metadata": {},
   "outputs": [],
   "source": [
    "path ='/Volumes/Samsung USB/Fall 2018/twitterdata' \n",
    "allFiles = glob.glob(path + \"/Tweets*.csv\")\n",
    "frame = pd.DataFrame()\n",
    "list_ = []\n",
    "for file_ in allFiles:\n",
    "    df = pd.read_csv(file_,index_col=None, header=0)\n",
    "    list_.append(df)\n",
    "frame = pd.concat(list_)\n",
    "\n",
    "tweets=frame[\"Tweet\"].tolist()\n",
    "\n",
    "clean_tweets= []\n",
    "for tweet in tweets:\n",
    "    z= clean_tweet(str(tweet))\n",
    "    clean_tweets.append(z)\n",
    "    "
   ]
  },
  {
   "cell_type": "code",
   "execution_count": null,
   "metadata": {},
   "outputs": [],
   "source": []
  }
 ],
 "metadata": {
  "kernelspec": {
   "display_name": "Python 3",
   "language": "python",
   "name": "python3"
  },
  "language_info": {
   "codemirror_mode": {
    "name": "ipython",
    "version": 3
   },
   "file_extension": ".py",
   "mimetype": "text/x-python",
   "name": "python",
   "nbconvert_exporter": "python",
   "pygments_lexer": "ipython3",
   "version": "3.6.3"
  }
 },
 "nbformat": 4,
 "nbformat_minor": 2
}
