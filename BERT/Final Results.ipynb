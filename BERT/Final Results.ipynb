{
 "cells": [
  {
   "cell_type": "code",
   "execution_count": 1,
   "metadata": {
    "collapsed": true
   },
   "outputs": [],
   "source": [
    "import pandas as pd"
   ]
  },
  {
   "cell_type": "code",
   "execution_count": 6,
   "metadata": {
    "collapsed": false
   },
   "outputs": [],
   "source": [
    "hatespeech_results = pd.read_csv(\"final_results/results_hatespeech.txt\", header = None)\n",
    "\n",
    "hatespeech_results.columns = ['tweet_order', 'prob_hatespeech', 'hatespeech']"
   ]
  },
  {
   "cell_type": "code",
   "execution_count": 28,
   "metadata": {
    "collapsed": true
   },
   "outputs": [],
   "source": [
    "labels = ['hatespeech', 'namecalling', 'negprejudice', 'noneng', 'obscenity', 'porn', 'stereotypes', 'threat']"
   ]
  },
  {
   "cell_type": "code",
   "execution_count": 33,
   "metadata": {
    "collapsed": false
   },
   "outputs": [],
   "source": [
    "results = pd.read_csv(\"final_results/results_hatespeech.txt\", header = None)\n",
    "results.columns = ['tweet_order', 'prob_hatespeech', 'hatespeech']\n",
    "\n",
    "for label in labels[1:len(labels)]:\n",
    "    results_a = pd.read_csv(\"final_results/results_\" + label + \".txt\", header = None)\n",
    "    results_a.columns = ['tweet_order', 'prob_' + label, label]\n",
    "    results = pd.merge(results, results_a, on = 'tweet_order')"
   ]
  },
  {
   "cell_type": "code",
   "execution_count": 34,
   "metadata": {
    "collapsed": false
   },
   "outputs": [
    {
     "data": {
      "text/html": [
       "<div>\n",
       "<style>\n",
       "    .dataframe thead tr:only-child th {\n",
       "        text-align: right;\n",
       "    }\n",
       "\n",
       "    .dataframe thead th {\n",
       "        text-align: left;\n",
       "    }\n",
       "\n",
       "    .dataframe tbody tr th {\n",
       "        vertical-align: top;\n",
       "    }\n",
       "</style>\n",
       "<table border=\"1\" class=\"dataframe\">\n",
       "  <thead>\n",
       "    <tr style=\"text-align: right;\">\n",
       "      <th></th>\n",
       "      <th>tweet_order</th>\n",
       "      <th>prob_hatespeech</th>\n",
       "      <th>hatespeech</th>\n",
       "      <th>prob_namecalling</th>\n",
       "      <th>namecalling</th>\n",
       "      <th>prob_negprejudice</th>\n",
       "      <th>negprejudice</th>\n",
       "      <th>prob_noneng</th>\n",
       "      <th>noneng</th>\n",
       "      <th>prob_obscenity</th>\n",
       "      <th>obscenity</th>\n",
       "      <th>prob_porn</th>\n",
       "      <th>porn</th>\n",
       "      <th>prob_stereotypes</th>\n",
       "      <th>stereotypes</th>\n",
       "      <th>prob_threat</th>\n",
       "      <th>threat</th>\n",
       "    </tr>\n",
       "  </thead>\n",
       "  <tbody>\n",
       "    <tr>\n",
       "      <th>0</th>\n",
       "      <td>68477</td>\n",
       "      <td>0.000971</td>\n",
       "      <td>0</td>\n",
       "      <td>0.864030</td>\n",
       "      <td>1</td>\n",
       "      <td>0.872538</td>\n",
       "      <td>1</td>\n",
       "      <td>0.000347</td>\n",
       "      <td>0</td>\n",
       "      <td>0.488717</td>\n",
       "      <td>0</td>\n",
       "      <td>0.000365</td>\n",
       "      <td>0</td>\n",
       "      <td>0.004678</td>\n",
       "      <td>0</td>\n",
       "      <td>0.000939</td>\n",
       "      <td>0</td>\n",
       "    </tr>\n",
       "    <tr>\n",
       "      <th>1</th>\n",
       "      <td>354993</td>\n",
       "      <td>0.000768</td>\n",
       "      <td>0</td>\n",
       "      <td>0.001027</td>\n",
       "      <td>0</td>\n",
       "      <td>0.002021</td>\n",
       "      <td>0</td>\n",
       "      <td>0.000342</td>\n",
       "      <td>0</td>\n",
       "      <td>0.000623</td>\n",
       "      <td>0</td>\n",
       "      <td>0.000400</td>\n",
       "      <td>0</td>\n",
       "      <td>0.001234</td>\n",
       "      <td>0</td>\n",
       "      <td>0.000871</td>\n",
       "      <td>0</td>\n",
       "    </tr>\n",
       "    <tr>\n",
       "      <th>2</th>\n",
       "      <td>101286</td>\n",
       "      <td>0.001028</td>\n",
       "      <td>0</td>\n",
       "      <td>0.000987</td>\n",
       "      <td>0</td>\n",
       "      <td>0.002484</td>\n",
       "      <td>0</td>\n",
       "      <td>0.000315</td>\n",
       "      <td>0</td>\n",
       "      <td>0.000855</td>\n",
       "      <td>0</td>\n",
       "      <td>0.000381</td>\n",
       "      <td>0</td>\n",
       "      <td>0.002170</td>\n",
       "      <td>0</td>\n",
       "      <td>0.000964</td>\n",
       "      <td>0</td>\n",
       "    </tr>\n",
       "    <tr>\n",
       "      <th>3</th>\n",
       "      <td>333886</td>\n",
       "      <td>0.035488</td>\n",
       "      <td>0</td>\n",
       "      <td>0.005246</td>\n",
       "      <td>0</td>\n",
       "      <td>0.160478</td>\n",
       "      <td>0</td>\n",
       "      <td>0.000339</td>\n",
       "      <td>0</td>\n",
       "      <td>0.006896</td>\n",
       "      <td>0</td>\n",
       "      <td>0.000393</td>\n",
       "      <td>0</td>\n",
       "      <td>0.893228</td>\n",
       "      <td>1</td>\n",
       "      <td>0.001912</td>\n",
       "      <td>0</td>\n",
       "    </tr>\n",
       "    <tr>\n",
       "      <th>4</th>\n",
       "      <td>112099</td>\n",
       "      <td>0.003034</td>\n",
       "      <td>0</td>\n",
       "      <td>0.047760</td>\n",
       "      <td>0</td>\n",
       "      <td>0.015697</td>\n",
       "      <td>0</td>\n",
       "      <td>0.000289</td>\n",
       "      <td>0</td>\n",
       "      <td>0.050964</td>\n",
       "      <td>0</td>\n",
       "      <td>0.000439</td>\n",
       "      <td>0</td>\n",
       "      <td>0.013352</td>\n",
       "      <td>0</td>\n",
       "      <td>0.001127</td>\n",
       "      <td>0</td>\n",
       "    </tr>\n",
       "  </tbody>\n",
       "</table>\n",
       "</div>"
      ],
      "text/plain": [
       "   tweet_order  prob_hatespeech  hatespeech  prob_namecalling  namecalling  \\\n",
       "0  68477        0.000971         0           0.864030          1             \n",
       "1  354993       0.000768         0           0.001027          0             \n",
       "2  101286       0.001028         0           0.000987          0             \n",
       "3  333886       0.035488         0           0.005246          0             \n",
       "4  112099       0.003034         0           0.047760          0             \n",
       "\n",
       "   prob_negprejudice  negprejudice  prob_noneng  noneng  prob_obscenity  \\\n",
       "0  0.872538           1             0.000347     0       0.488717         \n",
       "1  0.002021           0             0.000342     0       0.000623         \n",
       "2  0.002484           0             0.000315     0       0.000855         \n",
       "3  0.160478           0             0.000339     0       0.006896         \n",
       "4  0.015697           0             0.000289     0       0.050964         \n",
       "\n",
       "   obscenity  prob_porn  porn  prob_stereotypes  stereotypes  prob_threat  \\\n",
       "0  0          0.000365   0     0.004678          0            0.000939      \n",
       "1  0          0.000400   0     0.001234          0            0.000871      \n",
       "2  0          0.000381   0     0.002170          0            0.000964      \n",
       "3  0          0.000393   0     0.893228          1            0.001912      \n",
       "4  0          0.000439   0     0.013352          0            0.001127      \n",
       "\n",
       "   threat  \n",
       "0  0       \n",
       "1  0       \n",
       "2  0       \n",
       "3  0       \n",
       "4  0       "
      ]
     },
     "execution_count": 34,
     "metadata": {},
     "output_type": "execute_result"
    }
   ],
   "source": [
    "results.head()"
   ]
  },
  {
   "cell_type": "markdown",
   "metadata": {},
   "source": [
    "### Confirm that prevalence of labels roughly matches with training set"
   ]
  },
  {
   "cell_type": "code",
   "execution_count": 41,
   "metadata": {
    "collapsed": false
   },
   "outputs": [
    {
     "name": "stdout",
     "output_type": "stream",
     "text": [
      "0    0.979797\n",
      "1    0.020203\n",
      "Name: hatespeech, dtype: float64\n",
      "0    0.927871\n",
      "1    0.072129\n",
      "Name: namecalling, dtype: float64\n",
      "0    0.880964\n",
      "1    0.119036\n",
      "Name: negprejudice, dtype: float64\n",
      "0    0.922282\n",
      "1    0.077718\n",
      "Name: noneng, dtype: float64\n",
      "0    0.958549\n",
      "1    0.041451\n",
      "Name: obscenity, dtype: float64\n",
      "0    0.994813\n",
      "1    0.005187\n",
      "Name: porn, dtype: float64\n",
      "0    0.936531\n",
      "1    0.063469\n",
      "Name: stereotypes, dtype: float64\n",
      "0    0.967298\n",
      "1    0.032702\n",
      "Name: threat, dtype: float64\n"
     ]
    }
   ],
   "source": [
    "for label in labels:\n",
    "    print (results[label].value_counts()/results.shape[0])"
   ]
  },
  {
   "cell_type": "code",
   "execution_count": 13,
   "metadata": {
    "collapsed": false
   },
   "outputs": [
    {
     "name": "stderr",
     "output_type": "stream",
     "text": [
      "/anaconda/lib/python3.6/site-packages/IPython/core/interactiveshell.py:3020: DtypeWarning: Columns (4,6,7) have mixed types. Specify dtype option on import or set low_memory=False.\n",
      "  interactivity=interactivity, compiler=compiler, result=result)\n",
      "/anaconda/lib/python3.6/site-packages/IPython/core/interactiveshell.py:3020: DtypeWarning: Columns (4) have mixed types. Specify dtype option on import or set low_memory=False.\n",
      "  interactivity=interactivity, compiler=compiler, result=result)\n"
     ]
    }
   ],
   "source": [
    "terms0_3 = pd.read_csv(\"../Full Dataset/Terms 0-3 Final LIWC WITH Tweet Text RANDOMIZED.csv\")\n",
    "terms4 = pd.read_csv(\"../Full Dataset/Terms 4 Final LIWC WITH Tweet Text RANDOMIZED.csv\")\n",
    "terms5 = pd.read_csv(\"../Full Dataset/Terms 5-7 Final LIWC WITH tweet text RANDOMIZED.csv\")\n",
    "\n",
    "frame = pd.concat([terms0_3, terms4, terms5], axis = 0)"
   ]
  },
  {
   "cell_type": "code",
   "execution_count": 42,
   "metadata": {
    "collapsed": true
   },
   "outputs": [],
   "source": [
    "with_labels = pd.merge(frame, results, on = 'tweet_order')"
   ]
  },
  {
   "cell_type": "code",
   "execution_count": 43,
   "metadata": {
    "collapsed": false
   },
   "outputs": [
    {
     "data": {
      "text/plain": [
       "(733906, 17)"
      ]
     },
     "execution_count": 43,
     "metadata": {},
     "output_type": "execute_result"
    }
   ],
   "source": [
    "results.shape"
   ]
  },
  {
   "cell_type": "code",
   "execution_count": 44,
   "metadata": {
    "collapsed": false
   },
   "outputs": [
    {
     "data": {
      "text/plain": [
       "(733906, 45)"
      ]
     },
     "execution_count": 44,
     "metadata": {},
     "output_type": "execute_result"
    }
   ],
   "source": [
    "frame.shape"
   ]
  },
  {
   "cell_type": "code",
   "execution_count": 45,
   "metadata": {
    "collapsed": false
   },
   "outputs": [
    {
     "data": {
      "text/plain": [
       "(733906, 61)"
      ]
     },
     "execution_count": 45,
     "metadata": {},
     "output_type": "execute_result"
    }
   ],
   "source": [
    "with_labels.shape"
   ]
  },
  {
   "cell_type": "markdown",
   "metadata": {},
   "source": [
    "### Verifying that class probabilities make intuitive sense"
   ]
  },
  {
   "cell_type": "code",
   "execution_count": 46,
   "metadata": {
    "collapsed": true
   },
   "outputs": [],
   "source": [
    "pd.set_option('display.max_colwidth', -1)"
   ]
  },
  {
   "cell_type": "code",
   "execution_count": 61,
   "metadata": {
    "collapsed": false,
    "scrolled": false
   },
   "outputs": [
    {
     "data": {
      "text/html": [
       "<div>\n",
       "<style>\n",
       "    .dataframe thead tr:only-child th {\n",
       "        text-align: right;\n",
       "    }\n",
       "\n",
       "    .dataframe thead th {\n",
       "        text-align: left;\n",
       "    }\n",
       "\n",
       "    .dataframe tbody tr th {\n",
       "        vertical-align: top;\n",
       "    }\n",
       "</style>\n",
       "<table border=\"1\" class=\"dataframe\">\n",
       "  <thead>\n",
       "    <tr style=\"text-align: right;\">\n",
       "      <th></th>\n",
       "      <th>tweet</th>\n",
       "      <th>prob_namecalling</th>\n",
       "      <th>namecalling</th>\n",
       "    </tr>\n",
       "  </thead>\n",
       "  <tbody>\n",
       "    <tr>\n",
       "      <th>142544</th>\n",
       "      <td>Bill Maher is the left wing equivalent of O'Riley  https://t.co/7RrUVHFMiH</td>\n",
       "      <td>0.500035</td>\n",
       "      <td>1</td>\n",
       "    </tr>\n",
       "    <tr>\n",
       "      <th>393599</th>\n",
       "      <td>@supmaxine goldfish cartoons are cute but real goldfish are stupid. the crackers are good tho</td>\n",
       "      <td>0.500078</td>\n",
       "      <td>1</td>\n",
       "    </tr>\n",
       "    <tr>\n",
       "      <th>15069</th>\n",
       "      <td>Democrats funded violent left wing fascists to attack Trump rally and supporters...Its civil war. https://t.co/v3toCOWFPv LiveLeak #News</td>\n",
       "      <td>0.500081</td>\n",
       "      <td>1</td>\n",
       "    </tr>\n",
       "    <tr>\n",
       "      <th>259059</th>\n",
       "      <td>Europe is a godless continent. - Rick Santorum #SantorumatGU</td>\n",
       "      <td>0.500087</td>\n",
       "      <td>1</td>\n",
       "    </tr>\n",
       "    <tr>\n",
       "      <th>58687</th>\n",
       "      <td>@corybernardi don't let those left wing socialists alliance bigots  silence you and your believes.  #STAYSTRONGCORY</td>\n",
       "      <td>0.500174</td>\n",
       "      <td>1</td>\n",
       "    </tr>\n",
       "    <tr>\n",
       "      <th>561974</th>\n",
       "      <td>@jakeadelstein Goddamn. I can still do it legit. I could produce propaganda for right wing fascists. I agree. Pureblood outrank half-breed.</td>\n",
       "      <td>0.500177</td>\n",
       "      <td>1</td>\n",
       "    </tr>\n",
       "    <tr>\n",
       "      <th>52659</th>\n",
       "      <td>RT @cplbhvac: @politico because your the lap dog of George soros, your a undocumented Democrat https://t.co/LrincyASQX</td>\n",
       "      <td>0.500188</td>\n",
       "      <td>1</td>\n",
       "    </tr>\n",
       "    <tr>\n",
       "      <th>220760</th>\n",
       "      <td>@politico because your the lap dog of George soros, your a undocumented Democrat https://t.co/LrincyASQX</td>\n",
       "      <td>0.500188</td>\n",
       "      <td>1</td>\n",
       "    </tr>\n",
       "    <tr>\n",
       "      <th>146606</th>\n",
       "      <td>RT @cplbhvac: @politico because your the lap dog of George soros, your a undocumented Democrat https://t.co/LrincyASQX</td>\n",
       "      <td>0.500188</td>\n",
       "      <td>1</td>\n",
       "    </tr>\n",
       "    <tr>\n",
       "      <th>108494</th>\n",
       "      <td>RT @cplbhvac: @politico because your the lap dog of George soros, your a undocumented Democrat https://t.co/LrincyASQX</td>\n",
       "      <td>0.500188</td>\n",
       "      <td>1</td>\n",
       "    </tr>\n",
       "  </tbody>\n",
       "</table>\n",
       "</div>"
      ],
      "text/plain": [
       "                                                                                                                                               tweet  \\\n",
       "142544  Bill Maher is the left wing equivalent of O'Riley  https://t.co/7RrUVHFMiH                                                                     \n",
       "393599  @supmaxine goldfish cartoons are cute but real goldfish are stupid. the crackers are good tho                                                  \n",
       "15069   Democrats funded violent left wing fascists to attack Trump rally and supporters...Its civil war. https://t.co/v3toCOWFPv LiveLeak #News       \n",
       "259059  Europe is a godless continent. - Rick Santorum #SantorumatGU                                                                                   \n",
       "58687   @corybernardi don't let those left wing socialists alliance bigots  silence you and your believes.  #STAYSTRONGCORY                            \n",
       "561974  @jakeadelstein Goddamn. I can still do it legit. I could produce propaganda for right wing fascists. I agree. Pureblood outrank half-breed.    \n",
       "52659   RT @cplbhvac: @politico because your the lap dog of George soros, your a undocumented Democrat https://t.co/LrincyASQX                         \n",
       "220760  @politico because your the lap dog of George soros, your a undocumented Democrat https://t.co/LrincyASQX                                       \n",
       "146606  RT @cplbhvac: @politico because your the lap dog of George soros, your a undocumented Democrat https://t.co/LrincyASQX                         \n",
       "108494  RT @cplbhvac: @politico because your the lap dog of George soros, your a undocumented Democrat https://t.co/LrincyASQX                         \n",
       "\n",
       "        prob_namecalling  namecalling  \n",
       "142544  0.500035          1            \n",
       "393599  0.500078          1            \n",
       "15069   0.500081          1            \n",
       "259059  0.500087          1            \n",
       "58687   0.500174          1            \n",
       "561974  0.500177          1            \n",
       "52659   0.500188          1            \n",
       "220760  0.500188          1            \n",
       "146606  0.500188          1            \n",
       "108494  0.500188          1            "
      ]
     },
     "execution_count": 61,
     "metadata": {},
     "output_type": "execute_result"
    }
   ],
   "source": [
    "with_labels.loc[with_labels['prob_namecalling'] > 0.50,\\\n",
    "                ['tweet', 'prob_namecalling', 'namecalling']].\\\n",
    "sort_values(by = 'prob_namecalling')[0:10]"
   ]
  },
  {
   "cell_type": "code",
   "execution_count": 62,
   "metadata": {
    "collapsed": false
   },
   "outputs": [
    {
     "data": {
      "text/html": [
       "<div>\n",
       "<style>\n",
       "    .dataframe thead tr:only-child th {\n",
       "        text-align: right;\n",
       "    }\n",
       "\n",
       "    .dataframe thead th {\n",
       "        text-align: left;\n",
       "    }\n",
       "\n",
       "    .dataframe tbody tr th {\n",
       "        vertical-align: top;\n",
       "    }\n",
       "</style>\n",
       "<table border=\"1\" class=\"dataframe\">\n",
       "  <thead>\n",
       "    <tr style=\"text-align: right;\">\n",
       "      <th></th>\n",
       "      <th>tweet</th>\n",
       "      <th>prob_namecalling</th>\n",
       "      <th>namecalling</th>\n",
       "    </tr>\n",
       "  </thead>\n",
       "  <tbody>\n",
       "    <tr>\n",
       "      <th>220377</th>\n",
       "      <td>@luhmow @ederkop i said niggas not niggers</td>\n",
       "      <td>0.700014</td>\n",
       "      <td>1</td>\n",
       "    </tr>\n",
       "    <tr>\n",
       "      <th>333535</th>\n",
       "      <td>I told my niggers they can't hold me back</td>\n",
       "      <td>0.700020</td>\n",
       "      <td>1</td>\n",
       "    </tr>\n",
       "    <tr>\n",
       "      <th>40500</th>\n",
       "      <td>@_Anima_Mundi_ @alec_underwood these left-wing Fanatics love to throw the word racist out there without basis anybody notice that?</td>\n",
       "      <td>0.700040</td>\n",
       "      <td>1</td>\n",
       "    </tr>\n",
       "    <tr>\n",
       "      <th>251726</th>\n",
       "      <td>@corybernardi @naylor_joey that unfortunately is the usual behaviour of left wing scum time to bury them for good</td>\n",
       "      <td>0.700046</td>\n",
       "      <td>1</td>\n",
       "    </tr>\n",
       "    <tr>\n",
       "      <th>275153</th>\n",
       "      <td>RT @HilsdenJason: @corybernardi @naylor_joey that unfortunately is the usual behaviour of left wing scum time to bury them for good</td>\n",
       "      <td>0.700046</td>\n",
       "      <td>1</td>\n",
       "    </tr>\n",
       "    <tr>\n",
       "      <th>352680</th>\n",
       "      <td>@hardball Will they be satisfied when the GOP teaches them a lesson about the electability of those marketed as a godless socialist?</td>\n",
       "      <td>0.700060</td>\n",
       "      <td>1</td>\n",
       "    </tr>\n",
       "    <tr>\n",
       "      <th>92686</th>\n",
       "      <td>She went from \"Ain't No Nigga\" to \"I hate you niggers\" https://t.co/QMCBykv6TU</td>\n",
       "      <td>0.700070</td>\n",
       "      <td>1</td>\n",
       "    </tr>\n",
       "    <tr>\n",
       "      <th>594928</th>\n",
       "      <td>Osborne \"mimicking the rent-seeker-in-chief and original crony capitalist Henry VIII.\" https://t.co/nxQbhiXFCW</td>\n",
       "      <td>0.700074</td>\n",
       "      <td>1</td>\n",
       "    </tr>\n",
       "    <tr>\n",
       "      <th>344725</th>\n",
       "      <td>RT @swd_llc: @TammyNayh @cheeguevar - These progressives are total whack jobs. Nut cases. God save us from insane people like Obama and Cas…</td>\n",
       "      <td>0.700075</td>\n",
       "      <td>1</td>\n",
       "    </tr>\n",
       "    <tr>\n",
       "      <th>160146</th>\n",
       "      <td>@DjSucc @tefpoe I think young niggers like him are going to incite riots no matter WHO wins.</td>\n",
       "      <td>0.700079</td>\n",
       "      <td>1</td>\n",
       "    </tr>\n",
       "  </tbody>\n",
       "</table>\n",
       "</div>"
      ],
      "text/plain": [
       "                                                                                                                                                tweet  \\\n",
       "220377  @luhmow @ederkop i said niggas not niggers                                                                                                      \n",
       "333535  I told my niggers they can't hold me back                                                                                                       \n",
       "40500   @_Anima_Mundi_ @alec_underwood these left-wing Fanatics love to throw the word racist out there without basis anybody notice that?              \n",
       "251726  @corybernardi @naylor_joey that unfortunately is the usual behaviour of left wing scum time to bury them for good                               \n",
       "275153  RT @HilsdenJason: @corybernardi @naylor_joey that unfortunately is the usual behaviour of left wing scum time to bury them for good             \n",
       "352680  @hardball Will they be satisfied when the GOP teaches them a lesson about the electability of those marketed as a godless socialist?            \n",
       "92686   She went from \"Ain't No Nigga\" to \"I hate you niggers\" https://t.co/QMCBykv6TU                                                                  \n",
       "594928  Osborne \"mimicking the rent-seeker-in-chief and original crony capitalist Henry VIII.\" https://t.co/nxQbhiXFCW                                  \n",
       "344725  RT @swd_llc: @TammyNayh @cheeguevar - These progressives are total whack jobs. Nut cases. God save us from insane people like Obama and Cas…    \n",
       "160146  @DjSucc @tefpoe I think young niggers like him are going to incite riots no matter WHO wins.                                                    \n",
       "\n",
       "        prob_namecalling  namecalling  \n",
       "220377  0.700014          1            \n",
       "333535  0.700020          1            \n",
       "40500   0.700040          1            \n",
       "251726  0.700046          1            \n",
       "275153  0.700046          1            \n",
       "352680  0.700060          1            \n",
       "92686   0.700070          1            \n",
       "594928  0.700074          1            \n",
       "344725  0.700075          1            \n",
       "160146  0.700079          1            "
      ]
     },
     "execution_count": 62,
     "metadata": {},
     "output_type": "execute_result"
    }
   ],
   "source": [
    "with_labels.loc[with_labels['prob_namecalling'] > 0.70,\\\n",
    "                ['tweet', 'prob_namecalling', 'namecalling']].\\\n",
    "sort_values(by = 'prob_namecalling')[0:10]"
   ]
  },
  {
   "cell_type": "code",
   "execution_count": 63,
   "metadata": {
    "collapsed": false
   },
   "outputs": [
    {
     "data": {
      "text/html": [
       "<div>\n",
       "<style>\n",
       "    .dataframe thead tr:only-child th {\n",
       "        text-align: right;\n",
       "    }\n",
       "\n",
       "    .dataframe thead th {\n",
       "        text-align: left;\n",
       "    }\n",
       "\n",
       "    .dataframe tbody tr th {\n",
       "        vertical-align: top;\n",
       "    }\n",
       "</style>\n",
       "<table border=\"1\" class=\"dataframe\">\n",
       "  <thead>\n",
       "    <tr style=\"text-align: right;\">\n",
       "      <th></th>\n",
       "      <th>tweet</th>\n",
       "      <th>prob_namecalling</th>\n",
       "      <th>namecalling</th>\n",
       "    </tr>\n",
       "  </thead>\n",
       "  <tbody>\n",
       "    <tr>\n",
       "      <th>92153</th>\n",
       "      <td>@RichBee428 it's still part of the \"holy bible\", you godless turd</td>\n",
       "      <td>0.900061</td>\n",
       "      <td>1</td>\n",
       "    </tr>\n",
       "    <tr>\n",
       "      <th>164145</th>\n",
       "      <td>@cnn @JohnKasich IS NO FRIEND to unions in #OHIO. Just ask any #teacher #Firefighter #police . @SenateMajLdr #McConnell is a lying dirtbag</td>\n",
       "      <td>0.900532</td>\n",
       "      <td>1</td>\n",
       "    </tr>\n",
       "    <tr>\n",
       "      <th>587614</th>\n",
       "      <td>Know that no matter how much you spend on Me, you will always be a pathetic insignificant little jerkoff dirtbag #findom #paypig #beta</td>\n",
       "      <td>0.900663</td>\n",
       "      <td>1</td>\n",
       "    </tr>\n",
       "    <tr>\n",
       "      <th>477124</th>\n",
       "      <td>@Elisabeth242   A Creepy Elderly Childish Pervert Cowardly Billionaire Bully Con man.</td>\n",
       "      <td>0.900770</td>\n",
       "      <td>1</td>\n",
       "    </tr>\n",
       "    <tr>\n",
       "      <th>672735</th>\n",
       "      <td>RT @Lizbethjoy: @Elisabeth242   A Creepy Elderly Childish Pervert Cowardly Billionaire Bully Con man.</td>\n",
       "      <td>0.900770</td>\n",
       "      <td>1</td>\n",
       "    </tr>\n",
       "    <tr>\n",
       "      <th>630883</th>\n",
       "      <td>RT @Lizbethjoy: @Elisabeth242   A Creepy Elderly Childish Pervert Cowardly Billionaire Bully Con man.</td>\n",
       "      <td>0.900770</td>\n",
       "      <td>1</td>\n",
       "    </tr>\n",
       "    <tr>\n",
       "      <th>414482</th>\n",
       "      <td>cruz is a certifiable nut job a right wing crazy maniac https://t.co/hhAJilaAnx</td>\n",
       "      <td>0.900910</td>\n",
       "      <td>1</td>\n",
       "    </tr>\n",
       "    <tr>\n",
       "      <th>216433</th>\n",
       "      <td>@BernieSanders ATTENTION RED ALERT. BERNIE SANDERS IS A RACE BAITING CUNT. HE HAS NO CLUE HOW ILLEGAL IMMIGRATION IS HURTING AMERICA.</td>\n",
       "      <td>0.901250</td>\n",
       "      <td>1</td>\n",
       "    </tr>\n",
       "    <tr>\n",
       "      <th>557564</th>\n",
       "      <td>@FimusTauri Christians don't speak like you, you violent pig</td>\n",
       "      <td>0.901350</td>\n",
       "      <td>1</td>\n",
       "    </tr>\n",
       "    <tr>\n",
       "      <th>159428</th>\n",
       "      <td>@AIIAmericanGirI Soros is a left wing Communist bastard</td>\n",
       "      <td>0.901385</td>\n",
       "      <td>1</td>\n",
       "    </tr>\n",
       "  </tbody>\n",
       "</table>\n",
       "</div>"
      ],
      "text/plain": [
       "                                                                                                                                              tweet  \\\n",
       "92153   @RichBee428 it's still part of the \"holy bible\", you godless turd                                                                             \n",
       "164145  @cnn @JohnKasich IS NO FRIEND to unions in #OHIO. Just ask any #teacher #Firefighter #police . @SenateMajLdr #McConnell is a lying dirtbag    \n",
       "587614  Know that no matter how much you spend on Me, you will always be a pathetic insignificant little jerkoff dirtbag #findom #paypig #beta        \n",
       "477124  @Elisabeth242   A Creepy Elderly Childish Pervert Cowardly Billionaire Bully Con man.                                                         \n",
       "672735  RT @Lizbethjoy: @Elisabeth242   A Creepy Elderly Childish Pervert Cowardly Billionaire Bully Con man.                                         \n",
       "630883  RT @Lizbethjoy: @Elisabeth242   A Creepy Elderly Childish Pervert Cowardly Billionaire Bully Con man.                                         \n",
       "414482  cruz is a certifiable nut job a right wing crazy maniac https://t.co/hhAJilaAnx                                                               \n",
       "216433  @BernieSanders ATTENTION RED ALERT. BERNIE SANDERS IS A RACE BAITING CUNT. HE HAS NO CLUE HOW ILLEGAL IMMIGRATION IS HURTING AMERICA.         \n",
       "557564  @FimusTauri Christians don't speak like you, you violent pig                                                                                  \n",
       "159428  @AIIAmericanGirI Soros is a left wing Communist bastard                                                                                       \n",
       "\n",
       "        prob_namecalling  namecalling  \n",
       "92153   0.900061          1            \n",
       "164145  0.900532          1            \n",
       "587614  0.900663          1            \n",
       "477124  0.900770          1            \n",
       "672735  0.900770          1            \n",
       "630883  0.900770          1            \n",
       "414482  0.900910          1            \n",
       "216433  0.901250          1            \n",
       "557564  0.901350          1            \n",
       "159428  0.901385          1            "
      ]
     },
     "execution_count": 63,
     "metadata": {},
     "output_type": "execute_result"
    }
   ],
   "source": [
    "with_labels.loc[with_labels['prob_namecalling'] > 0.90,\\\n",
    "                ['tweet', 'prob_namecalling', 'namecalling']].\\\n",
    "sort_values(by = 'prob_namecalling')[0:10]"
   ]
  },
  {
   "cell_type": "markdown",
   "metadata": {},
   "source": [
    "### Writing results to file"
   ]
  },
  {
   "cell_type": "code",
   "execution_count": null,
   "metadata": {
    "collapsed": true
   },
   "outputs": [],
   "source": [
    "with_labels.to_csv(\"../all_labeled_tweets.csv\")"
   ]
  }
 ],
 "metadata": {
  "kernelspec": {
   "display_name": "Python 3",
   "language": "python",
   "name": "python3"
  },
  "language_info": {
   "codemirror_mode": {
    "name": "ipython",
    "version": 3
   },
   "file_extension": ".py",
   "mimetype": "text/x-python",
   "name": "python",
   "nbconvert_exporter": "python",
   "pygments_lexer": "ipython3",
   "version": "3.6.0"
  }
 },
 "nbformat": 4,
 "nbformat_minor": 2
}
