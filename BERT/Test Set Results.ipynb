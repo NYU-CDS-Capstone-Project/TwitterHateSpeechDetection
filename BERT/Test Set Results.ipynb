{
 "cells": [
  {
   "cell_type": "code",
   "execution_count": 1,
   "metadata": {
    "collapsed": true
   },
   "outputs": [],
   "source": [
    "import pandas as pd"
   ]
  },
  {
   "cell_type": "code",
   "execution_count": 2,
   "metadata": {
    "collapsed": true
   },
   "outputs": [],
   "source": [
    "labels = ['hatespeech', 'namecalling', 'negprejudice', 'noneng', 'obscenity', 'porn', 'stereotypes', 'threat']"
   ]
  },
  {
   "cell_type": "code",
   "execution_count": 3,
   "metadata": {
    "collapsed": false
   },
   "outputs": [],
   "source": [
    "results = pd.read_csv(\"test_set_results/results_hatespeech.txt\", header = None)\n",
    "results.columns = ['ID', 'prob_hatespeech', 'pred_hatespeech']\n",
    "\n",
    "for label in labels[1:len(labels)]:\n",
    "    results_a = pd.read_csv(\"test_set_results/results_\" + label + \".txt\", header = None)\n",
    "    results_a.columns = ['ID', 'prob_' + label, 'pred_' + label]\n",
    "    results = pd.merge(results, results_a, on = 'ID')"
   ]
  },
  {
   "cell_type": "code",
   "execution_count": 4,
   "metadata": {
    "collapsed": false
   },
   "outputs": [
    {
     "data": {
      "text/html": [
       "<div>\n",
       "<style>\n",
       "    .dataframe thead tr:only-child th {\n",
       "        text-align: right;\n",
       "    }\n",
       "\n",
       "    .dataframe thead th {\n",
       "        text-align: left;\n",
       "    }\n",
       "\n",
       "    .dataframe tbody tr th {\n",
       "        vertical-align: top;\n",
       "    }\n",
       "</style>\n",
       "<table border=\"1\" class=\"dataframe\">\n",
       "  <thead>\n",
       "    <tr style=\"text-align: right;\">\n",
       "      <th></th>\n",
       "      <th>ID</th>\n",
       "      <th>prob_hatespeech</th>\n",
       "      <th>pred_hatespeech</th>\n",
       "      <th>prob_namecalling</th>\n",
       "      <th>pred_namecalling</th>\n",
       "      <th>prob_negprejudice</th>\n",
       "      <th>pred_negprejudice</th>\n",
       "      <th>prob_noneng</th>\n",
       "      <th>pred_noneng</th>\n",
       "      <th>prob_obscenity</th>\n",
       "      <th>pred_obscenity</th>\n",
       "      <th>prob_porn</th>\n",
       "      <th>pred_porn</th>\n",
       "      <th>prob_stereotypes</th>\n",
       "      <th>pred_stereotypes</th>\n",
       "      <th>prob_threat</th>\n",
       "      <th>pred_threat</th>\n",
       "    </tr>\n",
       "  </thead>\n",
       "  <tbody>\n",
       "    <tr>\n",
       "      <th>0</th>\n",
       "      <td>0</td>\n",
       "      <td>0.893101</td>\n",
       "      <td>1</td>\n",
       "      <td>0.660394</td>\n",
       "      <td>1</td>\n",
       "      <td>0.843567</td>\n",
       "      <td>1</td>\n",
       "      <td>0.000336</td>\n",
       "      <td>0</td>\n",
       "      <td>0.967664</td>\n",
       "      <td>1</td>\n",
       "      <td>0.000378</td>\n",
       "      <td>0</td>\n",
       "      <td>0.295742</td>\n",
       "      <td>0</td>\n",
       "      <td>0.001356</td>\n",
       "      <td>0</td>\n",
       "    </tr>\n",
       "    <tr>\n",
       "      <th>1</th>\n",
       "      <td>1</td>\n",
       "      <td>0.000793</td>\n",
       "      <td>0</td>\n",
       "      <td>0.012316</td>\n",
       "      <td>0</td>\n",
       "      <td>0.002445</td>\n",
       "      <td>0</td>\n",
       "      <td>0.000349</td>\n",
       "      <td>0</td>\n",
       "      <td>0.000992</td>\n",
       "      <td>0</td>\n",
       "      <td>0.000406</td>\n",
       "      <td>0</td>\n",
       "      <td>0.001943</td>\n",
       "      <td>0</td>\n",
       "      <td>0.000885</td>\n",
       "      <td>0</td>\n",
       "    </tr>\n",
       "    <tr>\n",
       "      <th>2</th>\n",
       "      <td>2</td>\n",
       "      <td>0.000706</td>\n",
       "      <td>0</td>\n",
       "      <td>0.000790</td>\n",
       "      <td>0</td>\n",
       "      <td>0.002108</td>\n",
       "      <td>0</td>\n",
       "      <td>0.000301</td>\n",
       "      <td>0</td>\n",
       "      <td>0.000740</td>\n",
       "      <td>0</td>\n",
       "      <td>0.000419</td>\n",
       "      <td>0</td>\n",
       "      <td>0.228456</td>\n",
       "      <td>0</td>\n",
       "      <td>0.000824</td>\n",
       "      <td>0</td>\n",
       "    </tr>\n",
       "    <tr>\n",
       "      <th>3</th>\n",
       "      <td>3</td>\n",
       "      <td>0.000797</td>\n",
       "      <td>0</td>\n",
       "      <td>0.000876</td>\n",
       "      <td>0</td>\n",
       "      <td>0.003466</td>\n",
       "      <td>0</td>\n",
       "      <td>0.000283</td>\n",
       "      <td>0</td>\n",
       "      <td>0.000754</td>\n",
       "      <td>0</td>\n",
       "      <td>0.000366</td>\n",
       "      <td>0</td>\n",
       "      <td>0.001292</td>\n",
       "      <td>0</td>\n",
       "      <td>0.000767</td>\n",
       "      <td>0</td>\n",
       "    </tr>\n",
       "    <tr>\n",
       "      <th>4</th>\n",
       "      <td>4</td>\n",
       "      <td>0.000750</td>\n",
       "      <td>0</td>\n",
       "      <td>0.023015</td>\n",
       "      <td>0</td>\n",
       "      <td>0.001667</td>\n",
       "      <td>0</td>\n",
       "      <td>0.000323</td>\n",
       "      <td>0</td>\n",
       "      <td>0.000615</td>\n",
       "      <td>0</td>\n",
       "      <td>0.000380</td>\n",
       "      <td>0</td>\n",
       "      <td>0.001276</td>\n",
       "      <td>0</td>\n",
       "      <td>0.000843</td>\n",
       "      <td>0</td>\n",
       "    </tr>\n",
       "  </tbody>\n",
       "</table>\n",
       "</div>"
      ],
      "text/plain": [
       "   ID  prob_hatespeech  pred_hatespeech  prob_namecalling  pred_namecalling  \\\n",
       "0   0         0.893101                1          0.660394                 1   \n",
       "1   1         0.000793                0          0.012316                 0   \n",
       "2   2         0.000706                0          0.000790                 0   \n",
       "3   3         0.000797                0          0.000876                 0   \n",
       "4   4         0.000750                0          0.023015                 0   \n",
       "\n",
       "   prob_negprejudice  pred_negprejudice  prob_noneng  pred_noneng  \\\n",
       "0           0.843567                  1     0.000336            0   \n",
       "1           0.002445                  0     0.000349            0   \n",
       "2           0.002108                  0     0.000301            0   \n",
       "3           0.003466                  0     0.000283            0   \n",
       "4           0.001667                  0     0.000323            0   \n",
       "\n",
       "   prob_obscenity  pred_obscenity  prob_porn  pred_porn  prob_stereotypes  \\\n",
       "0        0.967664               1   0.000378          0          0.295742   \n",
       "1        0.000992               0   0.000406          0          0.001943   \n",
       "2        0.000740               0   0.000419          0          0.228456   \n",
       "3        0.000754               0   0.000366          0          0.001292   \n",
       "4        0.000615               0   0.000380          0          0.001276   \n",
       "\n",
       "   pred_stereotypes  prob_threat  pred_threat  \n",
       "0                 0     0.001356            0  \n",
       "1                 0     0.000885            0  \n",
       "2                 0     0.000824            0  \n",
       "3                 0     0.000767            0  \n",
       "4                 0     0.000843            0  "
      ]
     },
     "execution_count": 4,
     "metadata": {},
     "output_type": "execute_result"
    }
   ],
   "source": [
    "results.head()"
   ]
  },
  {
   "cell_type": "markdown",
   "metadata": {},
   "source": [
    "### Confirm that prevalence of labels roughly matches with training set"
   ]
  },
  {
   "cell_type": "code",
   "execution_count": 7,
   "metadata": {
    "collapsed": false
   },
   "outputs": [
    {
     "name": "stdout",
     "output_type": "stream",
     "text": [
      "0    0.97781\n",
      "1    0.02219\n",
      "Name: pred_hatespeech, dtype: float64\n",
      "0    0.926986\n",
      "1    0.073014\n",
      "Name: pred_namecalling, dtype: float64\n",
      "0    0.886185\n",
      "1    0.113815\n",
      "Name: pred_negprejudice, dtype: float64\n",
      "0    0.922691\n",
      "1    0.077309\n",
      "Name: pred_noneng, dtype: float64\n",
      "0    0.956335\n",
      "1    0.043665\n",
      "Name: pred_obscenity, dtype: float64\n",
      "0    0.992126\n",
      "1    0.007874\n",
      "Name: pred_porn, dtype: float64\n",
      "0    0.937724\n",
      "1    0.062276\n",
      "Name: pred_stereotypes, dtype: float64\n",
      "0    0.967788\n",
      "1    0.032212\n",
      "Name: pred_threat, dtype: float64\n"
     ]
    }
   ],
   "source": [
    "for label in labels:\n",
    "    print (results['pred_' + label].value_counts()/results.shape[0])"
   ]
  },
  {
   "cell_type": "code",
   "execution_count": 8,
   "metadata": {
    "collapsed": false
   },
   "outputs": [],
   "source": [
    "frame = pd.read_csv(\"../test_nn.csv\")"
   ]
  },
  {
   "cell_type": "code",
   "execution_count": 9,
   "metadata": {
    "collapsed": false
   },
   "outputs": [],
   "source": [
    "with_labels = pd.merge(frame, results, on = 'ID')"
   ]
  },
  {
   "cell_type": "code",
   "execution_count": 10,
   "metadata": {
    "collapsed": false
   },
   "outputs": [
    {
     "data": {
      "text/plain": [
       "(1397, 17)"
      ]
     },
     "execution_count": 10,
     "metadata": {},
     "output_type": "execute_result"
    }
   ],
   "source": [
    "results.shape"
   ]
  },
  {
   "cell_type": "code",
   "execution_count": 11,
   "metadata": {
    "collapsed": false
   },
   "outputs": [
    {
     "data": {
      "text/plain": [
       "(1397, 103)"
      ]
     },
     "execution_count": 11,
     "metadata": {},
     "output_type": "execute_result"
    }
   ],
   "source": [
    "frame.shape"
   ]
  },
  {
   "cell_type": "code",
   "execution_count": 12,
   "metadata": {
    "collapsed": false
   },
   "outputs": [
    {
     "data": {
      "text/plain": [
       "(1397, 119)"
      ]
     },
     "execution_count": 12,
     "metadata": {},
     "output_type": "execute_result"
    }
   ],
   "source": [
    "with_labels.shape"
   ]
  },
  {
   "cell_type": "markdown",
   "metadata": {},
   "source": [
    "### Verifying that class probabilities make intuitive sense"
   ]
  },
  {
   "cell_type": "code",
   "execution_count": 13,
   "metadata": {
    "collapsed": true
   },
   "outputs": [],
   "source": [
    "pd.set_option('display.max_colwidth', -1)"
   ]
  },
  {
   "cell_type": "code",
   "execution_count": 33,
   "metadata": {
    "collapsed": false,
    "scrolled": false
   },
   "outputs": [
    {
     "data": {
      "text/html": [
       "<div>\n",
       "<style>\n",
       "    .dataframe thead tr:only-child th {\n",
       "        text-align: right;\n",
       "    }\n",
       "\n",
       "    .dataframe thead th {\n",
       "        text-align: left;\n",
       "    }\n",
       "\n",
       "    .dataframe tbody tr th {\n",
       "        vertical-align: top;\n",
       "    }\n",
       "</style>\n",
       "<table border=\"1\" class=\"dataframe\">\n",
       "  <thead>\n",
       "    <tr style=\"text-align: right;\">\n",
       "      <th></th>\n",
       "      <th>Tweet</th>\n",
       "      <th>prob_hatespeech</th>\n",
       "      <th>pred_hatespeech</th>\n",
       "    </tr>\n",
       "  </thead>\n",
       "  <tbody>\n",
       "    <tr>\n",
       "      <th>778</th>\n",
       "      <td>Why does #BlackLivesMatter hate Trump? The #1 competition that blacks have in the workforce are immigrants. Are you guys just retarded?</td>\n",
       "      <td>0.505175</td>\n",
       "      <td>1</td>\n",
       "    </tr>\n",
       "    <tr>\n",
       "      <th>281</th>\n",
       "      <td>RT @Liberienne: Bout to confront all crackers and ask them to explain the history of the United States today  https://t.co/zDB5leJYHJ</td>\n",
       "      <td>0.687190</td>\n",
       "      <td>1</td>\n",
       "    </tr>\n",
       "    <tr>\n",
       "      <th>1223</th>\n",
       "      <td>Latinas are so nuts</td>\n",
       "      <td>0.741296</td>\n",
       "      <td>1</td>\n",
       "    </tr>\n",
       "    <tr>\n",
       "      <th>728</th>\n",
       "      <td>RT @JohnFromCranber: Carson: USA Must Keep Middle East Refugees Out https://t.co/NwKWSdBXcL … Too Many Bad Apples on Tree of Islam #tcot ht…</td>\n",
       "      <td>0.755345</td>\n",
       "      <td>1</td>\n",
       "    </tr>\n",
       "    <tr>\n",
       "      <th>154</th>\n",
       "      <td>RT @Maitre_Eolas: Didn't see any church lit up either. Dirty christians. All terrorists. https://t.co/4s3XCVRbOo</td>\n",
       "      <td>0.784724</td>\n",
       "      <td>1</td>\n",
       "    </tr>\n",
       "  </tbody>\n",
       "</table>\n",
       "</div>"
      ],
      "text/plain": [
       "                                                                                                                                              Tweet  \\\n",
       "778   Why does #BlackLivesMatter hate Trump? The #1 competition that blacks have in the workforce are immigrants. Are you guys just retarded?         \n",
       "281   RT @Liberienne: Bout to confront all crackers and ask them to explain the history of the United States today  https://t.co/zDB5leJYHJ           \n",
       "1223  Latinas are so nuts                                                                                                                             \n",
       "728   RT @JohnFromCranber: Carson: USA Must Keep Middle East Refugees Out https://t.co/NwKWSdBXcL … Too Many Bad Apples on Tree of Islam #tcot ht…    \n",
       "154   RT @Maitre_Eolas: Didn't see any church lit up either. Dirty christians. All terrorists. https://t.co/4s3XCVRbOo                                \n",
       "\n",
       "      prob_hatespeech  pred_hatespeech  \n",
       "778   0.505175         1                \n",
       "281   0.687190         1                \n",
       "1223  0.741296         1                \n",
       "728   0.755345         1                \n",
       "154   0.784724         1                "
      ]
     },
     "execution_count": 33,
     "metadata": {},
     "output_type": "execute_result"
    }
   ],
   "source": [
    "with_labels.loc[with_labels['prob_hatespeech'] > 0.50,\\\n",
    "                ['Tweet', 'prob_hatespeech', 'pred_hatespeech']].\\\n",
    "sort_values(by = 'prob_hatespeech')[0:5]"
   ]
  },
  {
   "cell_type": "code",
   "execution_count": 18,
   "metadata": {
    "collapsed": true
   },
   "outputs": [],
   "source": [
    "from sklearn.metrics import f1_score"
   ]
  },
  {
   "cell_type": "code",
   "execution_count": 25,
   "metadata": {
    "collapsed": true
   },
   "outputs": [],
   "source": [
    "labels = ['Obscenity', 'Threat', 'hatespeech', 'namecalling', 'negprejudice', 'noneng', 'porn', 'stereotypes']"
   ]
  },
  {
   "cell_type": "code",
   "execution_count": 29,
   "metadata": {
    "collapsed": false
   },
   "outputs": [
    {
     "name": "stdout",
     "output_type": "stream",
     "text": [
      "Obscenity 0.803278688525\n",
      "Threat 0.4375\n",
      "hatespeech 0.727272727273\n",
      "namecalling 0.582914572864\n",
      "negprejudice 0.529914529915\n",
      "noneng 0.932126696833\n",
      "porn 0.761904761905\n",
      "stereotypes 0.364532019704\n"
     ]
    }
   ],
   "source": [
    "for label in labels:\n",
    "    print (label, f1_score(with_labels[label], with_labels['pred_' + label.lower()]))"
   ]
  },
  {
   "cell_type": "code",
   "execution_count": 98,
   "metadata": {
    "collapsed": false
   },
   "outputs": [],
   "source": [
    "terms = pd.read_csv(\"../terms.csv\")"
   ]
  },
  {
   "cell_type": "code",
   "execution_count": 99,
   "metadata": {
    "collapsed": false
   },
   "outputs": [],
   "source": [
    "terms = terms[['left-wing ', 'centrist', 'right-wing']]"
   ]
  },
  {
   "cell_type": "code",
   "execution_count": 100,
   "metadata": {
    "collapsed": true
   },
   "outputs": [],
   "source": [
    "terms.columns = 'left_wing', 'centrist', 'right_wing'"
   ]
  },
  {
   "cell_type": "code",
   "execution_count": 101,
   "metadata": {
    "collapsed": false
   },
   "outputs": [],
   "source": [
    "left = [x.lower().rstrip().lstrip() for x in terms.left_wing]"
   ]
  },
  {
   "cell_type": "code",
   "execution_count": 102,
   "metadata": {
    "collapsed": false
   },
   "outputs": [],
   "source": [
    "right = [x.lower().rstrip().lstrip() for x in terms.right_wing[terms.right_wing.isnull() == False]]"
   ]
  },
  {
   "cell_type": "code",
   "execution_count": 103,
   "metadata": {
    "collapsed": false
   },
   "outputs": [],
   "source": [
    "center = [x.lower().rstrip().lstrip() for x in terms.centrist[terms.centrist.isnull() == False]]"
   ]
  },
  {
   "cell_type": "code",
   "execution_count": 106,
   "metadata": {
    "collapsed": false
   },
   "outputs": [],
   "source": [
    "left_term_found = []\n",
    "\n",
    "for tweet in with_labels.clean_tweet:\n",
    "    found = False\n",
    "    for term in left:\n",
    "        if term in tweet:\n",
    "            found = True\n",
    "    left_term_found.append(found)"
   ]
  },
  {
   "cell_type": "code",
   "execution_count": 107,
   "metadata": {
    "collapsed": true
   },
   "outputs": [],
   "source": [
    "right_term_found = []\n",
    "\n",
    "for tweet in with_labels.clean_tweet:\n",
    "    found = False\n",
    "    for term in right:\n",
    "        if term in tweet:\n",
    "            found = True\n",
    "    right_term_found.append(found)"
   ]
  },
  {
   "cell_type": "code",
   "execution_count": 108,
   "metadata": {
    "collapsed": true
   },
   "outputs": [],
   "source": [
    "center_term_found = []\n",
    "\n",
    "for tweet in with_labels.clean_tweet:\n",
    "    found = False\n",
    "    for term in center:\n",
    "        if term in tweet:\n",
    "            found = True\n",
    "    center_term_found.append(found)"
   ]
  },
  {
   "cell_type": "code",
   "execution_count": 120,
   "metadata": {
    "collapsed": true
   },
   "outputs": [],
   "source": [
    "with_labels.loc[:, 'left'] = left_term_found\n",
    "with_labels.loc[:, 'right'] = right_term_found\n",
    "with_labels.loc[:, 'center'] = center_term_found"
   ]
  },
  {
   "cell_type": "code",
   "execution_count": 136,
   "metadata": {
    "collapsed": false
   },
   "outputs": [
    {
     "name": "stdout",
     "output_type": "stream",
     "text": [
      "Obscenity left 0.83950617284\n",
      "Threat left 0.510638297872\n",
      "hatespeech left 0.793103448276\n",
      "namecalling left 0.6\n",
      "namecalling center 0.833333333333\n",
      "namecalling right 0.491803278689\n",
      "negprejudice left 0.530120481928\n",
      "negprejudice center 0.75\n",
      "negprejudice right 0.543859649123\n",
      "noneng center 0.909090909091\n",
      "noneng right 0.872727272727\n",
      "stereotypes left 0.32183908046\n",
      "stereotypes center 0.533333333333\n",
      "stereotypes right 0.38961038961\n"
     ]
    }
   ],
   "source": [
    "#only print f-score if there are at least 20 positive examples with the keyword of that category\n",
    "for label in labels:\n",
    "    if with_labels.loc[with_labels.left + with_labels[label] == 2, :].shape[0] > 20:\n",
    "        print (label, 'left', f1_score(with_labels.loc[with_labels.left == True, label], \\\n",
    "                                   with_labels.loc[with_labels.left == True, 'pred_' + label.lower()]))\n",
    "    if with_labels.loc[with_labels.right + with_labels[label] == 2, :].shape[0] > 20:\n",
    "        print (label, 'center', f1_score(with_labels.loc[with_labels.center == True, label], \\\n",
    "                                   with_labels.loc[with_labels.center == True, 'pred_' + label.lower()]))\n",
    "    if with_labels.loc[with_labels.right + with_labels[label] == 2, :].shape[0] > 20:\n",
    "        print (label, 'right', f1_score(with_labels.loc[with_labels.right == True, label], \\\n",
    "                                   with_labels.loc[with_labels.right == True, 'pred_' + label.lower()]))"
   ]
  },
  {
   "cell_type": "markdown",
   "metadata": {},
   "source": [
    "### Writing results to file"
   ]
  },
  {
   "cell_type": "code",
   "execution_count": null,
   "metadata": {
    "collapsed": true
   },
   "outputs": [],
   "source": [
    "#with_labels.to_csv(\"../all_labeled_tweets.csv\")"
   ]
  }
 ],
 "metadata": {
  "kernelspec": {
   "display_name": "Python 3",
   "language": "python",
   "name": "python3"
  },
  "language_info": {
   "codemirror_mode": {
    "name": "ipython",
    "version": 3
   },
   "file_extension": ".py",
   "mimetype": "text/x-python",
   "name": "python",
   "nbconvert_exporter": "python",
   "pygments_lexer": "ipython3",
   "version": "3.6.0"
  }
 },
 "nbformat": 4,
 "nbformat_minor": 2
}
